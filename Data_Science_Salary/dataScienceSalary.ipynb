{
 "cells": [
  {
   "cell_type": "code",
   "execution_count": 1,
   "metadata": {},
   "outputs": [],
   "source": [
    "import pandas as pd\n",
    "import numpy as np\n",
    "df = pd.read_csv('Latest_Data_Science_Salaries .csv')"
   ]
  },
  {
   "cell_type": "code",
   "execution_count": 2,
   "metadata": {},
   "outputs": [
    {
     "data": {
      "text/html": [
       "<div>\n",
       "<style scoped>\n",
       "    .dataframe tbody tr th:only-of-type {\n",
       "        vertical-align: middle;\n",
       "    }\n",
       "\n",
       "    .dataframe tbody tr th {\n",
       "        vertical-align: top;\n",
       "    }\n",
       "\n",
       "    .dataframe thead th {\n",
       "        text-align: right;\n",
       "    }\n",
       "</style>\n",
       "<table border=\"1\" class=\"dataframe\">\n",
       "  <thead>\n",
       "    <tr style=\"text-align: right;\">\n",
       "      <th></th>\n",
       "      <th>Job Title</th>\n",
       "      <th>Employment Type</th>\n",
       "      <th>Experience Level</th>\n",
       "      <th>Expertise Level</th>\n",
       "      <th>Salary</th>\n",
       "      <th>Salary Currency</th>\n",
       "      <th>Company Location</th>\n",
       "      <th>Salary in USD</th>\n",
       "      <th>Employee Residence</th>\n",
       "      <th>Company Size</th>\n",
       "      <th>Year</th>\n",
       "    </tr>\n",
       "  </thead>\n",
       "  <tbody>\n",
       "    <tr>\n",
       "      <th>3085</th>\n",
       "      <td>Research Scientist</td>\n",
       "      <td>Full-Time</td>\n",
       "      <td>Mid</td>\n",
       "      <td>Intermediate</td>\n",
       "      <td>450000</td>\n",
       "      <td>United States Dollar</td>\n",
       "      <td>United States</td>\n",
       "      <td>450000</td>\n",
       "      <td>United States</td>\n",
       "      <td>Medium</td>\n",
       "      <td>2020</td>\n",
       "    </tr>\n",
       "    <tr>\n",
       "      <th>2190</th>\n",
       "      <td>Data Analyst</td>\n",
       "      <td>Full-Time</td>\n",
       "      <td>Mid</td>\n",
       "      <td>Intermediate</td>\n",
       "      <td>350000</td>\n",
       "      <td>British Pound Sterling</td>\n",
       "      <td>United Kingdom</td>\n",
       "      <td>430967</td>\n",
       "      <td>United Kingdom</td>\n",
       "      <td>Medium</td>\n",
       "      <td>2022</td>\n",
       "    </tr>\n",
       "    <tr>\n",
       "      <th>1242</th>\n",
       "      <td>Analytics Engineer</td>\n",
       "      <td>Full-Time</td>\n",
       "      <td>Mid</td>\n",
       "      <td>Intermediate</td>\n",
       "      <td>350000</td>\n",
       "      <td>British Pound Sterling</td>\n",
       "      <td>United Kingdom</td>\n",
       "      <td>430640</td>\n",
       "      <td>United Kingdom</td>\n",
       "      <td>Medium</td>\n",
       "      <td>2023</td>\n",
       "    </tr>\n",
       "    <tr>\n",
       "      <th>3292</th>\n",
       "      <td>Applied Machine Learning Scientist</td>\n",
       "      <td>Full-Time</td>\n",
       "      <td>Mid</td>\n",
       "      <td>Intermediate</td>\n",
       "      <td>423000</td>\n",
       "      <td>United States Dollar</td>\n",
       "      <td>United States</td>\n",
       "      <td>423000</td>\n",
       "      <td>United States</td>\n",
       "      <td>Large</td>\n",
       "      <td>2021</td>\n",
       "    </tr>\n",
       "    <tr>\n",
       "      <th>1496</th>\n",
       "      <td>AI Scientist</td>\n",
       "      <td>Full-Time</td>\n",
       "      <td>Senior</td>\n",
       "      <td>Expert</td>\n",
       "      <td>1500000</td>\n",
       "      <td>Israeli New Shekel</td>\n",
       "      <td>Israel</td>\n",
       "      <td>417937</td>\n",
       "      <td>Israel</td>\n",
       "      <td>Large</td>\n",
       "      <td>2023</td>\n",
       "    </tr>\n",
       "  </tbody>\n",
       "</table>\n",
       "</div>"
      ],
      "text/plain": [
       "                               Job Title Employment Type Experience Level   \n",
       "3085                  Research Scientist       Full-Time              Mid  \\\n",
       "2190                        Data Analyst       Full-Time              Mid   \n",
       "1242                  Analytics Engineer       Full-Time              Mid   \n",
       "3292  Applied Machine Learning Scientist       Full-Time              Mid   \n",
       "1496                        AI Scientist       Full-Time           Senior   \n",
       "\n",
       "     Expertise Level   Salary         Salary Currency Company Location   \n",
       "3085    Intermediate   450000    United States Dollar    United States  \\\n",
       "2190    Intermediate   350000  British Pound Sterling   United Kingdom   \n",
       "1242    Intermediate   350000  British Pound Sterling   United Kingdom   \n",
       "3292    Intermediate   423000    United States Dollar    United States   \n",
       "1496          Expert  1500000      Israeli New Shekel           Israel   \n",
       "\n",
       "      Salary in USD Employee Residence Company Size  Year  \n",
       "3085         450000      United States       Medium  2020  \n",
       "2190         430967     United Kingdom       Medium  2022  \n",
       "1242         430640     United Kingdom       Medium  2023  \n",
       "3292         423000      United States        Large  2021  \n",
       "1496         417937             Israel        Large  2023  "
      ]
     },
     "execution_count": 2,
     "metadata": {},
     "output_type": "execute_result"
    }
   ],
   "source": [
    "df.sort_values(by=['Salary in USD'], ascending=False).head()"
   ]
  },
  {
   "cell_type": "code",
   "execution_count": 3,
   "metadata": {},
   "outputs": [
    {
     "name": "stdout",
     "output_type": "stream",
     "text": [
      "Job Title             0\n",
      "Employment Type       0\n",
      "Experience Level      0\n",
      "Expertise Level       0\n",
      "Salary                0\n",
      "Salary Currency       0\n",
      "Company Location      0\n",
      "Salary in USD         0\n",
      "Employee Residence    0\n",
      "Company Size          0\n",
      "Year                  0\n",
      "dtype: int64\n"
     ]
    }
   ],
   "source": [
    "print(df.isnull().sum())"
   ]
  },
  {
   "cell_type": "markdown",
   "metadata": {},
   "source": [
    "# EDA"
   ]
  },
  {
   "cell_type": "code",
   "execution_count": 4,
   "metadata": {},
   "outputs": [
    {
     "name": "stdout",
     "output_type": "stream",
     "text": [
      "                  count    mean    std    min     25%     50%     75%     max\n",
      "Experience Level                                                             \n",
      "Entry               292   79921  48221  15000   45547   69762  105000  250800\n",
      "Executive           146  191512  70589  15000  141934  192018  235000  416000\n",
      "Mid                 797  108714  59816  15680   65257  100000  140000  450000\n",
      "Senior             2065  160277  63855  15809  115000  153600  199000  417937\n"
     ]
    },
    {
     "data": {
      "image/png": "[encoded data removed]",
      "text/plain": [
       "<Figure size 640x480 with 1 Axes>"
      ]
     },
     "metadata": {},
     "output_type": "display_data"
    }
   ],
   "source": [
    "# Experience Level vs Salary in USD\n",
    "print(df.groupby('Experience Level')['Salary in USD'].describe().astype(int))\n",
    "experience_salary = df.groupby('Experience Level')['Salary in USD'].mean().reset_index()\n",
    "\n",
    "import matplotlib.pyplot as plt\n",
    "plt.bar(experience_salary['Experience Level'], experience_salary['Salary in USD'])\n",
    "plt.xlabel('Experience Level')\n",
    "plt.ylabel('Salary in USD')\n",
    "plt.title('Experience Level and Salary')\n",
    "plt.show()"
   ]
  },
  {
   "cell_type": "code",
   "execution_count": 5,
   "metadata": {},
   "outputs": [
    {
     "name": "stdout",
     "output_type": "stream",
     "text": [
      "職稱Job Title\n",
      "Data Engineer                      702\n",
      "Data Scientist                     635\n",
      "Data Analyst                       459\n",
      "Machine Learning Engineer          300\n",
      "Analytics Engineer                 132\n",
      "                                  ... \n",
      "Deep Learning Researcher             1\n",
      "Analytics Engineering Manager        1\n",
      "AWS Data Architect                   1\n",
      "BI Data Engineer                     1\n",
      "Staff Machine Learning Engineer      1\n",
      "Name: count, Length: 111, dtype: int64\n"
     ]
    },
    {
     "data": {
      "image/png": "[encoded data removed]",
      "text/plain": [
       "<Figure size 640x480 with 1 Axes>"
      ]
     },
     "metadata": {},
     "output_type": "display_data"
    }
   ],
   "source": [
    "# 工作職稱數量前15名\n",
    "print(f\"職稱{df['Job Title'].value_counts()}\")\n",
    "plt.bar(df['Job Title'].value_counts().nlargest(15).index, df['Job Title'].value_counts().nlargest(15))\n",
    "plt.xlabel('Job Title')\n",
    "plt.ylabel('Count')\n",
    "plt.title('Job Title')\n",
    "plt.xticks(rotation=90)\n",
    "plt.tight_layout()\n",
    "plt.show()"
   ]
  },
  {
   "cell_type": "code",
   "execution_count": 6,
   "metadata": {},
   "outputs": [
    {
     "name": "stdout",
     "output_type": "stream",
     "text": [
      "工作類型\n",
      "Employment Type\n",
      "Full-Time    3261\n",
      "Contract       15\n",
      "Part-Time      13\n",
      "Freelance      11\n",
      "Name: count, dtype: int64\n",
      "==================================================\n",
      "專業技術\n",
      "Expertise Level\n",
      "Expert          2065\n",
      "Intermediate     797\n",
      "Junior           292\n",
      "Director         146\n",
      "Name: count, dtype: int64\n"
     ]
    }
   ],
   "source": [
    "# 工作類型數量\n",
    "print(f\"工作類型\\n{df['Employment Type'].value_counts()}\")\n",
    "\n",
    "# 專業技術等級\n",
    "print('=' * 50)\n",
    "print(f\"專業技術\\n{df['Expertise Level'].value_counts()}\")"
   ]
  },
  {
   "cell_type": "markdown",
   "metadata": {},
   "source": [
    "# 資料前處理"
   ]
  },
  {
   "cell_type": "code",
   "execution_count": 7,
   "metadata": {},
   "outputs": [],
   "source": [
    "from sklearn.model_selection import train_test_split\n",
    "train, test = train_test_split(df, test_size = 0.2, shuffle = True, random_state = 123)"
   ]
  },
  {
   "cell_type": "code",
   "execution_count": 8,
   "metadata": {},
   "outputs": [
    {
     "name": "stdout",
     "output_type": "stream",
     "text": [
      "\n",
      " Train shape: (2640, 11)\n",
      "\n",
      "\n",
      " 2640 Samples \n",
      "\n",
      "\n",
      " 11 Attributes \n",
      "\n"
     ]
    },
    {
     "data": {
      "text/html": [
       "<div>\n",
       "<style scoped>\n",
       "    .dataframe tbody tr th:only-of-type {\n",
       "        vertical-align: middle;\n",
       "    }\n",
       "\n",
       "    .dataframe tbody tr th {\n",
       "        vertical-align: top;\n",
       "    }\n",
       "\n",
       "    .dataframe thead th {\n",
       "        text-align: right;\n",
       "    }\n",
       "</style>\n",
       "<table border=\"1\" class=\"dataframe\">\n",
       "  <thead>\n",
       "    <tr style=\"text-align: right;\">\n",
       "      <th></th>\n",
       "      <th>Job Title</th>\n",
       "      <th>Employment Type</th>\n",
       "      <th>Experience Level</th>\n",
       "      <th>Expertise Level</th>\n",
       "      <th>Salary</th>\n",
       "      <th>Salary Currency</th>\n",
       "      <th>Company Location</th>\n",
       "      <th>Salary in USD</th>\n",
       "      <th>Employee Residence</th>\n",
       "      <th>Company Size</th>\n",
       "      <th>Year</th>\n",
       "    </tr>\n",
       "  </thead>\n",
       "  <tbody>\n",
       "    <tr>\n",
       "      <th>1515</th>\n",
       "      <td>Data Engineer</td>\n",
       "      <td>Full-Time</td>\n",
       "      <td>Mid</td>\n",
       "      <td>Intermediate</td>\n",
       "      <td>151000</td>\n",
       "      <td>United States Dollar</td>\n",
       "      <td>United States</td>\n",
       "      <td>151000</td>\n",
       "      <td>United States</td>\n",
       "      <td>Medium</td>\n",
       "      <td>2023</td>\n",
       "    </tr>\n",
       "    <tr>\n",
       "      <th>2066</th>\n",
       "      <td>Data Engineer</td>\n",
       "      <td>Full-Time</td>\n",
       "      <td>Senior</td>\n",
       "      <td>Expert</td>\n",
       "      <td>250000</td>\n",
       "      <td>United States Dollar</td>\n",
       "      <td>United States</td>\n",
       "      <td>250000</td>\n",
       "      <td>United States</td>\n",
       "      <td>Medium</td>\n",
       "      <td>2022</td>\n",
       "    </tr>\n",
       "    <tr>\n",
       "      <th>1785</th>\n",
       "      <td>Data Scientist</td>\n",
       "      <td>Full-Time</td>\n",
       "      <td>Senior</td>\n",
       "      <td>Expert</td>\n",
       "      <td>215050</td>\n",
       "      <td>United States Dollar</td>\n",
       "      <td>United States</td>\n",
       "      <td>215050</td>\n",
       "      <td>United States</td>\n",
       "      <td>Medium</td>\n",
       "      <td>2023</td>\n",
       "    </tr>\n",
       "    <tr>\n",
       "      <th>117</th>\n",
       "      <td>Data Engineer</td>\n",
       "      <td>Full-Time</td>\n",
       "      <td>Senior</td>\n",
       "      <td>Expert</td>\n",
       "      <td>240500</td>\n",
       "      <td>United States Dollar</td>\n",
       "      <td>United States</td>\n",
       "      <td>240500</td>\n",
       "      <td>United States</td>\n",
       "      <td>Large</td>\n",
       "      <td>2023</td>\n",
       "    </tr>\n",
       "    <tr>\n",
       "      <th>1473</th>\n",
       "      <td>Data Scientist</td>\n",
       "      <td>Full-Time</td>\n",
       "      <td>Senior</td>\n",
       "      <td>Expert</td>\n",
       "      <td>297300</td>\n",
       "      <td>United States Dollar</td>\n",
       "      <td>United States</td>\n",
       "      <td>297300</td>\n",
       "      <td>United States</td>\n",
       "      <td>Medium</td>\n",
       "      <td>2023</td>\n",
       "    </tr>\n",
       "    <tr>\n",
       "      <th>2413</th>\n",
       "      <td>Data Scientist</td>\n",
       "      <td>Full-Time</td>\n",
       "      <td>Senior</td>\n",
       "      <td>Expert</td>\n",
       "      <td>156600</td>\n",
       "      <td>United States Dollar</td>\n",
       "      <td>United States</td>\n",
       "      <td>156600</td>\n",
       "      <td>United States</td>\n",
       "      <td>Medium</td>\n",
       "      <td>2022</td>\n",
       "    </tr>\n",
       "    <tr>\n",
       "      <th>2728</th>\n",
       "      <td>Data Scientist</td>\n",
       "      <td>Full-Time</td>\n",
       "      <td>Mid</td>\n",
       "      <td>Intermediate</td>\n",
       "      <td>85000</td>\n",
       "      <td>Euro</td>\n",
       "      <td>Netherlands</td>\n",
       "      <td>89306</td>\n",
       "      <td>Netherlands</td>\n",
       "      <td>Medium</td>\n",
       "      <td>2022</td>\n",
       "    </tr>\n",
       "    <tr>\n",
       "      <th>3270</th>\n",
       "      <td>Business Data Analyst</td>\n",
       "      <td>Full-Time</td>\n",
       "      <td>Entry</td>\n",
       "      <td>Junior</td>\n",
       "      <td>50000</td>\n",
       "      <td>Euro</td>\n",
       "      <td>Luxembourg</td>\n",
       "      <td>59102</td>\n",
       "      <td>Luxembourg</td>\n",
       "      <td>Large</td>\n",
       "      <td>2021</td>\n",
       "    </tr>\n",
       "    <tr>\n",
       "      <th>1963</th>\n",
       "      <td>Data Engineer</td>\n",
       "      <td>Full-Time</td>\n",
       "      <td>Executive</td>\n",
       "      <td>Director</td>\n",
       "      <td>196200</td>\n",
       "      <td>United States Dollar</td>\n",
       "      <td>United States</td>\n",
       "      <td>196200</td>\n",
       "      <td>United States</td>\n",
       "      <td>Medium</td>\n",
       "      <td>2023</td>\n",
       "    </tr>\n",
       "    <tr>\n",
       "      <th>2135</th>\n",
       "      <td>Data Engineer</td>\n",
       "      <td>Full-Time</td>\n",
       "      <td>Executive</td>\n",
       "      <td>Director</td>\n",
       "      <td>239000</td>\n",
       "      <td>United States Dollar</td>\n",
       "      <td>United States</td>\n",
       "      <td>239000</td>\n",
       "      <td>United States</td>\n",
       "      <td>Medium</td>\n",
       "      <td>2022</td>\n",
       "    </tr>\n",
       "  </tbody>\n",
       "</table>\n",
       "</div>"
      ],
      "text/plain": [
       "                  Job Title Employment Type Experience Level Expertise Level   \n",
       "1515          Data Engineer       Full-Time              Mid    Intermediate  \\\n",
       "2066          Data Engineer       Full-Time           Senior          Expert   \n",
       "1785         Data Scientist       Full-Time           Senior          Expert   \n",
       "117           Data Engineer       Full-Time           Senior          Expert   \n",
       "1473         Data Scientist       Full-Time           Senior          Expert   \n",
       "2413         Data Scientist       Full-Time           Senior          Expert   \n",
       "2728         Data Scientist       Full-Time              Mid    Intermediate   \n",
       "3270  Business Data Analyst       Full-Time            Entry          Junior   \n",
       "1963          Data Engineer       Full-Time        Executive        Director   \n",
       "2135          Data Engineer       Full-Time        Executive        Director   \n",
       "\n",
       "      Salary       Salary Currency Company Location  Salary in USD   \n",
       "1515  151000  United States Dollar    United States         151000  \\\n",
       "2066  250000  United States Dollar    United States         250000   \n",
       "1785  215050  United States Dollar    United States         215050   \n",
       "117   240500  United States Dollar    United States         240500   \n",
       "1473  297300  United States Dollar    United States         297300   \n",
       "2413  156600  United States Dollar    United States         156600   \n",
       "2728   85000                  Euro      Netherlands          89306   \n",
       "3270   50000                  Euro       Luxembourg          59102   \n",
       "1963  196200  United States Dollar    United States         196200   \n",
       "2135  239000  United States Dollar    United States         239000   \n",
       "\n",
       "     Employee Residence Company Size  Year  \n",
       "1515      United States       Medium  2023  \n",
       "2066      United States       Medium  2022  \n",
       "1785      United States       Medium  2023  \n",
       "117       United States        Large  2023  \n",
       "1473      United States       Medium  2023  \n",
       "2413      United States       Medium  2022  \n",
       "2728        Netherlands       Medium  2022  \n",
       "3270         Luxembourg        Large  2021  \n",
       "1963      United States       Medium  2023  \n",
       "2135      United States       Medium  2022  "
      ]
     },
     "metadata": {},
     "output_type": "display_data"
    },
    {
     "name": "stdout",
     "output_type": "stream",
     "text": [
      "\n",
      "\n",
      "\n",
      "\n",
      " Test shape: (660, 11)\n",
      "\n",
      "\n",
      " 660 Samples \n",
      "\n",
      "\n",
      " 11 Attributes \n",
      "\n"
     ]
    },
    {
     "data": {
      "text/html": [
       "<div>\n",
       "<style scoped>\n",
       "    .dataframe tbody tr th:only-of-type {\n",
       "        vertical-align: middle;\n",
       "    }\n",
       "\n",
       "    .dataframe tbody tr th {\n",
       "        vertical-align: top;\n",
       "    }\n",
       "\n",
       "    .dataframe thead th {\n",
       "        text-align: right;\n",
       "    }\n",
       "</style>\n",
       "<table border=\"1\" class=\"dataframe\">\n",
       "  <thead>\n",
       "    <tr style=\"text-align: right;\">\n",
       "      <th></th>\n",
       "      <th>Job Title</th>\n",
       "      <th>Employment Type</th>\n",
       "      <th>Experience Level</th>\n",
       "      <th>Expertise Level</th>\n",
       "      <th>Salary</th>\n",
       "      <th>Salary Currency</th>\n",
       "      <th>Company Location</th>\n",
       "      <th>Salary in USD</th>\n",
       "      <th>Employee Residence</th>\n",
       "      <th>Company Size</th>\n",
       "      <th>Year</th>\n",
       "    </tr>\n",
       "  </thead>\n",
       "  <tbody>\n",
       "    <tr>\n",
       "      <th>1482</th>\n",
       "      <td>MLOps Engineer</td>\n",
       "      <td>Full-Time</td>\n",
       "      <td>Mid</td>\n",
       "      <td>Intermediate</td>\n",
       "      <td>134000</td>\n",
       "      <td>United States Dollar</td>\n",
       "      <td>United States</td>\n",
       "      <td>134000</td>\n",
       "      <td>United States</td>\n",
       "      <td>Medium</td>\n",
       "      <td>2023</td>\n",
       "    </tr>\n",
       "    <tr>\n",
       "      <th>2738</th>\n",
       "      <td>Data Analyst</td>\n",
       "      <td>Full-Time</td>\n",
       "      <td>Senior</td>\n",
       "      <td>Expert</td>\n",
       "      <td>117000</td>\n",
       "      <td>United States Dollar</td>\n",
       "      <td>United States</td>\n",
       "      <td>117000</td>\n",
       "      <td>United States</td>\n",
       "      <td>Medium</td>\n",
       "      <td>2022</td>\n",
       "    </tr>\n",
       "    <tr>\n",
       "      <th>2743</th>\n",
       "      <td>Machine Learning Engineer</td>\n",
       "      <td>Full-Time</td>\n",
       "      <td>Senior</td>\n",
       "      <td>Expert</td>\n",
       "      <td>129300</td>\n",
       "      <td>United States Dollar</td>\n",
       "      <td>United States</td>\n",
       "      <td>129300</td>\n",
       "      <td>United States</td>\n",
       "      <td>Medium</td>\n",
       "      <td>2022</td>\n",
       "    </tr>\n",
       "    <tr>\n",
       "      <th>2424</th>\n",
       "      <td>Data Engineer</td>\n",
       "      <td>Full-Time</td>\n",
       "      <td>Senior</td>\n",
       "      <td>Expert</td>\n",
       "      <td>172200</td>\n",
       "      <td>United States Dollar</td>\n",
       "      <td>United States</td>\n",
       "      <td>172200</td>\n",
       "      <td>United States</td>\n",
       "      <td>Medium</td>\n",
       "      <td>2022</td>\n",
       "    </tr>\n",
       "    <tr>\n",
       "      <th>805</th>\n",
       "      <td>Machine Learning Engineer</td>\n",
       "      <td>Full-Time</td>\n",
       "      <td>Senior</td>\n",
       "      <td>Expert</td>\n",
       "      <td>180000</td>\n",
       "      <td>United States Dollar</td>\n",
       "      <td>United States</td>\n",
       "      <td>180000</td>\n",
       "      <td>United States</td>\n",
       "      <td>Medium</td>\n",
       "      <td>2023</td>\n",
       "    </tr>\n",
       "    <tr>\n",
       "      <th>2534</th>\n",
       "      <td>Big Data Engineer</td>\n",
       "      <td>Full-Time</td>\n",
       "      <td>Senior</td>\n",
       "      <td>Expert</td>\n",
       "      <td>210000</td>\n",
       "      <td>Canadian Dollar</td>\n",
       "      <td>Canada</td>\n",
       "      <td>161311</td>\n",
       "      <td>Canada</td>\n",
       "      <td>Medium</td>\n",
       "      <td>2022</td>\n",
       "    </tr>\n",
       "    <tr>\n",
       "      <th>1940</th>\n",
       "      <td>Data Scientist</td>\n",
       "      <td>Full-Time</td>\n",
       "      <td>Executive</td>\n",
       "      <td>Director</td>\n",
       "      <td>300000</td>\n",
       "      <td>United States Dollar</td>\n",
       "      <td>United States</td>\n",
       "      <td>300000</td>\n",
       "      <td>United States</td>\n",
       "      <td>Medium</td>\n",
       "      <td>2023</td>\n",
       "    </tr>\n",
       "    <tr>\n",
       "      <th>2876</th>\n",
       "      <td>Data Engineer</td>\n",
       "      <td>Full-Time</td>\n",
       "      <td>Mid</td>\n",
       "      <td>Intermediate</td>\n",
       "      <td>45000</td>\n",
       "      <td>Euro</td>\n",
       "      <td>Greece</td>\n",
       "      <td>47280</td>\n",
       "      <td>Greece</td>\n",
       "      <td>Medium</td>\n",
       "      <td>2022</td>\n",
       "    </tr>\n",
       "    <tr>\n",
       "      <th>1756</th>\n",
       "      <td>Data Analyst</td>\n",
       "      <td>Full-Time</td>\n",
       "      <td>Entry</td>\n",
       "      <td>Junior</td>\n",
       "      <td>48000</td>\n",
       "      <td>United States Dollar</td>\n",
       "      <td>United States</td>\n",
       "      <td>48000</td>\n",
       "      <td>United States</td>\n",
       "      <td>Medium</td>\n",
       "      <td>2023</td>\n",
       "    </tr>\n",
       "    <tr>\n",
       "      <th>649</th>\n",
       "      <td>Machine Learning Engineer</td>\n",
       "      <td>Full-Time</td>\n",
       "      <td>Senior</td>\n",
       "      <td>Expert</td>\n",
       "      <td>285000</td>\n",
       "      <td>United States Dollar</td>\n",
       "      <td>United States</td>\n",
       "      <td>285000</td>\n",
       "      <td>United States</td>\n",
       "      <td>Medium</td>\n",
       "      <td>2023</td>\n",
       "    </tr>\n",
       "  </tbody>\n",
       "</table>\n",
       "</div>"
      ],
      "text/plain": [
       "                      Job Title Employment Type Experience Level   \n",
       "1482             MLOps Engineer       Full-Time              Mid  \\\n",
       "2738               Data Analyst       Full-Time           Senior   \n",
       "2743  Machine Learning Engineer       Full-Time           Senior   \n",
       "2424              Data Engineer       Full-Time           Senior   \n",
       "805   Machine Learning Engineer       Full-Time           Senior   \n",
       "2534          Big Data Engineer       Full-Time           Senior   \n",
       "1940             Data Scientist       Full-Time        Executive   \n",
       "2876              Data Engineer       Full-Time              Mid   \n",
       "1756               Data Analyst       Full-Time            Entry   \n",
       "649   Machine Learning Engineer       Full-Time           Senior   \n",
       "\n",
       "     Expertise Level  Salary       Salary Currency Company Location   \n",
       "1482    Intermediate  134000  United States Dollar    United States  \\\n",
       "2738          Expert  117000  United States Dollar    United States   \n",
       "2743          Expert  129300  United States Dollar    United States   \n",
       "2424          Expert  172200  United States Dollar    United States   \n",
       "805           Expert  180000  United States Dollar    United States   \n",
       "2534          Expert  210000       Canadian Dollar           Canada   \n",
       "1940        Director  300000  United States Dollar    United States   \n",
       "2876    Intermediate   45000                  Euro           Greece   \n",
       "1756          Junior   48000  United States Dollar    United States   \n",
       "649           Expert  285000  United States Dollar    United States   \n",
       "\n",
       "      Salary in USD Employee Residence Company Size  Year  \n",
       "1482         134000      United States       Medium  2023  \n",
       "2738         117000      United States       Medium  2022  \n",
       "2743         129300      United States       Medium  2022  \n",
       "2424         172200      United States       Medium  2022  \n",
       "805          180000      United States       Medium  2023  \n",
       "2534         161311             Canada       Medium  2022  \n",
       "1940         300000      United States       Medium  2023  \n",
       "2876          47280             Greece       Medium  2022  \n",
       "1756          48000      United States       Medium  2023  \n",
       "649          285000      United States       Medium  2023  "
      ]
     },
     "metadata": {},
     "output_type": "display_data"
    }
   ],
   "source": [
    "# Printing info on the training set\n",
    "print(f'\\n Train shape: {train.shape}\\n')\n",
    "print(f'\\n {len(train)} Samples \\n')\n",
    "print(f'\\n {len(train.columns)} Attributes \\n')\n",
    "display(train.head(10))\n",
    "print('\\n' * 2)\n",
    "\n",
    "# Printing info on the training set\n",
    "print(f'\\n Test shape: {test.shape:}\\n')\n",
    "print(f'\\n {len(test)} Samples \\n')\n",
    "print(f'\\n {len(test.columns)} Attributes \\n')\n",
    "display(test.head(10))"
   ]
  },
  {
   "cell_type": "code",
   "execution_count": 9,
   "metadata": {},
   "outputs": [
    {
     "data": {
      "text/html": [
       "<div>\n",
       "<style scoped>\n",
       "    .dataframe tbody tr th:only-of-type {\n",
       "        vertical-align: middle;\n",
       "    }\n",
       "\n",
       "    .dataframe tbody tr th {\n",
       "        vertical-align: top;\n",
       "    }\n",
       "\n",
       "    .dataframe thead th {\n",
       "        text-align: right;\n",
       "    }\n",
       "</style>\n",
       "<table border=\"1\" class=\"dataframe\">\n",
       "  <thead>\n",
       "    <tr style=\"text-align: right;\">\n",
       "      <th></th>\n",
       "      <th>Job Title</th>\n",
       "      <th>Employment Type</th>\n",
       "      <th>Experience Level</th>\n",
       "      <th>Expertise Level</th>\n",
       "      <th>Salary</th>\n",
       "      <th>Salary Currency</th>\n",
       "      <th>Company Location</th>\n",
       "      <th>Salary in USD</th>\n",
       "      <th>Employee Residence</th>\n",
       "      <th>Company Size</th>\n",
       "      <th>Year</th>\n",
       "    </tr>\n",
       "  </thead>\n",
       "  <tbody>\n",
       "    <tr>\n",
       "      <th>1515</th>\n",
       "      <td>Data Engineer</td>\n",
       "      <td>Full-Time</td>\n",
       "      <td>Mid</td>\n",
       "      <td>Intermediate</td>\n",
       "      <td>151000</td>\n",
       "      <td>United States Dollar</td>\n",
       "      <td>United States</td>\n",
       "      <td>151000</td>\n",
       "      <td>United States</td>\n",
       "      <td>Medium</td>\n",
       "      <td>2023</td>\n",
       "    </tr>\n",
       "    <tr>\n",
       "      <th>2066</th>\n",
       "      <td>Data Engineer</td>\n",
       "      <td>Full-Time</td>\n",
       "      <td>Senior</td>\n",
       "      <td>Expert</td>\n",
       "      <td>250000</td>\n",
       "      <td>United States Dollar</td>\n",
       "      <td>United States</td>\n",
       "      <td>250000</td>\n",
       "      <td>United States</td>\n",
       "      <td>Medium</td>\n",
       "      <td>2022</td>\n",
       "    </tr>\n",
       "    <tr>\n",
       "      <th>1785</th>\n",
       "      <td>Data Scientist</td>\n",
       "      <td>Full-Time</td>\n",
       "      <td>Senior</td>\n",
       "      <td>Expert</td>\n",
       "      <td>215050</td>\n",
       "      <td>United States Dollar</td>\n",
       "      <td>United States</td>\n",
       "      <td>215050</td>\n",
       "      <td>United States</td>\n",
       "      <td>Medium</td>\n",
       "      <td>2023</td>\n",
       "    </tr>\n",
       "    <tr>\n",
       "      <th>117</th>\n",
       "      <td>Data Engineer</td>\n",
       "      <td>Full-Time</td>\n",
       "      <td>Senior</td>\n",
       "      <td>Expert</td>\n",
       "      <td>240500</td>\n",
       "      <td>United States Dollar</td>\n",
       "      <td>United States</td>\n",
       "      <td>240500</td>\n",
       "      <td>United States</td>\n",
       "      <td>Large</td>\n",
       "      <td>2023</td>\n",
       "    </tr>\n",
       "    <tr>\n",
       "      <th>1473</th>\n",
       "      <td>Data Scientist</td>\n",
       "      <td>Full-Time</td>\n",
       "      <td>Senior</td>\n",
       "      <td>Expert</td>\n",
       "      <td>297300</td>\n",
       "      <td>United States Dollar</td>\n",
       "      <td>United States</td>\n",
       "      <td>297300</td>\n",
       "      <td>United States</td>\n",
       "      <td>Medium</td>\n",
       "      <td>2023</td>\n",
       "    </tr>\n",
       "  </tbody>\n",
       "</table>\n",
       "</div>"
      ],
      "text/plain": [
       "           Job Title Employment Type Experience Level Expertise Level  Salary   \n",
       "1515   Data Engineer       Full-Time              Mid    Intermediate  151000  \\\n",
       "2066   Data Engineer       Full-Time           Senior          Expert  250000   \n",
       "1785  Data Scientist       Full-Time           Senior          Expert  215050   \n",
       "117    Data Engineer       Full-Time           Senior          Expert  240500   \n",
       "1473  Data Scientist       Full-Time           Senior          Expert  297300   \n",
       "\n",
       "           Salary Currency Company Location  Salary in USD Employee Residence   \n",
       "1515  United States Dollar    United States         151000      United States  \\\n",
       "2066  United States Dollar    United States         250000      United States   \n",
       "1785  United States Dollar    United States         215050      United States   \n",
       "117   United States Dollar    United States         240500      United States   \n",
       "1473  United States Dollar    United States         297300      United States   \n",
       "\n",
       "     Company Size  Year  \n",
       "1515       Medium  2023  \n",
       "2066       Medium  2022  \n",
       "1785       Medium  2023  \n",
       "117         Large  2023  \n",
       "1473       Medium  2023  "
      ]
     },
     "execution_count": 9,
     "metadata": {},
     "output_type": "execute_result"
    }
   ],
   "source": [
    "train_copy  = train.copy()\n",
    "train_copy.head()"
   ]
  },
  {
   "cell_type": "code",
   "execution_count": 10,
   "metadata": {},
   "outputs": [
    {
     "data": {
      "text/html": [
       "<div>\n",
       "<style scoped>\n",
       "    .dataframe tbody tr th:only-of-type {\n",
       "        vertical-align: middle;\n",
       "    }\n",
       "\n",
       "    .dataframe tbody tr th {\n",
       "        vertical-align: top;\n",
       "    }\n",
       "\n",
       "    .dataframe thead th {\n",
       "        text-align: right;\n",
       "    }\n",
       "</style>\n",
       "<table border=\"1\" class=\"dataframe\">\n",
       "  <thead>\n",
       "    <tr style=\"text-align: right;\">\n",
       "      <th></th>\n",
       "      <th>Job Title</th>\n",
       "      <th>Employment Type</th>\n",
       "      <th>Experience Level</th>\n",
       "      <th>Expertise Level</th>\n",
       "      <th>Salary</th>\n",
       "      <th>Salary Currency</th>\n",
       "      <th>Company Location</th>\n",
       "      <th>Salary in USD</th>\n",
       "      <th>Employee Residence</th>\n",
       "      <th>Company Size</th>\n",
       "      <th>Year</th>\n",
       "    </tr>\n",
       "  </thead>\n",
       "  <tbody>\n",
       "    <tr>\n",
       "      <th>1515</th>\n",
       "      <td>Data Engineer</td>\n",
       "      <td>Full-Time</td>\n",
       "      <td>1.0</td>\n",
       "      <td>1.0</td>\n",
       "      <td>151000</td>\n",
       "      <td>United States Dollar</td>\n",
       "      <td>United States</td>\n",
       "      <td>151000</td>\n",
       "      <td>United States</td>\n",
       "      <td>1.0</td>\n",
       "      <td>2023</td>\n",
       "    </tr>\n",
       "    <tr>\n",
       "      <th>2066</th>\n",
       "      <td>Data Engineer</td>\n",
       "      <td>Full-Time</td>\n",
       "      <td>2.0</td>\n",
       "      <td>2.0</td>\n",
       "      <td>250000</td>\n",
       "      <td>United States Dollar</td>\n",
       "      <td>United States</td>\n",
       "      <td>250000</td>\n",
       "      <td>United States</td>\n",
       "      <td>1.0</td>\n",
       "      <td>2022</td>\n",
       "    </tr>\n",
       "    <tr>\n",
       "      <th>1785</th>\n",
       "      <td>Data Scientist</td>\n",
       "      <td>Full-Time</td>\n",
       "      <td>2.0</td>\n",
       "      <td>2.0</td>\n",
       "      <td>215050</td>\n",
       "      <td>United States Dollar</td>\n",
       "      <td>United States</td>\n",
       "      <td>215050</td>\n",
       "      <td>United States</td>\n",
       "      <td>1.0</td>\n",
       "      <td>2023</td>\n",
       "    </tr>\n",
       "    <tr>\n",
       "      <th>117</th>\n",
       "      <td>Data Engineer</td>\n",
       "      <td>Full-Time</td>\n",
       "      <td>2.0</td>\n",
       "      <td>2.0</td>\n",
       "      <td>240500</td>\n",
       "      <td>United States Dollar</td>\n",
       "      <td>United States</td>\n",
       "      <td>240500</td>\n",
       "      <td>United States</td>\n",
       "      <td>2.0</td>\n",
       "      <td>2023</td>\n",
       "    </tr>\n",
       "    <tr>\n",
       "      <th>1473</th>\n",
       "      <td>Data Scientist</td>\n",
       "      <td>Full-Time</td>\n",
       "      <td>2.0</td>\n",
       "      <td>2.0</td>\n",
       "      <td>297300</td>\n",
       "      <td>United States Dollar</td>\n",
       "      <td>United States</td>\n",
       "      <td>297300</td>\n",
       "      <td>United States</td>\n",
       "      <td>1.0</td>\n",
       "      <td>2023</td>\n",
       "    </tr>\n",
       "  </tbody>\n",
       "</table>\n",
       "</div>"
      ],
      "text/plain": [
       "           Job Title Employment Type  Experience Level  Expertise Level   \n",
       "1515   Data Engineer       Full-Time               1.0              1.0  \\\n",
       "2066   Data Engineer       Full-Time               2.0              2.0   \n",
       "1785  Data Scientist       Full-Time               2.0              2.0   \n",
       "117    Data Engineer       Full-Time               2.0              2.0   \n",
       "1473  Data Scientist       Full-Time               2.0              2.0   \n",
       "\n",
       "      Salary       Salary Currency Company Location  Salary in USD   \n",
       "1515  151000  United States Dollar    United States         151000  \\\n",
       "2066  250000  United States Dollar    United States         250000   \n",
       "1785  215050  United States Dollar    United States         215050   \n",
       "117   240500  United States Dollar    United States         240500   \n",
       "1473  297300  United States Dollar    United States         297300   \n",
       "\n",
       "     Employee Residence  Company Size  Year  \n",
       "1515      United States           1.0  2023  \n",
       "2066      United States           1.0  2022  \n",
       "1785      United States           1.0  2023  \n",
       "117       United States           2.0  2023  \n",
       "1473      United States           1.0  2023  "
      ]
     },
     "execution_count": 10,
     "metadata": {},
     "output_type": "execute_result"
    }
   ],
   "source": [
    "# Defining orders for labels\n",
    "value_orders = [\n",
    "    ['Entry', 'Mid', 'Senior', 'Executive'],\n",
    "    ['Junior', 'Intermediate', 'Expert', 'Director'],\n",
    "    ['Small', 'Medium', 'Large']\n",
    "]\n",
    "\n",
    "from sklearn.preprocessing import OrdinalEncoder\n",
    "# Using OrdinalEncoder to encode 'Experience Level', 'Expertise Level', and 'Company Size' attributes.\n",
    "oe = OrdinalEncoder(categories = value_orders)\n",
    "train_copy[['Experience Level', 'Expertise Level', 'Company Size']] = oe.fit_transform(train_copy[['Experience Level', 'Expertise Level', 'Company Size']])\n",
    "train_copy.head(5)"
   ]
  },
  {
   "cell_type": "code",
   "execution_count": 11,
   "metadata": {},
   "outputs": [
    {
     "data": {
      "text/html": [
       "<div>\n",
       "<style scoped>\n",
       "    .dataframe tbody tr th:only-of-type {\n",
       "        vertical-align: middle;\n",
       "    }\n",
       "\n",
       "    .dataframe tbody tr th {\n",
       "        vertical-align: top;\n",
       "    }\n",
       "\n",
       "    .dataframe thead th {\n",
       "        text-align: right;\n",
       "    }\n",
       "</style>\n",
       "<table border=\"1\" class=\"dataframe\">\n",
       "  <thead>\n",
       "    <tr style=\"text-align: right;\">\n",
       "      <th></th>\n",
       "      <th>Experience Level</th>\n",
       "      <th>Expertise Level</th>\n",
       "      <th>Salary</th>\n",
       "      <th>Salary in USD</th>\n",
       "      <th>Company Size</th>\n",
       "      <th>Year</th>\n",
       "      <th>Job Title_AI Architect</th>\n",
       "      <th>Job Title_AI Developer</th>\n",
       "      <th>Job Title_AI Programmer</th>\n",
       "      <th>Job Title_AI Scientist</th>\n",
       "      <th>...</th>\n",
       "      <th>Employee Residence_Sweden</th>\n",
       "      <th>Employee Residence_Switzerland</th>\n",
       "      <th>Employee Residence_Thailand</th>\n",
       "      <th>Employee Residence_Turkey</th>\n",
       "      <th>Employee Residence_Ukraine</th>\n",
       "      <th>Employee Residence_United Arab Emirates</th>\n",
       "      <th>Employee Residence_United Kingdom</th>\n",
       "      <th>Employee Residence_United States</th>\n",
       "      <th>Employee Residence_Uzbekistan</th>\n",
       "      <th>Employee Residence_Viet Nam</th>\n",
       "    </tr>\n",
       "  </thead>\n",
       "  <tbody>\n",
       "    <tr>\n",
       "      <th>1515</th>\n",
       "      <td>1.0</td>\n",
       "      <td>1.0</td>\n",
       "      <td>151000</td>\n",
       "      <td>151000</td>\n",
       "      <td>1.0</td>\n",
       "      <td>2023</td>\n",
       "      <td>0.0</td>\n",
       "      <td>0.0</td>\n",
       "      <td>0.0</td>\n",
       "      <td>0.0</td>\n",
       "      <td>...</td>\n",
       "      <td>0.0</td>\n",
       "      <td>0.0</td>\n",
       "      <td>0.0</td>\n",
       "      <td>0.0</td>\n",
       "      <td>0.0</td>\n",
       "      <td>0.0</td>\n",
       "      <td>0.0</td>\n",
       "      <td>1.0</td>\n",
       "      <td>0.0</td>\n",
       "      <td>0.0</td>\n",
       "    </tr>\n",
       "    <tr>\n",
       "      <th>2066</th>\n",
       "      <td>2.0</td>\n",
       "      <td>2.0</td>\n",
       "      <td>250000</td>\n",
       "      <td>250000</td>\n",
       "      <td>1.0</td>\n",
       "      <td>2022</td>\n",
       "      <td>0.0</td>\n",
       "      <td>0.0</td>\n",
       "      <td>0.0</td>\n",
       "      <td>0.0</td>\n",
       "      <td>...</td>\n",
       "      <td>0.0</td>\n",
       "      <td>0.0</td>\n",
       "      <td>0.0</td>\n",
       "      <td>0.0</td>\n",
       "      <td>0.0</td>\n",
       "      <td>0.0</td>\n",
       "      <td>0.0</td>\n",
       "      <td>1.0</td>\n",
       "      <td>0.0</td>\n",
       "      <td>0.0</td>\n",
       "    </tr>\n",
       "    <tr>\n",
       "      <th>1785</th>\n",
       "      <td>2.0</td>\n",
       "      <td>2.0</td>\n",
       "      <td>215050</td>\n",
       "      <td>215050</td>\n",
       "      <td>1.0</td>\n",
       "      <td>2023</td>\n",
       "      <td>0.0</td>\n",
       "      <td>0.0</td>\n",
       "      <td>0.0</td>\n",
       "      <td>0.0</td>\n",
       "      <td>...</td>\n",
       "      <td>0.0</td>\n",
       "      <td>0.0</td>\n",
       "      <td>0.0</td>\n",
       "      <td>0.0</td>\n",
       "      <td>0.0</td>\n",
       "      <td>0.0</td>\n",
       "      <td>0.0</td>\n",
       "      <td>1.0</td>\n",
       "      <td>0.0</td>\n",
       "      <td>0.0</td>\n",
       "    </tr>\n",
       "    <tr>\n",
       "      <th>117</th>\n",
       "      <td>2.0</td>\n",
       "      <td>2.0</td>\n",
       "      <td>240500</td>\n",
       "      <td>240500</td>\n",
       "      <td>2.0</td>\n",
       "      <td>2023</td>\n",
       "      <td>0.0</td>\n",
       "      <td>0.0</td>\n",
       "      <td>0.0</td>\n",
       "      <td>0.0</td>\n",
       "      <td>...</td>\n",
       "      <td>0.0</td>\n",
       "      <td>0.0</td>\n",
       "      <td>0.0</td>\n",
       "      <td>0.0</td>\n",
       "      <td>0.0</td>\n",
       "      <td>0.0</td>\n",
       "      <td>0.0</td>\n",
       "      <td>1.0</td>\n",
       "      <td>0.0</td>\n",
       "      <td>0.0</td>\n",
       "    </tr>\n",
       "    <tr>\n",
       "      <th>1473</th>\n",
       "      <td>2.0</td>\n",
       "      <td>2.0</td>\n",
       "      <td>297300</td>\n",
       "      <td>297300</td>\n",
       "      <td>1.0</td>\n",
       "      <td>2023</td>\n",
       "      <td>0.0</td>\n",
       "      <td>0.0</td>\n",
       "      <td>0.0</td>\n",
       "      <td>0.0</td>\n",
       "      <td>...</td>\n",
       "      <td>0.0</td>\n",
       "      <td>0.0</td>\n",
       "      <td>0.0</td>\n",
       "      <td>0.0</td>\n",
       "      <td>0.0</td>\n",
       "      <td>0.0</td>\n",
       "      <td>0.0</td>\n",
       "      <td>1.0</td>\n",
       "      <td>0.0</td>\n",
       "      <td>0.0</td>\n",
       "    </tr>\n",
       "    <tr>\n",
       "      <th>...</th>\n",
       "      <td>...</td>\n",
       "      <td>...</td>\n",
       "      <td>...</td>\n",
       "      <td>...</td>\n",
       "      <td>...</td>\n",
       "      <td>...</td>\n",
       "      <td>...</td>\n",
       "      <td>...</td>\n",
       "      <td>...</td>\n",
       "      <td>...</td>\n",
       "      <td>...</td>\n",
       "      <td>...</td>\n",
       "      <td>...</td>\n",
       "      <td>...</td>\n",
       "      <td>...</td>\n",
       "      <td>...</td>\n",
       "      <td>...</td>\n",
       "      <td>...</td>\n",
       "      <td>...</td>\n",
       "      <td>...</td>\n",
       "      <td>...</td>\n",
       "    </tr>\n",
       "    <tr>\n",
       "      <th>2154</th>\n",
       "      <td>1.0</td>\n",
       "      <td>1.0</td>\n",
       "      <td>122500</td>\n",
       "      <td>122500</td>\n",
       "      <td>1.0</td>\n",
       "      <td>2022</td>\n",
       "      <td>0.0</td>\n",
       "      <td>0.0</td>\n",
       "      <td>0.0</td>\n",
       "      <td>0.0</td>\n",
       "      <td>...</td>\n",
       "      <td>0.0</td>\n",
       "      <td>0.0</td>\n",
       "      <td>0.0</td>\n",
       "      <td>0.0</td>\n",
       "      <td>0.0</td>\n",
       "      <td>0.0</td>\n",
       "      <td>0.0</td>\n",
       "      <td>1.0</td>\n",
       "      <td>0.0</td>\n",
       "      <td>0.0</td>\n",
       "    </tr>\n",
       "    <tr>\n",
       "      <th>3089</th>\n",
       "      <td>2.0</td>\n",
       "      <td>2.0</td>\n",
       "      <td>144000</td>\n",
       "      <td>144000</td>\n",
       "      <td>2.0</td>\n",
       "      <td>2021</td>\n",
       "      <td>0.0</td>\n",
       "      <td>0.0</td>\n",
       "      <td>0.0</td>\n",
       "      <td>0.0</td>\n",
       "      <td>...</td>\n",
       "      <td>0.0</td>\n",
       "      <td>0.0</td>\n",
       "      <td>0.0</td>\n",
       "      <td>0.0</td>\n",
       "      <td>0.0</td>\n",
       "      <td>0.0</td>\n",
       "      <td>0.0</td>\n",
       "      <td>1.0</td>\n",
       "      <td>0.0</td>\n",
       "      <td>0.0</td>\n",
       "    </tr>\n",
       "    <tr>\n",
       "      <th>1766</th>\n",
       "      <td>1.0</td>\n",
       "      <td>1.0</td>\n",
       "      <td>126277</td>\n",
       "      <td>126277</td>\n",
       "      <td>1.0</td>\n",
       "      <td>2023</td>\n",
       "      <td>0.0</td>\n",
       "      <td>0.0</td>\n",
       "      <td>0.0</td>\n",
       "      <td>0.0</td>\n",
       "      <td>...</td>\n",
       "      <td>0.0</td>\n",
       "      <td>0.0</td>\n",
       "      <td>0.0</td>\n",
       "      <td>0.0</td>\n",
       "      <td>0.0</td>\n",
       "      <td>0.0</td>\n",
       "      <td>0.0</td>\n",
       "      <td>1.0</td>\n",
       "      <td>0.0</td>\n",
       "      <td>0.0</td>\n",
       "    </tr>\n",
       "    <tr>\n",
       "      <th>1122</th>\n",
       "      <td>0.0</td>\n",
       "      <td>0.0</td>\n",
       "      <td>5500000</td>\n",
       "      <td>41809</td>\n",
       "      <td>2.0</td>\n",
       "      <td>2022</td>\n",
       "      <td>0.0</td>\n",
       "      <td>0.0</td>\n",
       "      <td>0.0</td>\n",
       "      <td>0.0</td>\n",
       "      <td>...</td>\n",
       "      <td>0.0</td>\n",
       "      <td>0.0</td>\n",
       "      <td>0.0</td>\n",
       "      <td>0.0</td>\n",
       "      <td>0.0</td>\n",
       "      <td>0.0</td>\n",
       "      <td>0.0</td>\n",
       "      <td>0.0</td>\n",
       "      <td>0.0</td>\n",
       "      <td>0.0</td>\n",
       "    </tr>\n",
       "    <tr>\n",
       "      <th>1346</th>\n",
       "      <td>2.0</td>\n",
       "      <td>2.0</td>\n",
       "      <td>215000</td>\n",
       "      <td>215000</td>\n",
       "      <td>1.0</td>\n",
       "      <td>2023</td>\n",
       "      <td>0.0</td>\n",
       "      <td>0.0</td>\n",
       "      <td>0.0</td>\n",
       "      <td>0.0</td>\n",
       "      <td>...</td>\n",
       "      <td>0.0</td>\n",
       "      <td>0.0</td>\n",
       "      <td>0.0</td>\n",
       "      <td>0.0</td>\n",
       "      <td>0.0</td>\n",
       "      <td>0.0</td>\n",
       "      <td>0.0</td>\n",
       "      <td>1.0</td>\n",
       "      <td>0.0</td>\n",
       "      <td>0.0</td>\n",
       "    </tr>\n",
       "  </tbody>\n",
       "</table>\n",
       "<p>2640 rows × 281 columns</p>\n",
       "</div>"
      ],
      "text/plain": [
       "      Experience Level  Expertise Level   Salary  Salary in USD  Company Size   \n",
       "1515               1.0              1.0   151000         151000           1.0  \\\n",
       "2066               2.0              2.0   250000         250000           1.0   \n",
       "1785               2.0              2.0   215050         215050           1.0   \n",
       "117                2.0              2.0   240500         240500           2.0   \n",
       "1473               2.0              2.0   297300         297300           1.0   \n",
       "...                ...              ...      ...            ...           ...   \n",
       "2154               1.0              1.0   122500         122500           1.0   \n",
       "3089               2.0              2.0   144000         144000           2.0   \n",
       "1766               1.0              1.0   126277         126277           1.0   \n",
       "1122               0.0              0.0  5500000          41809           2.0   \n",
       "1346               2.0              2.0   215000         215000           1.0   \n",
       "\n",
       "      Year  Job Title_AI Architect  Job Title_AI Developer   \n",
       "1515  2023                     0.0                     0.0  \\\n",
       "2066  2022                     0.0                     0.0   \n",
       "1785  2023                     0.0                     0.0   \n",
       "117   2023                     0.0                     0.0   \n",
       "1473  2023                     0.0                     0.0   \n",
       "...    ...                     ...                     ...   \n",
       "2154  2022                     0.0                     0.0   \n",
       "3089  2021                     0.0                     0.0   \n",
       "1766  2023                     0.0                     0.0   \n",
       "1122  2022                     0.0                     0.0   \n",
       "1346  2023                     0.0                     0.0   \n",
       "\n",
       "      Job Title_AI Programmer  Job Title_AI Scientist  ...   \n",
       "1515                      0.0                     0.0  ...  \\\n",
       "2066                      0.0                     0.0  ...   \n",
       "1785                      0.0                     0.0  ...   \n",
       "117                       0.0                     0.0  ...   \n",
       "1473                      0.0                     0.0  ...   \n",
       "...                       ...                     ...  ...   \n",
       "2154                      0.0                     0.0  ...   \n",
       "3089                      0.0                     0.0  ...   \n",
       "1766                      0.0                     0.0  ...   \n",
       "1122                      0.0                     0.0  ...   \n",
       "1346                      0.0                     0.0  ...   \n",
       "\n",
       "      Employee Residence_Sweden  Employee Residence_Switzerland   \n",
       "1515                        0.0                             0.0  \\\n",
       "2066                        0.0                             0.0   \n",
       "1785                        0.0                             0.0   \n",
       "117                         0.0                             0.0   \n",
       "1473                        0.0                             0.0   \n",
       "...                         ...                             ...   \n",
       "2154                        0.0                             0.0   \n",
       "3089                        0.0                             0.0   \n",
       "1766                        0.0                             0.0   \n",
       "1122                        0.0                             0.0   \n",
       "1346                        0.0                             0.0   \n",
       "\n",
       "      Employee Residence_Thailand  Employee Residence_Turkey   \n",
       "1515                          0.0                        0.0  \\\n",
       "2066                          0.0                        0.0   \n",
       "1785                          0.0                        0.0   \n",
       "117                           0.0                        0.0   \n",
       "1473                          0.0                        0.0   \n",
       "...                           ...                        ...   \n",
       "2154                          0.0                        0.0   \n",
       "3089                          0.0                        0.0   \n",
       "1766                          0.0                        0.0   \n",
       "1122                          0.0                        0.0   \n",
       "1346                          0.0                        0.0   \n",
       "\n",
       "      Employee Residence_Ukraine  Employee Residence_United Arab Emirates   \n",
       "1515                         0.0                                      0.0  \\\n",
       "2066                         0.0                                      0.0   \n",
       "1785                         0.0                                      0.0   \n",
       "117                          0.0                                      0.0   \n",
       "1473                         0.0                                      0.0   \n",
       "...                          ...                                      ...   \n",
       "2154                         0.0                                      0.0   \n",
       "3089                         0.0                                      0.0   \n",
       "1766                         0.0                                      0.0   \n",
       "1122                         0.0                                      0.0   \n",
       "1346                         0.0                                      0.0   \n",
       "\n",
       "      Employee Residence_United Kingdom  Employee Residence_United States   \n",
       "1515                                0.0                               1.0  \\\n",
       "2066                                0.0                               1.0   \n",
       "1785                                0.0                               1.0   \n",
       "117                                 0.0                               1.0   \n",
       "1473                                0.0                               1.0   \n",
       "...                                 ...                               ...   \n",
       "2154                                0.0                               1.0   \n",
       "3089                                0.0                               1.0   \n",
       "1766                                0.0                               1.0   \n",
       "1122                                0.0                               0.0   \n",
       "1346                                0.0                               1.0   \n",
       "\n",
       "      Employee Residence_Uzbekistan  Employee Residence_Viet Nam  \n",
       "1515                            0.0                          0.0  \n",
       "2066                            0.0                          0.0  \n",
       "1785                            0.0                          0.0  \n",
       "117                             0.0                          0.0  \n",
       "1473                            0.0                          0.0  \n",
       "...                             ...                          ...  \n",
       "2154                            0.0                          0.0  \n",
       "3089                            0.0                          0.0  \n",
       "1766                            0.0                          0.0  \n",
       "1122                            0.0                          0.0  \n",
       "1346                            0.0                          0.0  \n",
       "\n",
       "[2640 rows x 281 columns]"
      ]
     },
     "execution_count": 11,
     "metadata": {},
     "output_type": "execute_result"
    }
   ],
   "source": [
    "# Selecting columns to be encoded\n",
    "cols = ['Job Title', 'Employment Type', 'Salary Currency', 'Company Location', 'Employee Residence']\n",
    "\n",
    "# Encoding\n",
    "from sklearn.preprocessing import OneHotEncoder\n",
    "ohe = OneHotEncoder(sparse_output = False, handle_unknown = 'ignore')\n",
    "encoded_features = pd.DataFrame(ohe.fit_transform(train_copy[cols]), \n",
    "                                columns = ohe.get_feature_names_out(cols))\n",
    "encoded_features.index = train_copy.index\n",
    "train_copy = train_copy.drop(cols, axis = 1)\n",
    "train_copy = pd.concat([train_copy, encoded_features], axis = 1)\n",
    "train_copy"
   ]
  },
  {
   "cell_type": "code",
   "execution_count": 12,
   "metadata": {},
   "outputs": [],
   "source": [
    "X, y = train_copy.drop(['Salary in USD', 'Salary'], axis = 1), train_copy['Salary in USD']"
   ]
  },
  {
   "cell_type": "code",
   "execution_count": 13,
   "metadata": {},
   "outputs": [],
   "source": [
    "from sklearn.model_selection import KFold\n",
    "cv = KFold(n_splits = 5, shuffle = True, random_state = 123)\n",
    "cv_splits = list(cv.split(X,y))"
   ]
  },
  {
   "cell_type": "code",
   "execution_count": 15,
   "metadata": {},
   "outputs": [],
   "source": [
    "from sklearn.ensemble import RandomForestRegressor, GradientBoostingRegressor, AdaBoostRegressor, HistGradientBoostingRegressor\n",
    "from catboost import CatBoostRegressor\n",
    "from xgboost import XGBRegressor\n",
    "regressors = [\n",
    "    ('CatBoost', CatBoostRegressor(random_state = 123, verbose = False)),\n",
    "    ('XGboost', XGBRegressor(random_state = 123)),\n",
    "    ('Ada Boost', AdaBoostRegressor(random_state = 123)),\n",
    "    ('Histogram-based Gradient Boosting', HistGradientBoostingRegressor(random_state = 123))\n",
    "]"
   ]
  },
  {
   "cell_type": "code",
   "execution_count": 16,
   "metadata": {},
   "outputs": [
    {
     "name": "stdout",
     "output_type": "stream",
     "text": [
      "Range of y: 435000\n",
      "Median of y: 136402.5\n",
      "Mean of y: 142666.50\n"
     ]
    }
   ],
   "source": [
    "y_range = y.max() - y.min()  \n",
    "y_median = y.median()  \n",
    "y_mean = y.mean() \n",
    "\n",
    "print(f\"Range of y: {y_range}\")\n",
    "print(f\"Median of y: {y_median}\")\n",
    "print(f\"Mean of y: {y_mean:.2f}\")"
   ]
  },
  {
   "cell_type": "code",
   "execution_count": 17,
   "metadata": {},
   "outputs": [
    {
     "name": "stdout",
     "output_type": "stream",
     "text": [
      "\n",
      "Cross-Validation:\n",
      "\n",
      "\n",
      "\n",
      "CatBoost Regressor:\n",
      "\n",
      "Fold 1 RMSE = 53063.09\n",
      "Fold 1 Adjusted R-squared = -0.28\n",
      "===================================================\n",
      "Fold 2 RMSE = 53708.96\n",
      "Fold 2 Adjusted R-squared = -0.25\n",
      "===================================================\n",
      "Fold 3 RMSE = 51754.75\n",
      "Fold 3 Adjusted R-squared = -0.29\n",
      "===================================================\n",
      "Fold 4 RMSE = 56227.11\n",
      "Fold 4 Adjusted R-squared = -0.35\n",
      "===================================================\n",
      "Fold 5 RMSE = 54002.19\n",
      "Fold 5 Adjusted R-squared = -0.34\n",
      "===================================================\n",
      "Mean RMSE = 53751.22 ± 1459.742\n",
      "Mean Adjusted R-squared = -0.30\n",
      "\n",
      "\n",
      "\n",
      "XGboost Regressor:\n",
      "\n",
      "Fold 1 RMSE = 54526.44\n",
      "Fold 1 Adjusted R-squared = -0.35\n",
      "===================================================\n",
      "Fold 2 RMSE = 54602.49\n",
      "Fold 2 Adjusted R-squared = -0.29\n",
      "===================================================\n",
      "Fold 3 RMSE = 53875.71\n",
      "Fold 3 Adjusted R-squared = -0.40\n",
      "===================================================\n",
      "Fold 4 RMSE = 56727.33\n",
      "Fold 4 Adjusted R-squared = -0.38\n",
      "===================================================\n",
      "Fold 5 RMSE = 54985.04\n",
      "Fold 5 Adjusted R-squared = -0.39\n",
      "===================================================\n",
      "Mean RMSE = 54943.40 ± 960.643\n",
      "Mean Adjusted R-squared = -0.36\n",
      "\n",
      "\n",
      "\n",
      "Ada Boost Regressor:\n",
      "\n",
      "Fold 1 RMSE = 60757.47\n",
      "Fold 1 Adjusted R-squared = -0.67\n",
      "===================================================\n",
      "Fold 2 RMSE = 64286.54\n",
      "Fold 2 Adjusted R-squared = -0.79\n",
      "===================================================\n",
      "Fold 3 RMSE = 61495.67\n",
      "Fold 3 Adjusted R-squared = -0.82\n",
      "===================================================\n",
      "Fold 4 RMSE = 67153.44\n",
      "Fold 4 Adjusted R-squared = -0.93\n",
      "===================================================\n",
      "Fold 5 RMSE = 61499.87\n",
      "Fold 5 Adjusted R-squared = -0.74\n",
      "===================================================\n",
      "Mean RMSE = 63038.60 ± 2385.002\n",
      "Mean Adjusted R-squared = -0.79\n",
      "\n",
      "\n",
      "\n",
      "Histogram-based Gradient Boosting Regressor:\n",
      "\n",
      "Fold 1 RMSE = 53037.91\n",
      "Fold 1 Adjusted R-squared = -0.28\n",
      "===================================================\n",
      "Fold 2 RMSE = 54546.12\n",
      "Fold 2 Adjusted R-squared = -0.29\n",
      "===================================================\n",
      "Fold 3 RMSE = 52411.12\n",
      "Fold 3 Adjusted R-squared = -0.33\n",
      "===================================================\n",
      "Fold 4 RMSE = 57208.49\n",
      "Fold 4 Adjusted R-squared = -0.40\n",
      "===================================================\n",
      "Fold 5 RMSE = 54367.64\n",
      "Fold 5 Adjusted R-squared = -0.36\n",
      "===================================================\n",
      "Mean RMSE = 54314.26 ± 1654.340\n",
      "Mean Adjusted R-squared = -0.33\n"
     ]
    }
   ],
   "source": [
    "from sklearn.metrics import mean_squared_error, r2_score\n",
    "print('\\nCross-Validation:')\n",
    "for j, (name, clf) in enumerate(regressors):\n",
    "    scores = []\n",
    "    r2_scores = []\n",
    "    \n",
    "    print('\\n')\n",
    "    print(f'\\n{name} Regressor:\\n')\n",
    "    \n",
    "    for i, (train_index, val_index) in enumerate(cv_splits):\n",
    "        X_train, X_val = X.iloc[train_index], X.iloc[val_index]\n",
    "        y_train, y_val = y.iloc[train_index], y.iloc[val_index]\n",
    "        \n",
    "        clf.fit(X_train, y_train)\n",
    "        y_pred = clf.predict(X_val)\n",
    "        \n",
    "        rmse = mean_squared_error(y_val, y_pred, squared=False)\n",
    "        r2 = r2_score(y_val, y_pred)\n",
    "        \n",
    "        n = X_val.shape[0]  \n",
    "        p = X_val.shape[1]  \n",
    "        \n",
    "        adjusted_r2 = 1 - (1 - r2) * ((n - 1) / (n - p - 1)) \n",
    "        \n",
    "        print(f'Fold {i + 1} RMSE = {rmse:.2f}')\n",
    "        print(f'Fold {i + 1} Adjusted R-squared = {adjusted_r2:.2f}')\n",
    "        \n",
    "        scores.append(rmse)\n",
    "        r2_scores.append(adjusted_r2)\n",
    "        \n",
    "        print('===================================================')\n",
    "    \n",
    "    if i == len(cv_splits) - 1:\n",
    "        mean_score = np.mean(scores)\n",
    "        fold_std = np.std(scores)\n",
    "        mean_adjusted_r2 = np.mean(r2_scores)  # Compute mean adjusted R-squared\n",
    "        \n",
    "        print(f'Mean RMSE = {mean_score:.2f} \\u00B1 {fold_std:.3f}')\n",
    "        print(f'Mean Adjusted R-squared = {mean_adjusted_r2:.2f}')"
   ]
  },
  {
   "cell_type": "code",
   "execution_count": 18,
   "metadata": {},
   "outputs": [
    {
     "name": "stderr",
     "output_type": "stream",
     "text": [
      "c:\\Users\\s0954\\anaconda3\\envs\\da\\lib\\site-packages\\tqdm\\auto.py:21: TqdmWarning: IProgress not found. Please update jupyter and ipywidgets. See https://ipywidgets.readthedocs.io/en/stable/user_install.html\n",
      "  from .autonotebook import tqdm as notebook_tqdm\n",
      "[I 2023-07-23 21:43:59,546] A new study created in memory with name: no-name-f39ba26d-7823-4cca-b230-59d0319e898f\n",
      "  0%|          | 0/100 [00:00<?, ?it/s]c:\\Users\\s0954\\anaconda3\\envs\\da\\lib\\site-packages\\optuna\\distributions.py:685: UserWarning: The distribution is specified by [0.1, 1.0] and step=0.2, but the range is not divisible by `step`. It will be replaced by [0.1, 0.9].\n",
      "  warnings.warn(\n",
      "c:\\Users\\s0954\\anaconda3\\envs\\da\\lib\\site-packages\\optuna\\distributions.py:700: UserWarning: The distribution is specified by [30, 10000] and step=100, but the range is not divisible by `step`. It will be replaced by [30, 9930].\n",
      "  warnings.warn(\n",
      "c:\\Users\\s0954\\anaconda3\\envs\\da\\lib\\site-packages\\optuna\\distributions.py:685: UserWarning: The distribution is specified by [0.01, 100] and step=0.05, but the range is not divisible by `step`. It will be replaced by [0.01, 99.96].\n",
      "  warnings.warn(\n"
     ]
    },
    {
     "name": "stdout",
     "output_type": "stream",
     "text": [
      "Fold 1 RMSE = 61452.01\n",
      "Fold 2 RMSE = 62798.90\n",
      "Fold 3 RMSE = 59948.35\n",
      "Fold 4 RMSE = 64663.78\n"
     ]
    },
    {
     "name": "stderr",
     "output_type": "stream",
     "text": [
      "Best trial: 0. Best value: -62148.1:   1%|          | 1/100 [00:13<22:35, 13.69s/it]"
     ]
    },
    {
     "name": "stdout",
     "output_type": "stream",
     "text": [
      "Fold 5 RMSE = 61877.57\n",
      "[I 2023-07-23 21:44:13,237] Trial 0 finished with value: -62148.124722232016 and parameters: {'loss': 'squared_error', 'learning_rate': 0.1, 'max_iter': 750, 'max_leaf_nodes': 7430, 'max_depth': 3630, 'min_samples_leaf': 625, 'l2_regularization': 57.96}. Best is trial 0 with value: -62148.124722232016.\n"
     ]
    },
    {
     "name": "stderr",
     "output_type": "stream",
     "text": [
      "c:\\Users\\s0954\\anaconda3\\envs\\da\\lib\\site-packages\\optuna\\distributions.py:685: UserWarning: The distribution is specified by [0.1, 1.0] and step=0.2, but the range is not divisible by `step`. It will be replaced by [0.1, 0.9].\n",
      "  warnings.warn(\n",
      "c:\\Users\\s0954\\anaconda3\\envs\\da\\lib\\site-packages\\optuna\\distributions.py:700: UserWarning: The distribution is specified by [30, 10000] and step=100, but the range is not divisible by `step`. It will be replaced by [30, 9930].\n",
      "  warnings.warn(\n",
      "c:\\Users\\s0954\\anaconda3\\envs\\da\\lib\\site-packages\\optuna\\distributions.py:685: UserWarning: The distribution is specified by [0.01, 100] and step=0.05, but the range is not divisible by `step`. It will be replaced by [0.01, 99.96].\n",
      "  warnings.warn(\n"
     ]
    },
    {
     "name": "stdout",
     "output_type": "stream",
     "text": [
      "Fold 1 RMSE = 68626.10\n",
      "Fold 2 RMSE = 70174.55\n",
      "Fold 3 RMSE = 67150.80\n",
      "Fold 4 RMSE = 70787.50\n"
     ]
    },
    {
     "name": "stderr",
     "output_type": "stream",
     "text": [
      "Best trial: 0. Best value: -62148.1:   2%|▏         | 2/100 [00:17<13:14,  8.11s/it]"
     ]
    },
    {
     "name": "stdout",
     "output_type": "stream",
     "text": [
      "Fold 5 RMSE = 68038.38\n",
      "[I 2023-07-23 21:44:17,442] Trial 1 finished with value: -68955.46825923855 and parameters: {'loss': 'absolute_error', 'learning_rate': 0.30000000000000004, 'max_iter': 450, 'max_leaf_nodes': 6030, 'max_depth': 8430, 'min_samples_leaf': 970, 'l2_regularization': 75.96000000000001}. Best is trial 0 with value: -62148.124722232016.\n"
     ]
    },
    {
     "name": "stderr",
     "output_type": "stream",
     "text": [
      "c:\\Users\\s0954\\anaconda3\\envs\\da\\lib\\site-packages\\optuna\\distributions.py:685: UserWarning: The distribution is specified by [0.1, 1.0] and step=0.2, but the range is not divisible by `step`. It will be replaced by [0.1, 0.9].\n",
      "  warnings.warn(\n",
      "c:\\Users\\s0954\\anaconda3\\envs\\da\\lib\\site-packages\\optuna\\distributions.py:700: UserWarning: The distribution is specified by [30, 10000] and step=100, but the range is not divisible by `step`. It will be replaced by [30, 9930].\n",
      "  warnings.warn(\n",
      "c:\\Users\\s0954\\anaconda3\\envs\\da\\lib\\site-packages\\optuna\\distributions.py:685: UserWarning: The distribution is specified by [0.01, 100] and step=0.05, but the range is not divisible by `step`. It will be replaced by [0.01, 99.96].\n",
      "  warnings.warn(\n"
     ]
    },
    {
     "name": "stdout",
     "output_type": "stream",
     "text": [
      "Fold 1 RMSE = 54374.59\n",
      "Fold 2 RMSE = 56741.40\n",
      "Fold 3 RMSE = 53559.59\n",
      "Fold 4 RMSE = 58234.59\n"
     ]
    },
    {
     "name": "stderr",
     "output_type": "stream",
     "text": [
      "Best trial: 2. Best value: -55887.6:   3%|▎         | 3/100 [00:51<31:38, 19.57s/it]"
     ]
    },
    {
     "name": "stdout",
     "output_type": "stream",
     "text": [
      "Fold 5 RMSE = 56527.73\n",
      "[I 2023-07-23 21:44:50,659] Trial 2 finished with value: -55887.578938759805 and parameters: {'loss': 'poisson', 'learning_rate': 0.7000000000000001, 'max_iter': 400, 'max_leaf_nodes': 1030, 'max_depth': 5630, 'min_samples_leaf': 130, 'l2_regularization': 53.26}. Best is trial 2 with value: -55887.578938759805.\n"
     ]
    },
    {
     "name": "stderr",
     "output_type": "stream",
     "text": [
      "c:\\Users\\s0954\\anaconda3\\envs\\da\\lib\\site-packages\\optuna\\distributions.py:685: UserWarning: The distribution is specified by [0.1, 1.0] and step=0.2, but the range is not divisible by `step`. It will be replaced by [0.1, 0.9].\n",
      "  warnings.warn(\n",
      "c:\\Users\\s0954\\anaconda3\\envs\\da\\lib\\site-packages\\optuna\\distributions.py:700: UserWarning: The distribution is specified by [30, 10000] and step=100, but the range is not divisible by `step`. It will be replaced by [30, 9930].\n",
      "  warnings.warn(\n",
      "c:\\Users\\s0954\\anaconda3\\envs\\da\\lib\\site-packages\\optuna\\distributions.py:685: UserWarning: The distribution is specified by [0.01, 100] and step=0.05, but the range is not divisible by `step`. It will be replaced by [0.01, 99.96].\n",
      "  warnings.warn(\n"
     ]
    },
    {
     "name": "stdout",
     "output_type": "stream",
     "text": [
      "Fold 1 RMSE = 58103.31\n",
      "Fold 2 RMSE = 59127.90\n",
      "Fold 3 RMSE = 56219.00\n",
      "Fold 4 RMSE = 62503.91\n"
     ]
    },
    {
     "name": "stderr",
     "output_type": "stream",
     "text": [
      "Best trial: 2. Best value: -55887.6:   4%|▍         | 4/100 [01:08<29:37, 18.52s/it]"
     ]
    },
    {
     "name": "stdout",
     "output_type": "stream",
     "text": [
      "Fold 5 RMSE = 58613.52\n",
      "[I 2023-07-23 21:45:07,560] Trial 3 finished with value: -58913.528030565125 and parameters: {'loss': 'absolute_error', 'learning_rate': 0.5, 'max_iter': 800, 'max_leaf_nodes': 5530, 'max_depth': 8230, 'min_samples_leaf': 520, 'l2_regularization': 15.66}. Best is trial 2 with value: -55887.578938759805.\n"
     ]
    },
    {
     "name": "stderr",
     "output_type": "stream",
     "text": [
      "c:\\Users\\s0954\\anaconda3\\envs\\da\\lib\\site-packages\\optuna\\distributions.py:685: UserWarning: The distribution is specified by [0.1, 1.0] and step=0.2, but the range is not divisible by `step`. It will be replaced by [0.1, 0.9].\n",
      "  warnings.warn(\n",
      "c:\\Users\\s0954\\anaconda3\\envs\\da\\lib\\site-packages\\optuna\\distributions.py:700: UserWarning: The distribution is specified by [30, 10000] and step=100, but the range is not divisible by `step`. It will be replaced by [30, 9930].\n",
      "  warnings.warn(\n",
      "c:\\Users\\s0954\\anaconda3\\envs\\da\\lib\\site-packages\\optuna\\distributions.py:685: UserWarning: The distribution is specified by [0.01, 100] and step=0.05, but the range is not divisible by `step`. It will be replaced by [0.01, 99.96].\n",
      "  warnings.warn(\n"
     ]
    },
    {
     "name": "stdout",
     "output_type": "stream",
     "text": [
      "Fold 1 RMSE = 61532.75\n",
      "Fold 2 RMSE = 62920.94\n",
      "Fold 3 RMSE = 60021.34\n",
      "Fold 4 RMSE = 64717.56\n"
     ]
    },
    {
     "name": "stderr",
     "output_type": "stream",
     "text": [
      "Best trial: 2. Best value: -55887.6:   5%|▌         | 5/100 [01:27<29:41, 18.75s/it]"
     ]
    },
    {
     "name": "stdout",
     "output_type": "stream",
     "text": [
      "Fold 5 RMSE = 61940.48\n",
      "[I 2023-07-23 21:45:26,716] Trial 4 finished with value: -62226.613663020056 and parameters: {'loss': 'poisson', 'learning_rate': 0.7000000000000001, 'max_iter': 1000, 'max_leaf_nodes': 830, 'max_depth': 7330, 'min_samples_leaf': 565, 'l2_regularization': 24.860000000000003}. Best is trial 2 with value: -55887.578938759805.\n"
     ]
    },
    {
     "name": "stderr",
     "output_type": "stream",
     "text": [
      "c:\\Users\\s0954\\anaconda3\\envs\\da\\lib\\site-packages\\optuna\\distributions.py:685: UserWarning: The distribution is specified by [0.1, 1.0] and step=0.2, but the range is not divisible by `step`. It will be replaced by [0.1, 0.9].\n",
      "  warnings.warn(\n",
      "c:\\Users\\s0954\\anaconda3\\envs\\da\\lib\\site-packages\\optuna\\distributions.py:700: UserWarning: The distribution is specified by [30, 10000] and step=100, but the range is not divisible by `step`. It will be replaced by [30, 9930].\n",
      "  warnings.warn(\n",
      "c:\\Users\\s0954\\anaconda3\\envs\\da\\lib\\site-packages\\optuna\\distributions.py:685: UserWarning: The distribution is specified by [0.01, 100] and step=0.05, but the range is not divisible by `step`. It will be replaced by [0.01, 99.96].\n",
      "  warnings.warn(\n"
     ]
    },
    {
     "name": "stdout",
     "output_type": "stream",
     "text": [
      "Fold 1 RMSE = 55089.67\n",
      "Fold 2 RMSE = 57089.13\n",
      "Fold 3 RMSE = 52603.62\n",
      "Fold 4 RMSE = 58571.36\n"
     ]
    },
    {
     "name": "stderr",
     "output_type": "stream",
     "text": [
      "Best trial: 2. Best value: -55887.6:   6%|▌         | 6/100 [01:36<24:15, 15.49s/it]"
     ]
    },
    {
     "name": "stdout",
     "output_type": "stream",
     "text": [
      "Fold 5 RMSE = 56441.79\n",
      "[I 2023-07-23 21:45:35,878] Trial 5 finished with value: -55959.11586764148 and parameters: {'loss': 'poisson', 'learning_rate': 0.1, 'max_iter': 200, 'max_leaf_nodes': 9130, 'max_depth': 7730, 'min_samples_leaf': 265, 'l2_regularization': 64.51}. Best is trial 2 with value: -55887.578938759805.\n"
     ]
    },
    {
     "name": "stderr",
     "output_type": "stream",
     "text": [
      "c:\\Users\\s0954\\anaconda3\\envs\\da\\lib\\site-packages\\optuna\\distributions.py:685: UserWarning: The distribution is specified by [0.1, 1.0] and step=0.2, but the range is not divisible by `step`. It will be replaced by [0.1, 0.9].\n",
      "  warnings.warn(\n",
      "c:\\Users\\s0954\\anaconda3\\envs\\da\\lib\\site-packages\\optuna\\distributions.py:700: UserWarning: The distribution is specified by [30, 10000] and step=100, but the range is not divisible by `step`. It will be replaced by [30, 9930].\n",
      "  warnings.warn(\n",
      "c:\\Users\\s0954\\anaconda3\\envs\\da\\lib\\site-packages\\optuna\\distributions.py:685: UserWarning: The distribution is specified by [0.01, 100] and step=0.05, but the range is not divisible by `step`. It will be replaced by [0.01, 99.96].\n",
      "  warnings.warn(\n"
     ]
    },
    {
     "name": "stdout",
     "output_type": "stream",
     "text": [
      "Fold 1 RMSE = 61452.01\n",
      "Fold 2 RMSE = 62798.90\n",
      "Fold 3 RMSE = 59948.35\n",
      "Fold 4 RMSE = 64663.78\n"
     ]
    },
    {
     "name": "stderr",
     "output_type": "stream",
     "text": [
      "Best trial: 2. Best value: -55887.6:   7%|▋         | 7/100 [01:53<24:58, 16.12s/it]"
     ]
    },
    {
     "name": "stdout",
     "output_type": "stream",
     "text": [
      "Fold 5 RMSE = 61877.57\n",
      "[I 2023-07-23 21:45:53,281] Trial 6 finished with value: -62148.12472188382 and parameters: {'loss': 'squared_error', 'learning_rate': 0.1, 'max_iter': 850, 'max_leaf_nodes': 3830, 'max_depth': 7530, 'min_samples_leaf': 610, 'l2_regularization': 49.410000000000004}. Best is trial 2 with value: -55887.578938759805.\n"
     ]
    },
    {
     "name": "stderr",
     "output_type": "stream",
     "text": [
      "c:\\Users\\s0954\\anaconda3\\envs\\da\\lib\\site-packages\\optuna\\distributions.py:685: UserWarning: The distribution is specified by [0.1, 1.0] and step=0.2, but the range is not divisible by `step`. It will be replaced by [0.1, 0.9].\n",
      "  warnings.warn(\n",
      "c:\\Users\\s0954\\anaconda3\\envs\\da\\lib\\site-packages\\optuna\\distributions.py:700: UserWarning: The distribution is specified by [30, 10000] and step=100, but the range is not divisible by `step`. It will be replaced by [30, 9930].\n",
      "  warnings.warn(\n",
      "c:\\Users\\s0954\\anaconda3\\envs\\da\\lib\\site-packages\\optuna\\distributions.py:685: UserWarning: The distribution is specified by [0.01, 100] and step=0.05, but the range is not divisible by `step`. It will be replaced by [0.01, 99.96].\n",
      "  warnings.warn(\n"
     ]
    },
    {
     "name": "stdout",
     "output_type": "stream",
     "text": [
      "Fold 1 RMSE = 56201.89\n",
      "Fold 2 RMSE = 57208.97\n",
      "Fold 3 RMSE = 52960.06\n",
      "Fold 4 RMSE = 59270.61\n"
     ]
    },
    {
     "name": "stderr",
     "output_type": "stream",
     "text": [
      "Best trial: 2. Best value: -55887.6:   8%|▊         | 8/100 [02:02<21:10, 13.81s/it]"
     ]
    },
    {
     "name": "stdout",
     "output_type": "stream",
     "text": [
      "Fold 5 RMSE = 56602.75\n",
      "[I 2023-07-23 21:46:02,164] Trial 7 finished with value: -56448.85637663874 and parameters: {'loss': 'absolute_error', 'learning_rate': 0.7000000000000001, 'max_iter': 200, 'max_leaf_nodes': 1130, 'max_depth': 9130, 'min_samples_leaf': 280, 'l2_regularization': 9.91}. Best is trial 2 with value: -55887.578938759805.\n"
     ]
    },
    {
     "name": "stderr",
     "output_type": "stream",
     "text": [
      "c:\\Users\\s0954\\anaconda3\\envs\\da\\lib\\site-packages\\optuna\\distributions.py:685: UserWarning: The distribution is specified by [0.1, 1.0] and step=0.2, but the range is not divisible by `step`. It will be replaced by [0.1, 0.9].\n",
      "  warnings.warn(\n",
      "c:\\Users\\s0954\\anaconda3\\envs\\da\\lib\\site-packages\\optuna\\distributions.py:700: UserWarning: The distribution is specified by [30, 10000] and step=100, but the range is not divisible by `step`. It will be replaced by [30, 9930].\n",
      "  warnings.warn(\n",
      "c:\\Users\\s0954\\anaconda3\\envs\\da\\lib\\site-packages\\optuna\\distributions.py:685: UserWarning: The distribution is specified by [0.01, 100] and step=0.05, but the range is not divisible by `step`. It will be replaced by [0.01, 99.96].\n",
      "  warnings.warn(\n"
     ]
    },
    {
     "name": "stdout",
     "output_type": "stream",
     "text": [
      "Fold 1 RMSE = 54541.32\n",
      "Fold 2 RMSE = 56618.01\n",
      "Fold 3 RMSE = 52511.17\n",
      "Fold 4 RMSE = 58148.44\n"
     ]
    },
    {
     "name": "stderr",
     "output_type": "stream",
     "text": [
      "Best trial: 8. Best value: -55638.9:   9%|▉         | 9/100 [02:16<20:45, 13.68s/it]"
     ]
    },
    {
     "name": "stdout",
     "output_type": "stream",
     "text": [
      "Fold 5 RMSE = 56375.80\n",
      "[I 2023-07-23 21:46:15,563] Trial 8 finished with value: -55638.94597489126 and parameters: {'loss': 'poisson', 'learning_rate': 0.1, 'max_iter': 200, 'max_leaf_nodes': 9730, 'max_depth': 5530, 'min_samples_leaf': 175, 'l2_regularization': 56.410000000000004}. Best is trial 8 with value: -55638.94597489126.\n"
     ]
    },
    {
     "name": "stderr",
     "output_type": "stream",
     "text": [
      "c:\\Users\\s0954\\anaconda3\\envs\\da\\lib\\site-packages\\optuna\\distributions.py:685: UserWarning: The distribution is specified by [0.1, 1.0] and step=0.2, but the range is not divisible by `step`. It will be replaced by [0.1, 0.9].\n",
      "  warnings.warn(\n",
      "c:\\Users\\s0954\\anaconda3\\envs\\da\\lib\\site-packages\\optuna\\distributions.py:700: UserWarning: The distribution is specified by [30, 10000] and step=100, but the range is not divisible by `step`. It will be replaced by [30, 9930].\n",
      "  warnings.warn(\n",
      "c:\\Users\\s0954\\anaconda3\\envs\\da\\lib\\site-packages\\optuna\\distributions.py:685: UserWarning: The distribution is specified by [0.01, 100] and step=0.05, but the range is not divisible by `step`. It will be replaced by [0.01, 99.96].\n",
      "  warnings.warn(\n"
     ]
    },
    {
     "name": "stdout",
     "output_type": "stream",
     "text": [
      "Fold 1 RMSE = 67105.60\n",
      "Fold 2 RMSE = 68360.53\n",
      "Fold 3 RMSE = 65705.15\n",
      "Fold 4 RMSE = 69743.16\n"
     ]
    },
    {
     "name": "stderr",
     "output_type": "stream",
     "text": [
      "Best trial: 8. Best value: -55638.9:  10%|█         | 10/100 [02:18<15:18, 10.21s/it]"
     ]
    },
    {
     "name": "stdout",
     "output_type": "stream",
     "text": [
      "Fold 5 RMSE = 66341.70\n",
      "[I 2023-07-23 21:46:17,986] Trial 9 finished with value: -67451.23143701983 and parameters: {'loss': 'poisson', 'learning_rate': 0.7000000000000001, 'max_iter': 250, 'max_leaf_nodes': 2830, 'max_depth': 9730, 'min_samples_leaf': 790, 'l2_regularization': 18.76}. Best is trial 8 with value: -55638.94597489126.\n"
     ]
    },
    {
     "name": "stderr",
     "output_type": "stream",
     "text": [
      "c:\\Users\\s0954\\anaconda3\\envs\\da\\lib\\site-packages\\optuna\\distributions.py:685: UserWarning: The distribution is specified by [0.1, 1.0] and step=0.2, but the range is not divisible by `step`. It will be replaced by [0.1, 0.9].\n",
      "  warnings.warn(\n",
      "c:\\Users\\s0954\\anaconda3\\envs\\da\\lib\\site-packages\\optuna\\distributions.py:700: UserWarning: The distribution is specified by [30, 10000] and step=100, but the range is not divisible by `step`. It will be replaced by [30, 9930].\n",
      "  warnings.warn(\n",
      "c:\\Users\\s0954\\anaconda3\\envs\\da\\lib\\site-packages\\optuna\\distributions.py:685: UserWarning: The distribution is specified by [0.01, 100] and step=0.05, but the range is not divisible by `step`. It will be replaced by [0.01, 99.96].\n",
      "  warnings.warn(\n"
     ]
    },
    {
     "name": "stdout",
     "output_type": "stream",
     "text": [
      "Fold 1 RMSE = 53952.21\n",
      "Fold 2 RMSE = 55433.51\n",
      "Fold 3 RMSE = 52085.67\n",
      "Fold 4 RMSE = 58449.69\n"
     ]
    },
    {
     "name": "stderr",
     "output_type": "stream",
     "text": [
      "Best trial: 10. Best value: -55037.3:  11%|█         | 11/100 [02:37<19:20, 13.03s/it]"
     ]
    },
    {
     "name": "stdout",
     "output_type": "stream",
     "text": [
      "Fold 5 RMSE = 55265.56\n",
      "[I 2023-07-23 21:46:37,433] Trial 10 finished with value: -55037.32722129846 and parameters: {'loss': 'poisson', 'learning_rate': 0.30000000000000004, 'max_iter': 100, 'max_leaf_nodes': 9130, 'max_depth': 1330, 'min_samples_leaf': 55, 'l2_regularization': 95.66000000000001}. Best is trial 10 with value: -55037.32722129846.\n"
     ]
    },
    {
     "name": "stderr",
     "output_type": "stream",
     "text": [
      "c:\\Users\\s0954\\anaconda3\\envs\\da\\lib\\site-packages\\optuna\\distributions.py:685: UserWarning: The distribution is specified by [0.1, 1.0] and step=0.2, but the range is not divisible by `step`. It will be replaced by [0.1, 0.9].\n",
      "  warnings.warn(\n",
      "c:\\Users\\s0954\\anaconda3\\envs\\da\\lib\\site-packages\\optuna\\distributions.py:700: UserWarning: The distribution is specified by [30, 10000] and step=100, but the range is not divisible by `step`. It will be replaced by [30, 9930].\n",
      "  warnings.warn(\n",
      "c:\\Users\\s0954\\anaconda3\\envs\\da\\lib\\site-packages\\optuna\\distributions.py:685: UserWarning: The distribution is specified by [0.01, 100] and step=0.05, but the range is not divisible by `step`. It will be replaced by [0.01, 99.96].\n",
      "  warnings.warn(\n"
     ]
    },
    {
     "name": "stdout",
     "output_type": "stream",
     "text": [
      "Fold 1 RMSE = 56107.35\n",
      "Fold 2 RMSE = 56458.49\n",
      "Fold 3 RMSE = 52665.54\n",
      "Fold 4 RMSE = 58762.71\n"
     ]
    },
    {
     "name": "stderr",
     "output_type": "stream",
     "text": [
      "Best trial: 10. Best value: -55037.3:  12%|█▏        | 12/100 [03:57<49:02, 33.44s/it]"
     ]
    },
    {
     "name": "stdout",
     "output_type": "stream",
     "text": [
      "Fold 5 RMSE = 57325.90\n",
      "[I 2023-07-23 21:47:57,532] Trial 11 finished with value: -56263.99834400909 and parameters: {'loss': 'poisson', 'learning_rate': 0.30000000000000004, 'max_iter': 100, 'max_leaf_nodes': 9730, 'max_depth': 530, 'min_samples_leaf': 10, 'l2_regularization': 90.76}. Best is trial 10 with value: -55037.32722129846.\n"
     ]
    },
    {
     "name": "stderr",
     "output_type": "stream",
     "text": [
      "c:\\Users\\s0954\\anaconda3\\envs\\da\\lib\\site-packages\\optuna\\distributions.py:685: UserWarning: The distribution is specified by [0.1, 1.0] and step=0.2, but the range is not divisible by `step`. It will be replaced by [0.1, 0.9].\n",
      "  warnings.warn(\n",
      "c:\\Users\\s0954\\anaconda3\\envs\\da\\lib\\site-packages\\optuna\\distributions.py:700: UserWarning: The distribution is specified by [30, 10000] and step=100, but the range is not divisible by `step`. It will be replaced by [30, 9930].\n",
      "  warnings.warn(\n",
      "c:\\Users\\s0954\\anaconda3\\envs\\da\\lib\\site-packages\\optuna\\distributions.py:685: UserWarning: The distribution is specified by [0.01, 100] and step=0.05, but the range is not divisible by `step`. It will be replaced by [0.01, 99.96].\n",
      "  warnings.warn(\n"
     ]
    },
    {
     "name": "stdout",
     "output_type": "stream",
     "text": [
      "Fold 1 RMSE = 56983.52\n",
      "Fold 2 RMSE = 58409.26\n",
      "Fold 3 RMSE = 54788.72\n",
      "Fold 4 RMSE = 60826.12\n"
     ]
    },
    {
     "name": "stderr",
     "output_type": "stream",
     "text": [
      "Best trial: 10. Best value: -55037.3:  13%|█▎        | 13/100 [04:10<39:20, 27.13s/it]"
     ]
    },
    {
     "name": "stdout",
     "output_type": "stream",
     "text": [
      "Fold 5 RMSE = 57994.11\n",
      "[I 2023-07-23 21:48:10,161] Trial 12 finished with value: -57800.34371504063 and parameters: {'loss': 'poisson', 'learning_rate': 0.30000000000000004, 'max_iter': 350, 'max_leaf_nodes': 8030, 'max_depth': 2730, 'min_samples_leaf': 310, 'l2_regularization': 98.36000000000001}. Best is trial 10 with value: -55037.32722129846.\n"
     ]
    },
    {
     "name": "stderr",
     "output_type": "stream",
     "text": [
      "c:\\Users\\s0954\\anaconda3\\envs\\da\\lib\\site-packages\\optuna\\distributions.py:685: UserWarning: The distribution is specified by [0.1, 1.0] and step=0.2, but the range is not divisible by `step`. It will be replaced by [0.1, 0.9].\n",
      "  warnings.warn(\n",
      "c:\\Users\\s0954\\anaconda3\\envs\\da\\lib\\site-packages\\optuna\\distributions.py:700: UserWarning: The distribution is specified by [30, 10000] and step=100, but the range is not divisible by `step`. It will be replaced by [30, 9930].\n",
      "  warnings.warn(\n",
      "c:\\Users\\s0954\\anaconda3\\envs\\da\\lib\\site-packages\\optuna\\distributions.py:685: UserWarning: The distribution is specified by [0.01, 100] and step=0.05, but the range is not divisible by `step`. It will be replaced by [0.01, 99.96].\n",
      "  warnings.warn(\n"
     ]
    },
    {
     "name": "stdout",
     "output_type": "stream",
     "text": [
      "Fold 1 RMSE = 58526.96\n",
      "Fold 2 RMSE = 56052.59\n",
      "Fold 3 RMSE = 53208.64\n",
      "Fold 4 RMSE = 59286.32\n"
     ]
    },
    {
     "name": "stderr",
     "output_type": "stream",
     "text": [
      "Best trial: 10. Best value: -55037.3:  14%|█▍        | 14/100 [07:48<2:01:18, 84.63s/it]"
     ]
    },
    {
     "name": "stdout",
     "output_type": "stream",
     "text": [
      "Fold 5 RMSE = 57189.32\n",
      "[I 2023-07-23 21:51:47,653] Trial 13 finished with value: -56852.76634084365 and parameters: {'loss': 'poisson', 'learning_rate': 0.30000000000000004, 'max_iter': 600, 'max_leaf_nodes': 7830, 'max_depth': 230, 'min_samples_leaf': 25, 'l2_regularization': 35.46}. Best is trial 10 with value: -55037.32722129846.\n"
     ]
    },
    {
     "name": "stderr",
     "output_type": "stream",
     "text": [
      "c:\\Users\\s0954\\anaconda3\\envs\\da\\lib\\site-packages\\optuna\\distributions.py:685: UserWarning: The distribution is specified by [0.1, 1.0] and step=0.2, but the range is not divisible by `step`. It will be replaced by [0.1, 0.9].\n",
      "  warnings.warn(\n",
      "c:\\Users\\s0954\\anaconda3\\envs\\da\\lib\\site-packages\\optuna\\distributions.py:700: UserWarning: The distribution is specified by [30, 10000] and step=100, but the range is not divisible by `step`. It will be replaced by [30, 9930].\n",
      "  warnings.warn(\n",
      "c:\\Users\\s0954\\anaconda3\\envs\\da\\lib\\site-packages\\optuna\\distributions.py:685: UserWarning: The distribution is specified by [0.01, 100] and step=0.05, but the range is not divisible by `step`. It will be replaced by [0.01, 99.96].\n",
      "  warnings.warn(\n"
     ]
    },
    {
     "name": "stdout",
     "output_type": "stream",
     "text": [
      "Fold 1 RMSE = 54713.47\n",
      "Fold 2 RMSE = 56739.93\n",
      "Fold 3 RMSE = 52478.36\n",
      "Fold 4 RMSE = 58065.88\n"
     ]
    },
    {
     "name": "stderr",
     "output_type": "stream",
     "text": [
      "Best trial: 10. Best value: -55037.3:  15%|█▌        | 15/100 [07:54<1:26:34, 61.12s/it]"
     ]
    },
    {
     "name": "stdout",
     "output_type": "stream",
     "text": [
      "Fold 5 RMSE = 56494.82\n",
      "[I 2023-07-23 21:51:54,270] Trial 14 finished with value: -55698.49343632757 and parameters: {'loss': 'poisson', 'learning_rate': 0.5, 'max_iter': 100, 'max_leaf_nodes': 9730, 'max_depth': 5330, 'min_samples_leaf': 175, 'l2_regularization': 80.31000000000002}. Best is trial 10 with value: -55037.32722129846.\n"
     ]
    },
    {
     "name": "stderr",
     "output_type": "stream",
     "text": [
      "c:\\Users\\s0954\\anaconda3\\envs\\da\\lib\\site-packages\\optuna\\distributions.py:685: UserWarning: The distribution is specified by [0.1, 1.0] and step=0.2, but the range is not divisible by `step`. It will be replaced by [0.1, 0.9].\n",
      "  warnings.warn(\n",
      "c:\\Users\\s0954\\anaconda3\\envs\\da\\lib\\site-packages\\optuna\\distributions.py:700: UserWarning: The distribution is specified by [30, 10000] and step=100, but the range is not divisible by `step`. It will be replaced by [30, 9930].\n",
      "  warnings.warn(\n",
      "c:\\Users\\s0954\\anaconda3\\envs\\da\\lib\\site-packages\\optuna\\distributions.py:685: UserWarning: The distribution is specified by [0.01, 100] and step=0.05, but the range is not divisible by `step`. It will be replaced by [0.01, 99.96].\n",
      "  warnings.warn(\n"
     ]
    },
    {
     "name": "stdout",
     "output_type": "stream",
     "text": [
      "Fold 1 RMSE = 57027.71\n",
      "Fold 2 RMSE = 58741.36\n",
      "Fold 3 RMSE = 55681.31\n",
      "Fold 4 RMSE = 61272.63\n"
     ]
    },
    {
     "name": "stderr",
     "output_type": "stream",
     "text": [
      "Best trial: 10. Best value: -55037.3:  16%|█▌        | 16/100 [08:11<1:06:42, 47.65s/it]"
     ]
    },
    {
     "name": "stdout",
     "output_type": "stream",
     "text": [
      "Fold 5 RMSE = 58720.21\n",
      "[I 2023-07-23 21:52:10,660] Trial 15 finished with value: -58288.643541160214 and parameters: {'loss': 'squared_error', 'learning_rate': 0.9, 'max_iter': 600, 'max_leaf_nodes': 6630, 'max_depth': 2430, 'min_samples_leaf': 415, 'l2_regularization': 72.71000000000001}. Best is trial 10 with value: -55037.32722129846.\n"
     ]
    },
    {
     "name": "stderr",
     "output_type": "stream",
     "text": [
      "c:\\Users\\s0954\\anaconda3\\envs\\da\\lib\\site-packages\\optuna\\distributions.py:685: UserWarning: The distribution is specified by [0.1, 1.0] and step=0.2, but the range is not divisible by `step`. It will be replaced by [0.1, 0.9].\n",
      "  warnings.warn(\n",
      "c:\\Users\\s0954\\anaconda3\\envs\\da\\lib\\site-packages\\optuna\\distributions.py:700: UserWarning: The distribution is specified by [30, 10000] and step=100, but the range is not divisible by `step`. It will be replaced by [30, 9930].\n",
      "  warnings.warn(\n",
      "c:\\Users\\s0954\\anaconda3\\envs\\da\\lib\\site-packages\\optuna\\distributions.py:685: UserWarning: The distribution is specified by [0.01, 100] and step=0.05, but the range is not divisible by `step`. It will be replaced by [0.01, 99.96].\n",
      "  warnings.warn(\n"
     ]
    },
    {
     "name": "stdout",
     "output_type": "stream",
     "text": [
      "Fold 1 RMSE = 54190.37\n",
      "Fold 2 RMSE = 56060.66\n",
      "Fold 3 RMSE = 52328.89\n",
      "Fold 4 RMSE = 58023.58\n"
     ]
    },
    {
     "name": "stderr",
     "output_type": "stream",
     "text": [
      "Best trial: 10. Best value: -55037.3:  17%|█▋        | 17/100 [08:38<57:20, 41.45s/it]  "
     ]
    },
    {
     "name": "stdout",
     "output_type": "stream",
     "text": [
      "Fold 5 RMSE = 56117.53\n",
      "[I 2023-07-23 21:52:37,697] Trial 16 finished with value: -55344.20349911888 and parameters: {'loss': 'poisson', 'learning_rate': 0.1, 'max_iter': 300, 'max_leaf_nodes': 8630, 'max_depth': 4230, 'min_samples_leaf': 130, 'l2_regularization': 0.76}. Best is trial 10 with value: -55037.32722129846.\n"
     ]
    },
    {
     "name": "stderr",
     "output_type": "stream",
     "text": [
      "c:\\Users\\s0954\\anaconda3\\envs\\da\\lib\\site-packages\\optuna\\distributions.py:685: UserWarning: The distribution is specified by [0.1, 1.0] and step=0.2, but the range is not divisible by `step`. It will be replaced by [0.1, 0.9].\n",
      "  warnings.warn(\n",
      "c:\\Users\\s0954\\anaconda3\\envs\\da\\lib\\site-packages\\optuna\\distributions.py:700: UserWarning: The distribution is specified by [30, 10000] and step=100, but the range is not divisible by `step`. It will be replaced by [30, 9930].\n",
      "  warnings.warn(\n",
      "c:\\Users\\s0954\\anaconda3\\envs\\da\\lib\\site-packages\\optuna\\distributions.py:685: UserWarning: The distribution is specified by [0.01, 100] and step=0.05, but the range is not divisible by `step`. It will be replaced by [0.01, 99.96].\n",
      "  warnings.warn(\n"
     ]
    },
    {
     "name": "stdout",
     "output_type": "stream",
     "text": [
      "Fold 1 RMSE = 57004.78\n",
      "Fold 2 RMSE = 58651.06\n",
      "Fold 3 RMSE = 55729.34\n",
      "Fold 4 RMSE = 61495.50\n"
     ]
    },
    {
     "name": "stderr",
     "output_type": "stream",
     "text": [
      "Best trial: 10. Best value: -55037.3:  18%|█▊        | 18/100 [08:45<42:30, 31.10s/it]"
     ]
    },
    {
     "name": "stdout",
     "output_type": "stream",
     "text": [
      "Fold 5 RMSE = 58670.93\n",
      "[I 2023-07-23 21:52:44,704] Trial 17 finished with value: -58310.32169139312 and parameters: {'loss': 'poisson', 'learning_rate': 0.30000000000000004, 'max_iter': 300, 'max_leaf_nodes': 4630, 'max_depth': 1530, 'min_samples_leaf': 400, 'l2_regularization': 3.01}. Best is trial 10 with value: -55037.32722129846.\n"
     ]
    },
    {
     "name": "stderr",
     "output_type": "stream",
     "text": [
      "c:\\Users\\s0954\\anaconda3\\envs\\da\\lib\\site-packages\\optuna\\distributions.py:685: UserWarning: The distribution is specified by [0.1, 1.0] and step=0.2, but the range is not divisible by `step`. It will be replaced by [0.1, 0.9].\n",
      "  warnings.warn(\n",
      "c:\\Users\\s0954\\anaconda3\\envs\\da\\lib\\site-packages\\optuna\\distributions.py:700: UserWarning: The distribution is specified by [30, 10000] and step=100, but the range is not divisible by `step`. It will be replaced by [30, 9930].\n",
      "  warnings.warn(\n",
      "c:\\Users\\s0954\\anaconda3\\envs\\da\\lib\\site-packages\\optuna\\distributions.py:685: UserWarning: The distribution is specified by [0.01, 100] and step=0.05, but the range is not divisible by `step`. It will be replaced by [0.01, 99.96].\n",
      "  warnings.warn(\n"
     ]
    },
    {
     "name": "stdout",
     "output_type": "stream",
     "text": [
      "Fold 1 RMSE = 55622.80\n",
      "Fold 2 RMSE = 56612.17\n",
      "Fold 3 RMSE = 53143.20\n",
      "Fold 4 RMSE = 58908.73\n"
     ]
    },
    {
     "name": "stderr",
     "output_type": "stream",
     "text": [
      "Best trial: 10. Best value: -55037.3:  19%|█▉        | 19/100 [09:40<51:45, 38.34s/it]"
     ]
    },
    {
     "name": "stdout",
     "output_type": "stream",
     "text": [
      "Fold 5 RMSE = 56083.04\n",
      "[I 2023-07-23 21:53:39,891] Trial 18 finished with value: -56073.98724212791 and parameters: {'loss': 'absolute_error', 'learning_rate': 0.1, 'max_iter': 500, 'max_leaf_nodes': 8430, 'max_depth': 4430, 'min_samples_leaf': 100, 'l2_regularization': 38.660000000000004}. Best is trial 10 with value: -55037.32722129846.\n"
     ]
    },
    {
     "name": "stderr",
     "output_type": "stream",
     "text": [
      "c:\\Users\\s0954\\anaconda3\\envs\\da\\lib\\site-packages\\optuna\\distributions.py:685: UserWarning: The distribution is specified by [0.1, 1.0] and step=0.2, but the range is not divisible by `step`. It will be replaced by [0.1, 0.9].\n",
      "  warnings.warn(\n",
      "c:\\Users\\s0954\\anaconda3\\envs\\da\\lib\\site-packages\\optuna\\distributions.py:700: UserWarning: The distribution is specified by [30, 10000] and step=100, but the range is not divisible by `step`. It will be replaced by [30, 9930].\n",
      "  warnings.warn(\n",
      "c:\\Users\\s0954\\anaconda3\\envs\\da\\lib\\site-packages\\optuna\\distributions.py:685: UserWarning: The distribution is specified by [0.01, 100] and step=0.05, but the range is not divisible by `step`. It will be replaced by [0.01, 99.96].\n",
      "  warnings.warn(\n"
     ]
    },
    {
     "name": "stdout",
     "output_type": "stream",
     "text": [
      "Fold 1 RMSE = 56919.06\n",
      "Fold 2 RMSE = 58718.74\n",
      "Fold 3 RMSE = 55640.12\n",
      "Fold 4 RMSE = 61312.95\n"
     ]
    },
    {
     "name": "stderr",
     "output_type": "stream",
     "text": [
      "Best trial: 10. Best value: -55037.3:  20%|██        | 20/100 [09:43<36:50, 27.64s/it]"
     ]
    },
    {
     "name": "stdout",
     "output_type": "stream",
     "text": [
      "Fold 5 RMSE = 58592.32\n",
      "[I 2023-07-23 21:53:42,592] Trial 19 finished with value: -58236.63858129592 and parameters: {'loss': 'squared_error', 'learning_rate': 0.5, 'max_iter': 100, 'max_leaf_nodes': 6930, 'max_depth': 1230, 'min_samples_leaf': 430, 'l2_regularization': 32.36}. Best is trial 10 with value: -55037.32722129846.\n"
     ]
    },
    {
     "name": "stderr",
     "output_type": "stream",
     "text": [
      "c:\\Users\\s0954\\anaconda3\\envs\\da\\lib\\site-packages\\optuna\\distributions.py:685: UserWarning: The distribution is specified by [0.1, 1.0] and step=0.2, but the range is not divisible by `step`. It will be replaced by [0.1, 0.9].\n",
      "  warnings.warn(\n",
      "c:\\Users\\s0954\\anaconda3\\envs\\da\\lib\\site-packages\\optuna\\distributions.py:700: UserWarning: The distribution is specified by [30, 10000] and step=100, but the range is not divisible by `step`. It will be replaced by [30, 9930].\n",
      "  warnings.warn(\n",
      "c:\\Users\\s0954\\anaconda3\\envs\\da\\lib\\site-packages\\optuna\\distributions.py:685: UserWarning: The distribution is specified by [0.01, 100] and step=0.05, but the range is not divisible by `step`. It will be replaced by [0.01, 99.96].\n",
      "  warnings.warn(\n"
     ]
    },
    {
     "name": "stdout",
     "output_type": "stream",
     "text": [
      "Fold 1 RMSE = 67105.60\n",
      "Fold 2 RMSE = 68360.53\n",
      "Fold 3 RMSE = 65705.15\n",
      "Fold 4 RMSE = 69743.16\n"
     ]
    },
    {
     "name": "stderr",
     "output_type": "stream",
     "text": [
      "Best trial: 10. Best value: -55037.3:  21%|██        | 21/100 [09:45<26:36, 20.20s/it]"
     ]
    },
    {
     "name": "stdout",
     "output_type": "stream",
     "text": [
      "Fold 5 RMSE = 66341.70\n",
      "[I 2023-07-23 21:53:45,465] Trial 20 finished with value: -67451.23143516967 and parameters: {'loss': 'poisson', 'learning_rate': 0.5, 'max_iter': 300, 'max_leaf_nodes': 8730, 'max_depth': 6430, 'min_samples_leaf': 715, 'l2_regularization': 1.06}. Best is trial 10 with value: -55037.32722129846.\n"
     ]
    },
    {
     "name": "stderr",
     "output_type": "stream",
     "text": [
      "c:\\Users\\s0954\\anaconda3\\envs\\da\\lib\\site-packages\\optuna\\distributions.py:685: UserWarning: The distribution is specified by [0.1, 1.0] and step=0.2, but the range is not divisible by `step`. It will be replaced by [0.1, 0.9].\n",
      "  warnings.warn(\n",
      "c:\\Users\\s0954\\anaconda3\\envs\\da\\lib\\site-packages\\optuna\\distributions.py:700: UserWarning: The distribution is specified by [30, 10000] and step=100, but the range is not divisible by `step`. It will be replaced by [30, 9930].\n",
      "  warnings.warn(\n",
      "c:\\Users\\s0954\\anaconda3\\envs\\da\\lib\\site-packages\\optuna\\distributions.py:685: UserWarning: The distribution is specified by [0.01, 100] and step=0.05, but the range is not divisible by `step`. It will be replaced by [0.01, 99.96].\n",
      "  warnings.warn(\n"
     ]
    },
    {
     "name": "stdout",
     "output_type": "stream",
     "text": [
      "Fold 1 RMSE = 55072.66\n",
      "Fold 2 RMSE = 57109.45\n",
      "Fold 3 RMSE = 52522.62\n",
      "Fold 4 RMSE = 58487.37\n"
     ]
    },
    {
     "name": "stderr",
     "output_type": "stream",
     "text": [
      "Best trial: 10. Best value: -55037.3:  22%|██▏       | 22/100 [09:53<21:23, 16.46s/it]"
     ]
    },
    {
     "name": "stdout",
     "output_type": "stream",
     "text": [
      "Fold 5 RMSE = 56646.86\n",
      "[I 2023-07-23 21:53:53,195] Trial 21 finished with value: -55967.790889941345 and parameters: {'loss': 'poisson', 'learning_rate': 0.1, 'max_iter': 150, 'max_leaf_nodes': 9530, 'max_depth': 4130, 'min_samples_leaf': 220, 'l2_regularization': 86.61000000000001}. Best is trial 10 with value: -55037.32722129846.\n"
     ]
    },
    {
     "name": "stderr",
     "output_type": "stream",
     "text": [
      "c:\\Users\\s0954\\anaconda3\\envs\\da\\lib\\site-packages\\optuna\\distributions.py:685: UserWarning: The distribution is specified by [0.1, 1.0] and step=0.2, but the range is not divisible by `step`. It will be replaced by [0.1, 0.9].\n",
      "  warnings.warn(\n",
      "c:\\Users\\s0954\\anaconda3\\envs\\da\\lib\\site-packages\\optuna\\distributions.py:700: UserWarning: The distribution is specified by [30, 10000] and step=100, but the range is not divisible by `step`. It will be replaced by [30, 9930].\n",
      "  warnings.warn(\n",
      "c:\\Users\\s0954\\anaconda3\\envs\\da\\lib\\site-packages\\optuna\\distributions.py:685: UserWarning: The distribution is specified by [0.01, 100] and step=0.05, but the range is not divisible by `step`. It will be replaced by [0.01, 99.96].\n",
      "  warnings.warn(\n"
     ]
    },
    {
     "name": "stdout",
     "output_type": "stream",
     "text": [
      "Fold 1 RMSE = 53740.22\n",
      "Fold 2 RMSE = 55955.05\n",
      "Fold 3 RMSE = 52616.50\n",
      "Fold 4 RMSE = 58394.91\n"
     ]
    },
    {
     "name": "stderr",
     "output_type": "stream",
     "text": [
      "Best trial: 10. Best value: -55037.3:  23%|██▎       | 23/100 [10:28<28:02, 21.86s/it]"
     ]
    },
    {
     "name": "stdout",
     "output_type": "stream",
     "text": [
      "Fold 5 RMSE = 55605.96\n",
      "[I 2023-07-23 21:54:27,634] Trial 22 finished with value: -55262.528934116606 and parameters: {'loss': 'poisson', 'learning_rate': 0.1, 'max_iter': 250, 'max_leaf_nodes': 9930, 'max_depth': 3130, 'min_samples_leaf': 85, 'l2_regularization': 65.96000000000001}. Best is trial 10 with value: -55037.32722129846.\n"
     ]
    },
    {
     "name": "stderr",
     "output_type": "stream",
     "text": [
      "c:\\Users\\s0954\\anaconda3\\envs\\da\\lib\\site-packages\\optuna\\distributions.py:685: UserWarning: The distribution is specified by [0.1, 1.0] and step=0.2, but the range is not divisible by `step`. It will be replaced by [0.1, 0.9].\n",
      "  warnings.warn(\n",
      "c:\\Users\\s0954\\anaconda3\\envs\\da\\lib\\site-packages\\optuna\\distributions.py:700: UserWarning: The distribution is specified by [30, 10000] and step=100, but the range is not divisible by `step`. It will be replaced by [30, 9930].\n",
      "  warnings.warn(\n",
      "c:\\Users\\s0954\\anaconda3\\envs\\da\\lib\\site-packages\\optuna\\distributions.py:685: UserWarning: The distribution is specified by [0.01, 100] and step=0.05, but the range is not divisible by `step`. It will be replaced by [0.01, 99.96].\n",
      "  warnings.warn(\n"
     ]
    },
    {
     "name": "stdout",
     "output_type": "stream",
     "text": [
      "Fold 1 RMSE = 55265.64\n",
      "Fold 2 RMSE = 56034.65\n",
      "Fold 3 RMSE = 52554.77\n",
      "Fold 4 RMSE = 58924.41\n"
     ]
    },
    {
     "name": "stderr",
     "output_type": "stream",
     "text": [
      "Best trial: 10. Best value: -55037.3:  24%|██▍       | 24/100 [11:32<43:50, 34.61s/it]"
     ]
    },
    {
     "name": "stdout",
     "output_type": "stream",
     "text": [
      "Fold 5 RMSE = 55864.67\n",
      "[I 2023-07-23 21:55:32,013] Trial 23 finished with value: -55728.827415842505 and parameters: {'loss': 'poisson', 'learning_rate': 0.30000000000000004, 'max_iter': 400, 'max_leaf_nodes': 8630, 'max_depth': 3130, 'min_samples_leaf': 70, 'l2_regularization': 66.21000000000001}. Best is trial 10 with value: -55037.32722129846.\n"
     ]
    },
    {
     "name": "stderr",
     "output_type": "stream",
     "text": [
      "c:\\Users\\s0954\\anaconda3\\envs\\da\\lib\\site-packages\\optuna\\distributions.py:685: UserWarning: The distribution is specified by [0.1, 1.0] and step=0.2, but the range is not divisible by `step`. It will be replaced by [0.1, 0.9].\n",
      "  warnings.warn(\n",
      "c:\\Users\\s0954\\anaconda3\\envs\\da\\lib\\site-packages\\optuna\\distributions.py:700: UserWarning: The distribution is specified by [30, 10000] and step=100, but the range is not divisible by `step`. It will be replaced by [30, 9930].\n",
      "  warnings.warn(\n",
      "c:\\Users\\s0954\\anaconda3\\envs\\da\\lib\\site-packages\\optuna\\distributions.py:685: UserWarning: The distribution is specified by [0.01, 100] and step=0.05, but the range is not divisible by `step`. It will be replaced by [0.01, 99.96].\n",
      "  warnings.warn(\n"
     ]
    },
    {
     "name": "stdout",
     "output_type": "stream",
     "text": [
      "Fold 1 RMSE = 54356.73\n",
      "Fold 2 RMSE = 56109.45\n",
      "Fold 3 RMSE = 52909.09\n",
      "Fold 4 RMSE = 58001.36\n"
     ]
    },
    {
     "name": "stderr",
     "output_type": "stream",
     "text": [
      "Best trial: 10. Best value: -55037.3:  25%|██▌       | 25/100 [12:06<42:54, 34.33s/it]c:\\Users\\s0954\\anaconda3\\envs\\da\\lib\\site-packages\\optuna\\distributions.py:685: UserWarning: The distribution is specified by [0.1, 1.0] and step=0.2, but the range is not divisible by `step`. It will be replaced by [0.1, 0.9].\n",
      "  warnings.warn(\n",
      "c:\\Users\\s0954\\anaconda3\\envs\\da\\lib\\site-packages\\optuna\\distributions.py:700: UserWarning: The distribution is specified by [30, 10000] and step=100, but the range is not divisible by `step`. It will be replaced by [30, 9930].\n",
      "  warnings.warn(\n",
      "c:\\Users\\s0954\\anaconda3\\envs\\da\\lib\\site-packages\\optuna\\distributions.py:685: UserWarning: The distribution is specified by [0.01, 100] and step=0.05, but the range is not divisible by `step`. It will be replaced by [0.01, 99.96].\n",
      "  warnings.warn(\n"
     ]
    },
    {
     "name": "stdout",
     "output_type": "stream",
     "text": [
      "Fold 5 RMSE = 56001.97\n",
      "[I 2023-07-23 21:56:05,670] Trial 24 finished with value: -55475.71893302947 and parameters: {'loss': 'poisson', 'learning_rate': 0.1, 'max_iter': 300, 'max_leaf_nodes': 7230, 'max_depth': 2330, 'min_samples_leaf': 100, 'l2_regularization': 46.21}. Best is trial 10 with value: -55037.32722129846.\n",
      "Fold 1 RMSE = 57024.10\n",
      "Fold 2 RMSE = 58666.63\n",
      "Fold 3 RMSE = 55764.28\n",
      "Fold 4 RMSE = 61446.55\n"
     ]
    },
    {
     "name": "stderr",
     "output_type": "stream",
     "text": [
      "Best trial: 10. Best value: -55037.3:  26%|██▌       | 26/100 [12:13<32:31, 26.38s/it]"
     ]
    },
    {
     "name": "stdout",
     "output_type": "stream",
     "text": [
      "Fold 5 RMSE = 57836.57\n",
      "[I 2023-07-23 21:56:13,497] Trial 25 finished with value: -58147.62441461813 and parameters: {'loss': 'poisson', 'learning_rate': 0.30000000000000004, 'max_iter': 250, 'max_leaf_nodes': 8830, 'max_depth': 1630, 'min_samples_leaf': 340, 'l2_regularization': 97.46000000000001}. Best is trial 10 with value: -55037.32722129846.\n"
     ]
    },
    {
     "name": "stderr",
     "output_type": "stream",
     "text": [
      "c:\\Users\\s0954\\anaconda3\\envs\\da\\lib\\site-packages\\optuna\\distributions.py:685: UserWarning: The distribution is specified by [0.1, 1.0] and step=0.2, but the range is not divisible by `step`. It will be replaced by [0.1, 0.9].\n",
      "  warnings.warn(\n",
      "c:\\Users\\s0954\\anaconda3\\envs\\da\\lib\\site-packages\\optuna\\distributions.py:700: UserWarning: The distribution is specified by [30, 10000] and step=100, but the range is not divisible by `step`. It will be replaced by [30, 9930].\n",
      "  warnings.warn(\n",
      "c:\\Users\\s0954\\anaconda3\\envs\\da\\lib\\site-packages\\optuna\\distributions.py:685: UserWarning: The distribution is specified by [0.01, 100] and step=0.05, but the range is not divisible by `step`. It will be replaced by [0.01, 99.96].\n",
      "  warnings.warn(\n"
     ]
    },
    {
     "name": "stdout",
     "output_type": "stream",
     "text": [
      "Fold 1 RMSE = 55271.50\n",
      "Fold 2 RMSE = 56979.91\n",
      "Fold 3 RMSE = 52431.04\n",
      "Fold 4 RMSE = 58498.77\n"
     ]
    },
    {
     "name": "stderr",
     "output_type": "stream",
     "text": [
      "Best trial: 10. Best value: -55037.3:  27%|██▋       | 27/100 [12:44<33:26, 27.49s/it]"
     ]
    },
    {
     "name": "stdout",
     "output_type": "stream",
     "text": [
      "Fold 5 RMSE = 56575.66\n",
      "[I 2023-07-23 21:56:43,580] Trial 26 finished with value: -55951.37621572489 and parameters: {'loss': 'poisson', 'learning_rate': 0.1, 'max_iter': 550, 'max_leaf_nodes': 6430, 'max_depth': 3530, 'min_samples_leaf': 205, 'l2_regularization': 67.41000000000001}. Best is trial 10 with value: -55037.32722129846.\n"
     ]
    },
    {
     "name": "stderr",
     "output_type": "stream",
     "text": [
      "c:\\Users\\s0954\\anaconda3\\envs\\da\\lib\\site-packages\\optuna\\distributions.py:685: UserWarning: The distribution is specified by [0.1, 1.0] and step=0.2, but the range is not divisible by `step`. It will be replaced by [0.1, 0.9].\n",
      "  warnings.warn(\n",
      "c:\\Users\\s0954\\anaconda3\\envs\\da\\lib\\site-packages\\optuna\\distributions.py:700: UserWarning: The distribution is specified by [30, 10000] and step=100, but the range is not divisible by `step`. It will be replaced by [30, 9930].\n",
      "  warnings.warn(\n",
      "c:\\Users\\s0954\\anaconda3\\envs\\da\\lib\\site-packages\\optuna\\distributions.py:685: UserWarning: The distribution is specified by [0.01, 100] and step=0.05, but the range is not divisible by `step`. It will be replaced by [0.01, 99.96].\n",
      "  warnings.warn(\n"
     ]
    },
    {
     "name": "stdout",
     "output_type": "stream",
     "text": [
      "Fold 1 RMSE = 54826.76\n",
      "Fold 2 RMSE = 55993.18\n",
      "Fold 3 RMSE = 52734.56\n",
      "Fold 4 RMSE = 59251.85\n"
     ]
    },
    {
     "name": "stderr",
     "output_type": "stream",
     "text": [
      "Best trial: 10. Best value: -55037.3:  28%|██▊       | 28/100 [13:22<36:49, 30.69s/it]"
     ]
    },
    {
     "name": "stdout",
     "output_type": "stream",
     "text": [
      "Fold 5 RMSE = 56071.17\n",
      "[I 2023-07-23 21:57:21,744] Trial 27 finished with value: -55775.50637047701 and parameters: {'loss': 'poisson', 'learning_rate': 0.30000000000000004, 'max_iter': 150, 'max_leaf_nodes': 8130, 'max_depth': 2030, 'min_samples_leaf': 40, 'l2_regularization': 87.01}. Best is trial 10 with value: -55037.32722129846.\n"
     ]
    },
    {
     "name": "stderr",
     "output_type": "stream",
     "text": [
      "c:\\Users\\s0954\\anaconda3\\envs\\da\\lib\\site-packages\\optuna\\distributions.py:685: UserWarning: The distribution is specified by [0.1, 1.0] and step=0.2, but the range is not divisible by `step`. It will be replaced by [0.1, 0.9].\n",
      "  warnings.warn(\n",
      "c:\\Users\\s0954\\anaconda3\\envs\\da\\lib\\site-packages\\optuna\\distributions.py:700: UserWarning: The distribution is specified by [30, 10000] and step=100, but the range is not divisible by `step`. It will be replaced by [30, 9930].\n",
      "  warnings.warn(\n",
      "c:\\Users\\s0954\\anaconda3\\envs\\da\\lib\\site-packages\\optuna\\distributions.py:685: UserWarning: The distribution is specified by [0.01, 100] and step=0.05, but the range is not divisible by `step`. It will be replaced by [0.01, 99.96].\n",
      "  warnings.warn(\n"
     ]
    },
    {
     "name": "stdout",
     "output_type": "stream",
     "text": [
      "Fold 1 RMSE = 54134.73\n",
      "Fold 2 RMSE = 56167.05\n",
      "Fold 3 RMSE = 52402.46\n",
      "Fold 4 RMSE = 57848.25\n"
     ]
    },
    {
     "name": "stderr",
     "output_type": "stream",
     "text": [
      "Best trial: 10. Best value: -55037.3:  29%|██▉       | 29/100 [13:52<36:11, 30.59s/it]"
     ]
    },
    {
     "name": "stdout",
     "output_type": "stream",
     "text": [
      "Fold 5 RMSE = 55970.17\n",
      "[I 2023-07-23 21:57:52,087] Trial 28 finished with value: -55304.534751899875 and parameters: {'loss': 'squared_error', 'learning_rate': 0.1, 'max_iter': 400, 'max_leaf_nodes': 2530, 'max_depth': 4430, 'min_samples_leaf': 145, 'l2_regularization': 41.06}. Best is trial 10 with value: -55037.32722129846.\n"
     ]
    },
    {
     "name": "stderr",
     "output_type": "stream",
     "text": [
      "c:\\Users\\s0954\\anaconda3\\envs\\da\\lib\\site-packages\\optuna\\distributions.py:685: UserWarning: The distribution is specified by [0.1, 1.0] and step=0.2, but the range is not divisible by `step`. It will be replaced by [0.1, 0.9].\n",
      "  warnings.warn(\n",
      "c:\\Users\\s0954\\anaconda3\\envs\\da\\lib\\site-packages\\optuna\\distributions.py:700: UserWarning: The distribution is specified by [30, 10000] and step=100, but the range is not divisible by `step`. It will be replaced by [30, 9930].\n",
      "  warnings.warn(\n",
      "c:\\Users\\s0954\\anaconda3\\envs\\da\\lib\\site-packages\\optuna\\distributions.py:685: UserWarning: The distribution is specified by [0.01, 100] and step=0.05, but the range is not divisible by `step`. It will be replaced by [0.01, 99.96].\n",
      "  warnings.warn(\n"
     ]
    },
    {
     "name": "stdout",
     "output_type": "stream",
     "text": [
      "Fold 1 RMSE = 53866.39\n",
      "Fold 2 RMSE = 55501.63\n",
      "Fold 3 RMSE = 52791.97\n",
      "Fold 4 RMSE = 58448.23\n"
     ]
    },
    {
     "name": "stderr",
     "output_type": "stream",
     "text": [
      "Best trial: 10. Best value: -55037.3:  30%|███       | 30/100 [21:35<3:06:59, 160.28s/it]"
     ]
    },
    {
     "name": "stdout",
     "output_type": "stream",
     "text": [
      "Fold 5 RMSE = 55749.12\n",
      "[I 2023-07-23 22:05:34,961] Trial 29 finished with value: -55271.46800648353 and parameters: {'loss': 'squared_error', 'learning_rate': 0.1, 'max_iter': 700, 'max_leaf_nodes': 1930, 'max_depth': 830, 'min_samples_leaf': 10, 'l2_regularization': 43.46}. Best is trial 10 with value: -55037.32722129846.\n"
     ]
    },
    {
     "name": "stderr",
     "output_type": "stream",
     "text": [
      "c:\\Users\\s0954\\anaconda3\\envs\\da\\lib\\site-packages\\optuna\\distributions.py:685: UserWarning: The distribution is specified by [0.1, 1.0] and step=0.2, but the range is not divisible by `step`. It will be replaced by [0.1, 0.9].\n",
      "  warnings.warn(\n",
      "c:\\Users\\s0954\\anaconda3\\envs\\da\\lib\\site-packages\\optuna\\distributions.py:700: UserWarning: The distribution is specified by [30, 10000] and step=100, but the range is not divisible by `step`. It will be replaced by [30, 9930].\n",
      "  warnings.warn(\n",
      "c:\\Users\\s0954\\anaconda3\\envs\\da\\lib\\site-packages\\optuna\\distributions.py:685: UserWarning: The distribution is specified by [0.01, 100] and step=0.05, but the range is not divisible by `step`. It will be replaced by [0.01, 99.96].\n",
      "  warnings.warn(\n"
     ]
    },
    {
     "name": "stdout",
     "output_type": "stream",
     "text": [
      "Fold 1 RMSE = 55637.66\n",
      "Fold 2 RMSE = 55938.41\n",
      "Fold 3 RMSE = 53231.37\n",
      "Fold 4 RMSE = 58974.01\n"
     ]
    },
    {
     "name": "stderr",
     "output_type": "stream",
     "text": [
      "Best trial: 10. Best value: -55037.3:  31%|███       | 31/100 [25:02<3:20:20, 174.20s/it]"
     ]
    },
    {
     "name": "stdout",
     "output_type": "stream",
     "text": [
      "Fold 5 RMSE = 56407.47\n",
      "[I 2023-07-23 22:09:01,665] Trial 30 finished with value: -56037.78551295252 and parameters: {'loss': 'squared_error', 'learning_rate': 0.30000000000000004, 'max_iter': 700, 'max_leaf_nodes': 30, 'max_depth': 830, 'min_samples_leaf': 10, 'l2_regularization': 62.26}. Best is trial 10 with value: -55037.32722129846.\n"
     ]
    },
    {
     "name": "stderr",
     "output_type": "stream",
     "text": [
      "c:\\Users\\s0954\\anaconda3\\envs\\da\\lib\\site-packages\\optuna\\distributions.py:685: UserWarning: The distribution is specified by [0.1, 1.0] and step=0.2, but the range is not divisible by `step`. It will be replaced by [0.1, 0.9].\n",
      "  warnings.warn(\n",
      "c:\\Users\\s0954\\anaconda3\\envs\\da\\lib\\site-packages\\optuna\\distributions.py:700: UserWarning: The distribution is specified by [30, 10000] and step=100, but the range is not divisible by `step`. It will be replaced by [30, 9930].\n",
      "  warnings.warn(\n",
      "c:\\Users\\s0954\\anaconda3\\envs\\da\\lib\\site-packages\\optuna\\distributions.py:685: UserWarning: The distribution is specified by [0.01, 100] and step=0.05, but the range is not divisible by `step`. It will be replaced by [0.01, 99.96].\n",
      "  warnings.warn(\n"
     ]
    },
    {
     "name": "stdout",
     "output_type": "stream",
     "text": [
      "Fold 1 RMSE = 54281.34\n",
      "Fold 2 RMSE = 56257.55\n",
      "Fold 3 RMSE = 52477.32\n",
      "Fold 4 RMSE = 57912.21\n"
     ]
    },
    {
     "name": "stderr",
     "output_type": "stream",
     "text": [
      "Best trial: 10. Best value: -55037.3:  32%|███▏      | 32/100 [25:55<2:36:14, 137.86s/it]"
     ]
    },
    {
     "name": "stdout",
     "output_type": "stream",
     "text": [
      "Fold 5 RMSE = 55995.91\n",
      "[I 2023-07-23 22:09:54,719] Trial 31 finished with value: -55384.862726072475 and parameters: {'loss': 'squared_error', 'learning_rate': 0.1, 'max_iter': 700, 'max_leaf_nodes': 2530, 'max_depth': 3230, 'min_samples_leaf': 145, 'l2_regularization': 45.96}. Best is trial 10 with value: -55037.32722129846.\n"
     ]
    },
    {
     "name": "stderr",
     "output_type": "stream",
     "text": [
      "c:\\Users\\s0954\\anaconda3\\envs\\da\\lib\\site-packages\\optuna\\distributions.py:685: UserWarning: The distribution is specified by [0.1, 1.0] and step=0.2, but the range is not divisible by `step`. It will be replaced by [0.1, 0.9].\n",
      "  warnings.warn(\n",
      "c:\\Users\\s0954\\anaconda3\\envs\\da\\lib\\site-packages\\optuna\\distributions.py:700: UserWarning: The distribution is specified by [30, 10000] and step=100, but the range is not divisible by `step`. It will be replaced by [30, 9930].\n",
      "  warnings.warn(\n",
      "c:\\Users\\s0954\\anaconda3\\envs\\da\\lib\\site-packages\\optuna\\distributions.py:685: UserWarning: The distribution is specified by [0.01, 100] and step=0.05, but the range is not divisible by `step`. It will be replaced by [0.01, 99.96].\n",
      "  warnings.warn(\n"
     ]
    },
    {
     "name": "stdout",
     "output_type": "stream",
     "text": [
      "Fold 1 RMSE = 53702.50\n",
      "Fold 2 RMSE = 55965.80\n",
      "Fold 3 RMSE = 52564.41\n",
      "Fold 4 RMSE = 58538.40\n"
     ]
    },
    {
     "name": "stderr",
     "output_type": "stream",
     "text": [
      "Best trial: 10. Best value: -55037.3:  33%|███▎      | 33/100 [26:52<2:06:57, 113.69s/it]"
     ]
    },
    {
     "name": "stdout",
     "output_type": "stream",
     "text": [
      "Fold 5 RMSE = 55798.76\n",
      "[I 2023-07-23 22:10:52,019] Trial 32 finished with value: -55313.97536506419 and parameters: {'loss': 'squared_error', 'learning_rate': 0.1, 'max_iter': 450, 'max_leaf_nodes': 1930, 'max_depth': 130, 'min_samples_leaf': 85, 'l2_regularization': 39.21}. Best is trial 10 with value: -55037.32722129846.\n"
     ]
    },
    {
     "name": "stderr",
     "output_type": "stream",
     "text": [
      "c:\\Users\\s0954\\anaconda3\\envs\\da\\lib\\site-packages\\optuna\\distributions.py:685: UserWarning: The distribution is specified by [0.1, 1.0] and step=0.2, but the range is not divisible by `step`. It will be replaced by [0.1, 0.9].\n",
      "  warnings.warn(\n",
      "c:\\Users\\s0954\\anaconda3\\envs\\da\\lib\\site-packages\\optuna\\distributions.py:700: UserWarning: The distribution is specified by [30, 10000] and step=100, but the range is not divisible by `step`. It will be replaced by [30, 9930].\n",
      "  warnings.warn(\n",
      "c:\\Users\\s0954\\anaconda3\\envs\\da\\lib\\site-packages\\optuna\\distributions.py:685: UserWarning: The distribution is specified by [0.01, 100] and step=0.05, but the range is not divisible by `step`. It will be replaced by [0.01, 99.96].\n",
      "  warnings.warn(\n"
     ]
    },
    {
     "name": "stdout",
     "output_type": "stream",
     "text": [
      "Fold 1 RMSE = 68439.15\n",
      "Fold 2 RMSE = 70056.55\n",
      "Fold 3 RMSE = 66495.28\n",
      "Fold 4 RMSE = 70455.54\n"
     ]
    },
    {
     "name": "stderr",
     "output_type": "stream",
     "text": [
      "Best trial: 10. Best value: -55037.3:  34%|███▍      | 34/100 [27:00<1:30:03, 81.87s/it] "
     ]
    },
    {
     "name": "stdout",
     "output_type": "stream",
     "text": [
      "Fold 5 RMSE = 67937.53\n",
      "[I 2023-07-23 22:10:59,634] Trial 33 finished with value: -68676.80960870215 and parameters: {'loss': 'squared_error', 'learning_rate': 0.1, 'max_iter': 850, 'max_leaf_nodes': 3330, 'max_depth': 1130, 'min_samples_leaf': 985, 'l2_regularization': 29.210000000000004}. Best is trial 10 with value: -55037.32722129846.\n"
     ]
    },
    {
     "name": "stderr",
     "output_type": "stream",
     "text": [
      "c:\\Users\\s0954\\anaconda3\\envs\\da\\lib\\site-packages\\optuna\\distributions.py:685: UserWarning: The distribution is specified by [0.1, 1.0] and step=0.2, but the range is not divisible by `step`. It will be replaced by [0.1, 0.9].\n",
      "  warnings.warn(\n",
      "c:\\Users\\s0954\\anaconda3\\envs\\da\\lib\\site-packages\\optuna\\distributions.py:700: UserWarning: The distribution is specified by [30, 10000] and step=100, but the range is not divisible by `step`. It will be replaced by [30, 9930].\n",
      "  warnings.warn(\n",
      "c:\\Users\\s0954\\anaconda3\\envs\\da\\lib\\site-packages\\optuna\\distributions.py:685: UserWarning: The distribution is specified by [0.01, 100] and step=0.05, but the range is not divisible by `step`. It will be replaced by [0.01, 99.96].\n",
      "  warnings.warn(\n"
     ]
    },
    {
     "name": "stdout",
     "output_type": "stream",
     "text": [
      "Fold 1 RMSE = 55145.55\n",
      "Fold 2 RMSE = 57119.95\n",
      "Fold 3 RMSE = 52643.76\n",
      "Fold 4 RMSE = 58430.70\n"
     ]
    },
    {
     "name": "stderr",
     "output_type": "stream",
     "text": [
      "Best trial: 10. Best value: -55037.3:  35%|███▌      | 35/100 [27:19<1:08:26, 63.17s/it]"
     ]
    },
    {
     "name": "stdout",
     "output_type": "stream",
     "text": [
      "Fold 5 RMSE = 56720.58\n",
      "[I 2023-07-23 22:11:19,176] Trial 34 finished with value: -56012.10701457531 and parameters: {'loss': 'squared_error', 'learning_rate': 0.1, 'max_iter': 400, 'max_leaf_nodes': 4130, 'max_depth': 4630, 'min_samples_leaf': 235, 'l2_regularization': 41.01}. Best is trial 10 with value: -55037.32722129846.\n"
     ]
    },
    {
     "name": "stderr",
     "output_type": "stream",
     "text": [
      "c:\\Users\\s0954\\anaconda3\\envs\\da\\lib\\site-packages\\optuna\\distributions.py:685: UserWarning: The distribution is specified by [0.1, 1.0] and step=0.2, but the range is not divisible by `step`. It will be replaced by [0.1, 0.9].\n",
      "  warnings.warn(\n",
      "c:\\Users\\s0954\\anaconda3\\envs\\da\\lib\\site-packages\\optuna\\distributions.py:700: UserWarning: The distribution is specified by [30, 10000] and step=100, but the range is not divisible by `step`. It will be replaced by [30, 9930].\n",
      "  warnings.warn(\n",
      "c:\\Users\\s0954\\anaconda3\\envs\\da\\lib\\site-packages\\optuna\\distributions.py:685: UserWarning: The distribution is specified by [0.01, 100] and step=0.05, but the range is not divisible by `step`. It will be replaced by [0.01, 99.96].\n",
      "  warnings.warn(\n"
     ]
    },
    {
     "name": "stdout",
     "output_type": "stream",
     "text": [
      "Fold 1 RMSE = 54893.07\n",
      "Fold 2 RMSE = 56136.38\n",
      "Fold 3 RMSE = 52536.73\n",
      "Fold 4 RMSE = 58857.60\n"
     ]
    },
    {
     "name": "stderr",
     "output_type": "stream",
     "text": [
      "Best trial: 10. Best value: -55037.3:  36%|███▌      | 36/100 [28:55<1:17:57, 73.09s/it]"
     ]
    },
    {
     "name": "stdout",
     "output_type": "stream",
     "text": [
      "Fold 5 RMSE = 56022.73\n",
      "[I 2023-07-23 22:12:55,414] Trial 35 finished with value: -55689.30353017194 and parameters: {'loss': 'squared_error', 'learning_rate': 0.30000000000000004, 'max_iter': 650, 'max_leaf_nodes': 5430, 'max_depth': 6630, 'min_samples_leaf': 70, 'l2_regularization': 56.71}. Best is trial 10 with value: -55037.32722129846.\n"
     ]
    },
    {
     "name": "stderr",
     "output_type": "stream",
     "text": [
      "c:\\Users\\s0954\\anaconda3\\envs\\da\\lib\\site-packages\\optuna\\distributions.py:685: UserWarning: The distribution is specified by [0.1, 1.0] and step=0.2, but the range is not divisible by `step`. It will be replaced by [0.1, 0.9].\n",
      "  warnings.warn(\n",
      "c:\\Users\\s0954\\anaconda3\\envs\\da\\lib\\site-packages\\optuna\\distributions.py:700: UserWarning: The distribution is specified by [30, 10000] and step=100, but the range is not divisible by `step`. It will be replaced by [30, 9930].\n",
      "  warnings.warn(\n",
      "c:\\Users\\s0954\\anaconda3\\envs\\da\\lib\\site-packages\\optuna\\distributions.py:685: UserWarning: The distribution is specified by [0.01, 100] and step=0.05, but the range is not divisible by `step`. It will be replaced by [0.01, 99.96].\n",
      "  warnings.warn(\n"
     ]
    },
    {
     "name": "stdout",
     "output_type": "stream",
     "text": [
      "Fold 1 RMSE = 55263.20\n",
      "Fold 2 RMSE = 56475.78\n",
      "Fold 3 RMSE = 52882.59\n",
      "Fold 4 RMSE = 58776.16\n"
     ]
    },
    {
     "name": "stderr",
     "output_type": "stream",
     "text": [
      "Best trial: 10. Best value: -55037.3:  37%|███▋      | 37/100 [29:31<1:04:52, 61.78s/it]"
     ]
    },
    {
     "name": "stdout",
     "output_type": "stream",
     "text": [
      "Fold 5 RMSE = 56029.55\n",
      "[I 2023-07-23 22:13:30,801] Trial 36 finished with value: -55885.45519091276 and parameters: {'loss': 'absolute_error', 'learning_rate': 0.1, 'max_iter': 450, 'max_leaf_nodes': 1830, 'max_depth': 1730, 'min_samples_leaf': 145, 'l2_regularization': 79.86000000000001}. Best is trial 10 with value: -55037.32722129846.\n"
     ]
    },
    {
     "name": "stderr",
     "output_type": "stream",
     "text": [
      "c:\\Users\\s0954\\anaconda3\\envs\\da\\lib\\site-packages\\optuna\\distributions.py:685: UserWarning: The distribution is specified by [0.1, 1.0] and step=0.2, but the range is not divisible by `step`. It will be replaced by [0.1, 0.9].\n",
      "  warnings.warn(\n",
      "c:\\Users\\s0954\\anaconda3\\envs\\da\\lib\\site-packages\\optuna\\distributions.py:700: UserWarning: The distribution is specified by [30, 10000] and step=100, but the range is not divisible by `step`. It will be replaced by [30, 9930].\n",
      "  warnings.warn(\n",
      "c:\\Users\\s0954\\anaconda3\\envs\\da\\lib\\site-packages\\optuna\\distributions.py:685: UserWarning: The distribution is specified by [0.01, 100] and step=0.05, but the range is not divisible by `step`. It will be replaced by [0.01, 99.96].\n",
      "  warnings.warn(\n"
     ]
    },
    {
     "name": "stdout",
     "output_type": "stream",
     "text": [
      "Fold 1 RMSE = 68439.15\n",
      "Fold 2 RMSE = 70056.55\n",
      "Fold 3 RMSE = 66495.28\n",
      "Fold 4 RMSE = 70455.54\n"
     ]
    },
    {
     "name": "stderr",
     "output_type": "stream",
     "text": [
      "Best trial: 10. Best value: -55037.3:  38%|███▊      | 38/100 [29:38<46:47, 45.28s/it]  "
     ]
    },
    {
     "name": "stdout",
     "output_type": "stream",
     "text": [
      "Fold 5 RMSE = 67937.53\n",
      "[I 2023-07-23 22:13:37,590] Trial 37 finished with value: -68676.80960870215 and parameters: {'loss': 'squared_error', 'learning_rate': 0.1, 'max_iter': 750, 'max_leaf_nodes': 130, 'max_depth': 3830, 'min_samples_leaf': 895, 'l2_regularization': 26.360000000000003}. Best is trial 10 with value: -55037.32722129846.\n"
     ]
    },
    {
     "name": "stderr",
     "output_type": "stream",
     "text": [
      "c:\\Users\\s0954\\anaconda3\\envs\\da\\lib\\site-packages\\optuna\\distributions.py:685: UserWarning: The distribution is specified by [0.1, 1.0] and step=0.2, but the range is not divisible by `step`. It will be replaced by [0.1, 0.9].\n",
      "  warnings.warn(\n",
      "c:\\Users\\s0954\\anaconda3\\envs\\da\\lib\\site-packages\\optuna\\distributions.py:700: UserWarning: The distribution is specified by [30, 10000] and step=100, but the range is not divisible by `step`. It will be replaced by [30, 9930].\n",
      "  warnings.warn(\n",
      "c:\\Users\\s0954\\anaconda3\\envs\\da\\lib\\site-packages\\optuna\\distributions.py:685: UserWarning: The distribution is specified by [0.01, 100] and step=0.05, but the range is not divisible by `step`. It will be replaced by [0.01, 99.96].\n",
      "  warnings.warn(\n"
     ]
    },
    {
     "name": "stdout",
     "output_type": "stream",
     "text": [
      "Fold 1 RMSE = 56994.61\n",
      "Fold 2 RMSE = 58365.06\n",
      "Fold 3 RMSE = 54875.95\n",
      "Fold 4 RMSE = 60762.20\n"
     ]
    },
    {
     "name": "stderr",
     "output_type": "stream",
     "text": [
      "Best trial: 10. Best value: -55037.3:  39%|███▉      | 39/100 [30:12<42:39, 41.96s/it]"
     ]
    },
    {
     "name": "stdout",
     "output_type": "stream",
     "text": [
      "Fold 5 RMSE = 57882.42\n",
      "[I 2023-07-23 22:14:11,803] Trial 38 finished with value: -57776.04754225291 and parameters: {'loss': 'squared_error', 'learning_rate': 0.30000000000000004, 'max_iter': 1000, 'max_leaf_nodes': 1630, 'max_depth': 2830, 'min_samples_leaf': 325, 'l2_regularization': 48.86}. Best is trial 10 with value: -55037.32722129846.\n"
     ]
    },
    {
     "name": "stderr",
     "output_type": "stream",
     "text": [
      "c:\\Users\\s0954\\anaconda3\\envs\\da\\lib\\site-packages\\optuna\\distributions.py:685: UserWarning: The distribution is specified by [0.1, 1.0] and step=0.2, but the range is not divisible by `step`. It will be replaced by [0.1, 0.9].\n",
      "  warnings.warn(\n",
      "c:\\Users\\s0954\\anaconda3\\envs\\da\\lib\\site-packages\\optuna\\distributions.py:700: UserWarning: The distribution is specified by [30, 10000] and step=100, but the range is not divisible by `step`. It will be replaced by [30, 9930].\n",
      "  warnings.warn(\n",
      "c:\\Users\\s0954\\anaconda3\\envs\\da\\lib\\site-packages\\optuna\\distributions.py:685: UserWarning: The distribution is specified by [0.01, 100] and step=0.05, but the range is not divisible by `step`. It will be replaced by [0.01, 99.96].\n",
      "  warnings.warn(\n"
     ]
    },
    {
     "name": "stdout",
     "output_type": "stream",
     "text": [
      "Fold 1 RMSE = 58046.19\n",
      "Fold 2 RMSE = 58985.62\n",
      "Fold 3 RMSE = 56259.91\n",
      "Fold 4 RMSE = 62382.07\n"
     ]
    },
    {
     "name": "stderr",
     "output_type": "stream",
     "text": [
      "Best trial: 10. Best value: -55037.3:  40%|████      | 40/100 [30:35<36:16, 36.27s/it]"
     ]
    },
    {
     "name": "stdout",
     "output_type": "stream",
     "text": [
      "Fold 5 RMSE = 58580.86\n",
      "[I 2023-07-23 22:14:34,805] Trial 39 finished with value: -58850.93068755026 and parameters: {'loss': 'absolute_error', 'learning_rate': 0.9, 'max_iter': 900, 'max_leaf_nodes': 2430, 'max_depth': 6030, 'min_samples_leaf': 475, 'l2_regularization': 72.76}. Best is trial 10 with value: -55037.32722129846.\n"
     ]
    },
    {
     "name": "stderr",
     "output_type": "stream",
     "text": [
      "c:\\Users\\s0954\\anaconda3\\envs\\da\\lib\\site-packages\\optuna\\distributions.py:685: UserWarning: The distribution is specified by [0.1, 1.0] and step=0.2, but the range is not divisible by `step`. It will be replaced by [0.1, 0.9].\n",
      "  warnings.warn(\n",
      "c:\\Users\\s0954\\anaconda3\\envs\\da\\lib\\site-packages\\optuna\\distributions.py:700: UserWarning: The distribution is specified by [30, 10000] and step=100, but the range is not divisible by `step`. It will be replaced by [30, 9930].\n",
      "  warnings.warn(\n",
      "c:\\Users\\s0954\\anaconda3\\envs\\da\\lib\\site-packages\\optuna\\distributions.py:685: UserWarning: The distribution is specified by [0.01, 100] and step=0.05, but the range is not divisible by `step`. It will be replaced by [0.01, 99.96].\n",
      "  warnings.warn(\n"
     ]
    },
    {
     "name": "stdout",
     "output_type": "stream",
     "text": [
      "Fold 1 RMSE = 55129.84\n",
      "Fold 2 RMSE = 57117.31\n",
      "Fold 3 RMSE = 52605.42\n",
      "Fold 4 RMSE = 58437.44\n"
     ]
    },
    {
     "name": "stderr",
     "output_type": "stream",
     "text": [
      "Best trial: 10. Best value: -55037.3:  41%|████      | 41/100 [30:59<32:01, 32.56s/it]"
     ]
    },
    {
     "name": "stdout",
     "output_type": "stream",
     "text": [
      "Fold 5 RMSE = 56646.63\n",
      "[I 2023-07-23 22:14:58,707] Trial 40 finished with value: -55987.328073893405 and parameters: {'loss': 'squared_error', 'learning_rate': 0.1, 'max_iter': 500, 'max_leaf_nodes': 3130, 'max_depth': 5030, 'min_samples_leaf': 250, 'l2_regularization': 21.360000000000003}. Best is trial 10 with value: -55037.32722129846.\n"
     ]
    },
    {
     "name": "stderr",
     "output_type": "stream",
     "text": [
      "c:\\Users\\s0954\\anaconda3\\envs\\da\\lib\\site-packages\\optuna\\distributions.py:685: UserWarning: The distribution is specified by [0.1, 1.0] and step=0.2, but the range is not divisible by `step`. It will be replaced by [0.1, 0.9].\n",
      "  warnings.warn(\n",
      "c:\\Users\\s0954\\anaconda3\\envs\\da\\lib\\site-packages\\optuna\\distributions.py:700: UserWarning: The distribution is specified by [30, 10000] and step=100, but the range is not divisible by `step`. It will be replaced by [30, 9930].\n",
      "  warnings.warn(\n",
      "c:\\Users\\s0954\\anaconda3\\envs\\da\\lib\\site-packages\\optuna\\distributions.py:685: UserWarning: The distribution is specified by [0.01, 100] and step=0.05, but the range is not divisible by `step`. It will be replaced by [0.01, 99.96].\n",
      "  warnings.warn(\n"
     ]
    },
    {
     "name": "stdout",
     "output_type": "stream",
     "text": [
      "Fold 1 RMSE = 54264.65\n",
      "Fold 2 RMSE = 55854.62\n",
      "Fold 3 RMSE = 52525.05\n",
      "Fold 4 RMSE = 58445.21\n"
     ]
    },
    {
     "name": "stderr",
     "output_type": "stream",
     "text": [
      "Best trial: 10. Best value: -55037.3:  42%|████▏     | 42/100 [32:06<41:27, 42.89s/it]"
     ]
    },
    {
     "name": "stdout",
     "output_type": "stream",
     "text": [
      "Fold 5 RMSE = 55510.41\n",
      "[I 2023-07-23 22:16:05,709] Trial 41 finished with value: -55319.98489290563 and parameters: {'loss': 'squared_error', 'learning_rate': 0.1, 'max_iter': 450, 'max_leaf_nodes': 1930, 'max_depth': 30, 'min_samples_leaf': 70, 'l2_regularization': 40.61}. Best is trial 10 with value: -55037.32722129846.\n"
     ]
    },
    {
     "name": "stderr",
     "output_type": "stream",
     "text": [
      "c:\\Users\\s0954\\anaconda3\\envs\\da\\lib\\site-packages\\optuna\\distributions.py:685: UserWarning: The distribution is specified by [0.1, 1.0] and step=0.2, but the range is not divisible by `step`. It will be replaced by [0.1, 0.9].\n",
      "  warnings.warn(\n",
      "c:\\Users\\s0954\\anaconda3\\envs\\da\\lib\\site-packages\\optuna\\distributions.py:700: UserWarning: The distribution is specified by [30, 10000] and step=100, but the range is not divisible by `step`. It will be replaced by [30, 9930].\n",
      "  warnings.warn(\n",
      "c:\\Users\\s0954\\anaconda3\\envs\\da\\lib\\site-packages\\optuna\\distributions.py:685: UserWarning: The distribution is specified by [0.01, 100] and step=0.05, but the range is not divisible by `step`. It will be replaced by [0.01, 99.96].\n",
      "  warnings.warn(\n"
     ]
    },
    {
     "name": "stdout",
     "output_type": "stream",
     "text": [
      "Fold 1 RMSE = 54344.98\n",
      "Fold 2 RMSE = 56282.43\n",
      "Fold 3 RMSE = 52811.36\n",
      "Fold 4 RMSE = 57844.09\n"
     ]
    },
    {
     "name": "stderr",
     "output_type": "stream",
     "text": [
      "Best trial: 10. Best value: -55037.3:  43%|████▎     | 43/100 [32:42<38:54, 40.96s/it]"
     ]
    },
    {
     "name": "stdout",
     "output_type": "stream",
     "text": [
      "Fold 5 RMSE = 56193.27\n",
      "[I 2023-07-23 22:16:42,148] Trial 42 finished with value: -55495.22441578987 and parameters: {'loss': 'squared_error', 'learning_rate': 0.1, 'max_iter': 350, 'max_leaf_nodes': 830, 'max_depth': 630, 'min_samples_leaf': 100, 'l2_regularization': 53.11}. Best is trial 10 with value: -55037.32722129846.\n"
     ]
    },
    {
     "name": "stderr",
     "output_type": "stream",
     "text": [
      "c:\\Users\\s0954\\anaconda3\\envs\\da\\lib\\site-packages\\optuna\\distributions.py:685: UserWarning: The distribution is specified by [0.1, 1.0] and step=0.2, but the range is not divisible by `step`. It will be replaced by [0.1, 0.9].\n",
      "  warnings.warn(\n",
      "c:\\Users\\s0954\\anaconda3\\envs\\da\\lib\\site-packages\\optuna\\distributions.py:700: UserWarning: The distribution is specified by [30, 10000] and step=100, but the range is not divisible by `step`. It will be replaced by [30, 9930].\n",
      "  warnings.warn(\n",
      "c:\\Users\\s0954\\anaconda3\\envs\\da\\lib\\site-packages\\optuna\\distributions.py:685: UserWarning: The distribution is specified by [0.01, 100] and step=0.05, but the range is not divisible by `step`. It will be replaced by [0.01, 99.96].\n",
      "  warnings.warn(\n"
     ]
    },
    {
     "name": "stdout",
     "output_type": "stream",
     "text": [
      "Fold 1 RMSE = 54562.16\n",
      "Fold 2 RMSE = 56582.75\n",
      "Fold 3 RMSE = 52498.81\n",
      "Fold 4 RMSE = 58045.67\n"
     ]
    },
    {
     "name": "stderr",
     "output_type": "stream",
     "text": [
      "Best trial: 10. Best value: -55037.3:  44%|████▍     | 44/100 [33:13<35:32, 38.08s/it]"
     ]
    },
    {
     "name": "stdout",
     "output_type": "stream",
     "text": [
      "Fold 5 RMSE = 56453.49\n",
      "[I 2023-07-23 22:17:13,515] Trial 43 finished with value: -55628.57620145534 and parameters: {'loss': 'squared_error', 'learning_rate': 0.1, 'max_iter': 500, 'max_leaf_nodes': 4030, 'max_depth': 1030, 'min_samples_leaf': 175, 'l2_regularization': 44.910000000000004}. Best is trial 10 with value: -55037.32722129846.\n"
     ]
    },
    {
     "name": "stderr",
     "output_type": "stream",
     "text": [
      "c:\\Users\\s0954\\anaconda3\\envs\\da\\lib\\site-packages\\optuna\\distributions.py:685: UserWarning: The distribution is specified by [0.1, 1.0] and step=0.2, but the range is not divisible by `step`. It will be replaced by [0.1, 0.9].\n",
      "  warnings.warn(\n",
      "c:\\Users\\s0954\\anaconda3\\envs\\da\\lib\\site-packages\\optuna\\distributions.py:700: UserWarning: The distribution is specified by [30, 10000] and step=100, but the range is not divisible by `step`. It will be replaced by [30, 9930].\n",
      "  warnings.warn(\n",
      "c:\\Users\\s0954\\anaconda3\\envs\\da\\lib\\site-packages\\optuna\\distributions.py:685: UserWarning: The distribution is specified by [0.01, 100] and step=0.05, but the range is not divisible by `step`. It will be replaced by [0.01, 99.96].\n",
      "  warnings.warn(\n"
     ]
    },
    {
     "name": "stdout",
     "output_type": "stream",
     "text": [
      "Fold 1 RMSE = 54085.60\n",
      "Fold 2 RMSE = 55680.37\n",
      "Fold 3 RMSE = 52906.40\n",
      "Fold 4 RMSE = 58406.76\n"
     ]
    },
    {
     "name": "stderr",
     "output_type": "stream",
     "text": [
      "Best trial: 10. Best value: -55037.3:  45%|████▌     | 45/100 [35:26<1:01:00, 66.56s/it]"
     ]
    },
    {
     "name": "stdout",
     "output_type": "stream",
     "text": [
      "Fold 5 RMSE = 55737.24\n",
      "[I 2023-07-23 22:19:26,513] Trial 44 finished with value: -55363.275871721 and parameters: {'loss': 'squared_error', 'learning_rate': 0.30000000000000004, 'max_iter': 200, 'max_leaf_nodes': 1430, 'max_depth': 30, 'min_samples_leaf': 10, 'l2_regularization': 33.76}. Best is trial 10 with value: -55037.32722129846.\n"
     ]
    },
    {
     "name": "stderr",
     "output_type": "stream",
     "text": [
      "c:\\Users\\s0954\\anaconda3\\envs\\da\\lib\\site-packages\\optuna\\distributions.py:685: UserWarning: The distribution is specified by [0.1, 1.0] and step=0.2, but the range is not divisible by `step`. It will be replaced by [0.1, 0.9].\n",
      "  warnings.warn(\n",
      "c:\\Users\\s0954\\anaconda3\\envs\\da\\lib\\site-packages\\optuna\\distributions.py:700: UserWarning: The distribution is specified by [30, 10000] and step=100, but the range is not divisible by `step`. It will be replaced by [30, 9930].\n",
      "  warnings.warn(\n",
      "c:\\Users\\s0954\\anaconda3\\envs\\da\\lib\\site-packages\\optuna\\distributions.py:685: UserWarning: The distribution is specified by [0.01, 100] and step=0.05, but the range is not divisible by `step`. It will be replaced by [0.01, 99.96].\n",
      "  warnings.warn(\n"
     ]
    },
    {
     "name": "stdout",
     "output_type": "stream",
     "text": [
      "Fold 1 RMSE = 54120.61\n",
      "Fold 2 RMSE = 55908.16\n",
      "Fold 3 RMSE = 52379.18\n",
      "Fold 4 RMSE = 58371.94\n"
     ]
    },
    {
     "name": "stderr",
     "output_type": "stream",
     "text": [
      "Best trial: 10. Best value: -55037.3:  46%|████▌     | 46/100 [36:17<55:41, 61.88s/it]  "
     ]
    },
    {
     "name": "stdout",
     "output_type": "stream",
     "text": [
      "Fold 5 RMSE = 55408.60\n",
      "[I 2023-07-23 22:20:17,489] Trial 45 finished with value: -55237.69560083138 and parameters: {'loss': 'squared_error', 'learning_rate': 0.1, 'max_iter': 350, 'max_leaf_nodes': 3530, 'max_depth': 530, 'min_samples_leaf': 70, 'l2_regularization': 52.06}. Best is trial 10 with value: -55037.32722129846.\n"
     ]
    },
    {
     "name": "stderr",
     "output_type": "stream",
     "text": [
      "c:\\Users\\s0954\\anaconda3\\envs\\da\\lib\\site-packages\\optuna\\distributions.py:685: UserWarning: The distribution is specified by [0.1, 1.0] and step=0.2, but the range is not divisible by `step`. It will be replaced by [0.1, 0.9].\n",
      "  warnings.warn(\n",
      "c:\\Users\\s0954\\anaconda3\\envs\\da\\lib\\site-packages\\optuna\\distributions.py:700: UserWarning: The distribution is specified by [30, 10000] and step=100, but the range is not divisible by `step`. It will be replaced by [30, 9930].\n",
      "  warnings.warn(\n",
      "c:\\Users\\s0954\\anaconda3\\envs\\da\\lib\\site-packages\\optuna\\distributions.py:685: UserWarning: The distribution is specified by [0.01, 100] and step=0.05, but the range is not divisible by `step`. It will be replaced by [0.01, 99.96].\n",
      "  warnings.warn(\n"
     ]
    },
    {
     "name": "stdout",
     "output_type": "stream",
     "text": [
      "Fold 1 RMSE = 54866.88\n",
      "Fold 2 RMSE = 55614.61\n",
      "Fold 3 RMSE = 52987.56\n",
      "Fold 4 RMSE = 59196.64\n"
     ]
    },
    {
     "name": "stderr",
     "output_type": "stream",
     "text": [
      "Best trial: 10. Best value: -55037.3:  47%|████▋     | 47/100 [37:01<49:53, 56.49s/it]"
     ]
    },
    {
     "name": "stdout",
     "output_type": "stream",
     "text": [
      "Fold 5 RMSE = 55810.37\n",
      "[I 2023-07-23 22:21:01,387] Trial 46 finished with value: -55695.21352263047 and parameters: {'loss': 'absolute_error', 'learning_rate': 0.30000000000000004, 'max_iter': 250, 'max_leaf_nodes': 3630, 'max_depth': 2030, 'min_samples_leaf': 55, 'l2_regularization': 61.56}. Best is trial 10 with value: -55037.32722129846.\n"
     ]
    },
    {
     "name": "stderr",
     "output_type": "stream",
     "text": [
      "c:\\Users\\s0954\\anaconda3\\envs\\da\\lib\\site-packages\\optuna\\distributions.py:685: UserWarning: The distribution is specified by [0.1, 1.0] and step=0.2, but the range is not divisible by `step`. It will be replaced by [0.1, 0.9].\n",
      "  warnings.warn(\n",
      "c:\\Users\\s0954\\anaconda3\\envs\\da\\lib\\site-packages\\optuna\\distributions.py:700: UserWarning: The distribution is specified by [30, 10000] and step=100, but the range is not divisible by `step`. It will be replaced by [30, 9930].\n",
      "  warnings.warn(\n",
      "c:\\Users\\s0954\\anaconda3\\envs\\da\\lib\\site-packages\\optuna\\distributions.py:685: UserWarning: The distribution is specified by [0.01, 100] and step=0.05, but the range is not divisible by `step`. It will be replaced by [0.01, 99.96].\n",
      "  warnings.warn(\n"
     ]
    },
    {
     "name": "stdout",
     "output_type": "stream",
     "text": [
      "Fold 1 RMSE = 54507.45\n",
      "Fold 2 RMSE = 56589.24\n",
      "Fold 3 RMSE = 52525.91\n",
      "Fold 4 RMSE = 58069.43\n"
     ]
    },
    {
     "name": "stderr",
     "output_type": "stream",
     "text": [
      "Best trial: 10. Best value: -55037.3:  48%|████▊     | 48/100 [37:23<40:01, 46.18s/it]"
     ]
    },
    {
     "name": "stdout",
     "output_type": "stream",
     "text": [
      "Fold 5 RMSE = 56465.13\n",
      "[I 2023-07-23 22:21:23,526] Trial 47 finished with value: -55631.42988463802 and parameters: {'loss': 'squared_error', 'learning_rate': 0.1, 'max_iter': 350, 'max_leaf_nodes': 4730, 'max_depth': 530, 'min_samples_leaf': 175, 'l2_regularization': 51.21}. Best is trial 10 with value: -55037.32722129846.\n"
     ]
    },
    {
     "name": "stderr",
     "output_type": "stream",
     "text": [
      "c:\\Users\\s0954\\anaconda3\\envs\\da\\lib\\site-packages\\optuna\\distributions.py:685: UserWarning: The distribution is specified by [0.1, 1.0] and step=0.2, but the range is not divisible by `step`. It will be replaced by [0.1, 0.9].\n",
      "  warnings.warn(\n",
      "c:\\Users\\s0954\\anaconda3\\envs\\da\\lib\\site-packages\\optuna\\distributions.py:700: UserWarning: The distribution is specified by [30, 10000] and step=100, but the range is not divisible by `step`. It will be replaced by [30, 9930].\n",
      "  warnings.warn(\n",
      "c:\\Users\\s0954\\anaconda3\\envs\\da\\lib\\site-packages\\optuna\\distributions.py:685: UserWarning: The distribution is specified by [0.01, 100] and step=0.05, but the range is not divisible by `step`. It will be replaced by [0.01, 99.96].\n",
      "  warnings.warn(\n"
     ]
    },
    {
     "name": "stdout",
     "output_type": "stream",
     "text": [
      "Fold 1 RMSE = 54167.35\n",
      "Fold 2 RMSE = 56351.05\n",
      "Fold 3 RMSE = 52540.24\n",
      "Fold 4 RMSE = 57845.03\n"
     ]
    },
    {
     "name": "stderr",
     "output_type": "stream",
     "text": [
      "Best trial: 10. Best value: -55037.3:  49%|████▉     | 49/100 [37:36<30:45, 36.18s/it]"
     ]
    },
    {
     "name": "stdout",
     "output_type": "stream",
     "text": [
      "Fold 5 RMSE = 56143.12\n",
      "[I 2023-07-23 22:21:36,372] Trial 48 finished with value: -55409.35593838997 and parameters: {'loss': 'squared_error', 'learning_rate': 0.5, 'max_iter': 150, 'max_leaf_nodes': 9330, 'max_depth': 2630, 'min_samples_leaf': 130, 'l2_regularization': 71.56}. Best is trial 10 with value: -55037.32722129846.\n"
     ]
    },
    {
     "name": "stderr",
     "output_type": "stream",
     "text": [
      "c:\\Users\\s0954\\anaconda3\\envs\\da\\lib\\site-packages\\optuna\\distributions.py:685: UserWarning: The distribution is specified by [0.1, 1.0] and step=0.2, but the range is not divisible by `step`. It will be replaced by [0.1, 0.9].\n",
      "  warnings.warn(\n",
      "c:\\Users\\s0954\\anaconda3\\envs\\da\\lib\\site-packages\\optuna\\distributions.py:700: UserWarning: The distribution is specified by [30, 10000] and step=100, but the range is not divisible by `step`. It will be replaced by [30, 9930].\n",
      "  warnings.warn(\n",
      "c:\\Users\\s0954\\anaconda3\\envs\\da\\lib\\site-packages\\optuna\\distributions.py:685: UserWarning: The distribution is specified by [0.01, 100] and step=0.05, but the range is not divisible by `step`. It will be replaced by [0.01, 99.96].\n",
      "  warnings.warn(\n"
     ]
    },
    {
     "name": "stdout",
     "output_type": "stream",
     "text": [
      "Fold 1 RMSE = 61452.01\n",
      "Fold 2 RMSE = 62798.90\n",
      "Fold 3 RMSE = 59948.35\n",
      "Fold 4 RMSE = 64663.78\n"
     ]
    },
    {
     "name": "stderr",
     "output_type": "stream",
     "text": [
      "Best trial: 10. Best value: -55037.3:  50%|█████     | 50/100 [37:45<23:09, 27.79s/it]"
     ]
    },
    {
     "name": "stdout",
     "output_type": "stream",
     "text": [
      "Fold 5 RMSE = 61877.57\n",
      "[I 2023-07-23 22:21:44,587] Trial 49 finished with value: -62148.12472071021 and parameters: {'loss': 'squared_error', 'learning_rate': 0.1, 'max_iter': 400, 'max_leaf_nodes': 2430, 'max_depth': 3630, 'min_samples_leaf': 565, 'l2_regularization': 58.56}. Best is trial 10 with value: -55037.32722129846.\n"
     ]
    },
    {
     "name": "stderr",
     "output_type": "stream",
     "text": [
      "c:\\Users\\s0954\\anaconda3\\envs\\da\\lib\\site-packages\\optuna\\distributions.py:685: UserWarning: The distribution is specified by [0.1, 1.0] and step=0.2, but the range is not divisible by `step`. It will be replaced by [0.1, 0.9].\n",
      "  warnings.warn(\n",
      "c:\\Users\\s0954\\anaconda3\\envs\\da\\lib\\site-packages\\optuna\\distributions.py:700: UserWarning: The distribution is specified by [30, 10000] and step=100, but the range is not divisible by `step`. It will be replaced by [30, 9930].\n",
      "  warnings.warn(\n",
      "c:\\Users\\s0954\\anaconda3\\envs\\da\\lib\\site-packages\\optuna\\distributions.py:685: UserWarning: The distribution is specified by [0.01, 100] and step=0.05, but the range is not divisible by `step`. It will be replaced by [0.01, 99.96].\n",
      "  warnings.warn(\n"
     ]
    },
    {
     "name": "stdout",
     "output_type": "stream",
     "text": [
      "Fold 1 RMSE = 55209.83\n",
      "Fold 2 RMSE = 57028.38\n",
      "Fold 3 RMSE = 52554.87\n",
      "Fold 4 RMSE = 58456.95\n"
     ]
    },
    {
     "name": "stderr",
     "output_type": "stream",
     "text": [
      "Best trial: 10. Best value: -55037.3:  51%|█████     | 51/100 [37:53<17:54, 21.92s/it]"
     ]
    },
    {
     "name": "stdout",
     "output_type": "stream",
     "text": [
      "Fold 5 RMSE = 56468.44\n",
      "[I 2023-07-23 22:21:52,815] Trial 50 finished with value: -55943.69408783658 and parameters: {'loss': 'poisson', 'learning_rate': 0.30000000000000004, 'max_iter': 200, 'max_leaf_nodes': 3130, 'max_depth': 2230, 'min_samples_leaf': 280, 'l2_regularization': 94.61000000000001}. Best is trial 10 with value: -55037.32722129846.\n"
     ]
    },
    {
     "name": "stderr",
     "output_type": "stream",
     "text": [
      "c:\\Users\\s0954\\anaconda3\\envs\\da\\lib\\site-packages\\optuna\\distributions.py:685: UserWarning: The distribution is specified by [0.1, 1.0] and step=0.2, but the range is not divisible by `step`. It will be replaced by [0.1, 0.9].\n",
      "  warnings.warn(\n",
      "c:\\Users\\s0954\\anaconda3\\envs\\da\\lib\\site-packages\\optuna\\distributions.py:700: UserWarning: The distribution is specified by [30, 10000] and step=100, but the range is not divisible by `step`. It will be replaced by [30, 9930].\n",
      "  warnings.warn(\n",
      "c:\\Users\\s0954\\anaconda3\\envs\\da\\lib\\site-packages\\optuna\\distributions.py:685: UserWarning: The distribution is specified by [0.01, 100] and step=0.05, but the range is not divisible by `step`. It will be replaced by [0.01, 99.96].\n",
      "  warnings.warn(\n"
     ]
    },
    {
     "name": "stdout",
     "output_type": "stream",
     "text": [
      "Fold 1 RMSE = 54336.28\n",
      "Fold 2 RMSE = 56381.27\n",
      "Fold 3 RMSE = 53057.56\n",
      "Fold 4 RMSE = 58041.78\n"
     ]
    },
    {
     "name": "stderr",
     "output_type": "stream",
     "text": [
      "Best trial: 10. Best value: -55037.3:  52%|█████▏    | 52/100 [38:51<26:20, 32.93s/it]"
     ]
    },
    {
     "name": "stdout",
     "output_type": "stream",
     "text": [
      "Fold 5 RMSE = 56199.94\n",
      "[I 2023-07-23 22:22:51,414] Trial 51 finished with value: -55603.36521629143 and parameters: {'loss': 'squared_error', 'learning_rate': 0.1, 'max_iter': 550, 'max_leaf_nodes': 1130, 'max_depth': 430, 'min_samples_leaf': 100, 'l2_regularization': 36.86}. Best is trial 10 with value: -55037.32722129846.\n"
     ]
    },
    {
     "name": "stderr",
     "output_type": "stream",
     "text": [
      "c:\\Users\\s0954\\anaconda3\\envs\\da\\lib\\site-packages\\optuna\\distributions.py:685: UserWarning: The distribution is specified by [0.1, 1.0] and step=0.2, but the range is not divisible by `step`. It will be replaced by [0.1, 0.9].\n",
      "  warnings.warn(\n",
      "c:\\Users\\s0954\\anaconda3\\envs\\da\\lib\\site-packages\\optuna\\distributions.py:700: UserWarning: The distribution is specified by [30, 10000] and step=100, but the range is not divisible by `step`. It will be replaced by [30, 9930].\n",
      "  warnings.warn(\n",
      "c:\\Users\\s0954\\anaconda3\\envs\\da\\lib\\site-packages\\optuna\\distributions.py:685: UserWarning: The distribution is specified by [0.01, 100] and step=0.05, but the range is not divisible by `step`. It will be replaced by [0.01, 99.96].\n",
      "  warnings.warn(\n"
     ]
    },
    {
     "name": "stdout",
     "output_type": "stream",
     "text": [
      "Fold 1 RMSE = 53717.07\n",
      "Fold 2 RMSE = 55827.38\n",
      "Fold 3 RMSE = 52904.62\n",
      "Fold 4 RMSE = 58341.76\n"
     ]
    },
    {
     "name": "stderr",
     "output_type": "stream",
     "text": [
      "Best trial: 10. Best value: -55037.3:  53%|█████▎    | 53/100 [40:11<36:50, 47.03s/it]"
     ]
    },
    {
     "name": "stdout",
     "output_type": "stream",
     "text": [
      "Fold 5 RMSE = 55496.38\n",
      "[I 2023-07-23 22:24:11,349] Trial 52 finished with value: -55257.4400142675 and parameters: {'loss': 'squared_error', 'learning_rate': 0.1, 'max_iter': 350, 'max_leaf_nodes': 2130, 'max_depth': 1330, 'min_samples_leaf': 40, 'l2_regularization': 42.910000000000004}. Best is trial 10 with value: -55037.32722129846.\n"
     ]
    },
    {
     "name": "stderr",
     "output_type": "stream",
     "text": [
      "c:\\Users\\s0954\\anaconda3\\envs\\da\\lib\\site-packages\\optuna\\distributions.py:685: UserWarning: The distribution is specified by [0.1, 1.0] and step=0.2, but the range is not divisible by `step`. It will be replaced by [0.1, 0.9].\n",
      "  warnings.warn(\n",
      "c:\\Users\\s0954\\anaconda3\\envs\\da\\lib\\site-packages\\optuna\\distributions.py:700: UserWarning: The distribution is specified by [30, 10000] and step=100, but the range is not divisible by `step`. It will be replaced by [30, 9930].\n",
      "  warnings.warn(\n",
      "c:\\Users\\s0954\\anaconda3\\envs\\da\\lib\\site-packages\\optuna\\distributions.py:685: UserWarning: The distribution is specified by [0.01, 100] and step=0.05, but the range is not divisible by `step`. It will be replaced by [0.01, 99.96].\n",
      "  warnings.warn(\n"
     ]
    },
    {
     "name": "stdout",
     "output_type": "stream",
     "text": [
      "Fold 1 RMSE = 53780.58\n",
      "Fold 2 RMSE = 55672.89\n",
      "Fold 3 RMSE = 52803.11\n",
      "Fold 4 RMSE = 58220.34\n"
     ]
    },
    {
     "name": "stderr",
     "output_type": "stream",
     "text": [
      "Best trial: 10. Best value: -55037.3:  54%|█████▍    | 54/100 [41:31<43:28, 56.70s/it]"
     ]
    },
    {
     "name": "stdout",
     "output_type": "stream",
     "text": [
      "Fold 5 RMSE = 55652.61\n",
      "[I 2023-07-23 22:25:30,619] Trial 53 finished with value: -55225.906865283774 and parameters: {'loss': 'squared_error', 'learning_rate': 0.1, 'max_iter': 350, 'max_leaf_nodes': 2230, 'max_depth': 1530, 'min_samples_leaf': 40, 'l2_regularization': 42.31}. Best is trial 10 with value: -55037.32722129846.\n"
     ]
    },
    {
     "name": "stderr",
     "output_type": "stream",
     "text": [
      "c:\\Users\\s0954\\anaconda3\\envs\\da\\lib\\site-packages\\optuna\\distributions.py:685: UserWarning: The distribution is specified by [0.1, 1.0] and step=0.2, but the range is not divisible by `step`. It will be replaced by [0.1, 0.9].\n",
      "  warnings.warn(\n",
      "c:\\Users\\s0954\\anaconda3\\envs\\da\\lib\\site-packages\\optuna\\distributions.py:700: UserWarning: The distribution is specified by [30, 10000] and step=100, but the range is not divisible by `step`. It will be replaced by [30, 9930].\n",
      "  warnings.warn(\n",
      "c:\\Users\\s0954\\anaconda3\\envs\\da\\lib\\site-packages\\optuna\\distributions.py:685: UserWarning: The distribution is specified by [0.01, 100] and step=0.05, but the range is not divisible by `step`. It will be replaced by [0.01, 99.96].\n",
      "  warnings.warn(\n"
     ]
    },
    {
     "name": "stdout",
     "output_type": "stream",
     "text": [
      "Fold 1 RMSE = 53698.66\n",
      "Fold 2 RMSE = 55751.74\n",
      "Fold 3 RMSE = 52709.47\n",
      "Fold 4 RMSE = 58209.64\n"
     ]
    },
    {
     "name": "stderr",
     "output_type": "stream",
     "text": [
      "Best trial: 10. Best value: -55037.3:  55%|█████▌    | 55/100 [42:28<42:46, 57.04s/it]"
     ]
    },
    {
     "name": "stdout",
     "output_type": "stream",
     "text": [
      "Fold 5 RMSE = 55452.67\n",
      "[I 2023-07-23 22:26:28,461] Trial 54 finished with value: -55164.436938303836 and parameters: {'loss': 'squared_error', 'learning_rate': 0.1, 'max_iter': 250, 'max_leaf_nodes': 9930, 'max_depth': 1330, 'min_samples_leaf': 40, 'l2_regularization': 29.76}. Best is trial 10 with value: -55037.32722129846.\n"
     ]
    },
    {
     "name": "stderr",
     "output_type": "stream",
     "text": [
      "c:\\Users\\s0954\\anaconda3\\envs\\da\\lib\\site-packages\\optuna\\distributions.py:685: UserWarning: The distribution is specified by [0.1, 1.0] and step=0.2, but the range is not divisible by `step`. It will be replaced by [0.1, 0.9].\n",
      "  warnings.warn(\n",
      "c:\\Users\\s0954\\anaconda3\\envs\\da\\lib\\site-packages\\optuna\\distributions.py:700: UserWarning: The distribution is specified by [30, 10000] and step=100, but the range is not divisible by `step`. It will be replaced by [30, 9930].\n",
      "  warnings.warn(\n",
      "c:\\Users\\s0954\\anaconda3\\envs\\da\\lib\\site-packages\\optuna\\distributions.py:685: UserWarning: The distribution is specified by [0.01, 100] and step=0.05, but the range is not divisible by `step`. It will be replaced by [0.01, 99.96].\n",
      "  warnings.warn(\n"
     ]
    },
    {
     "name": "stdout",
     "output_type": "stream",
     "text": [
      "Fold 1 RMSE = 54033.43\n",
      "Fold 2 RMSE = 55798.58\n",
      "Fold 3 RMSE = 52626.78\n",
      "Fold 4 RMSE = 58801.51\n"
     ]
    },
    {
     "name": "stderr",
     "output_type": "stream",
     "text": [
      "Best trial: 10. Best value: -55037.3:  56%|█████▌    | 56/100 [43:31<43:06, 58.78s/it]"
     ]
    },
    {
     "name": "stdout",
     "output_type": "stream",
     "text": [
      "Fold 5 RMSE = 55640.18\n",
      "[I 2023-07-23 22:27:31,296] Trial 55 finished with value: -55380.09693552934 and parameters: {'loss': 'poisson', 'learning_rate': 0.1, 'max_iter': 250, 'max_leaf_nodes': 9330, 'max_depth': 1330, 'min_samples_leaf': 40, 'l2_regularization': 13.06}. Best is trial 10 with value: -55037.32722129846.\n"
     ]
    },
    {
     "name": "stderr",
     "output_type": "stream",
     "text": [
      "c:\\Users\\s0954\\anaconda3\\envs\\da\\lib\\site-packages\\optuna\\distributions.py:685: UserWarning: The distribution is specified by [0.1, 1.0] and step=0.2, but the range is not divisible by `step`. It will be replaced by [0.1, 0.9].\n",
      "  warnings.warn(\n",
      "c:\\Users\\s0954\\anaconda3\\envs\\da\\lib\\site-packages\\optuna\\distributions.py:700: UserWarning: The distribution is specified by [30, 10000] and step=100, but the range is not divisible by `step`. It will be replaced by [30, 9930].\n",
      "  warnings.warn(\n",
      "c:\\Users\\s0954\\anaconda3\\envs\\da\\lib\\site-packages\\optuna\\distributions.py:685: UserWarning: The distribution is specified by [0.01, 100] and step=0.05, but the range is not divisible by `step`. It will be replaced by [0.01, 99.96].\n",
      "  warnings.warn(\n"
     ]
    },
    {
     "name": "stdout",
     "output_type": "stream",
     "text": [
      "Fold 1 RMSE = 55129.76\n",
      "Fold 2 RMSE = 56958.09\n",
      "Fold 3 RMSE = 52664.05\n",
      "Fold 4 RMSE = 58262.55\n"
     ]
    },
    {
     "name": "stderr",
     "output_type": "stream",
     "text": [
      "Best trial: 10. Best value: -55037.3:  57%|█████▋    | 57/100 [43:40<31:24, 43.83s/it]"
     ]
    },
    {
     "name": "stdout",
     "output_type": "stream",
     "text": [
      "Fold 5 RMSE = 56560.89\n",
      "[I 2023-07-23 22:27:40,256] Trial 56 finished with value: -55915.067759784506 and parameters: {'loss': 'squared_error', 'learning_rate': 0.30000000000000004, 'max_iter': 150, 'max_leaf_nodes': 9930, 'max_depth': 1630, 'min_samples_leaf': 190, 'l2_regularization': 30.51}. Best is trial 10 with value: -55037.32722129846.\n"
     ]
    },
    {
     "name": "stderr",
     "output_type": "stream",
     "text": [
      "c:\\Users\\s0954\\anaconda3\\envs\\da\\lib\\site-packages\\optuna\\distributions.py:685: UserWarning: The distribution is specified by [0.1, 1.0] and step=0.2, but the range is not divisible by `step`. It will be replaced by [0.1, 0.9].\n",
      "  warnings.warn(\n",
      "c:\\Users\\s0954\\anaconda3\\envs\\da\\lib\\site-packages\\optuna\\distributions.py:700: UserWarning: The distribution is specified by [30, 10000] and step=100, but the range is not divisible by `step`. It will be replaced by [30, 9930].\n",
      "  warnings.warn(\n",
      "c:\\Users\\s0954\\anaconda3\\envs\\da\\lib\\site-packages\\optuna\\distributions.py:685: UserWarning: The distribution is specified by [0.01, 100] and step=0.05, but the range is not divisible by `step`. It will be replaced by [0.01, 99.96].\n",
      "  warnings.warn(\n"
     ]
    },
    {
     "name": "stdout",
     "output_type": "stream",
     "text": [
      "Fold 1 RMSE = 54369.43\n",
      "Fold 2 RMSE = 55974.62\n",
      "Fold 3 RMSE = 53163.34\n",
      "Fold 4 RMSE = 59150.28\n"
     ]
    },
    {
     "name": "stderr",
     "output_type": "stream",
     "text": [
      "Best trial: 10. Best value: -55037.3:  58%|█████▊    | 58/100 [45:03<38:54, 55.58s/it]"
     ]
    },
    {
     "name": "stdout",
     "output_type": "stream",
     "text": [
      "Fold 5 RMSE = 56093.14\n",
      "[I 2023-07-23 22:29:03,230] Trial 57 finished with value: -55750.16397512356 and parameters: {'loss': 'absolute_error', 'learning_rate': 0.7000000000000001, 'max_iter': 350, 'max_leaf_nodes': 7630, 'max_depth': 1830, 'min_samples_leaf': 40, 'l2_regularization': 20.660000000000004}. Best is trial 10 with value: -55037.32722129846.\n"
     ]
    },
    {
     "name": "stderr",
     "output_type": "stream",
     "text": [
      "c:\\Users\\s0954\\anaconda3\\envs\\da\\lib\\site-packages\\optuna\\distributions.py:685: UserWarning: The distribution is specified by [0.1, 1.0] and step=0.2, but the range is not divisible by `step`. It will be replaced by [0.1, 0.9].\n",
      "  warnings.warn(\n",
      "c:\\Users\\s0954\\anaconda3\\envs\\da\\lib\\site-packages\\optuna\\distributions.py:700: UserWarning: The distribution is specified by [30, 10000] and step=100, but the range is not divisible by `step`. It will be replaced by [30, 9930].\n",
      "  warnings.warn(\n",
      "c:\\Users\\s0954\\anaconda3\\envs\\da\\lib\\site-packages\\optuna\\distributions.py:685: UserWarning: The distribution is specified by [0.01, 100] and step=0.05, but the range is not divisible by `step`. It will be replaced by [0.01, 99.96].\n",
      "  warnings.warn(\n"
     ]
    },
    {
     "name": "stdout",
     "output_type": "stream",
     "text": [
      "Fold 1 RMSE = 54207.44\n",
      "Fold 2 RMSE = 56230.19\n",
      "Fold 3 RMSE = 52501.37\n",
      "Fold 4 RMSE = 58102.93\n"
     ]
    },
    {
     "name": "stderr",
     "output_type": "stream",
     "text": [
      "Best trial: 10. Best value: -55037.3:  59%|█████▉    | 59/100 [45:32<32:32, 47.62s/it]"
     ]
    },
    {
     "name": "stdout",
     "output_type": "stream",
     "text": [
      "Fold 5 RMSE = 55914.00\n",
      "[I 2023-07-23 22:29:32,297] Trial 58 finished with value: -55391.18579797681 and parameters: {'loss': 'poisson', 'learning_rate': 0.1, 'max_iter': 300, 'max_leaf_nodes': 9130, 'max_depth': 1330, 'min_samples_leaf': 115, 'l2_regularization': 25.110000000000003}. Best is trial 10 with value: -55037.32722129846.\n"
     ]
    },
    {
     "name": "stderr",
     "output_type": "stream",
     "text": [
      "c:\\Users\\s0954\\anaconda3\\envs\\da\\lib\\site-packages\\optuna\\distributions.py:685: UserWarning: The distribution is specified by [0.1, 1.0] and step=0.2, but the range is not divisible by `step`. It will be replaced by [0.1, 0.9].\n",
      "  warnings.warn(\n",
      "c:\\Users\\s0954\\anaconda3\\envs\\da\\lib\\site-packages\\optuna\\distributions.py:700: UserWarning: The distribution is specified by [30, 10000] and step=100, but the range is not divisible by `step`. It will be replaced by [30, 9930].\n",
      "  warnings.warn(\n",
      "c:\\Users\\s0954\\anaconda3\\envs\\da\\lib\\site-packages\\optuna\\distributions.py:685: UserWarning: The distribution is specified by [0.01, 100] and step=0.05, but the range is not divisible by `step`. It will be replaced by [0.01, 99.96].\n",
      "  warnings.warn(\n"
     ]
    },
    {
     "name": "stdout",
     "output_type": "stream",
     "text": [
      "Fold 1 RMSE = 67105.60\n",
      "Fold 2 RMSE = 68360.53\n",
      "Fold 3 RMSE = 60021.34\n",
      "Fold 4 RMSE = 69743.16\n"
     ]
    },
    {
     "name": "stderr",
     "output_type": "stream",
     "text": [
      "Best trial: 10. Best value: -55037.3:  60%|██████    | 60/100 [45:35<22:41, 34.05s/it]"
     ]
    },
    {
     "name": "stdout",
     "output_type": "stream",
     "text": [
      "Fold 5 RMSE = 66341.70\n",
      "[I 2023-07-23 22:29:34,672] Trial 59 finished with value: -66314.46795622911 and parameters: {'loss': 'poisson', 'learning_rate': 0.30000000000000004, 'max_iter': 200, 'max_leaf_nodes': 5830, 'max_depth': 3030, 'min_samples_leaf': 700, 'l2_regularization': 48.31}. Best is trial 10 with value: -55037.32722129846.\n"
     ]
    },
    {
     "name": "stderr",
     "output_type": "stream",
     "text": [
      "c:\\Users\\s0954\\anaconda3\\envs\\da\\lib\\site-packages\\optuna\\distributions.py:685: UserWarning: The distribution is specified by [0.1, 1.0] and step=0.2, but the range is not divisible by `step`. It will be replaced by [0.1, 0.9].\n",
      "  warnings.warn(\n",
      "c:\\Users\\s0954\\anaconda3\\envs\\da\\lib\\site-packages\\optuna\\distributions.py:700: UserWarning: The distribution is specified by [30, 10000] and step=100, but the range is not divisible by `step`. It will be replaced by [30, 9930].\n",
      "  warnings.warn(\n",
      "c:\\Users\\s0954\\anaconda3\\envs\\da\\lib\\site-packages\\optuna\\distributions.py:685: UserWarning: The distribution is specified by [0.01, 100] and step=0.05, but the range is not divisible by `step`. It will be replaced by [0.01, 99.96].\n",
      "  warnings.warn(\n"
     ]
    },
    {
     "name": "stdout",
     "output_type": "stream",
     "text": [
      "Fold 1 RMSE = 53900.46\n",
      "Fold 2 RMSE = 55495.07\n",
      "Fold 3 RMSE = 52221.25\n",
      "Fold 4 RMSE = 58164.76\n"
     ]
    },
    {
     "name": "stderr",
     "output_type": "stream",
     "text": [
      "Best trial: 60. Best value: -55032:  61%|██████    | 61/100 [46:17<23:50, 36.68s/it]  "
     ]
    },
    {
     "name": "stdout",
     "output_type": "stream",
     "text": [
      "Fold 5 RMSE = 55378.53\n",
      "[I 2023-07-23 22:30:17,476] Trial 60 finished with value: -55032.014742813466 and parameters: {'loss': 'squared_error', 'learning_rate': 0.1, 'max_iter': 250, 'max_leaf_nodes': 9830, 'max_depth': 930, 'min_samples_leaf': 55, 'l2_regularization': 53.160000000000004}. Best is trial 60 with value: -55032.014742813466.\n"
     ]
    },
    {
     "name": "stderr",
     "output_type": "stream",
     "text": [
      "c:\\Users\\s0954\\anaconda3\\envs\\da\\lib\\site-packages\\optuna\\distributions.py:685: UserWarning: The distribution is specified by [0.1, 1.0] and step=0.2, but the range is not divisible by `step`. It will be replaced by [0.1, 0.9].\n",
      "  warnings.warn(\n",
      "c:\\Users\\s0954\\anaconda3\\envs\\da\\lib\\site-packages\\optuna\\distributions.py:700: UserWarning: The distribution is specified by [30, 10000] and step=100, but the range is not divisible by `step`. It will be replaced by [30, 9930].\n",
      "  warnings.warn(\n",
      "c:\\Users\\s0954\\anaconda3\\envs\\da\\lib\\site-packages\\optuna\\distributions.py:685: UserWarning: The distribution is specified by [0.01, 100] and step=0.05, but the range is not divisible by `step`. It will be replaced by [0.01, 99.96].\n",
      "  warnings.warn(\n"
     ]
    },
    {
     "name": "stdout",
     "output_type": "stream",
     "text": [
      "Fold 1 RMSE = 53855.23\n",
      "Fold 2 RMSE = 55469.26\n",
      "Fold 3 RMSE = 52313.53\n",
      "Fold 4 RMSE = 58164.69\n"
     ]
    },
    {
     "name": "stderr",
     "output_type": "stream",
     "text": [
      "Best trial: 60. Best value: -55032:  62%|██████▏   | 62/100 [47:00<24:25, 38.57s/it]"
     ]
    },
    {
     "name": "stdout",
     "output_type": "stream",
     "text": [
      "Fold 5 RMSE = 55363.03\n",
      "[I 2023-07-23 22:31:00,461] Trial 61 finished with value: -55033.145669897494 and parameters: {'loss': 'squared_error', 'learning_rate': 0.1, 'max_iter': 250, 'max_leaf_nodes': 9930, 'max_depth': 930, 'min_samples_leaf': 55, 'l2_regularization': 54.46}. Best is trial 60 with value: -55032.014742813466.\n"
     ]
    },
    {
     "name": "stderr",
     "output_type": "stream",
     "text": [
      "c:\\Users\\s0954\\anaconda3\\envs\\da\\lib\\site-packages\\optuna\\distributions.py:685: UserWarning: The distribution is specified by [0.1, 1.0] and step=0.2, but the range is not divisible by `step`. It will be replaced by [0.1, 0.9].\n",
      "  warnings.warn(\n",
      "c:\\Users\\s0954\\anaconda3\\envs\\da\\lib\\site-packages\\optuna\\distributions.py:700: UserWarning: The distribution is specified by [30, 10000] and step=100, but the range is not divisible by `step`. It will be replaced by [30, 9930].\n",
      "  warnings.warn(\n",
      "c:\\Users\\s0954\\anaconda3\\envs\\da\\lib\\site-packages\\optuna\\distributions.py:685: UserWarning: The distribution is specified by [0.01, 100] and step=0.05, but the range is not divisible by `step`. It will be replaced by [0.01, 99.96].\n",
      "  warnings.warn(\n"
     ]
    },
    {
     "name": "stdout",
     "output_type": "stream",
     "text": [
      "Fold 1 RMSE = 53825.25\n",
      "Fold 2 RMSE = 55335.48\n",
      "Fold 3 RMSE = 51813.81\n",
      "Fold 4 RMSE = 58223.07\n"
     ]
    },
    {
     "name": "stderr",
     "output_type": "stream",
     "text": [
      "Best trial: 62. Best value: -54910.5:  63%|██████▎   | 63/100 [47:17<19:46, 32.06s/it]"
     ]
    },
    {
     "name": "stdout",
     "output_type": "stream",
     "text": [
      "Fold 5 RMSE = 55354.84\n",
      "[I 2023-07-23 22:31:17,346] Trial 62 finished with value: -54910.491044829505 and parameters: {'loss': 'squared_error', 'learning_rate': 0.1, 'max_iter': 100, 'max_leaf_nodes': 9030, 'max_depth': 830, 'min_samples_leaf': 55, 'l2_regularization': 53.96}. Best is trial 62 with value: -54910.491044829505.\n"
     ]
    },
    {
     "name": "stderr",
     "output_type": "stream",
     "text": [
      "c:\\Users\\s0954\\anaconda3\\envs\\da\\lib\\site-packages\\optuna\\distributions.py:685: UserWarning: The distribution is specified by [0.1, 1.0] and step=0.2, but the range is not divisible by `step`. It will be replaced by [0.1, 0.9].\n",
      "  warnings.warn(\n",
      "c:\\Users\\s0954\\anaconda3\\envs\\da\\lib\\site-packages\\optuna\\distributions.py:700: UserWarning: The distribution is specified by [30, 10000] and step=100, but the range is not divisible by `step`. It will be replaced by [30, 9930].\n",
      "  warnings.warn(\n",
      "c:\\Users\\s0954\\anaconda3\\envs\\da\\lib\\site-packages\\optuna\\distributions.py:685: UserWarning: The distribution is specified by [0.01, 100] and step=0.05, but the range is not divisible by `step`. It will be replaced by [0.01, 99.96].\n",
      "  warnings.warn(\n"
     ]
    },
    {
     "name": "stdout",
     "output_type": "stream",
     "text": [
      "Fold 1 RMSE = 52584.36\n",
      "Fold 2 RMSE = 54793.00\n",
      "Fold 3 RMSE = 51810.32\n",
      "Fold 4 RMSE = 56948.07\n"
     ]
    },
    {
     "name": "stderr",
     "output_type": "stream",
     "text": [
      "Best trial: 63. Best value: -54038.8:  64%|██████▍   | 64/100 [48:11<23:06, 38.52s/it]"
     ]
    },
    {
     "name": "stdout",
     "output_type": "stream",
     "text": [
      "Fold 5 RMSE = 54058.30\n",
      "[I 2023-07-23 22:32:10,918] Trial 63 finished with value: -54038.81073884996 and parameters: {'loss': 'squared_error', 'learning_rate': 0.1, 'max_iter': 100, 'max_leaf_nodes': 9630, 'max_depth': 830, 'min_samples_leaf': 10, 'l2_regularization': 56.46}. Best is trial 63 with value: -54038.81073884996.\n"
     ]
    },
    {
     "name": "stderr",
     "output_type": "stream",
     "text": [
      "c:\\Users\\s0954\\anaconda3\\envs\\da\\lib\\site-packages\\optuna\\distributions.py:685: UserWarning: The distribution is specified by [0.1, 1.0] and step=0.2, but the range is not divisible by `step`. It will be replaced by [0.1, 0.9].\n",
      "  warnings.warn(\n",
      "c:\\Users\\s0954\\anaconda3\\envs\\da\\lib\\site-packages\\optuna\\distributions.py:700: UserWarning: The distribution is specified by [30, 10000] and step=100, but the range is not divisible by `step`. It will be replaced by [30, 9930].\n",
      "  warnings.warn(\n",
      "c:\\Users\\s0954\\anaconda3\\envs\\da\\lib\\site-packages\\optuna\\distributions.py:685: UserWarning: The distribution is specified by [0.01, 100] and step=0.05, but the range is not divisible by `step`. It will be replaced by [0.01, 99.96].\n",
      "  warnings.warn(\n"
     ]
    },
    {
     "name": "stdout",
     "output_type": "stream",
     "text": [
      "Fold 1 RMSE = 53021.36\n",
      "Fold 2 RMSE = 55277.15\n",
      "Fold 3 RMSE = 52303.53\n",
      "Fold 4 RMSE = 57822.01\n"
     ]
    },
    {
     "name": "stderr",
     "output_type": "stream",
     "text": [
      "Best trial: 63. Best value: -54038.8:  65%|██████▌   | 65/100 [49:12<26:28, 45.38s/it]"
     ]
    },
    {
     "name": "stdout",
     "output_type": "stream",
     "text": [
      "Fold 5 RMSE = 55048.45\n",
      "[I 2023-07-23 22:33:12,314] Trial 64 finished with value: -54694.498927956214 and parameters: {'loss': 'squared_error', 'learning_rate': 0.5, 'max_iter': 100, 'max_leaf_nodes': 8930, 'max_depth': 930, 'min_samples_leaf': 10, 'l2_regularization': 59.36}. Best is trial 63 with value: -54038.81073884996.\n"
     ]
    },
    {
     "name": "stderr",
     "output_type": "stream",
     "text": [
      "c:\\Users\\s0954\\anaconda3\\envs\\da\\lib\\site-packages\\optuna\\distributions.py:685: UserWarning: The distribution is specified by [0.1, 1.0] and step=0.2, but the range is not divisible by `step`. It will be replaced by [0.1, 0.9].\n",
      "  warnings.warn(\n",
      "c:\\Users\\s0954\\anaconda3\\envs\\da\\lib\\site-packages\\optuna\\distributions.py:700: UserWarning: The distribution is specified by [30, 10000] and step=100, but the range is not divisible by `step`. It will be replaced by [30, 9930].\n",
      "  warnings.warn(\n",
      "c:\\Users\\s0954\\anaconda3\\envs\\da\\lib\\site-packages\\optuna\\distributions.py:685: UserWarning: The distribution is specified by [0.01, 100] and step=0.05, but the range is not divisible by `step`. It will be replaced by [0.01, 99.96].\n",
      "  warnings.warn(\n"
     ]
    },
    {
     "name": "stdout",
     "output_type": "stream",
     "text": [
      "Fold 1 RMSE = 53666.54\n",
      "Fold 2 RMSE = 55168.33\n",
      "Fold 3 RMSE = 53001.36\n",
      "Fold 4 RMSE = 58220.63\n"
     ]
    },
    {
     "name": "stderr",
     "output_type": "stream",
     "text": [
      "Best trial: 63. Best value: -54038.8:  66%|██████▌   | 66/100 [50:14<28:30, 50.30s/it]"
     ]
    },
    {
     "name": "stdout",
     "output_type": "stream",
     "text": [
      "Fold 5 RMSE = 55502.80\n",
      "[I 2023-07-23 22:34:14,110] Trial 65 finished with value: -55111.93404261766 and parameters: {'loss': 'squared_error', 'learning_rate': 0.7000000000000001, 'max_iter': 100, 'max_leaf_nodes': 8230, 'max_depth': 930, 'min_samples_leaf': 10, 'l2_regularization': 58.96}. Best is trial 63 with value: -54038.81073884996.\n"
     ]
    },
    {
     "name": "stderr",
     "output_type": "stream",
     "text": [
      "c:\\Users\\s0954\\anaconda3\\envs\\da\\lib\\site-packages\\optuna\\distributions.py:685: UserWarning: The distribution is specified by [0.1, 1.0] and step=0.2, but the range is not divisible by `step`. It will be replaced by [0.1, 0.9].\n",
      "  warnings.warn(\n",
      "c:\\Users\\s0954\\anaconda3\\envs\\da\\lib\\site-packages\\optuna\\distributions.py:700: UserWarning: The distribution is specified by [30, 10000] and step=100, but the range is not divisible by `step`. It will be replaced by [30, 9930].\n",
      "  warnings.warn(\n",
      "c:\\Users\\s0954\\anaconda3\\envs\\da\\lib\\site-packages\\optuna\\distributions.py:685: UserWarning: The distribution is specified by [0.01, 100] and step=0.05, but the range is not divisible by `step`. It will be replaced by [0.01, 99.96].\n",
      "  warnings.warn(\n"
     ]
    },
    {
     "name": "stdout",
     "output_type": "stream",
     "text": [
      "Fold 1 RMSE = 54282.11\n",
      "Fold 2 RMSE = 56287.75\n",
      "Fold 3 RMSE = 52577.91\n",
      "Fold 4 RMSE = 58028.09\n"
     ]
    },
    {
     "name": "stderr",
     "output_type": "stream",
     "text": [
      "Best trial: 63. Best value: -54038.8:  67%|██████▋   | 67/100 [50:22<20:38, 37.54s/it]"
     ]
    },
    {
     "name": "stdout",
     "output_type": "stream",
     "text": [
      "Fold 5 RMSE = 56070.33\n",
      "[I 2023-07-23 22:34:21,861] Trial 66 finished with value: -55449.23790911191 and parameters: {'loss': 'squared_error', 'learning_rate': 0.7000000000000001, 'max_iter': 100, 'max_leaf_nodes': 8230, 'max_depth': 1030, 'min_samples_leaf': 145, 'l2_regularization': 59.56}. Best is trial 63 with value: -54038.81073884996.\n"
     ]
    },
    {
     "name": "stderr",
     "output_type": "stream",
     "text": [
      "c:\\Users\\s0954\\anaconda3\\envs\\da\\lib\\site-packages\\optuna\\distributions.py:685: UserWarning: The distribution is specified by [0.1, 1.0] and step=0.2, but the range is not divisible by `step`. It will be replaced by [0.1, 0.9].\n",
      "  warnings.warn(\n",
      "c:\\Users\\s0954\\anaconda3\\envs\\da\\lib\\site-packages\\optuna\\distributions.py:700: UserWarning: The distribution is specified by [30, 10000] and step=100, but the range is not divisible by `step`. It will be replaced by [30, 9930].\n",
      "  warnings.warn(\n",
      "c:\\Users\\s0954\\anaconda3\\envs\\da\\lib\\site-packages\\optuna\\distributions.py:685: UserWarning: The distribution is specified by [0.01, 100] and step=0.05, but the range is not divisible by `step`. It will be replaced by [0.01, 99.96].\n",
      "  warnings.warn(\n"
     ]
    },
    {
     "name": "stdout",
     "output_type": "stream",
     "text": [
      "Fold 1 RMSE = 53344.83\n",
      "Fold 2 RMSE = 55392.85\n",
      "Fold 3 RMSE = 52441.69\n",
      "Fold 4 RMSE = 57901.28\n"
     ]
    },
    {
     "name": "stderr",
     "output_type": "stream",
     "text": [
      "Best trial: 63. Best value: -54038.8:  68%|██████▊   | 68/100 [51:24<23:57, 44.91s/it]"
     ]
    },
    {
     "name": "stdout",
     "output_type": "stream",
     "text": [
      "Fold 5 RMSE = 55089.29\n",
      "[I 2023-07-23 22:35:23,969] Trial 67 finished with value: -54833.986343063356 and parameters: {'loss': 'squared_error', 'learning_rate': 0.5, 'max_iter': 100, 'max_leaf_nodes': 8930, 'max_depth': 830, 'min_samples_leaf': 10, 'l2_regularization': 55.86}. Best is trial 63 with value: -54038.81073884996.\n"
     ]
    },
    {
     "name": "stderr",
     "output_type": "stream",
     "text": [
      "c:\\Users\\s0954\\anaconda3\\envs\\da\\lib\\site-packages\\optuna\\distributions.py:685: UserWarning: The distribution is specified by [0.1, 1.0] and step=0.2, but the range is not divisible by `step`. It will be replaced by [0.1, 0.9].\n",
      "  warnings.warn(\n",
      "c:\\Users\\s0954\\anaconda3\\envs\\da\\lib\\site-packages\\optuna\\distributions.py:700: UserWarning: The distribution is specified by [30, 10000] and step=100, but the range is not divisible by `step`. It will be replaced by [30, 9930].\n",
      "  warnings.warn(\n",
      "c:\\Users\\s0954\\anaconda3\\envs\\da\\lib\\site-packages\\optuna\\distributions.py:685: UserWarning: The distribution is specified by [0.01, 100] and step=0.05, but the range is not divisible by `step`. It will be replaced by [0.01, 99.96].\n",
      "  warnings.warn(\n"
     ]
    },
    {
     "name": "stdout",
     "output_type": "stream",
     "text": [
      "Fold 1 RMSE = 54213.50\n",
      "Fold 2 RMSE = 56434.30\n",
      "Fold 3 RMSE = 52793.47\n",
      "Fold 4 RMSE = 58078.71\n"
     ]
    },
    {
     "name": "stderr",
     "output_type": "stream",
     "text": [
      "Best trial: 63. Best value: -54038.8:  69%|██████▉   | 69/100 [51:38<18:23, 35.61s/it]"
     ]
    },
    {
     "name": "stdout",
     "output_type": "stream",
     "text": [
      "Fold 5 RMSE = 56172.12\n",
      "[I 2023-07-23 22:35:37,885] Trial 68 finished with value: -55538.42178675522 and parameters: {'loss': 'squared_error', 'learning_rate': 0.5, 'max_iter': 150, 'max_leaf_nodes': 8830, 'max_depth': 330, 'min_samples_leaf': 115, 'l2_regularization': 55.51}. Best is trial 63 with value: -54038.81073884996.\n"
     ]
    },
    {
     "name": "stderr",
     "output_type": "stream",
     "text": [
      "c:\\Users\\s0954\\anaconda3\\envs\\da\\lib\\site-packages\\optuna\\distributions.py:685: UserWarning: The distribution is specified by [0.1, 1.0] and step=0.2, but the range is not divisible by `step`. It will be replaced by [0.1, 0.9].\n",
      "  warnings.warn(\n",
      "c:\\Users\\s0954\\anaconda3\\envs\\da\\lib\\site-packages\\optuna\\distributions.py:700: UserWarning: The distribution is specified by [30, 10000] and step=100, but the range is not divisible by `step`. It will be replaced by [30, 9930].\n",
      "  warnings.warn(\n",
      "c:\\Users\\s0954\\anaconda3\\envs\\da\\lib\\site-packages\\optuna\\distributions.py:685: UserWarning: The distribution is specified by [0.01, 100] and step=0.05, but the range is not divisible by `step`. It will be replaced by [0.01, 99.96].\n",
      "  warnings.warn(\n"
     ]
    },
    {
     "name": "stdout",
     "output_type": "stream",
     "text": [
      "Fold 1 RMSE = 53238.37\n",
      "Fold 2 RMSE = 55598.61\n",
      "Fold 3 RMSE = 52301.79\n",
      "Fold 4 RMSE = 57964.78\n"
     ]
    },
    {
     "name": "stderr",
     "output_type": "stream",
     "text": [
      "Best trial: 63. Best value: -54038.8:  70%|███████   | 70/100 [52:40<21:44, 43.47s/it]"
     ]
    },
    {
     "name": "stdout",
     "output_type": "stream",
     "text": [
      "Fold 5 RMSE = 55355.56\n",
      "[I 2023-07-23 22:36:39,702] Trial 69 finished with value: -54891.82206538769 and parameters: {'loss': 'squared_error', 'learning_rate': 0.5, 'max_iter': 100, 'max_leaf_nodes': 9130, 'max_depth': 8230, 'min_samples_leaf': 10, 'l2_regularization': 54.86}. Best is trial 63 with value: -54038.81073884996.\n"
     ]
    },
    {
     "name": "stderr",
     "output_type": "stream",
     "text": [
      "c:\\Users\\s0954\\anaconda3\\envs\\da\\lib\\site-packages\\optuna\\distributions.py:685: UserWarning: The distribution is specified by [0.1, 1.0] and step=0.2, but the range is not divisible by `step`. It will be replaced by [0.1, 0.9].\n",
      "  warnings.warn(\n",
      "c:\\Users\\s0954\\anaconda3\\envs\\da\\lib\\site-packages\\optuna\\distributions.py:700: UserWarning: The distribution is specified by [30, 10000] and step=100, but the range is not divisible by `step`. It will be replaced by [30, 9930].\n",
      "  warnings.warn(\n",
      "c:\\Users\\s0954\\anaconda3\\envs\\da\\lib\\site-packages\\optuna\\distributions.py:685: UserWarning: The distribution is specified by [0.01, 100] and step=0.05, but the range is not divisible by `step`. It will be replaced by [0.01, 99.96].\n",
      "  warnings.warn(\n"
     ]
    },
    {
     "name": "stdout",
     "output_type": "stream",
     "text": [
      "Fold 1 RMSE = 53195.99\n",
      "Fold 2 RMSE = 55288.85\n",
      "Fold 3 RMSE = 52502.94\n",
      "Fold 4 RMSE = 57952.96\n"
     ]
    },
    {
     "name": "stderr",
     "output_type": "stream",
     "text": [
      "Best trial: 63. Best value: -54038.8:  71%|███████   | 71/100 [53:41<23:32, 48.72s/it]"
     ]
    },
    {
     "name": "stdout",
     "output_type": "stream",
     "text": [
      "Fold 5 RMSE = 55052.14\n",
      "[I 2023-07-23 22:37:40,653] Trial 70 finished with value: -54798.57816139875 and parameters: {'loss': 'squared_error', 'learning_rate': 0.5, 'max_iter': 100, 'max_leaf_nodes': 9530, 'max_depth': 8330, 'min_samples_leaf': 10, 'l2_regularization': 63.36}. Best is trial 63 with value: -54038.81073884996.\n"
     ]
    },
    {
     "name": "stderr",
     "output_type": "stream",
     "text": [
      "c:\\Users\\s0954\\anaconda3\\envs\\da\\lib\\site-packages\\optuna\\distributions.py:685: UserWarning: The distribution is specified by [0.1, 1.0] and step=0.2, but the range is not divisible by `step`. It will be replaced by [0.1, 0.9].\n",
      "  warnings.warn(\n",
      "c:\\Users\\s0954\\anaconda3\\envs\\da\\lib\\site-packages\\optuna\\distributions.py:700: UserWarning: The distribution is specified by [30, 10000] and step=100, but the range is not divisible by `step`. It will be replaced by [30, 9930].\n",
      "  warnings.warn(\n",
      "c:\\Users\\s0954\\anaconda3\\envs\\da\\lib\\site-packages\\optuna\\distributions.py:685: UserWarning: The distribution is specified by [0.01, 100] and step=0.05, but the range is not divisible by `step`. It will be replaced by [0.01, 99.96].\n",
      "  warnings.warn(\n"
     ]
    },
    {
     "name": "stdout",
     "output_type": "stream",
     "text": [
      "Fold 1 RMSE = 53082.34\n",
      "Fold 2 RMSE = 55159.80\n",
      "Fold 3 RMSE = 52389.23\n",
      "Fold 4 RMSE = 57847.77\n"
     ]
    },
    {
     "name": "stderr",
     "output_type": "stream",
     "text": [
      "Best trial: 63. Best value: -54038.8:  72%|███████▏  | 72/100 [54:41<24:24, 52.30s/it]"
     ]
    },
    {
     "name": "stdout",
     "output_type": "stream",
     "text": [
      "Fold 5 RMSE = 55219.92\n",
      "[I 2023-07-23 22:38:41,314] Trial 71 finished with value: -54739.809603377085 and parameters: {'loss': 'squared_error', 'learning_rate': 0.5, 'max_iter': 100, 'max_leaf_nodes': 9530, 'max_depth': 8330, 'min_samples_leaf': 10, 'l2_regularization': 63.160000000000004}. Best is trial 63 with value: -54038.81073884996.\n"
     ]
    },
    {
     "name": "stderr",
     "output_type": "stream",
     "text": [
      "c:\\Users\\s0954\\anaconda3\\envs\\da\\lib\\site-packages\\optuna\\distributions.py:685: UserWarning: The distribution is specified by [0.1, 1.0] and step=0.2, but the range is not divisible by `step`. It will be replaced by [0.1, 0.9].\n",
      "  warnings.warn(\n",
      "c:\\Users\\s0954\\anaconda3\\envs\\da\\lib\\site-packages\\optuna\\distributions.py:700: UserWarning: The distribution is specified by [30, 10000] and step=100, but the range is not divisible by `step`. It will be replaced by [30, 9930].\n",
      "  warnings.warn(\n",
      "c:\\Users\\s0954\\anaconda3\\envs\\da\\lib\\site-packages\\optuna\\distributions.py:685: UserWarning: The distribution is specified by [0.01, 100] and step=0.05, but the range is not divisible by `step`. It will be replaced by [0.01, 99.96].\n",
      "  warnings.warn(\n"
     ]
    },
    {
     "name": "stdout",
     "output_type": "stream",
     "text": [
      "Fold 1 RMSE = 53045.76\n",
      "Fold 2 RMSE = 55064.57\n",
      "Fold 3 RMSE = 52299.24\n",
      "Fold 4 RMSE = 57895.58\n"
     ]
    },
    {
     "name": "stderr",
     "output_type": "stream",
     "text": [
      "Best trial: 63. Best value: -54038.8:  73%|███████▎  | 73/100 [55:42<24:38, 54.74s/it]"
     ]
    },
    {
     "name": "stdout",
     "output_type": "stream",
     "text": [
      "Fold 5 RMSE = 54819.29\n",
      "[I 2023-07-23 22:39:41,753] Trial 72 finished with value: -54624.88981623111 and parameters: {'loss': 'squared_error', 'learning_rate': 0.5, 'max_iter': 100, 'max_leaf_nodes': 9530, 'max_depth': 8530, 'min_samples_leaf': 10, 'l2_regularization': 69.26}. Best is trial 63 with value: -54038.81073884996.\n"
     ]
    },
    {
     "name": "stderr",
     "output_type": "stream",
     "text": [
      "c:\\Users\\s0954\\anaconda3\\envs\\da\\lib\\site-packages\\optuna\\distributions.py:685: UserWarning: The distribution is specified by [0.1, 1.0] and step=0.2, but the range is not divisible by `step`. It will be replaced by [0.1, 0.9].\n",
      "  warnings.warn(\n",
      "c:\\Users\\s0954\\anaconda3\\envs\\da\\lib\\site-packages\\optuna\\distributions.py:700: UserWarning: The distribution is specified by [30, 10000] and step=100, but the range is not divisible by `step`. It will be replaced by [30, 9930].\n",
      "  warnings.warn(\n",
      "c:\\Users\\s0954\\anaconda3\\envs\\da\\lib\\site-packages\\optuna\\distributions.py:685: UserWarning: The distribution is specified by [0.01, 100] and step=0.05, but the range is not divisible by `step`. It will be replaced by [0.01, 99.96].\n",
      "  warnings.warn(\n"
     ]
    },
    {
     "name": "stdout",
     "output_type": "stream",
     "text": [
      "Fold 1 RMSE = 52819.66\n",
      "Fold 2 RMSE = 55111.05\n",
      "Fold 3 RMSE = 52191.11\n",
      "Fold 4 RMSE = 57804.62\n"
     ]
    },
    {
     "name": "stderr",
     "output_type": "stream",
     "text": [
      "Best trial: 63. Best value: -54038.8:  74%|███████▍  | 74/100 [56:42<24:25, 56.36s/it]"
     ]
    },
    {
     "name": "stdout",
     "output_type": "stream",
     "text": [
      "Fold 5 RMSE = 54989.79\n",
      "[I 2023-07-23 22:40:41,904] Trial 73 finished with value: -54583.24498362346 and parameters: {'loss': 'squared_error', 'learning_rate': 0.5, 'max_iter': 100, 'max_leaf_nodes': 9430, 'max_depth': 8330, 'min_samples_leaf': 10, 'l2_regularization': 70.06}. Best is trial 63 with value: -54038.81073884996.\n"
     ]
    },
    {
     "name": "stderr",
     "output_type": "stream",
     "text": [
      "c:\\Users\\s0954\\anaconda3\\envs\\da\\lib\\site-packages\\optuna\\distributions.py:685: UserWarning: The distribution is specified by [0.1, 1.0] and step=0.2, but the range is not divisible by `step`. It will be replaced by [0.1, 0.9].\n",
      "  warnings.warn(\n",
      "c:\\Users\\s0954\\anaconda3\\envs\\da\\lib\\site-packages\\optuna\\distributions.py:700: UserWarning: The distribution is specified by [30, 10000] and step=100, but the range is not divisible by `step`. It will be replaced by [30, 9930].\n",
      "  warnings.warn(\n",
      "c:\\Users\\s0954\\anaconda3\\envs\\da\\lib\\site-packages\\optuna\\distributions.py:685: UserWarning: The distribution is specified by [0.01, 100] and step=0.05, but the range is not divisible by `step`. It will be replaced by [0.01, 99.96].\n",
      "  warnings.warn(\n"
     ]
    },
    {
     "name": "stdout",
     "output_type": "stream",
     "text": [
      "Fold 1 RMSE = 53303.36\n",
      "Fold 2 RMSE = 55286.11\n",
      "Fold 3 RMSE = 52571.30\n",
      "Fold 4 RMSE = 58270.76\n"
     ]
    },
    {
     "name": "stderr",
     "output_type": "stream",
     "text": [
      "Best trial: 63. Best value: -54038.8:  75%|███████▌  | 75/100 [58:14<27:54, 66.99s/it]"
     ]
    },
    {
     "name": "stdout",
     "output_type": "stream",
     "text": [
      "Fold 5 RMSE = 55327.93\n",
      "[I 2023-07-23 22:42:13,703] Trial 74 finished with value: -54951.89121134655 and parameters: {'loss': 'squared_error', 'learning_rate': 0.5, 'max_iter': 150, 'max_leaf_nodes': 9530, 'max_depth': 8630, 'min_samples_leaf': 10, 'l2_regularization': 68.56}. Best is trial 63 with value: -54038.81073884996.\n"
     ]
    },
    {
     "name": "stderr",
     "output_type": "stream",
     "text": [
      "c:\\Users\\s0954\\anaconda3\\envs\\da\\lib\\site-packages\\optuna\\distributions.py:685: UserWarning: The distribution is specified by [0.1, 1.0] and step=0.2, but the range is not divisible by `step`. It will be replaced by [0.1, 0.9].\n",
      "  warnings.warn(\n",
      "c:\\Users\\s0954\\anaconda3\\envs\\da\\lib\\site-packages\\optuna\\distributions.py:700: UserWarning: The distribution is specified by [30, 10000] and step=100, but the range is not divisible by `step`. It will be replaced by [30, 9930].\n",
      "  warnings.warn(\n",
      "c:\\Users\\s0954\\anaconda3\\envs\\da\\lib\\site-packages\\optuna\\distributions.py:685: UserWarning: The distribution is specified by [0.01, 100] and step=0.05, but the range is not divisible by `step`. It will be replaced by [0.01, 99.96].\n",
      "  warnings.warn(\n"
     ]
    },
    {
     "name": "stdout",
     "output_type": "stream",
     "text": [
      "Fold 1 RMSE = 53132.55\n",
      "Fold 2 RMSE = 55272.06\n",
      "Fold 3 RMSE = 52461.90\n",
      "Fold 4 RMSE = 57815.52\n"
     ]
    },
    {
     "name": "stderr",
     "output_type": "stream",
     "text": [
      "Best trial: 63. Best value: -54038.8:  76%|███████▌  | 76/100 [59:14<26:02, 65.09s/it]"
     ]
    },
    {
     "name": "stdout",
     "output_type": "stream",
     "text": [
      "Fold 5 RMSE = 55074.69\n",
      "[I 2023-07-23 22:43:14,356] Trial 75 finished with value: -54751.34500669998 and parameters: {'loss': 'squared_error', 'learning_rate': 0.5, 'max_iter': 100, 'max_leaf_nodes': 8530, 'max_depth': 7930, 'min_samples_leaf': 10, 'l2_regularization': 63.61}. Best is trial 63 with value: -54038.81073884996.\n"
     ]
    },
    {
     "name": "stderr",
     "output_type": "stream",
     "text": [
      "c:\\Users\\s0954\\anaconda3\\envs\\da\\lib\\site-packages\\optuna\\distributions.py:685: UserWarning: The distribution is specified by [0.1, 1.0] and step=0.2, but the range is not divisible by `step`. It will be replaced by [0.1, 0.9].\n",
      "  warnings.warn(\n",
      "c:\\Users\\s0954\\anaconda3\\envs\\da\\lib\\site-packages\\optuna\\distributions.py:700: UserWarning: The distribution is specified by [30, 10000] and step=100, but the range is not divisible by `step`. It will be replaced by [30, 9930].\n",
      "  warnings.warn(\n",
      "c:\\Users\\s0954\\anaconda3\\envs\\da\\lib\\site-packages\\optuna\\distributions.py:685: UserWarning: The distribution is specified by [0.01, 100] and step=0.05, but the range is not divisible by `step`. It will be replaced by [0.01, 99.96].\n",
      "  warnings.warn(\n"
     ]
    },
    {
     "name": "stdout",
     "output_type": "stream",
     "text": [
      "Fold 1 RMSE = 53746.71\n",
      "Fold 2 RMSE = 56016.45\n",
      "Fold 3 RMSE = 52716.27\n",
      "Fold 4 RMSE = 58486.46\n"
     ]
    },
    {
     "name": "stderr",
     "output_type": "stream",
     "text": [
      "Best trial: 63. Best value: -54038.8:  77%|███████▋  | 77/100 [59:27<18:55, 49.36s/it]"
     ]
    },
    {
     "name": "stdout",
     "output_type": "stream",
     "text": [
      "Fold 5 RMSE = 55736.34\n",
      "[I 2023-07-23 22:43:27,017] Trial 76 finished with value: -55340.44646729586 and parameters: {'loss': 'squared_error', 'learning_rate': 0.5, 'max_iter': 100, 'max_leaf_nodes': 8530, 'max_depth': 9330, 'min_samples_leaf': 85, 'l2_regularization': 63.86}. Best is trial 63 with value: -54038.81073884996.\n"
     ]
    },
    {
     "name": "stderr",
     "output_type": "stream",
     "text": [
      "c:\\Users\\s0954\\anaconda3\\envs\\da\\lib\\site-packages\\optuna\\distributions.py:685: UserWarning: The distribution is specified by [0.1, 1.0] and step=0.2, but the range is not divisible by `step`. It will be replaced by [0.1, 0.9].\n",
      "  warnings.warn(\n",
      "c:\\Users\\s0954\\anaconda3\\envs\\da\\lib\\site-packages\\optuna\\distributions.py:700: UserWarning: The distribution is specified by [30, 10000] and step=100, but the range is not divisible by `step`. It will be replaced by [30, 9930].\n",
      "  warnings.warn(\n",
      "c:\\Users\\s0954\\anaconda3\\envs\\da\\lib\\site-packages\\optuna\\distributions.py:685: UserWarning: The distribution is specified by [0.01, 100] and step=0.05, but the range is not divisible by `step`. It will be replaced by [0.01, 99.96].\n",
      "  warnings.warn(\n"
     ]
    },
    {
     "name": "stdout",
     "output_type": "stream",
     "text": [
      "Fold 1 RMSE = 53520.56\n",
      "Fold 2 RMSE = 55215.25\n",
      "Fold 3 RMSE = 52324.34\n",
      "Fold 4 RMSE = 58119.23\n"
     ]
    },
    {
     "name": "stderr",
     "output_type": "stream",
     "text": [
      "Best trial: 63. Best value: -54038.8:  78%|███████▊  | 78/100 [1:00:58<22:43, 61.98s/it]"
     ]
    },
    {
     "name": "stdout",
     "output_type": "stream",
     "text": [
      "Fold 5 RMSE = 55364.17\n",
      "[I 2023-07-23 22:44:58,426] Trial 77 finished with value: -54908.7090990111 and parameters: {'loss': 'squared_error', 'learning_rate': 0.5, 'max_iter': 150, 'max_leaf_nodes': 9430, 'max_depth': 7730, 'min_samples_leaf': 10, 'l2_regularization': 70.31}. Best is trial 63 with value: -54038.81073884996.\n"
     ]
    },
    {
     "name": "stderr",
     "output_type": "stream",
     "text": [
      "c:\\Users\\s0954\\anaconda3\\envs\\da\\lib\\site-packages\\optuna\\distributions.py:685: UserWarning: The distribution is specified by [0.1, 1.0] and step=0.2, but the range is not divisible by `step`. It will be replaced by [0.1, 0.9].\n",
      "  warnings.warn(\n",
      "c:\\Users\\s0954\\anaconda3\\envs\\da\\lib\\site-packages\\optuna\\distributions.py:700: UserWarning: The distribution is specified by [30, 10000] and step=100, but the range is not divisible by `step`. It will be replaced by [30, 9930].\n",
      "  warnings.warn(\n",
      "c:\\Users\\s0954\\anaconda3\\envs\\da\\lib\\site-packages\\optuna\\distributions.py:685: UserWarning: The distribution is specified by [0.01, 100] and step=0.05, but the range is not divisible by `step`. It will be replaced by [0.01, 99.96].\n",
      "  warnings.warn(\n"
     ]
    },
    {
     "name": "stdout",
     "output_type": "stream",
     "text": [
      "Fold 1 RMSE = 53773.51\n",
      "Fold 2 RMSE = 56231.14\n",
      "Fold 3 RMSE = 52913.34\n",
      "Fold 4 RMSE = 58709.93\n"
     ]
    },
    {
     "name": "stderr",
     "output_type": "stream",
     "text": [
      "Best trial: 63. Best value: -54038.8:  79%|███████▉  | 79/100 [1:01:23<17:48, 50.89s/it]"
     ]
    },
    {
     "name": "stdout",
     "output_type": "stream",
     "text": [
      "Fold 5 RMSE = 55745.93\n",
      "[I 2023-07-23 22:45:23,448] Trial 78 finished with value: -55474.77013595984 and parameters: {'loss': 'squared_error', 'learning_rate': 0.5, 'max_iter': 200, 'max_leaf_nodes': 7930, 'max_depth': 7030, 'min_samples_leaf': 85, 'l2_regularization': 78.66000000000001}. Best is trial 63 with value: -54038.81073884996.\n"
     ]
    },
    {
     "name": "stderr",
     "output_type": "stream",
     "text": [
      "c:\\Users\\s0954\\anaconda3\\envs\\da\\lib\\site-packages\\optuna\\distributions.py:685: UserWarning: The distribution is specified by [0.1, 1.0] and step=0.2, but the range is not divisible by `step`. It will be replaced by [0.1, 0.9].\n",
      "  warnings.warn(\n",
      "c:\\Users\\s0954\\anaconda3\\envs\\da\\lib\\site-packages\\optuna\\distributions.py:700: UserWarning: The distribution is specified by [30, 10000] and step=100, but the range is not divisible by `step`. It will be replaced by [30, 9930].\n",
      "  warnings.warn(\n",
      "c:\\Users\\s0954\\anaconda3\\envs\\da\\lib\\site-packages\\optuna\\distributions.py:685: UserWarning: The distribution is specified by [0.01, 100] and step=0.05, but the range is not divisible by `step`. It will be replaced by [0.01, 99.96].\n",
      "  warnings.warn(\n"
     ]
    },
    {
     "name": "stdout",
     "output_type": "stream",
     "text": [
      "Fold 1 RMSE = 68439.15\n",
      "Fold 2 RMSE = 70056.55\n",
      "Fold 3 RMSE = 66495.28\n",
      "Fold 4 RMSE = 70455.54\n"
     ]
    },
    {
     "name": "stderr",
     "output_type": "stream",
     "text": [
      "Best trial: 63. Best value: -54038.8:  80%|████████  | 80/100 [1:01:25<11:59, 35.99s/it]"
     ]
    },
    {
     "name": "stdout",
     "output_type": "stream",
     "text": [
      "Fold 5 RMSE = 67937.53\n",
      "[I 2023-07-23 22:45:24,666] Trial 79 finished with value: -68676.80960870215 and parameters: {'loss': 'squared_error', 'learning_rate': 0.5, 'max_iter': 100, 'max_leaf_nodes': 8430, 'max_depth': 8730, 'min_samples_leaf': 880, 'l2_regularization': 75.66000000000001}. Best is trial 63 with value: -54038.81073884996.\n"
     ]
    },
    {
     "name": "stderr",
     "output_type": "stream",
     "text": [
      "c:\\Users\\s0954\\anaconda3\\envs\\da\\lib\\site-packages\\optuna\\distributions.py:685: UserWarning: The distribution is specified by [0.1, 1.0] and step=0.2, but the range is not divisible by `step`. It will be replaced by [0.1, 0.9].\n",
      "  warnings.warn(\n",
      "c:\\Users\\s0954\\anaconda3\\envs\\da\\lib\\site-packages\\optuna\\distributions.py:700: UserWarning: The distribution is specified by [30, 10000] and step=100, but the range is not divisible by `step`. It will be replaced by [30, 9930].\n",
      "  warnings.warn(\n",
      "c:\\Users\\s0954\\anaconda3\\envs\\da\\lib\\site-packages\\optuna\\distributions.py:685: UserWarning: The distribution is specified by [0.01, 100] and step=0.05, but the range is not divisible by `step`. It will be replaced by [0.01, 99.96].\n",
      "  warnings.warn(\n"
     ]
    },
    {
     "name": "stdout",
     "output_type": "stream",
     "text": [
      "Fold 1 RMSE = 54292.46\n",
      "Fold 2 RMSE = 56409.65\n",
      "Fold 3 RMSE = 52830.08\n",
      "Fold 4 RMSE = 58058.57\n"
     ]
    },
    {
     "name": "stderr",
     "output_type": "stream",
     "text": [
      "Best trial: 63. Best value: -54038.8:  81%|████████  | 81/100 [1:01:38<09:17, 29.35s/it]"
     ]
    },
    {
     "name": "stdout",
     "output_type": "stream",
     "text": [
      "Fold 5 RMSE = 56143.90\n",
      "[I 2023-07-23 22:45:38,520] Trial 80 finished with value: -55546.9340089008 and parameters: {'loss': 'squared_error', 'learning_rate': 0.5, 'max_iter': 150, 'max_leaf_nodes': 7230, 'max_depth': 7730, 'min_samples_leaf': 115, 'l2_regularization': 64.61000000000001}. Best is trial 63 with value: -54038.81073884996.\n"
     ]
    },
    {
     "name": "stderr",
     "output_type": "stream",
     "text": [
      "c:\\Users\\s0954\\anaconda3\\envs\\da\\lib\\site-packages\\optuna\\distributions.py:685: UserWarning: The distribution is specified by [0.1, 1.0] and step=0.2, but the range is not divisible by `step`. It will be replaced by [0.1, 0.9].\n",
      "  warnings.warn(\n",
      "c:\\Users\\s0954\\anaconda3\\envs\\da\\lib\\site-packages\\optuna\\distributions.py:700: UserWarning: The distribution is specified by [30, 10000] and step=100, but the range is not divisible by `step`. It will be replaced by [30, 9930].\n",
      "  warnings.warn(\n",
      "c:\\Users\\s0954\\anaconda3\\envs\\da\\lib\\site-packages\\optuna\\distributions.py:685: UserWarning: The distribution is specified by [0.01, 100] and step=0.05, but the range is not divisible by `step`. It will be replaced by [0.01, 99.96].\n",
      "  warnings.warn(\n"
     ]
    },
    {
     "name": "stdout",
     "output_type": "stream",
     "text": [
      "Fold 1 RMSE = 52947.57\n",
      "Fold 2 RMSE = 55062.54\n",
      "Fold 3 RMSE = 52516.44\n",
      "Fold 4 RMSE = 57585.92\n"
     ]
    },
    {
     "name": "stderr",
     "output_type": "stream",
     "text": [
      "Best trial: 63. Best value: -54038.8:  82%|████████▏ | 82/100 [1:02:37<11:28, 38.23s/it]"
     ]
    },
    {
     "name": "stdout",
     "output_type": "stream",
     "text": [
      "Fold 5 RMSE = 54824.29\n",
      "[I 2023-07-23 22:46:37,473] Trial 81 finished with value: -54587.35244464148 and parameters: {'loss': 'squared_error', 'learning_rate': 0.5, 'max_iter': 100, 'max_leaf_nodes': 9030, 'max_depth': 8230, 'min_samples_leaf': 10, 'l2_regularization': 76.21000000000001}. Best is trial 63 with value: -54038.81073884996.\n"
     ]
    },
    {
     "name": "stderr",
     "output_type": "stream",
     "text": [
      "c:\\Users\\s0954\\anaconda3\\envs\\da\\lib\\site-packages\\optuna\\distributions.py:685: UserWarning: The distribution is specified by [0.1, 1.0] and step=0.2, but the range is not divisible by `step`. It will be replaced by [0.1, 0.9].\n",
      "  warnings.warn(\n",
      "c:\\Users\\s0954\\anaconda3\\envs\\da\\lib\\site-packages\\optuna\\distributions.py:700: UserWarning: The distribution is specified by [30, 10000] and step=100, but the range is not divisible by `step`. It will be replaced by [30, 9930].\n",
      "  warnings.warn(\n",
      "c:\\Users\\s0954\\anaconda3\\envs\\da\\lib\\site-packages\\optuna\\distributions.py:685: UserWarning: The distribution is specified by [0.01, 100] and step=0.05, but the range is not divisible by `step`. It will be replaced by [0.01, 99.96].\n",
      "  warnings.warn(\n"
     ]
    },
    {
     "name": "stdout",
     "output_type": "stream",
     "text": [
      "Fold 1 RMSE = 53030.94\n",
      "Fold 2 RMSE = 54809.96\n",
      "Fold 3 RMSE = 51701.60\n",
      "Fold 4 RMSE = 57668.57\n"
     ]
    },
    {
     "name": "stderr",
     "output_type": "stream",
     "text": [
      "Best trial: 63. Best value: -54038.8:  83%|████████▎ | 83/100 [1:03:08<10:11, 35.98s/it]"
     ]
    },
    {
     "name": "stdout",
     "output_type": "stream",
     "text": [
      "Fold 5 RMSE = 54692.39\n",
      "[I 2023-07-23 22:47:08,205] Trial 82 finished with value: -54380.69184523074 and parameters: {'loss': 'squared_error', 'learning_rate': 0.5, 'max_iter': 100, 'max_leaf_nodes': 8930, 'max_depth': 9130, 'min_samples_leaf': 25, 'l2_regularization': 83.16000000000001}. Best is trial 63 with value: -54038.81073884996.\n"
     ]
    },
    {
     "name": "stderr",
     "output_type": "stream",
     "text": [
      "c:\\Users\\s0954\\anaconda3\\envs\\da\\lib\\site-packages\\optuna\\distributions.py:685: UserWarning: The distribution is specified by [0.1, 1.0] and step=0.2, but the range is not divisible by `step`. It will be replaced by [0.1, 0.9].\n",
      "  warnings.warn(\n",
      "c:\\Users\\s0954\\anaconda3\\envs\\da\\lib\\site-packages\\optuna\\distributions.py:700: UserWarning: The distribution is specified by [30, 10000] and step=100, but the range is not divisible by `step`. It will be replaced by [30, 9930].\n",
      "  warnings.warn(\n",
      "c:\\Users\\s0954\\anaconda3\\envs\\da\\lib\\site-packages\\optuna\\distributions.py:685: UserWarning: The distribution is specified by [0.01, 100] and step=0.05, but the range is not divisible by `step`. It will be replaced by [0.01, 99.96].\n",
      "  warnings.warn(\n"
     ]
    },
    {
     "name": "stdout",
     "output_type": "stream",
     "text": [
      "Fold 1 RMSE = 54282.23\n",
      "Fold 2 RMSE = 55934.49\n",
      "Fold 3 RMSE = 52609.16\n",
      "Fold 4 RMSE = 58607.26\n"
     ]
    },
    {
     "name": "stderr",
     "output_type": "stream",
     "text": [
      "Best trial: 63. Best value: -54038.8:  84%|████████▍ | 84/100 [1:03:30<08:25, 31.61s/it]"
     ]
    },
    {
     "name": "stdout",
     "output_type": "stream",
     "text": [
      "Fold 5 RMSE = 55553.34\n",
      "[I 2023-07-23 22:47:29,622] Trial 83 finished with value: -55397.29627448899 and parameters: {'loss': 'squared_error', 'learning_rate': 0.5, 'max_iter': 150, 'max_leaf_nodes': 9630, 'max_depth': 9730, 'min_samples_leaf': 70, 'l2_regularization': 83.91000000000001}. Best is trial 63 with value: -54038.81073884996.\n"
     ]
    },
    {
     "name": "stderr",
     "output_type": "stream",
     "text": [
      "c:\\Users\\s0954\\anaconda3\\envs\\da\\lib\\site-packages\\optuna\\distributions.py:685: UserWarning: The distribution is specified by [0.1, 1.0] and step=0.2, but the range is not divisible by `step`. It will be replaced by [0.1, 0.9].\n",
      "  warnings.warn(\n",
      "c:\\Users\\s0954\\anaconda3\\envs\\da\\lib\\site-packages\\optuna\\distributions.py:700: UserWarning: The distribution is specified by [30, 10000] and step=100, but the range is not divisible by `step`. It will be replaced by [30, 9930].\n",
      "  warnings.warn(\n",
      "c:\\Users\\s0954\\anaconda3\\envs\\da\\lib\\site-packages\\optuna\\distributions.py:685: UserWarning: The distribution is specified by [0.01, 100] and step=0.05, but the range is not divisible by `step`. It will be replaced by [0.01, 99.96].\n",
      "  warnings.warn(\n"
     ]
    },
    {
     "name": "stdout",
     "output_type": "stream",
     "text": [
      "Fold 1 RMSE = 53141.29\n",
      "Fold 2 RMSE = 54859.19\n",
      "Fold 3 RMSE = 51749.76\n",
      "Fold 4 RMSE = 57569.82\n"
     ]
    },
    {
     "name": "stderr",
     "output_type": "stream",
     "text": [
      "Best trial: 63. Best value: -54038.8:  85%|████████▌ | 85/100 [1:04:01<07:51, 31.42s/it]"
     ]
    },
    {
     "name": "stdout",
     "output_type": "stream",
     "text": [
      "Fold 5 RMSE = 54667.95\n",
      "[I 2023-07-23 22:48:00,589] Trial 84 finished with value: -54397.601577848116 and parameters: {'loss': 'squared_error', 'learning_rate': 0.5, 'max_iter': 100, 'max_leaf_nodes': 9230, 'max_depth': 9030, 'min_samples_leaf': 25, 'l2_regularization': 75.86000000000001}. Best is trial 63 with value: -54038.81073884996.\n"
     ]
    },
    {
     "name": "stderr",
     "output_type": "stream",
     "text": [
      "c:\\Users\\s0954\\anaconda3\\envs\\da\\lib\\site-packages\\optuna\\distributions.py:685: UserWarning: The distribution is specified by [0.1, 1.0] and step=0.2, but the range is not divisible by `step`. It will be replaced by [0.1, 0.9].\n",
      "  warnings.warn(\n",
      "c:\\Users\\s0954\\anaconda3\\envs\\da\\lib\\site-packages\\optuna\\distributions.py:700: UserWarning: The distribution is specified by [30, 10000] and step=100, but the range is not divisible by `step`. It will be replaced by [30, 9930].\n",
      "  warnings.warn(\n",
      "c:\\Users\\s0954\\anaconda3\\envs\\da\\lib\\site-packages\\optuna\\distributions.py:685: UserWarning: The distribution is specified by [0.01, 100] and step=0.05, but the range is not divisible by `step`. It will be replaced by [0.01, 99.96].\n",
      "  warnings.warn(\n"
     ]
    },
    {
     "name": "stdout",
     "output_type": "stream",
     "text": [
      "Fold 1 RMSE = 54284.13\n",
      "Fold 2 RMSE = 55775.37\n",
      "Fold 3 RMSE = 52959.44\n",
      "Fold 4 RMSE = 58785.65\n"
     ]
    },
    {
     "name": "stderr",
     "output_type": "stream",
     "text": [
      "Best trial: 63. Best value: -54038.8:  86%|████████▌ | 86/100 [1:04:45<08:13, 35.27s/it]"
     ]
    },
    {
     "name": "stdout",
     "output_type": "stream",
     "text": [
      "Fold 5 RMSE = 55847.14\n",
      "[I 2023-07-23 22:48:44,854] Trial 85 finished with value: -55530.34597535307 and parameters: {'loss': 'squared_error', 'learning_rate': 0.5, 'max_iter': 200, 'max_leaf_nodes': 8730, 'max_depth': 9030, 'min_samples_leaf': 40, 'l2_regularization': 75.36000000000001}. Best is trial 63 with value: -54038.81073884996.\n"
     ]
    },
    {
     "name": "stderr",
     "output_type": "stream",
     "text": [
      "c:\\Users\\s0954\\anaconda3\\envs\\da\\lib\\site-packages\\optuna\\distributions.py:685: UserWarning: The distribution is specified by [0.1, 1.0] and step=0.2, but the range is not divisible by `step`. It will be replaced by [0.1, 0.9].\n",
      "  warnings.warn(\n",
      "c:\\Users\\s0954\\anaconda3\\envs\\da\\lib\\site-packages\\optuna\\distributions.py:700: UserWarning: The distribution is specified by [30, 10000] and step=100, but the range is not divisible by `step`. It will be replaced by [30, 9930].\n",
      "  warnings.warn(\n",
      "c:\\Users\\s0954\\anaconda3\\envs\\da\\lib\\site-packages\\optuna\\distributions.py:685: UserWarning: The distribution is specified by [0.01, 100] and step=0.05, but the range is not divisible by `step`. It will be replaced by [0.01, 99.96].\n",
      "  warnings.warn(\n"
     ]
    },
    {
     "name": "stdout",
     "output_type": "stream",
     "text": [
      "Fold 1 RMSE = 54608.63\n",
      "Fold 2 RMSE = 56656.10\n",
      "Fold 3 RMSE = 52511.25\n",
      "Fold 4 RMSE = 57916.71\n"
     ]
    },
    {
     "name": "stderr",
     "output_type": "stream",
     "text": [
      "Best trial: 63. Best value: -54038.8:  87%|████████▋ | 87/100 [1:04:52<05:48, 26.84s/it]"
     ]
    },
    {
     "name": "stdout",
     "output_type": "stream",
     "text": [
      "Fold 5 RMSE = 56073.59\n",
      "[I 2023-07-23 22:48:52,015] Trial 86 finished with value: -55553.25757296282 and parameters: {'loss': 'squared_error', 'learning_rate': 0.5, 'max_iter': 100, 'max_leaf_nodes': 9230, 'max_depth': 8030, 'min_samples_leaf': 160, 'l2_regularization': 77.86000000000001}. Best is trial 63 with value: -54038.81073884996.\n"
     ]
    },
    {
     "name": "stderr",
     "output_type": "stream",
     "text": [
      "c:\\Users\\s0954\\anaconda3\\envs\\da\\lib\\site-packages\\optuna\\distributions.py:685: UserWarning: The distribution is specified by [0.1, 1.0] and step=0.2, but the range is not divisible by `step`. It will be replaced by [0.1, 0.9].\n",
      "  warnings.warn(\n",
      "c:\\Users\\s0954\\anaconda3\\envs\\da\\lib\\site-packages\\optuna\\distributions.py:700: UserWarning: The distribution is specified by [30, 10000] and step=100, but the range is not divisible by `step`. It will be replaced by [30, 9930].\n",
      "  warnings.warn(\n",
      "c:\\Users\\s0954\\anaconda3\\envs\\da\\lib\\site-packages\\optuna\\distributions.py:685: UserWarning: The distribution is specified by [0.01, 100] and step=0.05, but the range is not divisible by `step`. It will be replaced by [0.01, 99.96].\n",
      "  warnings.warn(\n"
     ]
    },
    {
     "name": "stdout",
     "output_type": "stream",
     "text": [
      "Fold 1 RMSE = 54593.12\n",
      "Fold 2 RMSE = 56100.43\n",
      "Fold 3 RMSE = 53312.33\n",
      "Fold 4 RMSE = 58908.18\n"
     ]
    },
    {
     "name": "stderr",
     "output_type": "stream",
     "text": [
      "Best trial: 63. Best value: -54038.8:  88%|████████▊ | 88/100 [1:05:11<04:54, 24.51s/it]"
     ]
    },
    {
     "name": "stdout",
     "output_type": "stream",
     "text": [
      "Fold 5 RMSE = 55855.31\n",
      "[I 2023-07-23 22:49:11,097] Trial 87 finished with value: -55753.8765455796 and parameters: {'loss': 'absolute_error', 'learning_rate': 0.7000000000000001, 'max_iter': 150, 'max_leaf_nodes': 7730, 'max_depth': 9430, 'min_samples_leaf': 85, 'l2_regularization': 73.51}. Best is trial 63 with value: -54038.81073884996.\n"
     ]
    },
    {
     "name": "stderr",
     "output_type": "stream",
     "text": [
      "c:\\Users\\s0954\\anaconda3\\envs\\da\\lib\\site-packages\\optuna\\distributions.py:685: UserWarning: The distribution is specified by [0.1, 1.0] and step=0.2, but the range is not divisible by `step`. It will be replaced by [0.1, 0.9].\n",
      "  warnings.warn(\n",
      "c:\\Users\\s0954\\anaconda3\\envs\\da\\lib\\site-packages\\optuna\\distributions.py:700: UserWarning: The distribution is specified by [30, 10000] and step=100, but the range is not divisible by `step`. It will be replaced by [30, 9930].\n",
      "  warnings.warn(\n",
      "c:\\Users\\s0954\\anaconda3\\envs\\da\\lib\\site-packages\\optuna\\distributions.py:685: UserWarning: The distribution is specified by [0.01, 100] and step=0.05, but the range is not divisible by `step`. It will be replaced by [0.01, 99.96].\n",
      "  warnings.warn(\n"
     ]
    },
    {
     "name": "stdout",
     "output_type": "stream",
     "text": [
      "Fold 1 RMSE = 54210.75\n",
      "Fold 2 RMSE = 55414.95\n",
      "Fold 3 RMSE = 52221.11\n",
      "Fold 4 RMSE = 58120.24\n"
     ]
    },
    {
     "name": "stderr",
     "output_type": "stream",
     "text": [
      "Best trial: 63. Best value: -54038.8:  89%|████████▉ | 89/100 [1:06:13<06:32, 35.67s/it]"
     ]
    },
    {
     "name": "stdout",
     "output_type": "stream",
     "text": [
      "Fold 5 RMSE = 55642.66\n",
      "[I 2023-07-23 22:50:12,790] Trial 88 finished with value: -55121.94122496709 and parameters: {'loss': 'squared_error', 'learning_rate': 0.7000000000000001, 'max_iter': 200, 'max_leaf_nodes': 8330, 'max_depth': 8930, 'min_samples_leaf': 25, 'l2_regularization': 84.66000000000001}. Best is trial 63 with value: -54038.81073884996.\n"
     ]
    },
    {
     "name": "stderr",
     "output_type": "stream",
     "text": [
      "c:\\Users\\s0954\\anaconda3\\envs\\da\\lib\\site-packages\\optuna\\distributions.py:685: UserWarning: The distribution is specified by [0.1, 1.0] and step=0.2, but the range is not divisible by `step`. It will be replaced by [0.1, 0.9].\n",
      "  warnings.warn(\n",
      "c:\\Users\\s0954\\anaconda3\\envs\\da\\lib\\site-packages\\optuna\\distributions.py:700: UserWarning: The distribution is specified by [30, 10000] and step=100, but the range is not divisible by `step`. It will be replaced by [30, 9930].\n",
      "  warnings.warn(\n",
      "c:\\Users\\s0954\\anaconda3\\envs\\da\\lib\\site-packages\\optuna\\distributions.py:685: UserWarning: The distribution is specified by [0.01, 100] and step=0.05, but the range is not divisible by `step`. It will be replaced by [0.01, 99.96].\n",
      "  warnings.warn(\n"
     ]
    },
    {
     "name": "stdout",
     "output_type": "stream",
     "text": [
      "Fold 1 RMSE = 54296.03\n",
      "Fold 2 RMSE = 56347.96\n",
      "Fold 3 RMSE = 52759.03\n",
      "Fold 4 RMSE = 57945.56\n"
     ]
    },
    {
     "name": "stderr",
     "output_type": "stream",
     "text": [
      "Best trial: 63. Best value: -54038.8:  90%|█████████ | 90/100 [1:06:26<04:50, 29.09s/it]"
     ]
    },
    {
     "name": "stdout",
     "output_type": "stream",
     "text": [
      "Fold 5 RMSE = 56226.45\n",
      "[I 2023-07-23 22:50:26,527] Trial 89 finished with value: -55515.00841209941 and parameters: {'loss': 'squared_error', 'learning_rate': 0.5, 'max_iter': 150, 'max_leaf_nodes': 8930, 'max_depth': 7430, 'min_samples_leaf': 115, 'l2_regularization': 82.01}. Best is trial 63 with value: -54038.81073884996.\n"
     ]
    },
    {
     "name": "stderr",
     "output_type": "stream",
     "text": [
      "c:\\Users\\s0954\\anaconda3\\envs\\da\\lib\\site-packages\\optuna\\distributions.py:685: UserWarning: The distribution is specified by [0.1, 1.0] and step=0.2, but the range is not divisible by `step`. It will be replaced by [0.1, 0.9].\n",
      "  warnings.warn(\n",
      "c:\\Users\\s0954\\anaconda3\\envs\\da\\lib\\site-packages\\optuna\\distributions.py:700: UserWarning: The distribution is specified by [30, 10000] and step=100, but the range is not divisible by `step`. It will be replaced by [30, 9930].\n",
      "  warnings.warn(\n",
      "c:\\Users\\s0954\\anaconda3\\envs\\da\\lib\\site-packages\\optuna\\distributions.py:685: UserWarning: The distribution is specified by [0.01, 100] and step=0.05, but the range is not divisible by `step`. It will be replaced by [0.01, 99.96].\n",
      "  warnings.warn(\n"
     ]
    },
    {
     "name": "stdout",
     "output_type": "stream",
     "text": [
      "Fold 1 RMSE = 54181.70\n",
      "Fold 2 RMSE = 55939.62\n",
      "Fold 3 RMSE = 52492.34\n",
      "Fold 4 RMSE = 58563.46\n"
     ]
    },
    {
     "name": "stderr",
     "output_type": "stream",
     "text": [
      "Best trial: 63. Best value: -54038.8:  91%|█████████ | 91/100 [1:06:41<03:42, 24.70s/it]"
     ]
    },
    {
     "name": "stdout",
     "output_type": "stream",
     "text": [
      "Fold 5 RMSE = 55445.29\n",
      "[I 2023-07-23 22:50:40,990] Trial 90 finished with value: -55324.48178610271 and parameters: {'loss': 'squared_error', 'learning_rate': 0.5, 'max_iter': 100, 'max_leaf_nodes': 8630, 'max_depth': 9430, 'min_samples_leaf': 70, 'l2_regularization': 90.31000000000002}. Best is trial 63 with value: -54038.81073884996.\n"
     ]
    },
    {
     "name": "stderr",
     "output_type": "stream",
     "text": [
      "c:\\Users\\s0954\\anaconda3\\envs\\da\\lib\\site-packages\\optuna\\distributions.py:685: UserWarning: The distribution is specified by [0.1, 1.0] and step=0.2, but the range is not divisible by `step`. It will be replaced by [0.1, 0.9].\n",
      "  warnings.warn(\n",
      "c:\\Users\\s0954\\anaconda3\\envs\\da\\lib\\site-packages\\optuna\\distributions.py:700: UserWarning: The distribution is specified by [30, 10000] and step=100, but the range is not divisible by `step`. It will be replaced by [30, 9930].\n",
      "  warnings.warn(\n",
      "c:\\Users\\s0954\\anaconda3\\envs\\da\\lib\\site-packages\\optuna\\distributions.py:685: UserWarning: The distribution is specified by [0.01, 100] and step=0.05, but the range is not divisible by `step`. It will be replaced by [0.01, 99.96].\n",
      "  warnings.warn(\n"
     ]
    },
    {
     "name": "stdout",
     "output_type": "stream",
     "text": [
      "Fold 1 RMSE = 53215.57\n",
      "Fold 2 RMSE = 54692.55\n",
      "Fold 3 RMSE = 51941.89\n",
      "Fold 4 RMSE = 57571.43\n"
     ]
    },
    {
     "name": "stderr",
     "output_type": "stream",
     "text": [
      "Best trial: 63. Best value: -54038.8:  92%|█████████▏| 92/100 [1:07:12<03:33, 26.71s/it]"
     ]
    },
    {
     "name": "stdout",
     "output_type": "stream",
     "text": [
      "Fold 5 RMSE = 54804.76\n",
      "[I 2023-07-23 22:51:12,402] Trial 91 finished with value: -54445.23981674785 and parameters: {'loss': 'squared_error', 'learning_rate': 0.5, 'max_iter': 100, 'max_leaf_nodes': 9630, 'max_depth': 8330, 'min_samples_leaf': 25, 'l2_regularization': 61.11}. Best is trial 63 with value: -54038.81073884996.\n"
     ]
    },
    {
     "name": "stderr",
     "output_type": "stream",
     "text": [
      "c:\\Users\\s0954\\anaconda3\\envs\\da\\lib\\site-packages\\optuna\\distributions.py:685: UserWarning: The distribution is specified by [0.1, 1.0] and step=0.2, but the range is not divisible by `step`. It will be replaced by [0.1, 0.9].\n",
      "  warnings.warn(\n",
      "c:\\Users\\s0954\\anaconda3\\envs\\da\\lib\\site-packages\\optuna\\distributions.py:700: UserWarning: The distribution is specified by [30, 10000] and step=100, but the range is not divisible by `step`. It will be replaced by [30, 9930].\n",
      "  warnings.warn(\n",
      "c:\\Users\\s0954\\anaconda3\\envs\\da\\lib\\site-packages\\optuna\\distributions.py:685: UserWarning: The distribution is specified by [0.01, 100] and step=0.05, but the range is not divisible by `step`. It will be replaced by [0.01, 99.96].\n",
      "  warnings.warn(\n"
     ]
    },
    {
     "name": "stdout",
     "output_type": "stream",
     "text": [
      "Fold 1 RMSE = 52979.48\n",
      "Fold 2 RMSE = 54894.16\n",
      "Fold 3 RMSE = 51880.03\n",
      "Fold 4 RMSE = 57487.98\n"
     ]
    },
    {
     "name": "stderr",
     "output_type": "stream",
     "text": [
      "Best trial: 63. Best value: -54038.8:  93%|█████████▎| 93/100 [1:07:44<03:17, 28.16s/it]"
     ]
    },
    {
     "name": "stdout",
     "output_type": "stream",
     "text": [
      "Fold 5 RMSE = 54761.22\n",
      "[I 2023-07-23 22:51:43,944] Trial 92 finished with value: -54400.57464475658 and parameters: {'loss': 'squared_error', 'learning_rate': 0.5, 'max_iter': 100, 'max_leaf_nodes': 9330, 'max_depth': 8630, 'min_samples_leaf': 25, 'l2_regularization': 67.21000000000001}. Best is trial 63 with value: -54038.81073884996.\n"
     ]
    },
    {
     "name": "stderr",
     "output_type": "stream",
     "text": [
      "c:\\Users\\s0954\\anaconda3\\envs\\da\\lib\\site-packages\\optuna\\distributions.py:685: UserWarning: The distribution is specified by [0.1, 1.0] and step=0.2, but the range is not divisible by `step`. It will be replaced by [0.1, 0.9].\n",
      "  warnings.warn(\n",
      "c:\\Users\\s0954\\anaconda3\\envs\\da\\lib\\site-packages\\optuna\\distributions.py:700: UserWarning: The distribution is specified by [30, 10000] and step=100, but the range is not divisible by `step`. It will be replaced by [30, 9930].\n",
      "  warnings.warn(\n",
      "c:\\Users\\s0954\\anaconda3\\envs\\da\\lib\\site-packages\\optuna\\distributions.py:685: UserWarning: The distribution is specified by [0.01, 100] and step=0.05, but the range is not divisible by `step`. It will be replaced by [0.01, 99.96].\n",
      "  warnings.warn(\n"
     ]
    },
    {
     "name": "stdout",
     "output_type": "stream",
     "text": [
      "Fold 1 RMSE = 56914.26\n",
      "Fold 2 RMSE = 58670.16\n",
      "Fold 3 RMSE = 55660.56\n",
      "Fold 4 RMSE = 61300.83\n"
     ]
    },
    {
     "name": "stderr",
     "output_type": "stream",
     "text": [
      "Best trial: 63. Best value: -54038.8:  94%|█████████▍| 94/100 [1:07:48<02:06, 21.01s/it]"
     ]
    },
    {
     "name": "stdout",
     "output_type": "stream",
     "text": [
      "Fold 5 RMSE = 58590.42\n",
      "[I 2023-07-23 22:51:48,265] Trial 93 finished with value: -58227.2447205084 and parameters: {'loss': 'squared_error', 'learning_rate': 0.5, 'max_iter': 150, 'max_leaf_nodes': 9630, 'max_depth': 8630, 'min_samples_leaf': 385, 'l2_regularization': 68.76}. Best is trial 63 with value: -54038.81073884996.\n"
     ]
    },
    {
     "name": "stderr",
     "output_type": "stream",
     "text": [
      "c:\\Users\\s0954\\anaconda3\\envs\\da\\lib\\site-packages\\optuna\\distributions.py:685: UserWarning: The distribution is specified by [0.1, 1.0] and step=0.2, but the range is not divisible by `step`. It will be replaced by [0.1, 0.9].\n",
      "  warnings.warn(\n",
      "c:\\Users\\s0954\\anaconda3\\envs\\da\\lib\\site-packages\\optuna\\distributions.py:700: UserWarning: The distribution is specified by [30, 10000] and step=100, but the range is not divisible by `step`. It will be replaced by [30, 9930].\n",
      "  warnings.warn(\n",
      "c:\\Users\\s0954\\anaconda3\\envs\\da\\lib\\site-packages\\optuna\\distributions.py:685: UserWarning: The distribution is specified by [0.01, 100] and step=0.05, but the range is not divisible by `step`. It will be replaced by [0.01, 99.96].\n",
      "  warnings.warn(\n"
     ]
    },
    {
     "name": "stdout",
     "output_type": "stream",
     "text": [
      "Fold 1 RMSE = 53758.49\n",
      "Fold 2 RMSE = 55664.51\n",
      "Fold 3 RMSE = 52944.68\n",
      "Fold 4 RMSE = 58306.32\n"
     ]
    },
    {
     "name": "stderr",
     "output_type": "stream",
     "text": [
      "Best trial: 63. Best value: -54038.8:  95%|█████████▌| 95/100 [1:08:10<01:46, 21.32s/it]"
     ]
    },
    {
     "name": "stdout",
     "output_type": "stream",
     "text": [
      "Fold 5 RMSE = 55695.74\n",
      "[I 2023-07-23 22:52:10,322] Trial 94 finished with value: -55273.94769857339 and parameters: {'loss': 'squared_error', 'learning_rate': 0.5, 'max_iter': 100, 'max_leaf_nodes': 9330, 'max_depth': 9730, 'min_samples_leaf': 40, 'l2_regularization': 65.96000000000001}. Best is trial 63 with value: -54038.81073884996.\n"
     ]
    },
    {
     "name": "stderr",
     "output_type": "stream",
     "text": [
      "c:\\Users\\s0954\\anaconda3\\envs\\da\\lib\\site-packages\\optuna\\distributions.py:685: UserWarning: The distribution is specified by [0.1, 1.0] and step=0.2, but the range is not divisible by `step`. It will be replaced by [0.1, 0.9].\n",
      "  warnings.warn(\n",
      "c:\\Users\\s0954\\anaconda3\\envs\\da\\lib\\site-packages\\optuna\\distributions.py:700: UserWarning: The distribution is specified by [30, 10000] and step=100, but the range is not divisible by `step`. It will be replaced by [30, 9930].\n",
      "  warnings.warn(\n",
      "c:\\Users\\s0954\\anaconda3\\envs\\da\\lib\\site-packages\\optuna\\distributions.py:685: UserWarning: The distribution is specified by [0.01, 100] and step=0.05, but the range is not divisible by `step`. It will be replaced by [0.01, 99.96].\n",
      "  warnings.warn(\n"
     ]
    },
    {
     "name": "stdout",
     "output_type": "stream",
     "text": [
      "Fold 1 RMSE = 54413.27\n",
      "Fold 2 RMSE = 56565.64\n",
      "Fold 3 RMSE = 53136.29\n",
      "Fold 4 RMSE = 58158.18\n"
     ]
    },
    {
     "name": "stderr",
     "output_type": "stream",
     "text": [
      "Best trial: 63. Best value: -54038.8:  96%|█████████▌| 96/100 [1:08:31<01:25, 21.27s/it]"
     ]
    },
    {
     "name": "stdout",
     "output_type": "stream",
     "text": [
      "Fold 5 RMSE = 56258.96\n",
      "[I 2023-07-23 22:52:31,476] Trial 95 finished with value: -55706.46803807167 and parameters: {'loss': 'squared_error', 'learning_rate': 0.5, 'max_iter': 200, 'max_leaf_nodes': 9730, 'max_depth': 7030, 'min_samples_leaf': 100, 'l2_regularization': 70.46000000000001}. Best is trial 63 with value: -54038.81073884996.\n"
     ]
    },
    {
     "name": "stderr",
     "output_type": "stream",
     "text": [
      "c:\\Users\\s0954\\anaconda3\\envs\\da\\lib\\site-packages\\optuna\\distributions.py:685: UserWarning: The distribution is specified by [0.1, 1.0] and step=0.2, but the range is not divisible by `step`. It will be replaced by [0.1, 0.9].\n",
      "  warnings.warn(\n",
      "c:\\Users\\s0954\\anaconda3\\envs\\da\\lib\\site-packages\\optuna\\distributions.py:700: UserWarning: The distribution is specified by [30, 10000] and step=100, but the range is not divisible by `step`. It will be replaced by [30, 9930].\n",
      "  warnings.warn(\n",
      "c:\\Users\\s0954\\anaconda3\\envs\\da\\lib\\site-packages\\optuna\\distributions.py:685: UserWarning: The distribution is specified by [0.01, 100] and step=0.05, but the range is not divisible by `step`. It will be replaced by [0.01, 99.96].\n",
      "  warnings.warn(\n"
     ]
    },
    {
     "name": "stdout",
     "output_type": "stream",
     "text": [
      "Fold 1 RMSE = 53549.20\n",
      "Fold 2 RMSE = 55034.59\n",
      "Fold 3 RMSE = 52146.11\n",
      "Fold 4 RMSE = 57557.10\n"
     ]
    },
    {
     "name": "stderr",
     "output_type": "stream",
     "text": [
      "Best trial: 63. Best value: -54038.8:  97%|█████████▋| 97/100 [1:09:19<01:27, 29.15s/it]"
     ]
    },
    {
     "name": "stdout",
     "output_type": "stream",
     "text": [
      "Fold 5 RMSE = 55100.54\n",
      "[I 2023-07-23 22:53:19,012] Trial 96 finished with value: -54677.50810663474 and parameters: {'loss': 'squared_error', 'learning_rate': 0.5, 'max_iter': 150, 'max_leaf_nodes': 9130, 'max_depth': 8430, 'min_samples_leaf': 25, 'l2_regularization': 60.96}. Best is trial 63 with value: -54038.81073884996.\n"
     ]
    },
    {
     "name": "stderr",
     "output_type": "stream",
     "text": [
      "c:\\Users\\s0954\\anaconda3\\envs\\da\\lib\\site-packages\\optuna\\distributions.py:685: UserWarning: The distribution is specified by [0.1, 1.0] and step=0.2, but the range is not divisible by `step`. It will be replaced by [0.1, 0.9].\n",
      "  warnings.warn(\n",
      "c:\\Users\\s0954\\anaconda3\\envs\\da\\lib\\site-packages\\optuna\\distributions.py:700: UserWarning: The distribution is specified by [30, 10000] and step=100, but the range is not divisible by `step`. It will be replaced by [30, 9930].\n",
      "  warnings.warn(\n",
      "c:\\Users\\s0954\\anaconda3\\envs\\da\\lib\\site-packages\\optuna\\distributions.py:685: UserWarning: The distribution is specified by [0.01, 100] and step=0.05, but the range is not divisible by `step`. It will be replaced by [0.01, 99.96].\n",
      "  warnings.warn(\n"
     ]
    },
    {
     "name": "stdout",
     "output_type": "stream",
     "text": [
      "Fold 1 RMSE = 54533.68\n",
      "Fold 2 RMSE = 56143.64\n",
      "Fold 3 RMSE = 52643.67\n",
      "Fold 4 RMSE = 58464.81\n"
     ]
    },
    {
     "name": "stderr",
     "output_type": "stream",
     "text": [
      "Best trial: 63. Best value: -54038.8:  98%|█████████▊| 98/100 [1:09:41<00:53, 26.93s/it]"
     ]
    },
    {
     "name": "stdout",
     "output_type": "stream",
     "text": [
      "Fold 5 RMSE = 55747.35\n",
      "[I 2023-07-23 22:53:40,747] Trial 97 finished with value: -55506.63084100002 and parameters: {'loss': 'squared_error', 'learning_rate': 0.9, 'max_iter': 150, 'max_leaf_nodes': 9130, 'max_depth': 9230, 'min_samples_leaf': 70, 'l2_regularization': 60.910000000000004}. Best is trial 63 with value: -54038.81073884996.\n"
     ]
    },
    {
     "name": "stderr",
     "output_type": "stream",
     "text": [
      "c:\\Users\\s0954\\anaconda3\\envs\\da\\lib\\site-packages\\optuna\\distributions.py:685: UserWarning: The distribution is specified by [0.1, 1.0] and step=0.2, but the range is not divisible by `step`. It will be replaced by [0.1, 0.9].\n",
      "  warnings.warn(\n",
      "c:\\Users\\s0954\\anaconda3\\envs\\da\\lib\\site-packages\\optuna\\distributions.py:700: UserWarning: The distribution is specified by [30, 10000] and step=100, but the range is not divisible by `step`. It will be replaced by [30, 9930].\n",
      "  warnings.warn(\n",
      "c:\\Users\\s0954\\anaconda3\\envs\\da\\lib\\site-packages\\optuna\\distributions.py:685: UserWarning: The distribution is specified by [0.01, 100] and step=0.05, but the range is not divisible by `step`. It will be replaced by [0.01, 99.96].\n",
      "  warnings.warn(\n"
     ]
    },
    {
     "name": "stdout",
     "output_type": "stream",
     "text": [
      "Fold 1 RMSE = 54285.69\n",
      "Fold 2 RMSE = 56328.77\n",
      "Fold 3 RMSE = 52553.18\n",
      "Fold 4 RMSE = 57869.45\n"
     ]
    },
    {
     "name": "stderr",
     "output_type": "stream",
     "text": [
      "Best trial: 63. Best value: -54038.8:  99%|█████████▉| 99/100 [1:09:53<00:22, 22.68s/it]"
     ]
    },
    {
     "name": "stdout",
     "output_type": "stream",
     "text": [
      "Fold 5 RMSE = 56194.93\n",
      "[I 2023-07-23 22:53:53,502] Trial 98 finished with value: -55446.40382606663 and parameters: {'loss': 'squared_error', 'learning_rate': 0.5, 'max_iter': 150, 'max_leaf_nodes': 8030, 'max_depth': 8830, 'min_samples_leaf': 130, 'l2_regularization': 67.31}. Best is trial 63 with value: -54038.81073884996.\n"
     ]
    },
    {
     "name": "stderr",
     "output_type": "stream",
     "text": [
      "c:\\Users\\s0954\\anaconda3\\envs\\da\\lib\\site-packages\\optuna\\distributions.py:685: UserWarning: The distribution is specified by [0.1, 1.0] and step=0.2, but the range is not divisible by `step`. It will be replaced by [0.1, 0.9].\n",
      "  warnings.warn(\n",
      "c:\\Users\\s0954\\anaconda3\\envs\\da\\lib\\site-packages\\optuna\\distributions.py:700: UserWarning: The distribution is specified by [30, 10000] and step=100, but the range is not divisible by `step`. It will be replaced by [30, 9930].\n",
      "  warnings.warn(\n",
      "c:\\Users\\s0954\\anaconda3\\envs\\da\\lib\\site-packages\\optuna\\distributions.py:685: UserWarning: The distribution is specified by [0.01, 100] and step=0.05, but the range is not divisible by `step`. It will be replaced by [0.01, 99.96].\n",
      "  warnings.warn(\n"
     ]
    },
    {
     "name": "stdout",
     "output_type": "stream",
     "text": [
      "Fold 1 RMSE = 54407.44\n",
      "Fold 2 RMSE = 55759.80\n",
      "Fold 3 RMSE = 53134.69\n",
      "Fold 4 RMSE = 58896.03\n"
     ]
    },
    {
     "name": "stderr",
     "output_type": "stream",
     "text": [
      "Best trial: 63. Best value: -54038.8: 100%|██████████| 100/100 [1:10:15<00:00, 42.16s/it]"
     ]
    },
    {
     "name": "stdout",
     "output_type": "stream",
     "text": [
      "Fold 5 RMSE = 55491.93\n",
      "[I 2023-07-23 22:54:15,497] Trial 99 finished with value: -55537.977493905564 and parameters: {'loss': 'absolute_error', 'learning_rate': 0.5, 'max_iter': 100, 'max_leaf_nodes': 8930, 'max_depth': 9930, 'min_samples_leaf': 40, 'l2_regularization': 73.66000000000001}. Best is trial 63 with value: -54038.81073884996.\n"
     ]
    },
    {
     "name": "stderr",
     "output_type": "stream",
     "text": [
      "\n"
     ]
    }
   ],
   "source": [
    "def objective(trial):\n",
    "    params = {\n",
    "        'loss': trial.suggest_categorical('loss', ['absolute_error', 'poisson', 'squared_error']),\n",
    "        'learning_rate': trial.suggest_float('learning_rate', 0.1, 1.0, step = 0.2),\n",
    "        'max_iter': trial.suggest_int('max_iter', 100, 1000, step = 50),\n",
    "        'max_leaf_nodes': trial.suggest_int('max_leaf_nodes', 30, 10000, step = 100),\n",
    "        'max_depth': trial.suggest_int('max_depth', 30, 10000, step = 100),\n",
    "        'min_samples_leaf': trial.suggest_int('min_samples_leaf', 10, 1000, step = 15),\n",
    "        'l2_regularization': trial.suggest_float('l2_regularization', 0.01, 100, step = 0.05)\n",
    "    }\n",
    "    \n",
    "    clf = HistGradientBoostingRegressor(**params, random_state = 123)\n",
    "    scores = []\n",
    "    \n",
    "    for i, (train_index, val_index) in enumerate(cv_splits):\n",
    "        X_train, X_val = X.iloc[train_index], X.iloc[val_index]\n",
    "        y_train, y_val = y.iloc[train_index], y.iloc[val_index]\n",
    "        \n",
    "        clf.fit(X_train, y_train)\n",
    "        y_pred = clf.predict(X_val)\n",
    "        \n",
    "        rmse = mean_squared_error(y_val, y_pred, squared=False)\n",
    "        \n",
    "        print(f'Fold {i + 1} RMSE = {rmse:.2f}')\n",
    "        \n",
    "        scores.append(rmse)\n",
    "    \n",
    "    if i == len(cv_splits) - 1:\n",
    "        mean_score = np.mean(scores)\n",
    "        \n",
    "    return -mean_score        \n",
    "         \n",
    "import optuna\n",
    "study = optuna.create_study(direction='maximize')\n",
    "study.optimize(objective, n_trials = 100, show_progress_bar = True)"
   ]
  },
  {
   "cell_type": "code",
   "execution_count": 19,
   "metadata": {},
   "outputs": [
    {
     "name": "stdout",
     "output_type": "stream",
     "text": [
      "\n",
      "Histogram-based Gradient Boosting Regressor:\n",
      "\n",
      "\n",
      " Best RMSE score = -54038.81073884996 \n",
      "\n",
      "\n",
      " Best Params = {'loss': 'squared_error', 'learning_rate': 0.1, 'max_iter': 100, 'max_leaf_nodes': 9630, 'max_depth': 830, 'min_samples_leaf': 10, 'l2_regularization': 56.46} \n",
      "\n"
     ]
    }
   ],
   "source": [
    "best_params = study.best_params\n",
    "best_rmse_score = study.best_value\n",
    "\n",
    "\n",
    "print(f'\\nHistogram-based Gradient Boosting Regressor:\\n')\n",
    "print(f'\\n Best RMSE score = {best_rmse_score} \\n')\n",
    "print(f'\\n Best Params = {best_params} \\n')"
   ]
  },
  {
   "cell_type": "code",
   "execution_count": 20,
   "metadata": {},
   "outputs": [
    {
     "name": "stderr",
     "output_type": "stream",
     "text": [
      "[I 2023-07-24 13:49:51,180] A new study created in memory with name: no-name-86172111-e605-4a1e-9cfc-5b28b8033511\n",
      "  0%|          | 0/100 [00:00<?, ?it/s]"
     ]
    },
    {
     "name": "stdout",
     "output_type": "stream",
     "text": [
      "Fold 1 RMSE = 52065.44\n",
      "Fold 2 RMSE = 54615.05\n",
      "Fold 3 RMSE = 51477.71\n",
      "Fold 4 RMSE = 57218.63\n"
     ]
    },
    {
     "name": "stderr",
     "output_type": "stream",
     "text": [
      "Best trial: 0. Best value: -53727.6:   1%|          | 1/100 [00:08<14:01,  8.50s/it]"
     ]
    },
    {
     "name": "stdout",
     "output_type": "stream",
     "text": [
      "Fold 5 RMSE = 53261.14\n",
      "[I 2023-07-24 13:49:59,677] Trial 0 finished with value: -53727.59365581317 and parameters: {'loss_function': 'MAE', 'learning_rate': 0.08, 'iterations': 400, 'max_depth': 8, 'l2_leaf_reg': 9.6, 'min_data_in_leaf': 37, 'random_strength': 6.9}. Best is trial 0 with value: -53727.59365581317.\n",
      "Fold 1 RMSE = 157781.33\n",
      "Fold 2 RMSE = 157536.06\n",
      "Fold 3 RMSE = 160318.71\n",
      "Fold 4 RMSE = 159887.76\n"
     ]
    },
    {
     "name": "stderr",
     "output_type": "stream",
     "text": [
      "Best trial: 0. Best value: -53727.6:   2%|▏         | 2/100 [00:17<13:56,  8.53s/it]"
     ]
    },
    {
     "name": "stdout",
     "output_type": "stream",
     "text": [
      "Fold 5 RMSE = 156112.31\n",
      "[I 2023-07-24 13:50:08,234] Trial 1 finished with value: -158327.23183437382 and parameters: {'loss_function': 'Poisson', 'learning_rate': 0.37, 'iterations': 350, 'max_depth': 8, 'l2_leaf_reg': 0.8, 'min_data_in_leaf': 12, 'random_strength': 5.3}. Best is trial 0 with value: -53727.59365581317.\n",
      "Fold 1 RMSE = 52581.79\n",
      "Fold 2 RMSE = 55005.83\n",
      "Fold 3 RMSE = 51860.02\n",
      "Fold 4 RMSE = 57280.15\n"
     ]
    },
    {
     "name": "stderr",
     "output_type": "stream",
     "text": [
      "Best trial: 0. Best value: -53727.6:   3%|▎         | 3/100 [00:21<10:33,  6.53s/it]"
     ]
    },
    {
     "name": "stdout",
     "output_type": "stream",
     "text": [
      "Fold 5 RMSE = 53868.78\n",
      "[I 2023-07-24 13:50:12,376] Trial 2 finished with value: -54119.31468776245 and parameters: {'loss_function': 'MAE', 'learning_rate': 0.05, 'iterations': 300, 'max_depth': 5, 'l2_leaf_reg': 3.9000000000000004, 'min_data_in_leaf': 17, 'random_strength': 4.6}. Best is trial 0 with value: -53727.59365581317.\n",
      "Fold 1 RMSE = 55352.68\n",
      "Fold 2 RMSE = 56191.98\n",
      "Fold 3 RMSE = 53197.17\n",
      "Fold 4 RMSE = 58998.13\n"
     ]
    },
    {
     "name": "stderr",
     "output_type": "stream",
     "text": [
      "Best trial: 0. Best value: -53727.6:   4%|▍         | 4/100 [00:37<16:24, 10.26s/it]"
     ]
    },
    {
     "name": "stdout",
     "output_type": "stream",
     "text": [
      "Fold 5 RMSE = 56768.97\n",
      "[I 2023-07-24 13:50:28,354] Trial 3 finished with value: -56101.785049344355 and parameters: {'loss_function': 'MAE', 'learning_rate': 0.33, 'iterations': 400, 'max_depth': 10, 'l2_leaf_reg': 9.8, 'min_data_in_leaf': 42, 'random_strength': 2.8000000000000003}. Best is trial 0 with value: -53727.59365581317.\n",
      "Fold 1 RMSE = 157781.33\n",
      "Fold 2 RMSE = 157536.06\n",
      "Fold 3 RMSE = 160318.71\n",
      "Fold 4 RMSE = 159887.76\n"
     ]
    },
    {
     "name": "stderr",
     "output_type": "stream",
     "text": [
      "Best trial: 0. Best value: -53727.6:   5%|▌         | 5/100 [00:41<12:57,  8.19s/it]"
     ]
    },
    {
     "name": "stdout",
     "output_type": "stream",
     "text": [
      "Fold 5 RMSE = 156112.31\n",
      "[I 2023-07-24 13:50:32,868] Trial 4 finished with value: -158327.23183437382 and parameters: {'loss_function': 'Poisson', 'learning_rate': 0.33, 'iterations': 300, 'max_depth': 4, 'l2_leaf_reg': 7.8, 'min_data_in_leaf': 3, 'random_strength': 7.2}. Best is trial 0 with value: -53727.59365581317.\n",
      "Fold 1 RMSE = 52385.05\n",
      "Fold 2 RMSE = 53963.45\n",
      "Fold 3 RMSE = 51969.42\n",
      "Fold 4 RMSE = 56125.21\n"
     ]
    },
    {
     "name": "stderr",
     "output_type": "stream",
     "text": [
      "Best trial: 5. Best value: -53595.4:   6%|▌         | 6/100 [00:51<13:31,  8.63s/it]"
     ]
    },
    {
     "name": "stdout",
     "output_type": "stream",
     "text": [
      "Fold 5 RMSE = 53533.90\n",
      "[I 2023-07-24 13:50:42,372] Trial 5 finished with value: -53595.407509423116 and parameters: {'loss_function': 'RMSE', 'learning_rate': 0.09, 'iterations': 700, 'max_depth': 6, 'l2_leaf_reg': 9.2, 'min_data_in_leaf': 1, 'random_strength': 7.4}. Best is trial 5 with value: -53595.407509423116.\n",
      "Fold 1 RMSE = 54004.50\n",
      "Fold 2 RMSE = 55411.00\n",
      "Fold 3 RMSE = 51301.69\n",
      "Fold 4 RMSE = 58111.11\n"
     ]
    },
    {
     "name": "stderr",
     "output_type": "stream",
     "text": [
      "Best trial: 5. Best value: -53595.4:   7%|▋         | 7/100 [00:56<11:52,  7.66s/it]"
     ]
    },
    {
     "name": "stdout",
     "output_type": "stream",
     "text": [
      "Fold 5 RMSE = 53981.36\n",
      "[I 2023-07-24 13:50:48,021] Trial 6 finished with value: -54561.930508900856 and parameters: {'loss_function': 'MAE', 'learning_rate': 0.46, 'iterations': 550, 'max_depth': 4, 'l2_leaf_reg': 6.3, 'min_data_in_leaf': 15, 'random_strength': 1.7000000000000002}. Best is trial 5 with value: -53595.407509423116.\n",
      "Fold 1 RMSE = 157781.33\n",
      "Fold 2 RMSE = 157536.06\n",
      "Fold 3 RMSE = 160318.71\n",
      "Fold 4 RMSE = 159887.76\n"
     ]
    },
    {
     "name": "stderr",
     "output_type": "stream",
     "text": [
      "Best trial: 5. Best value: -53595.4:   8%|▊         | 8/100 [01:11<15:00,  9.79s/it]"
     ]
    },
    {
     "name": "stdout",
     "output_type": "stream",
     "text": [
      "Fold 5 RMSE = 156112.31\n",
      "[I 2023-07-24 13:51:02,361] Trial 7 finished with value: -158327.23183437382 and parameters: {'loss_function': 'Poisson', 'learning_rate': 0.47000000000000003, 'iterations': 450, 'max_depth': 9, 'l2_leaf_reg': 3.1, 'min_data_in_leaf': 50, 'random_strength': 7.6}. Best is trial 5 with value: -53595.407509423116.\n",
      "Fold 1 RMSE = 57159.58\n",
      "Fold 2 RMSE = 55267.78\n",
      "Fold 3 RMSE = 52186.10\n",
      "Fold 4 RMSE = 57521.11\n"
     ]
    },
    {
     "name": "stderr",
     "output_type": "stream",
     "text": [
      "Best trial: 5. Best value: -53595.4:   9%|▉         | 9/100 [01:27<18:09, 11.98s/it]"
     ]
    },
    {
     "name": "stdout",
     "output_type": "stream",
     "text": [
      "Fold 5 RMSE = 57063.10\n",
      "[I 2023-07-24 13:51:19,157] Trial 8 finished with value: -55839.53205279321 and parameters: {'loss_function': 'RMSE', 'learning_rate': 0.38, 'iterations': 450, 'max_depth': 10, 'l2_leaf_reg': 4.5, 'min_data_in_leaf': 25, 'random_strength': 7.4}. Best is trial 5 with value: -53595.407509423116.\n",
      "Fold 1 RMSE = 53073.25\n",
      "Fold 2 RMSE = 55456.49\n",
      "Fold 3 RMSE = 53014.74\n",
      "Fold 4 RMSE = 58803.09\n"
     ]
    },
    {
     "name": "stderr",
     "output_type": "stream",
     "text": [
      "Best trial: 5. Best value: -53595.4:  10%|█         | 10/100 [01:38<17:26, 11.63s/it]"
     ]
    },
    {
     "name": "stdout",
     "output_type": "stream",
     "text": [
      "Fold 5 RMSE = 54570.68\n",
      "[I 2023-07-24 13:51:30,014] Trial 9 finished with value: -54983.64957193768 and parameters: {'loss_function': 'MAE', 'learning_rate': 0.5, 'iterations': 1000, 'max_depth': 5, 'l2_leaf_reg': 6.1, 'min_data_in_leaf': 49, 'random_strength': 7.3}. Best is trial 5 with value: -53595.407509423116.\n",
      "Fold 1 RMSE = 53597.45\n",
      "Fold 2 RMSE = 54097.09\n",
      "Fold 3 RMSE = 52488.14\n",
      "Fold 4 RMSE = 56500.08\n"
     ]
    },
    {
     "name": "stderr",
     "output_type": "stream",
     "text": [
      "Best trial: 5. Best value: -53595.4:  11%|█         | 11/100 [01:49<16:40, 11.24s/it]"
     ]
    },
    {
     "name": "stdout",
     "output_type": "stream",
     "text": [
      "Fold 5 RMSE = 54283.77\n",
      "[I 2023-07-24 13:51:40,382] Trial 10 finished with value: -54193.305196989255 and parameters: {'loss_function': 'RMSE', 'learning_rate': 0.17, 'iterations': 800, 'max_depth': 6, 'l2_leaf_reg': 8.1, 'min_data_in_leaf': 1, 'random_strength': 10.0}. Best is trial 5 with value: -53595.407509423116.\n",
      "Fold 1 RMSE = 54640.96\n",
      "Fold 2 RMSE = 56927.50\n",
      "Fold 3 RMSE = 53485.85\n",
      "Fold 4 RMSE = 59234.42\n"
     ]
    },
    {
     "name": "stderr",
     "output_type": "stream",
     "text": [
      "Best trial: 5. Best value: -53595.4:  12%|█▏        | 12/100 [01:59<16:02, 10.94s/it]"
     ]
    },
    {
     "name": "stdout",
     "output_type": "stream",
     "text": [
      "Fold 5 RMSE = 56341.75\n",
      "[I 2023-07-24 13:51:50,633] Trial 11 finished with value: -56126.09411495236 and parameters: {'loss_function': 'RMSE', 'learning_rate': 0.01, 'iterations': 700, 'max_depth': 7, 'l2_leaf_reg': 10.0, 'min_data_in_leaf': 35, 'random_strength': 9.700000000000001}. Best is trial 5 with value: -53595.407509423116.\n",
      "Fold 1 RMSE = 52877.87\n",
      "Fold 2 RMSE = 55691.49\n",
      "Fold 3 RMSE = 52349.79\n",
      "Fold 4 RMSE = 57885.08\n"
     ]
    },
    {
     "name": "stderr",
     "output_type": "stream",
     "text": [
      "Best trial: 5. Best value: -53595.4:  13%|█▎        | 13/100 [02:01<12:09,  8.38s/it]"
     ]
    },
    {
     "name": "stdout",
     "output_type": "stream",
     "text": [
      "Fold 5 RMSE = 54972.23\n",
      "[I 2023-07-24 13:51:53,121] Trial 12 finished with value: -54755.2905364529 and parameters: {'loss_function': 'RMSE', 'learning_rate': 0.13, 'iterations': 100, 'max_depth': 7, 'l2_leaf_reg': 8.3, 'min_data_in_leaf': 32, 'random_strength': 5.1}. Best is trial 5 with value: -53595.407509423116.\n",
      "Fold 1 RMSE = 53540.32\n",
      "Fold 2 RMSE = 55019.49\n",
      "Fold 3 RMSE = 52023.97\n",
      "Fold 4 RMSE = 57810.03\n"
     ]
    },
    {
     "name": "stderr",
     "output_type": "stream",
     "text": [
      "Best trial: 5. Best value: -53595.4:  14%|█▍        | 14/100 [02:15<14:27, 10.08s/it]"
     ]
    },
    {
     "name": "stdout",
     "output_type": "stream",
     "text": [
      "Fold 5 RMSE = 54561.62\n",
      "[I 2023-07-24 13:52:07,137] Trial 13 finished with value: -54591.08556671285 and parameters: {'loss_function': 'MAE', 'learning_rate': 0.16, 'iterations': 700, 'max_depth': 8, 'l2_leaf_reg': 8.8, 'min_data_in_leaf': 25, 'random_strength': 8.5}. Best is trial 5 with value: -53595.407509423116.\n",
      "Fold 1 RMSE = 53189.52\n",
      "Fold 2 RMSE = 53913.31\n",
      "Fold 3 RMSE = 52201.95\n",
      "Fold 4 RMSE = 56255.58\n"
     ]
    },
    {
     "name": "stderr",
     "output_type": "stream",
     "text": [
      "Best trial: 5. Best value: -53595.4:  15%|█▌        | 15/100 [02:27<14:46, 10.43s/it]"
     ]
    },
    {
     "name": "stdout",
     "output_type": "stream",
     "text": [
      "Fold 5 RMSE = 54045.54\n",
      "[I 2023-07-24 13:52:18,381] Trial 14 finished with value: -53921.18296815948 and parameters: {'loss_function': 'RMSE', 'learning_rate': 0.09999999999999999, 'iterations': 900, 'max_depth': 6, 'l2_leaf_reg': 6.6, 'min_data_in_leaf': 37, 'random_strength': 6.0}. Best is trial 5 with value: -53595.407509423116.\n",
      "Fold 1 RMSE = 55131.18\n",
      "Fold 2 RMSE = 55473.79\n",
      "Fold 3 RMSE = 52485.93\n",
      "Fold 4 RMSE = 58291.87\n"
     ]
    },
    {
     "name": "stderr",
     "output_type": "stream",
     "text": [
      "Best trial: 5. Best value: -53595.4:  16%|█▌        | 16/100 [02:39<15:21, 10.97s/it]"
     ]
    },
    {
     "name": "stdout",
     "output_type": "stream",
     "text": [
      "Fold 5 RMSE = 55235.72\n",
      "[I 2023-07-24 13:52:30,608] Trial 15 finished with value: -55323.69914073028 and parameters: {'loss_function': 'MAE', 'learning_rate': 0.22, 'iterations': 600, 'max_depth': 8, 'l2_leaf_reg': 1.4000000000000001, 'min_data_in_leaf': 9, 'random_strength': 3.4000000000000004}. Best is trial 5 with value: -53595.407509423116.\n",
      "Fold 1 RMSE = 53560.95\n",
      "Fold 2 RMSE = 56173.37\n",
      "Fold 3 RMSE = 52508.20\n",
      "Fold 4 RMSE = 58128.71\n"
     ]
    },
    {
     "name": "stderr",
     "output_type": "stream",
     "text": [
      "Best trial: 5. Best value: -53595.4:  17%|█▋        | 17/100 [02:42<11:49,  8.55s/it]"
     ]
    },
    {
     "name": "stdout",
     "output_type": "stream",
     "text": [
      "Fold 5 RMSE = 55569.87\n",
      "[I 2023-07-24 13:52:33,512] Trial 16 finished with value: -55188.22008114473 and parameters: {'loss_function': 'RMSE', 'learning_rate': 0.06999999999999999, 'iterations': 150, 'max_depth': 6, 'l2_leaf_reg': 9.2, 'min_data_in_leaf': 21, 'random_strength': 8.6}. Best is trial 5 with value: -53595.407509423116.\n",
      "Fold 1 RMSE = 54864.87\n",
      "Fold 2 RMSE = 54945.84\n",
      "Fold 3 RMSE = 52401.16\n",
      "Fold 4 RMSE = 58787.47\n"
     ]
    },
    {
     "name": "stderr",
     "output_type": "stream",
     "text": [
      "Best trial: 5. Best value: -53595.4:  18%|█▊        | 18/100 [02:58<14:55, 10.92s/it]"
     ]
    },
    {
     "name": "stdout",
     "output_type": "stream",
     "text": [
      "Fold 5 RMSE = 55966.04\n",
      "[I 2023-07-24 13:52:49,962] Trial 17 finished with value: -55393.07563399723 and parameters: {'loss_function': 'MAE', 'learning_rate': 0.23, 'iterations': 600, 'max_depth': 9, 'l2_leaf_reg': 7.3, 'min_data_in_leaf': 30, 'random_strength': 0.4}. Best is trial 5 with value: -53595.407509423116.\n",
      "Fold 1 RMSE = 54043.33\n",
      "Fold 2 RMSE = 56392.54\n",
      "Fold 3 RMSE = 52890.50\n",
      "Fold 4 RMSE = 58698.05\n"
     ]
    },
    {
     "name": "stderr",
     "output_type": "stream",
     "text": [
      "Best trial: 5. Best value: -53595.4:  19%|█▉        | 19/100 [03:09<14:29, 10.73s/it]"
     ]
    },
    {
     "name": "stdout",
     "output_type": "stream",
     "text": [
      "Fold 5 RMSE = 55815.96\n",
      "[I 2023-07-24 13:53:00,249] Trial 18 finished with value: -55568.07755051747 and parameters: {'loss_function': 'RMSE', 'learning_rate': 0.01, 'iterations': 700, 'max_depth': 7, 'l2_leaf_reg': 5.7, 'min_data_in_leaf': 42, 'random_strength': 6.0}. Best is trial 5 with value: -53595.407509423116.\n",
      "Fold 1 RMSE = 157781.33\n",
      "Fold 2 RMSE = 157536.06\n",
      "Fold 3 RMSE = 160318.71\n",
      "Fold 4 RMSE = 159887.76\n"
     ]
    },
    {
     "name": "stderr",
     "output_type": "stream",
     "text": [
      "Best trial: 5. Best value: -53595.4:  20%|██        | 20/100 [03:12<11:29,  8.61s/it]"
     ]
    },
    {
     "name": "stdout",
     "output_type": "stream",
     "text": [
      "Fold 5 RMSE = 156112.31\n",
      "[I 2023-07-24 13:53:03,923] Trial 19 finished with value: -158327.23183437382 and parameters: {'loss_function': 'Poisson', 'learning_rate': 0.19, 'iterations': 200, 'max_depth': 5, 'l2_leaf_reg': 2.2, 'min_data_in_leaf': 8, 'random_strength': 8.8}. Best is trial 5 with value: -53595.407509423116.\n",
      "Fold 1 RMSE = 55519.65\n",
      "Fold 2 RMSE = 55152.19\n",
      "Fold 3 RMSE = 52557.81\n",
      "Fold 4 RMSE = 58786.18\n"
     ]
    },
    {
     "name": "stderr",
     "output_type": "stream",
     "text": [
      "Best trial: 5. Best value: -53595.4:  21%|██        | 21/100 [03:37<17:37, 13.38s/it]"
     ]
    },
    {
     "name": "stdout",
     "output_type": "stream",
     "text": [
      "Fold 5 RMSE = 57170.63\n",
      "[I 2023-07-24 13:53:28,423] Trial 20 finished with value: -55837.291594964954 and parameters: {'loss_function': 'MAE', 'learning_rate': 0.29000000000000004, 'iterations': 850, 'max_depth': 9, 'l2_leaf_reg': 7.0, 'min_data_in_leaf': 43, 'random_strength': 6.6}. Best is trial 5 with value: -53595.407509423116.\n",
      "Fold 1 RMSE = 52777.72\n",
      "Fold 2 RMSE = 53862.05\n",
      "Fold 3 RMSE = 52349.90\n",
      "Fold 4 RMSE = 56077.27\n"
     ]
    },
    {
     "name": "stderr",
     "output_type": "stream",
     "text": [
      "Best trial: 5. Best value: -53595.4:  22%|██▏       | 22/100 [03:49<17:05, 13.14s/it]"
     ]
    },
    {
     "name": "stdout",
     "output_type": "stream",
     "text": [
      "Fold 5 RMSE = 53832.93\n",
      "[I 2023-07-24 13:53:41,010] Trial 21 finished with value: -53779.972586232805 and parameters: {'loss_function': 'RMSE', 'learning_rate': 0.09, 'iterations': 950, 'max_depth': 6, 'l2_leaf_reg': 8.8, 'min_data_in_leaf': 35, 'random_strength': 4.2}. Best is trial 5 with value: -53595.407509423116.\n",
      "Fold 1 RMSE = 53255.34\n",
      "Fold 2 RMSE = 53832.14\n",
      "Fold 3 RMSE = 52231.33\n",
      "Fold 4 RMSE = 56207.88\n"
     ]
    },
    {
     "name": "stderr",
     "output_type": "stream",
     "text": [
      "Best trial: 5. Best value: -53595.4:  23%|██▎       | 23/100 [04:02<16:37, 12.95s/it]"
     ]
    },
    {
     "name": "stdout",
     "output_type": "stream",
     "text": [
      "Fold 5 RMSE = 54250.98\n",
      "[I 2023-07-24 13:53:53,507] Trial 22 finished with value: -53955.53274481307 and parameters: {'loss_function': 'RMSE', 'learning_rate': 0.12, 'iterations': 1000, 'max_depth': 6, 'l2_leaf_reg': 9.1, 'min_data_in_leaf': 30, 'random_strength': 4.0}. Best is trial 5 with value: -53595.407509423116.\n",
      "Fold 1 RMSE = 52262.88\n",
      "Fold 2 RMSE = 53796.72\n",
      "Fold 3 RMSE = 51823.83\n",
      "Fold 4 RMSE = 56101.26\n"
     ]
    },
    {
     "name": "stderr",
     "output_type": "stream",
     "text": [
      "Best trial: 23. Best value: -53488.7:  24%|██▍       | 24/100 [04:15<16:40, 13.16s/it]"
     ]
    },
    {
     "name": "stdout",
     "output_type": "stream",
     "text": [
      "Fold 5 RMSE = 53458.65\n",
      "[I 2023-07-24 13:54:07,174] Trial 23 finished with value: -53488.66706967511 and parameters: {'loss_function': 'RMSE', 'learning_rate': 0.060000000000000005, 'iterations': 900, 'max_depth': 7, 'l2_leaf_reg': 9.9, 'min_data_in_leaf': 38, 'random_strength': 2.4000000000000004}. Best is trial 23 with value: -53488.66706967511.\n",
      "Fold 1 RMSE = 51756.64\n",
      "Fold 2 RMSE = 53758.50\n",
      "Fold 3 RMSE = 51615.42\n",
      "Fold 4 RMSE = 56092.28\n"
     ]
    },
    {
     "name": "stderr",
     "output_type": "stream",
     "text": [
      "Best trial: 24. Best value: -53326:  25%|██▌       | 25/100 [04:28<16:17, 13.03s/it]  "
     ]
    },
    {
     "name": "stdout",
     "output_type": "stream",
     "text": [
      "Fold 5 RMSE = 53407.31\n",
      "[I 2023-07-24 13:54:19,900] Trial 24 finished with value: -53326.033504269784 and parameters: {'loss_function': 'RMSE', 'learning_rate': 0.05, 'iterations': 800, 'max_depth': 7, 'l2_leaf_reg': 10.0, 'min_data_in_leaf': 45, 'random_strength': 2.2}. Best is trial 24 with value: -53326.033504269784.\n",
      "Fold 1 RMSE = 51823.63\n",
      "Fold 2 RMSE = 53879.37\n",
      "Fold 3 RMSE = 51522.81\n",
      "Fold 4 RMSE = 56178.34\n"
     ]
    },
    {
     "name": "stderr",
     "output_type": "stream",
     "text": [
      "Best trial: 24. Best value: -53326:  26%|██▌       | 26/100 [04:41<16:04, 13.03s/it]"
     ]
    },
    {
     "name": "stdout",
     "output_type": "stream",
     "text": [
      "Fold 5 RMSE = 53540.90\n",
      "[I 2023-07-24 13:54:32,926] Trial 25 finished with value: -53389.00830164715 and parameters: {'loss_function': 'RMSE', 'learning_rate': 0.04, 'iterations': 800, 'max_depth': 7, 'l2_leaf_reg': 10.0, 'min_data_in_leaf': 44, 'random_strength': 1.8000000000000003}. Best is trial 24 with value: -53326.033504269784.\n",
      "Fold 1 RMSE = 52003.04\n",
      "Fold 2 RMSE = 53803.97\n",
      "Fold 3 RMSE = 51635.21\n",
      "Fold 4 RMSE = 56101.01\n"
     ]
    },
    {
     "name": "stderr",
     "output_type": "stream",
     "text": [
      "Best trial: 24. Best value: -53326:  27%|██▋       | 27/100 [04:54<15:53, 13.06s/it]"
     ]
    },
    {
     "name": "stdout",
     "output_type": "stream",
     "text": [
      "Fold 5 RMSE = 53569.46\n",
      "[I 2023-07-24 13:54:46,064] Trial 26 finished with value: -53422.53734048995 and parameters: {'loss_function': 'RMSE', 'learning_rate': 0.04, 'iterations': 850, 'max_depth': 7, 'l2_leaf_reg': 7.8, 'min_data_in_leaf': 46, 'random_strength': 1.8000000000000003}. Best is trial 24 with value: -53326.033504269784.\n",
      "Fold 1 RMSE = 51876.48\n",
      "Fold 2 RMSE = 54062.34\n",
      "Fold 3 RMSE = 51522.16\n",
      "Fold 4 RMSE = 56352.64\n"
     ]
    },
    {
     "name": "stderr",
     "output_type": "stream",
     "text": [
      "Best trial: 24. Best value: -53326:  28%|██▊       | 28/100 [05:06<15:19, 12.77s/it]"
     ]
    },
    {
     "name": "stdout",
     "output_type": "stream",
     "text": [
      "Fold 5 RMSE = 53597.18\n",
      "[I 2023-07-24 13:54:58,147] Trial 27 finished with value: -53482.15989481305 and parameters: {'loss_function': 'RMSE', 'learning_rate': 0.03, 'iterations': 800, 'max_depth': 7, 'l2_leaf_reg': 7.8, 'min_data_in_leaf': 45, 'random_strength': 0.8}. Best is trial 24 with value: -53326.033504269784.\n",
      "Fold 1 RMSE = 55178.07\n",
      "Fold 2 RMSE = 53880.14\n",
      "Fold 3 RMSE = 52095.30\n",
      "Fold 4 RMSE = 56332.92\n"
     ]
    },
    {
     "name": "stderr",
     "output_type": "stream",
     "text": [
      "Best trial: 24. Best value: -53326:  29%|██▉       | 29/100 [05:21<15:46, 13.33s/it]"
     ]
    },
    {
     "name": "stdout",
     "output_type": "stream",
     "text": [
      "Fold 5 RMSE = 55053.21\n",
      "[I 2023-07-24 13:55:12,779] Trial 28 finished with value: -54507.92707390383 and parameters: {'loss_function': 'RMSE', 'learning_rate': 0.14, 'iterations': 750, 'max_depth': 8, 'l2_leaf_reg': 5.4, 'min_data_in_leaf': 50, 'random_strength': 1.4000000000000001}. Best is trial 24 with value: -53326.033504269784.\n",
      "Fold 1 RMSE = 51957.75\n",
      "Fold 2 RMSE = 53815.27\n",
      "Fold 3 RMSE = 51581.03\n",
      "Fold 4 RMSE = 56137.97\n"
     ]
    },
    {
     "name": "stderr",
     "output_type": "stream",
     "text": [
      "Best trial: 24. Best value: -53326:  30%|███       | 30/100 [05:34<15:31, 13.30s/it]"
     ]
    },
    {
     "name": "stdout",
     "output_type": "stream",
     "text": [
      "Fold 5 RMSE = 53527.33\n",
      "[I 2023-07-24 13:55:26,030] Trial 29 finished with value: -53403.87058710101 and parameters: {'loss_function': 'RMSE', 'learning_rate': 0.04, 'iterations': 850, 'max_depth': 7, 'l2_leaf_reg': 8.5, 'min_data_in_leaf': 46, 'random_strength': 2.1}. Best is trial 24 with value: -53326.033504269784.\n",
      "Fold 1 RMSE = 52200.96\n",
      "Fold 2 RMSE = 53870.16\n",
      "Fold 3 RMSE = 51688.10\n",
      "Fold 4 RMSE = 56066.71\n"
     ]
    },
    {
     "name": "stderr",
     "output_type": "stream",
     "text": [
      "Best trial: 24. Best value: -53326:  31%|███       | 31/100 [05:46<14:39, 12.75s/it]"
     ]
    },
    {
     "name": "stdout",
     "output_type": "stream",
     "text": [
      "Fold 5 RMSE = 53417.69\n",
      "[I 2023-07-24 13:55:37,498] Trial 30 finished with value: -53448.72435486247 and parameters: {'loss_function': 'RMSE', 'learning_rate': 0.06999999999999999, 'iterations': 600, 'max_depth': 8, 'l2_leaf_reg': 9.4, 'min_data_in_leaf': 40, 'random_strength': 2.8000000000000003}. Best is trial 24 with value: -53326.033504269784.\n",
      "Fold 1 RMSE = 51928.82\n",
      "Fold 2 RMSE = 53994.73\n",
      "Fold 3 RMSE = 51512.76\n",
      "Fold 4 RMSE = 56379.20\n"
     ]
    },
    {
     "name": "stderr",
     "output_type": "stream",
     "text": [
      "Best trial: 24. Best value: -53326:  32%|███▏      | 32/100 [05:59<14:31, 12.81s/it]"
     ]
    },
    {
     "name": "stdout",
     "output_type": "stream",
     "text": [
      "Fold 5 RMSE = 53627.15\n",
      "[I 2023-07-24 13:55:50,442] Trial 31 finished with value: -53488.53356492302 and parameters: {'loss_function': 'RMSE', 'learning_rate': 0.03, 'iterations': 850, 'max_depth': 7, 'l2_leaf_reg': 8.6, 'min_data_in_leaf': 46, 'random_strength': 2.0}. Best is trial 24 with value: -53326.033504269784.\n",
      "Fold 1 RMSE = 52018.55\n",
      "Fold 2 RMSE = 53792.34\n",
      "Fold 3 RMSE = 51577.94\n",
      "Fold 4 RMSE = 56086.88\n"
     ]
    },
    {
     "name": "stderr",
     "output_type": "stream",
     "text": [
      "Best trial: 24. Best value: -53326:  33%|███▎      | 33/100 [06:11<14:10, 12.69s/it]"
     ]
    },
    {
     "name": "stdout",
     "output_type": "stream",
     "text": [
      "Fold 5 RMSE = 53546.72\n",
      "[I 2023-07-24 13:56:02,841] Trial 32 finished with value: -53404.486326549595 and parameters: {'loss_function': 'RMSE', 'learning_rate': 0.05, 'iterations': 800, 'max_depth': 7, 'l2_leaf_reg': 7.2, 'min_data_in_leaf': 46, 'random_strength': 1.2000000000000002}. Best is trial 24 with value: -53326.033504269784.\n",
      "Fold 1 RMSE = 53255.21\n",
      "Fold 2 RMSE = 53837.93\n",
      "Fold 3 RMSE = 52139.52\n",
      "Fold 4 RMSE = 56018.52\n"
     ]
    },
    {
     "name": "stderr",
     "output_type": "stream",
     "text": [
      "Best trial: 24. Best value: -53326:  34%|███▍      | 34/100 [06:23<13:39, 12.42s/it]"
     ]
    },
    {
     "name": "stdout",
     "output_type": "stream",
     "text": [
      "Fold 5 RMSE = 54125.90\n",
      "[I 2023-07-24 13:56:14,634] Trial 33 finished with value: -53875.41696112605 and parameters: {'loss_function': 'RMSE', 'learning_rate': 0.09999999999999999, 'iterations': 750, 'max_depth': 7, 'l2_leaf_reg': 7.2, 'min_data_in_leaf': 47, 'random_strength': 0.9}. Best is trial 24 with value: -53326.033504269784.\n",
      "Fold 1 RMSE = 157781.33\n",
      "Fold 2 RMSE = 157536.06\n",
      "Fold 3 RMSE = 160318.71\n",
      "Fold 4 RMSE = 159887.76\n"
     ]
    },
    {
     "name": "stderr",
     "output_type": "stream",
     "text": [
      "Best trial: 24. Best value: -53326:  35%|███▌      | 35/100 [06:42<15:41, 14.49s/it]"
     ]
    },
    {
     "name": "stdout",
     "output_type": "stream",
     "text": [
      "Fold 5 RMSE = 156112.31\n",
      "[I 2023-07-24 13:56:33,942] Trial 34 finished with value: -158327.23183437382 and parameters: {'loss_function': 'Poisson', 'learning_rate': 0.01, 'iterations': 950, 'max_depth': 8, 'l2_leaf_reg': 10.0, 'min_data_in_leaf': 40, 'random_strength': 0.1}. Best is trial 24 with value: -53326.033504269784.\n",
      "Fold 1 RMSE = 52409.21\n",
      "Fold 2 RMSE = 53716.76\n",
      "Fold 3 RMSE = 51621.21\n",
      "Fold 4 RMSE = 56079.01\n"
     ]
    },
    {
     "name": "stderr",
     "output_type": "stream",
     "text": [
      "Best trial: 24. Best value: -53326:  36%|███▌      | 36/100 [06:57<15:39, 14.68s/it]"
     ]
    },
    {
     "name": "stdout",
     "output_type": "stream",
     "text": [
      "Fold 5 RMSE = 53594.23\n",
      "[I 2023-07-24 13:56:49,087] Trial 35 finished with value: -53484.08353183842 and parameters: {'loss_function': 'RMSE', 'learning_rate': 0.060000000000000005, 'iterations': 800, 'max_depth': 8, 'l2_leaf_reg': 8.4, 'min_data_in_leaf': 43, 'random_strength': 3.5000000000000004}. Best is trial 24 with value: -53326.033504269784.\n",
      "Fold 1 RMSE = 52533.91\n",
      "Fold 2 RMSE = 54057.85\n",
      "Fold 3 RMSE = 52103.64\n",
      "Fold 4 RMSE = 56173.22\n"
     ]
    },
    {
     "name": "stderr",
     "output_type": "stream",
     "text": [
      "Best trial: 24. Best value: -53326:  37%|███▋      | 37/100 [07:06<13:28, 12.83s/it]"
     ]
    },
    {
     "name": "stdout",
     "output_type": "stream",
     "text": [
      "Fold 5 RMSE = 53741.50\n",
      "[I 2023-07-24 13:56:57,589] Trial 36 finished with value: -53722.0247146072 and parameters: {'loss_function': 'RMSE', 'learning_rate': 0.12, 'iterations': 650, 'max_depth': 6, 'l2_leaf_reg': 9.5, 'min_data_in_leaf': 40, 'random_strength': 1.3000000000000003}. Best is trial 24 with value: -53326.033504269784.\n",
      "Fold 1 RMSE = 157781.33\n",
      "Fold 2 RMSE = 157536.06\n",
      "Fold 3 RMSE = 160318.71\n",
      "Fold 4 RMSE = 159887.76\n"
     ]
    },
    {
     "name": "stderr",
     "output_type": "stream",
     "text": [
      "Best trial: 24. Best value: -53326:  38%|███▊      | 38/100 [07:18<13:10, 12.75s/it]"
     ]
    },
    {
     "name": "stdout",
     "output_type": "stream",
     "text": [
      "Fold 5 RMSE = 156112.31\n",
      "[I 2023-07-24 13:57:10,153] Trial 37 finished with value: -158327.23183437382 and parameters: {'loss_function': 'Poisson', 'learning_rate': 0.05, 'iterations': 900, 'max_depth': 5, 'l2_leaf_reg': 9.3, 'min_data_in_leaf': 48, 'random_strength': 2.7}. Best is trial 24 with value: -53326.033504269784.\n",
      "Fold 1 RMSE = 56550.42\n",
      "Fold 2 RMSE = 54633.15\n",
      "Fold 3 RMSE = 52058.21\n",
      "Fold 4 RMSE = 57053.11\n"
     ]
    },
    {
     "name": "stderr",
     "output_type": "stream",
     "text": [
      "Best trial: 24. Best value: -53326:  39%|███▉      | 39/100 [07:38<14:57, 14.72s/it]"
     ]
    },
    {
     "name": "stdout",
     "output_type": "stream",
     "text": [
      "Fold 5 RMSE = 56227.04\n",
      "[I 2023-07-24 13:57:29,460] Trial 38 finished with value: -55304.38752232886 and parameters: {'loss_function': 'RMSE', 'learning_rate': 0.27, 'iterations': 750, 'max_depth': 9, 'l2_leaf_reg': 7.6, 'min_data_in_leaf': 44, 'random_strength': 2.3000000000000003}. Best is trial 24 with value: -53326.033504269784.\n",
      "Fold 1 RMSE = 54483.97\n",
      "Fold 2 RMSE = 53908.97\n",
      "Fold 3 RMSE = 52153.43\n",
      "Fold 4 RMSE = 56536.76\n"
     ]
    },
    {
     "name": "stderr",
     "output_type": "stream",
     "text": [
      "Best trial: 24. Best value: -53326:  40%|████      | 40/100 [07:46<12:45, 12.76s/it]"
     ]
    },
    {
     "name": "stdout",
     "output_type": "stream",
     "text": [
      "Fold 5 RMSE = 54688.89\n",
      "[I 2023-07-24 13:57:37,656] Trial 39 finished with value: -54354.40397653496 and parameters: {'loss_function': 'RMSE', 'learning_rate': 0.19, 'iterations': 500, 'max_depth': 7, 'l2_leaf_reg': 4.5, 'min_data_in_leaf': 34, 'random_strength': 3.3000000000000003}. Best is trial 24 with value: -53326.033504269784.\n",
      "Fold 1 RMSE = 52571.61\n",
      "Fold 2 RMSE = 53912.17\n",
      "Fold 3 RMSE = 52375.60\n",
      "Fold 4 RMSE = 56024.49\n"
     ]
    },
    {
     "name": "stderr",
     "output_type": "stream",
     "text": [
      "Best trial: 24. Best value: -53326:  41%|████      | 41/100 [07:56<11:46, 11.97s/it]"
     ]
    },
    {
     "name": "stdout",
     "output_type": "stream",
     "text": [
      "Fold 5 RMSE = 53651.90\n",
      "[I 2023-07-24 13:57:47,795] Trial 40 finished with value: -53707.153953308334 and parameters: {'loss_function': 'RMSE', 'learning_rate': 0.08, 'iterations': 950, 'max_depth': 5, 'l2_leaf_reg': 6.8, 'min_data_in_leaf': 41, 'random_strength': 0.6}. Best is trial 24 with value: -53326.033504269784.\n",
      "Fold 1 RMSE = 52036.18\n",
      "Fold 2 RMSE = 53840.47\n",
      "Fold 3 RMSE = 51509.68\n",
      "Fold 4 RMSE = 56065.30\n"
     ]
    },
    {
     "name": "stderr",
     "output_type": "stream",
     "text": [
      "Best trial: 24. Best value: -53326:  42%|████▏     | 42/100 [08:09<11:55, 12.33s/it]"
     ]
    },
    {
     "name": "stdout",
     "output_type": "stream",
     "text": [
      "Fold 5 RMSE = 53503.37\n",
      "[I 2023-07-24 13:58:00,967] Trial 41 finished with value: -53391.00144595098 and parameters: {'loss_function': 'RMSE', 'learning_rate': 0.04, 'iterations': 850, 'max_depth': 7, 'l2_leaf_reg': 7.9, 'min_data_in_leaf': 46, 'random_strength': 1.7000000000000002}. Best is trial 24 with value: -53326.033504269784.\n",
      "Fold 1 RMSE = 51839.67\n",
      "Fold 2 RMSE = 53931.26\n",
      "Fold 3 RMSE = 51552.51\n",
      "Fold 4 RMSE = 56036.56\n"
     ]
    },
    {
     "name": "stderr",
     "output_type": "stream",
     "text": [
      "Best trial: 24. Best value: -53326:  43%|████▎     | 43/100 [08:21<11:34, 12.18s/it]"
     ]
    },
    {
     "name": "stdout",
     "output_type": "stream",
     "text": [
      "Fold 5 RMSE = 53576.02\n",
      "[I 2023-07-24 13:58:12,799] Trial 42 finished with value: -53387.201202301214 and parameters: {'loss_function': 'RMSE', 'learning_rate': 0.04, 'iterations': 800, 'max_depth': 7, 'l2_leaf_reg': 8.2, 'min_data_in_leaf': 48, 'random_strength': 1.2000000000000002}. Best is trial 24 with value: -53326.033504269784.\n",
      "Fold 1 RMSE = 51867.10\n",
      "Fold 2 RMSE = 54133.01\n",
      "Fold 3 RMSE = 51654.16\n",
      "Fold 4 RMSE = 56498.88\n"
     ]
    },
    {
     "name": "stderr",
     "output_type": "stream",
     "text": [
      "Best trial: 24. Best value: -53326:  44%|████▍     | 44/100 [08:32<11:02, 11.83s/it]"
     ]
    },
    {
     "name": "stdout",
     "output_type": "stream",
     "text": [
      "Fold 5 RMSE = 53753.62\n",
      "[I 2023-07-24 13:58:23,803] Trial 43 finished with value: -53581.35392159047 and parameters: {'loss_function': 'RMSE', 'learning_rate': 0.03, 'iterations': 850, 'max_depth': 6, 'l2_leaf_reg': 8.8, 'min_data_in_leaf': 49, 'random_strength': 2.0}. Best is trial 24 with value: -53326.033504269784.\n",
      "Fold 1 RMSE = 59064.70\n",
      "Fold 2 RMSE = 55910.68\n",
      "Fold 3 RMSE = 52625.03\n",
      "Fold 4 RMSE = 58697.25\n"
     ]
    },
    {
     "name": "stderr",
     "output_type": "stream",
     "text": [
      "Best trial: 24. Best value: -53326:  45%|████▌     | 45/100 [08:43<10:30, 11.47s/it]"
     ]
    },
    {
     "name": "stdout",
     "output_type": "stream",
     "text": [
      "Fold 5 RMSE = 56802.92\n",
      "[I 2023-07-24 13:58:34,437] Trial 44 finished with value: -56620.11826957697 and parameters: {'loss_function': 'RMSE', 'learning_rate': 0.37, 'iterations': 650, 'max_depth': 7, 'l2_leaf_reg': 0.1, 'min_data_in_leaf': 50, 'random_strength': 1.4000000000000001}. Best is trial 24 with value: -53326.033504269784.\n",
      "Fold 1 RMSE = 157781.33\n",
      "Fold 2 RMSE = 157536.06\n",
      "Fold 3 RMSE = 160318.71\n",
      "Fold 4 RMSE = 159887.76\n"
     ]
    },
    {
     "name": "stderr",
     "output_type": "stream",
     "text": [
      "Best trial: 24. Best value: -53326:  46%|████▌     | 46/100 [09:01<12:04, 13.41s/it]"
     ]
    },
    {
     "name": "stdout",
     "output_type": "stream",
     "text": [
      "Fold 5 RMSE = 156112.31\n",
      "[I 2023-07-24 13:58:52,368] Trial 45 finished with value: -158327.23183437382 and parameters: {'loss_function': 'Poisson', 'learning_rate': 0.09999999999999999, 'iterations': 750, 'max_depth': 8, 'l2_leaf_reg': 8.3, 'min_data_in_leaf': 38, 'random_strength': 2.7}. Best is trial 24 with value: -53326.033504269784.\n",
      "Fold 1 RMSE = 53613.55\n",
      "Fold 2 RMSE = 53919.23\n",
      "Fold 3 RMSE = 52526.37\n",
      "Fold 4 RMSE = 56260.78\n"
     ]
    },
    {
     "name": "stderr",
     "output_type": "stream",
     "text": [
      "Best trial: 24. Best value: -53326:  47%|████▋     | 47/100 [09:12<11:18, 12.79s/it]"
     ]
    },
    {
     "name": "stdout",
     "output_type": "stream",
     "text": [
      "Fold 5 RMSE = 54193.74\n",
      "[I 2023-07-24 13:59:03,724] Trial 46 finished with value: -54102.734158887106 and parameters: {'loss_function': 'RMSE', 'learning_rate': 0.15000000000000002, 'iterations': 900, 'max_depth': 6, 'l2_leaf_reg': 9.6, 'min_data_in_leaf': 44, 'random_strength': 3.1}. Best is trial 24 with value: -53326.033504269784.\n",
      "Fold 1 RMSE = 52123.34\n",
      "Fold 2 RMSE = 54141.59\n",
      "Fold 3 RMSE = 51688.81\n",
      "Fold 4 RMSE = 56646.40\n"
     ]
    },
    {
     "name": "stderr",
     "output_type": "stream",
     "text": [
      "Best trial: 24. Best value: -53326:  48%|████▊     | 48/100 [09:24<10:55, 12.60s/it]"
     ]
    },
    {
     "name": "stdout",
     "output_type": "stream",
     "text": [
      "Fold 5 RMSE = 53802.46\n",
      "[I 2023-07-24 13:59:15,885] Trial 47 finished with value: -53680.52135292198 and parameters: {'loss_function': 'RMSE', 'learning_rate': 0.02, 'iterations': 800, 'max_depth': 7, 'l2_leaf_reg': 6.2, 'min_data_in_leaf': 48, 'random_strength': 0.1}. Best is trial 24 with value: -53326.033504269784.\n",
      "Fold 1 RMSE = 53654.52\n",
      "Fold 2 RMSE = 53734.62\n",
      "Fold 3 RMSE = 52664.18\n",
      "Fold 4 RMSE = 56390.71\n"
     ]
    },
    {
     "name": "stderr",
     "output_type": "stream",
     "text": [
      "Best trial: 24. Best value: -53326:  49%|████▉     | 49/100 [09:39<11:16, 13.26s/it]"
     ]
    },
    {
     "name": "stdout",
     "output_type": "stream",
     "text": [
      "Fold 5 RMSE = 54160.72\n",
      "[I 2023-07-24 13:59:30,691] Trial 48 finished with value: -54120.95195835138 and parameters: {'loss_function': 'RMSE', 'learning_rate': 0.11, 'iterations': 1000, 'max_depth': 7, 'l2_leaf_reg': 8.0, 'min_data_in_leaf': 19, 'random_strength': 4.7}. Best is trial 24 with value: -53326.033504269784.\n",
      "Fold 1 RMSE = 52034.96\n",
      "Fold 2 RMSE = 53763.51\n",
      "Fold 3 RMSE = 51672.35\n",
      "Fold 4 RMSE = 56230.91\n"
     ]
    },
    {
     "name": "stderr",
     "output_type": "stream",
     "text": [
      "Best trial: 24. Best value: -53326:  50%|█████     | 50/100 [09:48<09:52, 11.85s/it]"
     ]
    },
    {
     "name": "stdout",
     "output_type": "stream",
     "text": [
      "Fold 5 RMSE = 53476.11\n",
      "[I 2023-07-24 13:59:39,226] Trial 49 finished with value: -53435.56879254254 and parameters: {'loss_function': 'RMSE', 'learning_rate': 0.08, 'iterations': 650, 'max_depth': 6, 'l2_leaf_reg': 8.9, 'min_data_in_leaf': 47, 'random_strength': 2.3000000000000003}. Best is trial 24 with value: -53326.033504269784.\n",
      "Fold 1 RMSE = 52314.28\n",
      "Fold 2 RMSE = 54928.24\n",
      "Fold 3 RMSE = 51965.58\n",
      "Fold 4 RMSE = 57147.82\n"
     ]
    },
    {
     "name": "stderr",
     "output_type": "stream",
     "text": [
      "Best trial: 24. Best value: -53326:  51%|█████     | 51/100 [09:55<08:32, 10.46s/it]"
     ]
    },
    {
     "name": "stdout",
     "output_type": "stream",
     "text": [
      "Fold 5 RMSE = 53506.96\n",
      "[I 2023-07-24 13:59:46,450] Trial 50 finished with value: -53972.576511613675 and parameters: {'loss_function': 'MAE', 'learning_rate': 0.04, 'iterations': 350, 'max_depth': 8, 'l2_leaf_reg': 3.1, 'min_data_in_leaf': 37, 'random_strength': 3.7}. Best is trial 24 with value: -53326.033504269784.\n",
      "Fold 1 RMSE = 52051.61\n",
      "Fold 2 RMSE = 53782.75\n",
      "Fold 3 RMSE = 51741.26\n",
      "Fold 4 RMSE = 56102.54\n"
     ]
    },
    {
     "name": "stderr",
     "output_type": "stream",
     "text": [
      "Best trial: 24. Best value: -53326:  52%|█████▏    | 52/100 [10:07<08:47, 10.99s/it]"
     ]
    },
    {
     "name": "stdout",
     "output_type": "stream",
     "text": [
      "Fold 5 RMSE = 53631.03\n",
      "[I 2023-07-24 13:59:58,696] Trial 51 finished with value: -53461.839283422414 and parameters: {'loss_function': 'RMSE', 'learning_rate': 0.05, 'iterations': 800, 'max_depth': 7, 'l2_leaf_reg': 7.5, 'min_data_in_leaf': 45, 'random_strength': 1.2000000000000002}. Best is trial 24 with value: -53326.033504269784.\n",
      "Fold 1 RMSE = 53368.38\n",
      "Fold 2 RMSE = 55703.98\n",
      "Fold 3 RMSE = 52290.27\n",
      "Fold 4 RMSE = 57621.94\n"
     ]
    },
    {
     "name": "stderr",
     "output_type": "stream",
     "text": [
      "Best trial: 24. Best value: -53326:  53%|█████▎    | 53/100 [10:20<08:58, 11.45s/it]"
     ]
    },
    {
     "name": "stdout",
     "output_type": "stream",
     "text": [
      "Fold 5 RMSE = 55207.44\n",
      "[I 2023-07-24 14:00:11,195] Trial 52 finished with value: -54838.40190212162 and parameters: {'loss_function': 'RMSE', 'learning_rate': 0.01, 'iterations': 850, 'max_depth': 7, 'l2_leaf_reg': 8.2, 'min_data_in_leaf': 42, 'random_strength': 1.0}. Best is trial 24 with value: -53326.033504269784.\n",
      "Fold 1 RMSE = 56275.49\n",
      "Fold 2 RMSE = 54575.25\n",
      "Fold 3 RMSE = 53219.03\n",
      "Fold 4 RMSE = 57123.99\n"
     ]
    },
    {
     "name": "stderr",
     "output_type": "stream",
     "text": [
      "Best trial: 24. Best value: -53326:  54%|█████▍    | 54/100 [10:31<08:48, 11.48s/it]"
     ]
    },
    {
     "name": "stdout",
     "output_type": "stream",
     "text": [
      "Fold 5 RMSE = 56110.33\n",
      "[I 2023-07-24 14:00:22,760] Trial 53 finished with value: -55460.81852078547 and parameters: {'loss_function': 'RMSE', 'learning_rate': 0.43, 'iterations': 750, 'max_depth': 7, 'l2_leaf_reg': 9.6, 'min_data_in_leaf': 47, 'random_strength': 1.8000000000000003}. Best is trial 24 with value: -53326.033504269784.\n",
      "Fold 1 RMSE = 52950.62\n",
      "Fold 2 RMSE = 53819.54\n",
      "Fold 3 RMSE = 51667.15\n",
      "Fold 4 RMSE = 56071.15\n"
     ]
    },
    {
     "name": "stderr",
     "output_type": "stream",
     "text": [
      "Best trial: 24. Best value: -53326:  55%|█████▌    | 55/100 [10:47<09:30, 12.67s/it]"
     ]
    },
    {
     "name": "stdout",
     "output_type": "stream",
     "text": [
      "Fold 5 RMSE = 53912.37\n",
      "[I 2023-07-24 14:00:38,201] Trial 54 finished with value: -53684.16864428108 and parameters: {'loss_function': 'RMSE', 'learning_rate': 0.060000000000000005, 'iterations': 800, 'max_depth': 8, 'l2_leaf_reg': 6.5, 'min_data_in_leaf': 45, 'random_strength': 0.5}. Best is trial 24 with value: -53326.033504269784.\n",
      "Fold 1 RMSE = 52114.08\n",
      "Fold 2 RMSE = 53755.73\n",
      "Fold 3 RMSE = 52029.86\n",
      "Fold 4 RMSE = 56044.85\n"
     ]
    },
    {
     "name": "stderr",
     "output_type": "stream",
     "text": [
      "Best trial: 24. Best value: -53326:  56%|█████▌    | 56/100 [10:56<08:29, 11.57s/it]"
     ]
    },
    {
     "name": "stdout",
     "output_type": "stream",
     "text": [
      "Fold 5 RMSE = 53593.36\n",
      "[I 2023-07-24 14:00:47,221] Trial 55 finished with value: -53507.5763772143 and parameters: {'loss_function': 'RMSE', 'learning_rate': 0.08, 'iterations': 700, 'max_depth': 6, 'l2_leaf_reg': 8.5, 'min_data_in_leaf': 50, 'random_strength': 1.6}. Best is trial 24 with value: -53326.033504269784.\n",
      "Fold 1 RMSE = 52118.11\n",
      "Fold 2 RMSE = 53739.76\n",
      "Fold 3 RMSE = 51568.29\n",
      "Fold 4 RMSE = 56014.96\n"
     ]
    },
    {
     "name": "stderr",
     "output_type": "stream",
     "text": [
      "Best trial: 24. Best value: -53326:  57%|█████▋    | 57/100 [11:10<08:54, 12.43s/it]"
     ]
    },
    {
     "name": "stdout",
     "output_type": "stream",
     "text": [
      "Fold 5 RMSE = 53513.62\n",
      "[I 2023-07-24 14:01:01,633] Trial 56 finished with value: -53390.949602206296 and parameters: {'loss_function': 'RMSE', 'learning_rate': 0.04, 'iterations': 950, 'max_depth': 7, 'l2_leaf_reg': 7.1, 'min_data_in_leaf': 43, 'random_strength': 2.3000000000000003}. Best is trial 24 with value: -53326.033504269784.\n",
      "Fold 1 RMSE = 157781.33\n",
      "Fold 2 RMSE = 157536.06\n",
      "Fold 3 RMSE = 160318.71\n",
      "Fold 4 RMSE = 159887.76\n"
     ]
    },
    {
     "name": "stderr",
     "output_type": "stream",
     "text": [
      "Best trial: 24. Best value: -53326:  58%|█████▊    | 58/100 [11:21<08:27, 12.09s/it]"
     ]
    },
    {
     "name": "stdout",
     "output_type": "stream",
     "text": [
      "Fold 5 RMSE = 156112.31\n",
      "[I 2023-07-24 14:01:12,948] Trial 57 finished with value: -158327.23183437382 and parameters: {'loss_function': 'Poisson', 'learning_rate': 0.33, 'iterations': 950, 'max_depth': 4, 'l2_leaf_reg': 9.1, 'min_data_in_leaf': 42, 'random_strength': 2.3000000000000003}. Best is trial 24 with value: -53326.033504269784.\n",
      "Fold 1 RMSE = 51940.04\n",
      "Fold 2 RMSE = 54592.15\n",
      "Fold 3 RMSE = 51599.71\n",
      "Fold 4 RMSE = 56820.27\n"
     ]
    },
    {
     "name": "stderr",
     "output_type": "stream",
     "text": [
      "Best trial: 24. Best value: -53326:  59%|█████▉    | 59/100 [11:38<09:17, 13.60s/it]"
     ]
    },
    {
     "name": "stdout",
     "output_type": "stream",
     "text": [
      "Fold 5 RMSE = 53013.83\n",
      "[I 2023-07-24 14:01:30,076] Trial 58 finished with value: -53593.20111822443 and parameters: {'loss_function': 'MAE', 'learning_rate': 0.03, 'iterations': 900, 'max_depth': 8, 'l2_leaf_reg': 8.0, 'min_data_in_leaf': 39, 'random_strength': 3.1}. Best is trial 24 with value: -53326.033504269784.\n",
      "Fold 1 RMSE = 53407.34\n",
      "Fold 2 RMSE = 54060.98\n",
      "Fold 3 RMSE = 51956.96\n",
      "Fold 4 RMSE = 56181.03\n"
     ]
    },
    {
     "name": "stderr",
     "output_type": "stream",
     "text": [
      "Best trial: 24. Best value: -53326:  60%|██████    | 60/100 [11:50<08:41, 13.03s/it]"
     ]
    },
    {
     "name": "stdout",
     "output_type": "stream",
     "text": [
      "Fold 5 RMSE = 54007.38\n",
      "[I 2023-07-24 14:01:41,757] Trial 59 finished with value: -53922.73871815923 and parameters: {'loss_function': 'RMSE', 'learning_rate': 0.09, 'iterations': 950, 'max_depth': 6, 'l2_leaf_reg': 5.8, 'min_data_in_leaf': 36, 'random_strength': 2.0}. Best is trial 24 with value: -53326.033504269784.\n",
      "Fold 1 RMSE = 53525.20\n",
      "Fold 2 RMSE = 55935.62\n",
      "Fold 3 RMSE = 52404.80\n",
      "Fold 4 RMSE = 58092.75\n"
     ]
    },
    {
     "name": "stderr",
     "output_type": "stream",
     "text": [
      "Best trial: 24. Best value: -53326:  61%|██████    | 61/100 [12:02<08:16, 12.74s/it]"
     ]
    },
    {
     "name": "stdout",
     "output_type": "stream",
     "text": [
      "Fold 5 RMSE = 55481.06\n",
      "[I 2023-07-24 14:01:53,815] Trial 60 finished with value: -55087.8861169122 and parameters: {'loss_function': 'RMSE', 'learning_rate': 0.01, 'iterations': 850, 'max_depth': 7, 'l2_leaf_reg': 10.0, 'min_data_in_leaf': 27, 'random_strength': 3.9000000000000004}. Best is trial 24 with value: -53326.033504269784.\n",
      "Fold 1 RMSE = 52445.20\n",
      "Fold 2 RMSE = 53718.81\n",
      "Fold 3 RMSE = 51791.61\n",
      "Fold 4 RMSE = 56024.31\n"
     ]
    },
    {
     "name": "stderr",
     "output_type": "stream",
     "text": [
      "Best trial: 24. Best value: -53326:  62%|██████▏   | 62/100 [12:17<08:27, 13.37s/it]"
     ]
    },
    {
     "name": "stdout",
     "output_type": "stream",
     "text": [
      "Fold 5 RMSE = 53522.99\n",
      "[I 2023-07-24 14:02:08,647] Trial 61 finished with value: -53500.58457907217 and parameters: {'loss_function': 'RMSE', 'learning_rate': 0.05, 'iterations': 1000, 'max_depth': 7, 'l2_leaf_reg': 7.1, 'min_data_in_leaf': 48, 'random_strength': 1.6}. Best is trial 24 with value: -53326.033504269784.\n",
      "Fold 1 RMSE = 52869.94\n",
      "Fold 2 RMSE = 53807.57\n",
      "Fold 3 RMSE = 52336.09\n",
      "Fold 4 RMSE = 56066.70\n"
     ]
    },
    {
     "name": "stderr",
     "output_type": "stream",
     "text": [
      "Best trial: 24. Best value: -53326:  63%|██████▎   | 63/100 [12:30<08:15, 13.38s/it]"
     ]
    },
    {
     "name": "stdout",
     "output_type": "stream",
     "text": [
      "Fold 5 RMSE = 53941.04\n",
      "[I 2023-07-24 14:02:22,068] Trial 62 finished with value: -53804.26999119617 and parameters: {'loss_function': 'RMSE', 'learning_rate': 0.06999999999999999, 'iterations': 900, 'max_depth': 7, 'l2_leaf_reg': 7.4, 'min_data_in_leaf': 43, 'random_strength': 0.9}. Best is trial 24 with value: -53326.033504269784.\n",
      "Fold 1 RMSE = 51994.70\n",
      "Fold 2 RMSE = 53814.13\n",
      "Fold 3 RMSE = 51744.35\n",
      "Fold 4 RMSE = 56077.08\n"
     ]
    },
    {
     "name": "stderr",
     "output_type": "stream",
     "text": [
      "Best trial: 24. Best value: -53326:  64%|██████▍   | 64/100 [12:42<07:45, 12.92s/it]"
     ]
    },
    {
     "name": "stdout",
     "output_type": "stream",
     "text": [
      "Fold 5 RMSE = 53533.31\n",
      "[I 2023-07-24 14:02:33,906] Trial 63 finished with value: -53432.71537363331 and parameters: {'loss_function': 'RMSE', 'learning_rate': 0.04, 'iterations': 800, 'max_depth': 7, 'l2_leaf_reg': 6.8, 'min_data_in_leaf': 46, 'random_strength': 1.2000000000000002}. Best is trial 24 with value: -53326.033504269784.\n",
      "Fold 1 RMSE = 53520.46\n",
      "Fold 2 RMSE = 53963.25\n",
      "Fold 3 RMSE = 52194.08\n",
      "Fold 4 RMSE = 56381.22\n"
     ]
    },
    {
     "name": "stderr",
     "output_type": "stream",
     "text": [
      "Best trial: 24. Best value: -53326:  65%|██████▌   | 65/100 [12:55<07:30, 12.86s/it]"
     ]
    },
    {
     "name": "stdout",
     "output_type": "stream",
     "text": [
      "Fold 5 RMSE = 54171.59\n",
      "[I 2023-07-24 14:02:46,634] Trial 64 finished with value: -54046.121956786 and parameters: {'loss_function': 'RMSE', 'learning_rate': 0.13, 'iterations': 850, 'max_depth': 7, 'l2_leaf_reg': 8.6, 'min_data_in_leaf': 44, 'random_strength': 2.7}. Best is trial 24 with value: -53326.033504269784.\n",
      "Fold 1 RMSE = 52710.39\n",
      "Fold 2 RMSE = 53721.56\n",
      "Fold 3 RMSE = 51667.27\n",
      "Fold 4 RMSE = 56194.40\n"
     ]
    },
    {
     "name": "stderr",
     "output_type": "stream",
     "text": [
      "Best trial: 24. Best value: -53326:  66%|██████▌   | 66/100 [13:06<06:54, 12.20s/it]"
     ]
    },
    {
     "name": "stdout",
     "output_type": "stream",
     "text": [
      "Fold 5 RMSE = 53888.98\n",
      "[I 2023-07-24 14:02:57,300] Trial 65 finished with value: -53636.52056006738 and parameters: {'loss_function': 'RMSE', 'learning_rate': 0.060000000000000005, 'iterations': 700, 'max_depth': 7, 'l2_leaf_reg': 4.9, 'min_data_in_leaf': 46, 'random_strength': 2.4000000000000004}. Best is trial 24 with value: -53326.033504269784.\n",
      "Fold 1 RMSE = 51864.93\n",
      "Fold 2 RMSE = 54044.91\n",
      "Fold 3 RMSE = 51472.92\n",
      "Fold 4 RMSE = 56385.66\n"
     ]
    },
    {
     "name": "stderr",
     "output_type": "stream",
     "text": [
      "Best trial: 24. Best value: -53326:  67%|██████▋   | 67/100 [13:20<07:00, 12.75s/it]"
     ]
    },
    {
     "name": "stdout",
     "output_type": "stream",
     "text": [
      "Fold 5 RMSE = 53672.26\n",
      "[I 2023-07-24 14:03:11,315] Trial 66 finished with value: -53488.13531883525 and parameters: {'loss_function': 'RMSE', 'learning_rate': 0.03, 'iterations': 750, 'max_depth': 8, 'l2_leaf_reg': 7.9, 'min_data_in_leaf': 41, 'random_strength': 0.6}. Best is trial 24 with value: -53326.033504269784.\n",
      "Fold 1 RMSE = 53005.34\n",
      "Fold 2 RMSE = 53874.67\n",
      "Fold 3 RMSE = 52350.32\n",
      "Fold 4 RMSE = 56180.18\n"
     ]
    },
    {
     "name": "stderr",
     "output_type": "stream",
     "text": [
      "Best trial: 24. Best value: -53326:  68%|██████▊   | 68/100 [13:31<06:32, 12.27s/it]"
     ]
    },
    {
     "name": "stdout",
     "output_type": "stream",
     "text": [
      "Fold 5 RMSE = 53658.19\n",
      "[I 2023-07-24 14:03:22,461] Trial 67 finished with value: -53813.74070721554 and parameters: {'loss_function': 'RMSE', 'learning_rate': 0.11, 'iterations': 900, 'max_depth': 6, 'l2_leaf_reg': 9.700000000000001, 'min_data_in_leaf': 49, 'random_strength': 1.9000000000000001}. Best is trial 24 with value: -53326.033504269784.\n",
      "Fold 1 RMSE = 53076.31\n",
      "Fold 2 RMSE = 54837.53\n",
      "Fold 3 RMSE = 51501.33\n",
      "Fold 4 RMSE = 57473.76\n"
     ]
    },
    {
     "name": "stderr",
     "output_type": "stream",
     "text": [
      "Best trial: 24. Best value: -53326:  69%|██████▉   | 69/100 [13:46<06:50, 13.23s/it]"
     ]
    },
    {
     "name": "stdout",
     "output_type": "stream",
     "text": [
      "Fold 5 RMSE = 54123.52\n",
      "[I 2023-07-24 14:03:37,938] Trial 68 finished with value: -54202.488270147165 and parameters: {'loss_function': 'MAE', 'learning_rate': 0.09, 'iterations': 800, 'max_depth': 8, 'l2_leaf_reg': 7.6, 'min_data_in_leaf': 12, 'random_strength': 1.5000000000000002}. Best is trial 24 with value: -53326.033504269784.\n",
      "Fold 1 RMSE = 52061.19\n",
      "Fold 2 RMSE = 54517.83\n",
      "Fold 3 RMSE = 51588.55\n",
      "Fold 4 RMSE = 56707.92\n"
     ]
    },
    {
     "name": "stderr",
     "output_type": "stream",
     "text": [
      "Best trial: 24. Best value: -53326:  70%|███████   | 70/100 [14:00<06:42, 13.40s/it]"
     ]
    },
    {
     "name": "stdout",
     "output_type": "stream",
     "text": [
      "Fold 5 RMSE = 53993.96\n",
      "[I 2023-07-24 14:03:51,750] Trial 69 finished with value: -53773.88991184032 and parameters: {'loss_function': 'RMSE', 'learning_rate': 0.02, 'iterations': 950, 'max_depth': 7, 'l2_leaf_reg': 9.0, 'min_data_in_leaf': 33, 'random_strength': 1.1}. Best is trial 24 with value: -53326.033504269784.\n",
      "Fold 1 RMSE = 157781.33\n",
      "Fold 2 RMSE = 157536.06\n",
      "Fold 3 RMSE = 160318.71\n",
      "Fold 4 RMSE = 159887.76\n"
     ]
    },
    {
     "name": "stderr",
     "output_type": "stream",
     "text": [
      "Best trial: 24. Best value: -53326:  71%|███████   | 71/100 [14:10<06:02, 12.50s/it]"
     ]
    },
    {
     "name": "stdout",
     "output_type": "stream",
     "text": [
      "Fold 5 RMSE = 156112.31\n",
      "[I 2023-07-24 14:04:02,158] Trial 70 finished with value: -158327.23183437382 and parameters: {'loss_function': 'Poisson', 'learning_rate': 0.05, 'iterations': 550, 'max_depth': 7, 'l2_leaf_reg': 6.4, 'min_data_in_leaf': 44, 'random_strength': 0.30000000000000004}. Best is trial 24 with value: -53326.033504269784.\n",
      "Fold 1 RMSE = 51831.27\n",
      "Fold 2 RMSE = 53824.90\n",
      "Fold 3 RMSE = 51518.96\n",
      "Fold 4 RMSE = 56051.09\n"
     ]
    },
    {
     "name": "stderr",
     "output_type": "stream",
     "text": [
      "Best trial: 24. Best value: -53326:  72%|███████▏  | 72/100 [14:23<05:51, 12.54s/it]"
     ]
    },
    {
     "name": "stdout",
     "output_type": "stream",
     "text": [
      "Fold 5 RMSE = 53529.50\n",
      "[I 2023-07-24 14:04:14,766] Trial 71 finished with value: -53351.143469977585 and parameters: {'loss_function': 'RMSE', 'learning_rate': 0.04, 'iterations': 850, 'max_depth': 7, 'l2_leaf_reg': 7.8, 'min_data_in_leaf': 46, 'random_strength': 1.7000000000000002}. Best is trial 24 with value: -53326.033504269784.\n",
      "Fold 1 RMSE = 52641.44\n",
      "Fold 2 RMSE = 53862.08\n",
      "Fold 3 RMSE = 51960.21\n",
      "Fold 4 RMSE = 56063.78\n"
     ]
    },
    {
     "name": "stderr",
     "output_type": "stream",
     "text": [
      "Best trial: 24. Best value: -53326:  73%|███████▎  | 73/100 [14:36<05:40, 12.60s/it]"
     ]
    },
    {
     "name": "stdout",
     "output_type": "stream",
     "text": [
      "Fold 5 RMSE = 53917.17\n",
      "[I 2023-07-24 14:04:27,505] Trial 72 finished with value: -53688.93708672002 and parameters: {'loss_function': 'RMSE', 'learning_rate': 0.06999999999999999, 'iterations': 850, 'max_depth': 7, 'l2_leaf_reg': 7.0, 'min_data_in_leaf': 48, 'random_strength': 2.2}. Best is trial 24 with value: -53326.033504269784.\n",
      "Fold 1 RMSE = 52199.11\n",
      "Fold 2 RMSE = 53927.25\n",
      "Fold 3 RMSE = 51605.26\n",
      "Fold 4 RMSE = 56262.89\n"
     ]
    },
    {
     "name": "stderr",
     "output_type": "stream",
     "text": [
      "Best trial: 24. Best value: -53326:  74%|███████▍  | 74/100 [14:48<05:22, 12.40s/it]"
     ]
    },
    {
     "name": "stdout",
     "output_type": "stream",
     "text": [
      "Fold 5 RMSE = 53621.99\n",
      "[I 2023-07-24 14:04:39,462] Trial 73 finished with value: -53523.30052381121 and parameters: {'loss_function': 'RMSE', 'learning_rate': 0.04, 'iterations': 800, 'max_depth': 7, 'l2_leaf_reg': 5.9, 'min_data_in_leaf': 45, 'random_strength': 5.6}. Best is trial 24 with value: -53326.033504269784.\n",
      "Fold 1 RMSE = 52182.67\n",
      "Fold 2 RMSE = 54575.07\n",
      "Fold 3 RMSE = 51795.50\n",
      "Fold 4 RMSE = 56783.49\n"
     ]
    },
    {
     "name": "stderr",
     "output_type": "stream",
     "text": [
      "Best trial: 24. Best value: -53326:  75%|███████▌  | 75/100 [14:58<04:55, 11.81s/it]"
     ]
    },
    {
     "name": "stdout",
     "output_type": "stream",
     "text": [
      "Fold 5 RMSE = 54186.67\n",
      "[I 2023-07-24 14:04:49,901] Trial 74 finished with value: -53904.681537920784 and parameters: {'loss_function': 'RMSE', 'learning_rate': 0.02, 'iterations': 850, 'max_depth': 6, 'l2_leaf_reg': 8.2, 'min_data_in_leaf': 23, 'random_strength': 0.8}. Best is trial 24 with value: -53326.033504269784.\n",
      "Fold 1 RMSE = 52434.70\n",
      "Fold 2 RMSE = 53800.39\n",
      "Fold 3 RMSE = 51554.28\n",
      "Fold 4 RMSE = 56138.46\n"
     ]
    },
    {
     "name": "stderr",
     "output_type": "stream",
     "text": [
      "Best trial: 24. Best value: -53326:  76%|███████▌  | 76/100 [15:15<05:19, 13.29s/it]"
     ]
    },
    {
     "name": "stdout",
     "output_type": "stream",
     "text": [
      "Fold 5 RMSE = 53672.25\n",
      "[I 2023-07-24 14:05:06,637] Trial 75 finished with value: -53520.01543474995 and parameters: {'loss_function': 'RMSE', 'learning_rate': 0.060000000000000005, 'iterations': 900, 'max_depth': 8, 'l2_leaf_reg': 9.3, 'min_data_in_leaf': 41, 'random_strength': 3.0000000000000004}. Best is trial 24 with value: -53326.033504269784.\n",
      "Fold 1 RMSE = 51949.03\n",
      "Fold 2 RMSE = 53942.15\n",
      "Fold 3 RMSE = 51539.04\n",
      "Fold 4 RMSE = 56105.74\n"
     ]
    },
    {
     "name": "stderr",
     "output_type": "stream",
     "text": [
      "Best trial: 24. Best value: -53326:  77%|███████▋  | 77/100 [15:26<04:52, 12.70s/it]"
     ]
    },
    {
     "name": "stdout",
     "output_type": "stream",
     "text": [
      "Fold 5 RMSE = 53612.37\n",
      "[I 2023-07-24 14:05:17,966] Trial 76 finished with value: -53429.66537323614 and parameters: {'loss_function': 'RMSE', 'learning_rate': 0.04, 'iterations': 750, 'max_depth': 7, 'l2_leaf_reg': 7.7, 'min_data_in_leaf': 47, 'random_strength': 1.7000000000000002}. Best is trial 24 with value: -53326.033504269784.\n",
      "Fold 1 RMSE = 53558.20\n",
      "Fold 2 RMSE = 54014.40\n",
      "Fold 3 RMSE = 52465.24\n",
      "Fold 4 RMSE = 56261.91\n"
     ]
    },
    {
     "name": "stderr",
     "output_type": "stream",
     "text": [
      "Best trial: 24. Best value: -53326:  78%|███████▊  | 78/100 [15:37<04:26, 12.11s/it]"
     ]
    },
    {
     "name": "stdout",
     "output_type": "stream",
     "text": [
      "Fold 5 RMSE = 54539.82\n",
      "[I 2023-07-24 14:05:28,691] Trial 77 finished with value: -54167.91740783797 and parameters: {'loss_function': 'RMSE', 'learning_rate': 0.17, 'iterations': 700, 'max_depth': 7, 'l2_leaf_reg': 7.3, 'min_data_in_leaf': 43, 'random_strength': 2.1}. Best is trial 24 with value: -53326.033504269784.\n",
      "Fold 1 RMSE = 53280.22\n",
      "Fold 2 RMSE = 55744.90\n",
      "Fold 3 RMSE = 52334.52\n",
      "Fold 4 RMSE = 57744.60\n"
     ]
    },
    {
     "name": "stderr",
     "output_type": "stream",
     "text": [
      "Best trial: 24. Best value: -53326:  79%|███████▉  | 79/100 [16:00<05:23, 15.38s/it]"
     ]
    },
    {
     "name": "stdout",
     "output_type": "stream",
     "text": [
      "Fold 5 RMSE = 55211.21\n",
      "[I 2023-07-24 14:05:51,707] Trial 78 finished with value: -54863.08904877392 and parameters: {'loss_function': 'RMSE', 'learning_rate': 0.01, 'iterations': 850, 'max_depth': 10, 'l2_leaf_reg': 8.6, 'min_data_in_leaf': 39, 'random_strength': 2.5000000000000004}. Best is trial 24 with value: -53326.033504269784.\n",
      "Fold 1 RMSE = 53410.58\n",
      "Fold 2 RMSE = 53916.34\n",
      "Fold 3 RMSE = 52259.04\n",
      "Fold 4 RMSE = 56183.51\n"
     ]
    },
    {
     "name": "stderr",
     "output_type": "stream",
     "text": [
      "Best trial: 24. Best value: -53326:  80%|████████  | 80/100 [16:13<04:51, 14.56s/it]"
     ]
    },
    {
     "name": "stdout",
     "output_type": "stream",
     "text": [
      "Fold 5 RMSE = 54002.31\n",
      "[I 2023-07-24 14:06:04,360] Trial 79 finished with value: -53954.35635969906 and parameters: {'loss_function': 'RMSE', 'learning_rate': 0.09, 'iterations': 1000, 'max_depth': 6, 'l2_leaf_reg': 6.8, 'min_data_in_leaf': 50, 'random_strength': 1.4000000000000001}. Best is trial 24 with value: -53326.033504269784.\n",
      "Fold 1 RMSE = 53409.50\n",
      "Fold 2 RMSE = 53873.84\n",
      "Fold 3 RMSE = 51881.17\n",
      "Fold 4 RMSE = 56119.52\n"
     ]
    },
    {
     "name": "stderr",
     "output_type": "stream",
     "text": [
      "Best trial: 24. Best value: -53326:  81%|████████  | 81/100 [16:26<04:31, 14.29s/it]"
     ]
    },
    {
     "name": "stdout",
     "output_type": "stream",
     "text": [
      "Fold 5 RMSE = 53971.86\n",
      "[I 2023-07-24 14:06:18,025] Trial 80 finished with value: -53851.177232730275 and parameters: {'loss_function': 'RMSE', 'learning_rate': 0.06999999999999999, 'iterations': 900, 'max_depth': 7, 'l2_leaf_reg': 5.4, 'min_data_in_leaf': 46, 'random_strength': 4.3999999999999995}. Best is trial 24 with value: -53326.033504269784.\n",
      "Fold 1 RMSE = 51886.55\n",
      "Fold 2 RMSE = 53898.28\n",
      "Fold 3 RMSE = 51538.31\n",
      "Fold 4 RMSE = 56185.29\n"
     ]
    },
    {
     "name": "stderr",
     "output_type": "stream",
     "text": [
      "Best trial: 24. Best value: -53326:  82%|████████▏ | 82/100 [16:40<04:15, 14.20s/it]"
     ]
    },
    {
     "name": "stdout",
     "output_type": "stream",
     "text": [
      "Fold 5 RMSE = 53553.58\n",
      "[I 2023-07-24 14:06:32,012] Trial 81 finished with value: -53412.40282586096 and parameters: {'loss_function': 'RMSE', 'learning_rate': 0.03, 'iterations': 950, 'max_depth': 7, 'l2_leaf_reg': 7.8, 'min_data_in_leaf': 48, 'random_strength': 1.8000000000000003}. Best is trial 24 with value: -53326.033504269784.\n",
      "Fold 1 RMSE = 53453.03\n",
      "Fold 2 RMSE = 55763.86\n",
      "Fold 3 RMSE = 52259.88\n",
      "Fold 4 RMSE = 57820.71\n"
     ]
    },
    {
     "name": "stderr",
     "output_type": "stream",
     "text": [
      "Best trial: 24. Best value: -53326:  83%|████████▎ | 83/100 [16:45<03:11, 11.29s/it]"
     ]
    },
    {
     "name": "stdout",
     "output_type": "stream",
     "text": [
      "Fold 5 RMSE = 55292.99\n",
      "[I 2023-07-24 14:06:36,515] Trial 82 finished with value: -54918.091403085695 and parameters: {'loss_function': 'RMSE', 'learning_rate': 0.03, 'iterations': 250, 'max_depth': 7, 'l2_leaf_reg': 7.9, 'min_data_in_leaf': 49, 'random_strength': 1.7000000000000002}. Best is trial 24 with value: -53326.033504269784.\n",
      "Fold 1 RMSE = 52083.10\n",
      "Fold 2 RMSE = 53823.33\n",
      "Fold 3 RMSE = 51798.45\n",
      "Fold 4 RMSE = 56029.09\n"
     ]
    },
    {
     "name": "stderr",
     "output_type": "stream",
     "text": [
      "Best trial: 24. Best value: -53326:  84%|████████▍ | 84/100 [16:59<03:16, 12.30s/it]"
     ]
    },
    {
     "name": "stdout",
     "output_type": "stream",
     "text": [
      "Fold 5 RMSE = 53499.88\n",
      "[I 2023-07-24 14:06:51,156] Trial 83 finished with value: -53446.77194124643 and parameters: {'loss_function': 'RMSE', 'learning_rate': 0.05, 'iterations': 950, 'max_depth': 7, 'l2_leaf_reg': 8.3, 'min_data_in_leaf': 48, 'random_strength': 1.2000000000000002}. Best is trial 24 with value: -53326.033504269784.\n",
      "Fold 1 RMSE = 52074.15\n",
      "Fold 2 RMSE = 54401.69\n",
      "Fold 3 RMSE = 51699.50\n",
      "Fold 4 RMSE = 56740.53\n"
     ]
    },
    {
     "name": "stderr",
     "output_type": "stream",
     "text": [
      "Best trial: 24. Best value: -53326:  85%|████████▌ | 85/100 [17:14<03:13, 12.90s/it]"
     ]
    },
    {
     "name": "stdout",
     "output_type": "stream",
     "text": [
      "Fold 5 RMSE = 54030.76\n",
      "[I 2023-07-24 14:07:05,469] Trial 84 finished with value: -53789.328765095604 and parameters: {'loss_function': 'RMSE', 'learning_rate': 0.02, 'iterations': 1000, 'max_depth': 7, 'l2_leaf_reg': 8.8, 'min_data_in_leaf': 45, 'random_strength': 2.6}. Best is trial 24 with value: -53326.033504269784.\n",
      "Fold 1 RMSE = 52551.26\n",
      "Fold 2 RMSE = 53657.94\n",
      "Fold 3 RMSE = 52115.77\n",
      "Fold 4 RMSE = 56209.60\n"
     ]
    },
    {
     "name": "stderr",
     "output_type": "stream",
     "text": [
      "Best trial: 24. Best value: -53326:  86%|████████▌ | 86/100 [17:23<02:46, 11.90s/it]"
     ]
    },
    {
     "name": "stdout",
     "output_type": "stream",
     "text": [
      "Fold 5 RMSE = 53740.77\n",
      "[I 2023-07-24 14:07:15,017] Trial 85 finished with value: -53655.06802533033 and parameters: {'loss_function': 'RMSE', 'learning_rate': 0.08, 'iterations': 750, 'max_depth': 6, 'l2_leaf_reg': 7.3, 'min_data_in_leaf': 43, 'random_strength': 1.9000000000000001}. Best is trial 24 with value: -53326.033504269784.\n",
      "Fold 1 RMSE = 51974.22\n",
      "Fold 2 RMSE = 53985.40\n",
      "Fold 3 RMSE = 51899.25\n",
      "Fold 4 RMSE = 56171.47\n"
     ]
    },
    {
     "name": "stderr",
     "output_type": "stream",
     "text": [
      "Best trial: 24. Best value: -53326:  87%|████████▋ | 87/100 [17:35<02:34, 11.89s/it]"
     ]
    },
    {
     "name": "stdout",
     "output_type": "stream",
     "text": [
      "Fold 5 RMSE = 53764.36\n",
      "[I 2023-07-24 14:07:26,907] Trial 86 finished with value: -53558.93886302668 and parameters: {'loss_function': 'RMSE', 'learning_rate': 0.060000000000000005, 'iterations': 800, 'max_depth': 7, 'l2_leaf_reg': 9.700000000000001, 'min_data_in_leaf': 4, 'random_strength': 7.7}. Best is trial 24 with value: -53326.033504269784.\n",
      "Fold 1 RMSE = 54237.99\n",
      "Fold 2 RMSE = 55909.66\n",
      "Fold 3 RMSE = 52078.76\n",
      "Fold 4 RMSE = 58985.14\n"
     ]
    },
    {
     "name": "stderr",
     "output_type": "stream",
     "text": [
      "Best trial: 24. Best value: -53326:  88%|████████▊ | 88/100 [17:54<02:47, 13.92s/it]"
     ]
    },
    {
     "name": "stdout",
     "output_type": "stream",
     "text": [
      "Fold 5 RMSE = 55292.82\n",
      "[I 2023-07-24 14:07:45,569] Trial 87 finished with value: -55300.873765664095 and parameters: {'loss_function': 'MAE', 'learning_rate': 0.23, 'iterations': 950, 'max_depth': 8, 'l2_leaf_reg': 7.7, 'min_data_in_leaf': 47, 'random_strength': 0.7000000000000001}. Best is trial 24 with value: -53326.033504269784.\n",
      "Fold 1 RMSE = 157781.33\n",
      "Fold 2 RMSE = 157536.06\n",
      "Fold 3 RMSE = 160318.71\n",
      "Fold 4 RMSE = 159887.76\n"
     ]
    },
    {
     "name": "stderr",
     "output_type": "stream",
     "text": [
      "Best trial: 24. Best value: -53326:  89%|████████▉ | 89/100 [18:10<02:41, 14.64s/it]"
     ]
    },
    {
     "name": "stdout",
     "output_type": "stream",
     "text": [
      "Fold 5 RMSE = 156112.31\n",
      "[I 2023-07-24 14:08:01,874] Trial 88 finished with value: -158327.23183437382 and parameters: {'loss_function': 'Poisson', 'learning_rate': 0.04, 'iterations': 900, 'max_depth': 7, 'l2_leaf_reg': 9.3, 'min_data_in_leaf': 42, 'random_strength': 3.0000000000000004}. Best is trial 24 with value: -53326.033504269784.\n",
      "Fold 1 RMSE = 53513.71\n",
      "Fold 2 RMSE = 53738.11\n",
      "Fold 3 RMSE = 52140.42\n",
      "Fold 4 RMSE = 56166.15\n"
     ]
    },
    {
     "name": "stderr",
     "output_type": "stream",
     "text": [
      "Best trial: 24. Best value: -53326:  90%|█████████ | 90/100 [18:23<02:20, 14.06s/it]"
     ]
    },
    {
     "name": "stdout",
     "output_type": "stream",
     "text": [
      "Fold 5 RMSE = 53982.58\n",
      "[I 2023-07-24 14:08:14,587] Trial 89 finished with value: -53908.19427742371 and parameters: {'loss_function': 'RMSE', 'learning_rate': 0.11, 'iterations': 850, 'max_depth': 7, 'l2_leaf_reg': 8.1, 'min_data_in_leaf': 49, 'random_strength': 2.1}. Best is trial 24 with value: -53326.033504269784.\n",
      "Fold 1 RMSE = 52127.15\n",
      "Fold 2 RMSE = 54582.04\n",
      "Fold 3 RMSE = 51671.70\n",
      "Fold 4 RMSE = 56724.94\n"
     ]
    },
    {
     "name": "stderr",
     "output_type": "stream",
     "text": [
      "Best trial: 24. Best value: -53326:  91%|█████████ | 91/100 [18:36<02:04, 13.84s/it]"
     ]
    },
    {
     "name": "stdout",
     "output_type": "stream",
     "text": [
      "Fold 5 RMSE = 53965.24\n",
      "[I 2023-07-24 14:08:27,914] Trial 90 finished with value: -53814.21474699008 and parameters: {'loss_function': 'RMSE', 'learning_rate': 0.02, 'iterations': 900, 'max_depth': 7, 'l2_leaf_reg': 8.8, 'min_data_in_leaf': 44, 'random_strength': 1.0}. Best is trial 24 with value: -53326.033504269784.\n",
      "Fold 1 RMSE = 52092.54\n",
      "Fold 2 RMSE = 53913.73\n",
      "Fold 3 RMSE = 51617.54\n",
      "Fold 4 RMSE = 56134.22\n"
     ]
    },
    {
     "name": "stderr",
     "output_type": "stream",
     "text": [
      "Best trial: 24. Best value: -53326:  92%|█████████▏| 92/100 [18:49<01:48, 13.50s/it]"
     ]
    },
    {
     "name": "stdout",
     "output_type": "stream",
     "text": [
      "Fold 5 RMSE = 53520.10\n",
      "[I 2023-07-24 14:08:40,619] Trial 91 finished with value: -53455.62393966736 and parameters: {'loss_function': 'RMSE', 'learning_rate': 0.04, 'iterations': 850, 'max_depth': 7, 'l2_leaf_reg': 7.5, 'min_data_in_leaf': 46, 'random_strength': 1.5000000000000002}. Best is trial 24 with value: -53326.033504269784.\n",
      "Fold 1 RMSE = 52588.89\n",
      "Fold 2 RMSE = 53639.30\n",
      "Fold 3 RMSE = 51860.60\n",
      "Fold 4 RMSE = 56193.71\n"
     ]
    },
    {
     "name": "stderr",
     "output_type": "stream",
     "text": [
      "Best trial: 24. Best value: -53326:  93%|█████████▎| 93/100 [19:01<01:31, 13.08s/it]"
     ]
    },
    {
     "name": "stdout",
     "output_type": "stream",
     "text": [
      "Fold 5 RMSE = 53643.52\n",
      "[I 2023-07-24 14:08:52,715] Trial 92 finished with value: -53585.203632294724 and parameters: {'loss_function': 'RMSE', 'learning_rate': 0.06999999999999999, 'iterations': 800, 'max_depth': 7, 'l2_leaf_reg': 8.4, 'min_data_in_leaf': 46, 'random_strength': 1.9000000000000001}. Best is trial 24 with value: -53326.033504269784.\n",
      "Fold 1 RMSE = 53387.67\n",
      "Fold 2 RMSE = 55759.76\n",
      "Fold 3 RMSE = 52336.84\n",
      "Fold 4 RMSE = 57860.16\n"
     ]
    },
    {
     "name": "stderr",
     "output_type": "stream",
     "text": [
      "Best trial: 24. Best value: -53326:  94%|█████████▍| 94/100 [19:11<01:13, 12.25s/it]"
     ]
    },
    {
     "name": "stdout",
     "output_type": "stream",
     "text": [
      "Fold 5 RMSE = 55326.67\n",
      "[I 2023-07-24 14:09:03,046] Trial 93 finished with value: -54934.22100784098 and parameters: {'loss_function': 'RMSE', 'learning_rate': 0.01, 'iterations': 800, 'max_depth': 6, 'l2_leaf_reg': 7.1, 'min_data_in_leaf': 48, 'random_strength': 1.7000000000000002}. Best is trial 24 with value: -53326.033504269784.\n",
      "Fold 1 RMSE = 52276.50\n",
      "Fold 2 RMSE = 53850.92\n",
      "Fold 3 RMSE = 51652.61\n",
      "Fold 4 RMSE = 55985.51\n"
     ]
    },
    {
     "name": "stderr",
     "output_type": "stream",
     "text": [
      "Best trial: 24. Best value: -53326:  95%|█████████▌| 95/100 [19:25<01:03, 12.65s/it]"
     ]
    },
    {
     "name": "stdout",
     "output_type": "stream",
     "text": [
      "Fold 5 RMSE = 53630.18\n",
      "[I 2023-07-24 14:09:16,603] Trial 94 finished with value: -53479.14217855261 and parameters: {'loss_function': 'RMSE', 'learning_rate': 0.05, 'iterations': 850, 'max_depth': 7, 'l2_leaf_reg': 6.7, 'min_data_in_leaf': 50, 'random_strength': 1.3000000000000003}. Best is trial 24 with value: -53326.033504269784.\n",
      "Fold 1 RMSE = 52016.07\n",
      "Fold 2 RMSE = 53867.60\n",
      "Fold 3 RMSE = 51533.35\n",
      "Fold 4 RMSE = 56189.35\n"
     ]
    },
    {
     "name": "stderr",
     "output_type": "stream",
     "text": [
      "Best trial: 24. Best value: -53326:  96%|█████████▌| 96/100 [19:43<00:56, 14.21s/it]"
     ]
    },
    {
     "name": "stdout",
     "output_type": "stream",
     "text": [
      "Fold 5 RMSE = 53630.33\n",
      "[I 2023-07-24 14:09:34,450] Trial 95 finished with value: -53447.3428876659 and parameters: {'loss_function': 'RMSE', 'learning_rate': 0.03, 'iterations': 950, 'max_depth': 8, 'l2_leaf_reg': 8.0, 'min_data_in_leaf': 45, 'random_strength': 0.30000000000000004}. Best is trial 24 with value: -53326.033504269784.\n",
      "Fold 1 RMSE = 52050.68\n",
      "Fold 2 RMSE = 53714.39\n",
      "Fold 3 RMSE = 51512.52\n",
      "Fold 4 RMSE = 56159.08\n"
     ]
    },
    {
     "name": "stderr",
     "output_type": "stream",
     "text": [
      "Best trial: 24. Best value: -53326:  97%|█████████▋| 97/100 [19:50<00:36, 12.16s/it]"
     ]
    },
    {
     "name": "stdout",
     "output_type": "stream",
     "text": [
      "Fold 5 RMSE = 53470.44\n",
      "[I 2023-07-24 14:09:41,821] Trial 96 finished with value: -53381.42117276377 and parameters: {'loss_function': 'RMSE', 'learning_rate': 0.08, 'iterations': 450, 'max_depth': 7, 'l2_leaf_reg': 7.8, 'min_data_in_leaf': 47, 'random_strength': 2.5000000000000004}. Best is trial 24 with value: -53326.033504269784.\n",
      "Fold 1 RMSE = 51944.53\n",
      "Fold 2 RMSE = 53974.02\n",
      "Fold 3 RMSE = 51621.11\n",
      "Fold 4 RMSE = 56458.42\n"
     ]
    },
    {
     "name": "stderr",
     "output_type": "stream",
     "text": [
      "Best trial: 24. Best value: -53326:  98%|█████████▊| 98/100 [19:58<00:21, 10.72s/it]"
     ]
    },
    {
     "name": "stdout",
     "output_type": "stream",
     "text": [
      "Fold 5 RMSE = 53723.03\n",
      "[I 2023-07-24 14:09:49,181] Trial 97 finished with value: -53544.22254868378 and parameters: {'loss_function': 'RMSE', 'learning_rate': 0.060000000000000005, 'iterations': 450, 'max_depth': 7, 'l2_leaf_reg': 9.1, 'min_data_in_leaf': 47, 'random_strength': 3.4000000000000004}. Best is trial 24 with value: -53326.033504269784.\n",
      "Fold 1 RMSE = 52538.66\n",
      "Fold 2 RMSE = 53976.04\n",
      "Fold 3 RMSE = 51301.13\n",
      "Fold 4 RMSE = 56052.26\n"
     ]
    },
    {
     "name": "stderr",
     "output_type": "stream",
     "text": [
      "Best trial: 24. Best value: -53326:  99%|█████████▉| 99/100 [20:05<00:09,  9.71s/it]"
     ]
    },
    {
     "name": "stdout",
     "output_type": "stream",
     "text": [
      "Fold 5 RMSE = 53666.60\n",
      "[I 2023-07-24 14:09:56,531] Trial 98 finished with value: -53506.937523834684 and parameters: {'loss_function': 'RMSE', 'learning_rate': 0.09999999999999999, 'iterations': 350, 'max_depth': 8, 'l2_leaf_reg': 4.0, 'min_data_in_leaf': 41, 'random_strength': 2.9000000000000004}. Best is trial 24 with value: -53326.033504269784.\n",
      "Fold 1 RMSE = 53378.95\n",
      "Fold 2 RMSE = 55694.55\n",
      "Fold 3 RMSE = 52371.91\n",
      "Fold 4 RMSE = 57758.47\n"
     ]
    },
    {
     "name": "stderr",
     "output_type": "stream",
     "text": [
      "Best trial: 24. Best value: -53326: 100%|██████████| 100/100 [20:12<00:00, 12.13s/it]"
     ]
    },
    {
     "name": "stdout",
     "output_type": "stream",
     "text": [
      "Fold 5 RMSE = 55373.07\n",
      "[I 2023-07-24 14:10:03,744] Trial 99 finished with value: -54915.3905175855 and parameters: {'loss_function': 'RMSE', 'learning_rate': 0.02, 'iterations': 450, 'max_depth': 7, 'l2_leaf_reg': 8.6, 'min_data_in_leaf': 43, 'random_strength': 2.4000000000000004}. Best is trial 24 with value: -53326.033504269784.\n"
     ]
    },
    {
     "name": "stderr",
     "output_type": "stream",
     "text": [
      "\n"
     ]
    }
   ],
   "source": [
    "def objective2(trial):\n",
    "    params = {\n",
    "        'loss_function': trial.suggest_categorical('loss_function', ['MAE', 'RMSE', 'Poisson']),\n",
    "        'learning_rate': trial.suggest_float('learning_rate', 0.01, 0.5, step=0.01),\n",
    "        'iterations': trial.suggest_int('iterations', 100, 1000, step=50),\n",
    "        'max_depth': trial.suggest_int('max_depth', 4, 10),\n",
    "        'l2_leaf_reg': trial.suggest_float('l2_leaf_reg', 0.1, 10, step=0.1),\n",
    "        'min_data_in_leaf': trial.suggest_int('min_data_in_leaf', 1, 50),\n",
    "        'random_strength': trial.suggest_float('random_strength', 0.1, 10, step=0.1),\n",
    "        'eval_metric': 'RMSE'\n",
    "    }\n",
    "    \n",
    "    clf = CatBoostRegressor(**params, random_state = 123, verbose = False)\n",
    "    scores = []\n",
    "    \n",
    "    for i, (train_index, val_index) in enumerate(cv_splits):\n",
    "        X_train, X_val = X.iloc[train_index], X.iloc[val_index]\n",
    "        y_train, y_val = y.iloc[train_index], y.iloc[val_index]\n",
    "        \n",
    "        clf.fit(X_train, y_train)\n",
    "        y_pred = clf.predict(X_val)\n",
    "        \n",
    "        rmse = mean_squared_error(y_val, y_pred, squared=False)\n",
    "        \n",
    "        print(f'Fold {i + 1} RMSE = {rmse:.2f}')\n",
    "        \n",
    "        scores.append(rmse)\n",
    "    \n",
    "    if i == len(cv_splits) - 1:\n",
    "        mean_score = np.mean(scores)\n",
    "        \n",
    "    return -mean_score        \n",
    "         \n",
    "\n",
    "study2 = optuna.create_study(direction='maximize')\n",
    "study2.optimize(objective2, n_trials = 100, show_progress_bar = True)"
   ]
  },
  {
   "cell_type": "code",
   "execution_count": 21,
   "metadata": {},
   "outputs": [
    {
     "name": "stdout",
     "output_type": "stream",
     "text": [
      "\n",
      "CatBoost Regressor:\n",
      "\n",
      "\n",
      " Best RMSE score = -53326.033504269784 \n",
      "\n",
      "\n",
      " Best Params = {'loss_function': 'RMSE', 'learning_rate': 0.05, 'iterations': 800, 'max_depth': 7, 'l2_leaf_reg': 10.0, 'min_data_in_leaf': 45, 'random_strength': 2.2} \n",
      "\n"
     ]
    }
   ],
   "source": [
    "best_params2 = study2.best_params\n",
    "best_rmse_score2 = study2.best_value\n",
    "\n",
    "\n",
    "print(f'\\nCatBoost Regressor:\\n')\n",
    "print(f'\\n Best RMSE score = {best_rmse_score2} \\n')\n",
    "print(f'\\n Best Params = {best_params2} \\n')"
   ]
  },
  {
   "cell_type": "code",
   "execution_count": 24,
   "metadata": {},
   "outputs": [],
   "source": [
    "# Creating list of the tuned models\n",
    "estimators = [\n",
    "    ('CatBoost Regressor', CatBoostRegressor(**best_params2,random_state = 123, verbose = False)),\n",
    "    ('Histogram-based Gradient Boosting', HistGradientBoostingRegressor(**best_params,random_state = 123))\n",
    "]\n",
    "\n",
    "# Creating meta model\n",
    "from sklearn.ensemble import StackingRegressor\n",
    "meta_model = StackingRegressor(estimators = estimators,\n",
    "                              n_jobs = 5)"
   ]
  },
  {
   "cell_type": "code",
   "execution_count": 25,
   "metadata": {},
   "outputs": [
    {
     "name": "stdout",
     "output_type": "stream",
     "text": [
      "\n",
      "Meta Model Cross-Validation:\n",
      "\n",
      "\n",
      "\n",
      "Stacking Regressor w/ CatBoost Regressor and Histogram-based Gradient Boosting Regressor :\n",
      "\n",
      "Fold 1 RMSE = 51611.26\n",
      "Fold 1 Adjusted R-squared = -0.21\n",
      "===================================================\n",
      "Fold 2 RMSE = 53860.11\n",
      "Fold 2 Adjusted R-squared = -0.26\n",
      "===================================================\n",
      "Fold 3 RMSE = 51364.76\n",
      "Fold 3 Adjusted R-squared = -0.27\n",
      "===================================================\n",
      "Fold 4 RMSE = 56109.28\n",
      "Fold 4 Adjusted R-squared = -0.35\n",
      "===================================================\n",
      "Fold 5 RMSE = 53255.36\n",
      "Fold 5 Adjusted R-squared = -0.31\n",
      "===================================================\n",
      "Mean RMSE = 53240.16 ± 1719.702\n",
      "Mean Adjusted R-squared = -0.28\n"
     ]
    }
   ],
   "source": [
    "print('\\nMeta Model Cross-Validation:')\n",
    "scores = []\n",
    "r2_scores = []\n",
    "    \n",
    "print('\\n')\n",
    "print(f'\\nStacking Regressor w/ CatBoost Regressor and Histogram-based Gradient Boosting Regressor :\\n')\n",
    "    \n",
    "for i, (train_index, val_index) in enumerate(cv_splits):\n",
    "    X_train, X_val = X.iloc[train_index], X.iloc[val_index]\n",
    "    y_train, y_val = y.iloc[train_index], y.iloc[val_index]\n",
    "        \n",
    "    meta_model.fit(X_train, y_train)\n",
    "    y_pred = meta_model.predict(X_val)\n",
    "        \n",
    "    rmse = mean_squared_error(y_val, y_pred, squared=False)\n",
    "    r2 = r2_score(y_val, y_pred)\n",
    "        \n",
    "    n = X_val.shape[0]  \n",
    "    p = X_val.shape[1]  \n",
    "        \n",
    "    adjusted_r2 = 1 - (1 - r2) * ((n - 1) / (n - p - 1)) \n",
    "    \n",
    "    print(f'Fold {i + 1} RMSE = {rmse:.2f}')\n",
    "    print(f'Fold {i + 1} Adjusted R-squared = {adjusted_r2:.2f}')\n",
    "        \n",
    "    scores.append(rmse)\n",
    "    r2_scores.append(adjusted_r2)\n",
    "        \n",
    "    print('===================================================')\n",
    "    \n",
    "    if i == len(cv_splits) - 1:\n",
    "        mean_score = np.mean(scores)\n",
    "        fold_std = np.std(scores)\n",
    "        mean_adjusted_r2 = np.mean(r2_scores)  \n",
    "        \n",
    "        print(f'Mean RMSE = {mean_score:.2f} \\u00B1 {fold_std:.3f}')\n",
    "        print(f'Mean Adjusted R-squared = {mean_adjusted_r2:.2f}')"
   ]
  },
  {
   "cell_type": "code",
   "execution_count": 28,
   "metadata": {},
   "outputs": [
    {
     "data": {
      "application/vnd.plotly.v1+json": {
       "config": {
        "plotlyServerURL": "https://plot.ly"
       },
       "data": [
        {
         "marker": {
          "color": "blue",
          "size": 10
         },
         "mode": "markers",
         "name": "Data Points",
         "type": "scatter",
         "x": [
          250000,
          240500,
          89306,
          196200,
          65000,
          159699,
          222000,
          225000,
          64500,
          200000,
          140000,
          160000,
          60757,
          57920,
          200000,
          104650,
          140700,
          82000,
          145000,
          100000,
          150000,
          180000,
          65000,
          82000,
          48000,
          182500,
          40747,
          144000,
          135000,
          188100,
          83500,
          120000,
          102492,
          80000,
          260000,
          128500,
          260000,
          160000,
          120000,
          145000,
          125404,
          75000,
          383910,
          131650,
          142200,
          68400,
          92000,
          236000,
          430967,
          86128,
          125000,
          254000,
          200800,
          145900,
          120096,
          108800,
          144000,
          171250,
          113000,
          95000,
          80000,
          82365,
          135000,
          168000,
          59102,
          128750,
          126000,
          185900,
          185000,
          135446,
          135000,
          323300,
          135000,
          80000,
          165000,
          194000,
          61800,
          65000,
          72212,
          150000,
          105000,
          140250,
          110000,
          90000,
          237000,
          208049,
          151200,
          116100,
          49216,
          30000,
          138600,
          115000,
          18053,
          48644,
          193500,
          130000,
          161000,
          237400,
          297300,
          250000,
          228000,
          153300,
          116455,
          300000,
          102500,
          141000,
          84053,
          143860,
          139860,
          134500,
          111600,
          229000,
          105000,
          128875,
          55720,
          140000,
          70000,
          84000,
          215936,
          148000,
          155000,
          174000,
          85000,
          125976,
          292000,
          59382,
          62726,
          167441,
          150000,
          259000,
          192500,
          130000,
          149094,
          140700,
          150000,
          139600,
          110000,
          72400,
          170000,
          115573,
          150000,
          201000,
          81666,
          203500,
          144000,
          110000,
          310270,
          95000,
          75577,
          127000,
          150000,
          57007,
          76000,
          120000,
          43064,
          85000,
          100416,
          247500,
          60000,
          243000,
          113000,
          262500,
          220000,
          102100,
          121600,
          176000,
          52500,
          188800,
          63000,
          80000,
          187000,
          150000,
          71475,
          17025,
          142200,
          188700,
          106500,
          171050,
          155000,
          185000,
          55044,
          191765,
          192000,
          167850,
          90734,
          160000,
          171600,
          19609,
          135000,
          61541,
          54742,
          145000,
          190000,
          100000,
          150000,
          170000,
          73546,
          62500,
          127075,
          180000,
          137141,
          184700,
          119700,
          63000,
          110000,
          175000,
          90000,
          41027,
          152000,
          200000,
          139000,
          175000,
          38868,
          73742,
          75000,
          152375,
          225000,
          110037,
          87200,
          72000,
          163200,
          122600,
          50000,
          102500,
          18000,
          180560,
          200000,
          134000,
          28609,
          240000,
          126000,
          15966,
          165000,
          155000,
          178560,
          115000,
          238000,
          205920,
          65000,
          108000,
          134000,
          195000,
          225000,
          38868,
          200000,
          114000,
          183500,
          80000,
          149040,
          63980,
          144000,
          130000,
          207000,
          170000,
          245000,
          310000,
          148500,
          190000,
          73546,
          169280,
          160000,
          120000,
          48000,
          257000,
          72000,
          123000,
          235400,
          63040,
          205640,
          225000,
          40000,
          280700,
          283780,
          172200,
          96100,
          74400,
          105500,
          100000,
          281000,
          180000,
          230000,
          121500,
          109400,
          55000,
          200000,
          270000,
          121400,
          81500,
          167500,
          24000,
          245000,
          85000,
          104300,
          100000,
          108000,
          272550,
          178750,
          120000,
          90000,
          143000,
          169000,
          86193,
          167500,
          82900,
          105000,
          180180,
          196000,
          144628,
          253200,
          65013,
          90000,
          172000,
          183924,
          18381,
          200000,
          109280,
          53416,
          97000,
          82920,
          260500,
          284000,
          170000,
          105000,
          185000,
          49646,
          192000,
          174350,
          48000,
          116888,
          170000,
          127000,
          182000,
          66100,
          213660,
          177000,
          138750,
          85000,
          90000,
          260000,
          206500,
          205000,
          123648,
          145000,
          183600,
          110000,
          70000,
          88654,
          40000,
          83171,
          106500,
          241000,
          142000,
          70000,
          171000,
          74178,
          125000,
          132000,
          17025,
          145000,
          226700,
          105000,
          150000,
          149200,
          31520,
          135000,
          100000,
          141288,
          100000,
          200000,
          33511,
          138900,
          125760,
          214200,
          253750,
          280100,
          70000,
          116000,
          118539,
          230400,
          50432,
          150000,
          249300,
          289120,
          55000,
          92350,
          193750,
          115000,
          184000,
          136620,
          150000,
          93150,
          216100,
          222000,
          144200,
          165400,
          99050,
          45391,
          100000,
          115000,
          127221,
          34320,
          105000,
          140800,
          150000,
          275000,
          99703,
          139500,
          110820,
          120000,
          69525,
          76284,
          225000,
          110736,
          139500,
          148000,
          204500,
          88100,
          210000,
          126400,
          104000,
          43064,
          108308,
          155000,
          50000,
          131685,
          56723,
          376080,
          253430,
          123471,
          164000,
          220110,
          167200,
          156560,
          125000,
          151600,
          123900,
          30000,
          110000,
          200000,
          177000,
          243900,
          75577,
          340000,
          33000,
          52533,
          84053,
          318300,
          17511,
          100000,
          222750,
          152000,
          226000,
          175000,
          184100,
          186300,
          220000,
          147100,
          178000,
          50000,
          204500,
          140000,
          24000,
          230000,
          168400,
          175000,
          25000,
          144854,
          174500,
          20000,
          260000,
          73546,
          115000,
          120000,
          141000,
          113000,
          120000,
          86128,
          116976,
          72000,
          95000,
          231250,
          116500,
          123040,
          202800,
          85000,
          152500,
          75000,
          143000,
          129300,
          258000,
          178560,
          25532,
          136994,
          25216,
          275000,
          107000,
          150000,
          77791,
          116990,
          185900,
          255000,
          55000,
          64000,
          175000,
          142500,
          145900,
          29751,
          45050,
          145000,
          185000,
          168400,
          202353,
          200000,
          230000,
          62000,
          156000,
          190000,
          72000,
          200000,
          30000,
          200000,
          219000,
          73000,
          180514,
          149850,
          190000,
          144000,
          215000
         ],
         "y": [
          159975.82061870914,
          164575.22476159682,
          60314.37991780834,
          188843.54419594622,
          102366.13936139166,
          167780.53176967925,
          169111.9378042888,
          176903.95935151487,
          113638.91946653198,
          132192.13233294804,
          176903.95935151487,
          181353.01720865676,
          75575.46353829405,
          82347.7950755464,
          196389.39710333227,
          176903.95935151487,
          136022.82084794232,
          138514.38527550563,
          137474.59957827762,
          98329.79534086976,
          82347.7950755464,
          132096.12891205063,
          104083.01363247851,
          135132.44276203788,
          92379.74290483368,
          159975.82061870914,
          50691.82657293218,
          143693.5398257264,
          197241.68854314557,
          159975.82061870914,
          135132.44276203788,
          198175.22779380734,
          116700.75209825145,
          107963.61571115363,
          197241.68854314557,
          136022.82084794232,
          224198.04745158617,
          154383.99790133376,
          181353.01720865676,
          132096.12891205063,
          63881.011082283745,
          108590.20925680784,
          203446.61582113616,
          113638.91946653198,
          169111.9378042888,
          125066.0525550236,
          173845.48332918365,
          188843.54419594622,
          59290.49408960616,
          89159.87191765466,
          161564.21018733288,
          169111.9378042888,
          195194.18921183964,
          177055.6048438953,
          176903.95935151487,
          159975.82061870914,
          125066.0525550236,
          169111.9378042888,
          166069.75016330485,
          106624.25002846027,
          101892.22256384557,
          169111.9378042888,
          157173.50734559755,
          188214.08339783392,
          22297.792269063844,
          137048.53473888582,
          176903.95935151487,
          174812.76086597817,
          168202.99423645096,
          76733.54567009292,
          133371.90423822607,
          197241.68854314557,
          127155.43598073737,
          129111.66680294977,
          197241.68854314557,
          159975.82061870914,
          104083.01363247851,
          102534.58813026227,
          71417.51853484099,
          197241.68854314557,
          82347.7950755464,
          120897.1262034139,
          169111.9378042888,
          101221.81613948522,
          169111.9378042888,
          136022.82084794232,
          169111.9378042888,
          154566.52474457776,
          91101.63855157112,
          79353.65051806881,
          167780.53176967925,
          159975.82061870914,
          38275.24652836682,
          33777.3196037005,
          169111.9378042888,
          162589.86998152305,
          129111.66680294977,
          162589.86998152305,
          203382.2001626455,
          108630.81529049724,
          176903.95935151487,
          176903.95935151487,
          169111.9378042888,
          188440.9583531075,
          137048.53473888582,
          174812.76086597817,
          54652.69446811694,
          166069.75016330485,
          159975.82061870914,
          186343.28226499632,
          168202.99423645096,
          203446.61582113616,
          106020.71555105317,
          125066.0525550236,
          148523.7721176877,
          167780.53176967925,
          159321.30226826514,
          74129.7082853069,
          61539.44816662759,
          195194.18921183964,
          173767.51734656954,
          197627.09867737498,
          108869.18994432865,
          148744.40410734774,
          179340.50331100074,
          57945.714408466476,
          52665.458516608014,
          176903.95935151487,
          128631.0406173142,
          169111.9378042888,
          125066.0525550236,
          96828.38423119532,
          162589.86998152305,
          167780.53176967925,
          153992.62793062185,
          136022.82084794232,
          167780.53176967925,
          91694.09174907982,
          169111.9378042888,
          87977.64538696862,
          125066.0525550236,
          176903.95935151487,
          136022.82084794232,
          157173.50734559755,
          176903.95935151487,
          127635.80686275978,
          176903.95935151487,
          138514.38527550563,
          90535.44724302151,
          167780.53176967925,
          153658.88252231394,
          76357.77331212304,
          135132.44276203788,
          98817.60341961445,
          80806.06396079119,
          82347.7950755464,
          125521.66096083724,
          179260.33613531175,
          84643.95890974495,
          181421.71310531578,
          168656.28926132407,
          208845.52673788922,
          192547.07537878997,
          159975.82061870914,
          136022.82084794232,
          176903.95935151487,
          180404.25206292263,
          197241.68854314557,
          157173.50734559755,
          95384.25378015373,
          176903.95935151487,
          190522.53432844306,
          86439.06814291222,
          30954.216949910828,
          173767.51734656954,
          159975.82061870914,
          159975.82061870914,
          173539.05456832398,
          181895.9870955181,
          197241.68854314557,
          97402.61414454694,
          203382.2001626455,
          174812.76086597817,
          176903.95935151487,
          59050.86657121373,
          147166.36961722194,
          141080.38444208392,
          20442.05435062068,
          169782.03430279967,
          86439.06814291222,
          36065.82334139776,
          199856.08289209352,
          186542.09375308233,
          102300.04204836683,
          197797.47347426368,
          125066.0525550236,
          87977.64538696862,
          97209.5157822764,
          136022.82084794232,
          173845.48332918365,
          200511.0881084482,
          192547.07537878997,
          197241.68854314557,
          169111.9378042888,
          129394.0927503102,
          159975.82061870914,
          136022.82084794232,
          28973.89872499775,
          203446.61582113616,
          152168.31150835392,
          195194.18921183964,
          173185.0483165879,
          106507.11044938218,
          60846.752368050875,
          127695.90718344743,
          169111.9378042888,
          172256.53927110258,
          58185.28983501534,
          150401.32502001742,
          208845.52673788922,
          192547.07537878997,
          159975.82061870914,
          159975.82061870914,
          136022.82084794232,
          75587.47123872956,
          176903.95935151487,
          188843.54419594622,
          167780.53176967925,
          46726.65528413205,
          159975.82061870914,
          169111.9378042888,
          62102.203080680934,
          180681.03002344,
          130196.65787181206,
          166069.75016330485,
          180404.25206292263,
          169111.9378042888,
          173894.52278070775,
          138593.0390218837,
          154742.59390961353,
          133704.8894963458,
          159975.82061870914,
          102183.48442272918,
          66099.74200473218,
          172644.05979137655,
          169111.9378042888,
          176903.95935151487,
          138514.38527550563,
          180404.25206292263,
          92623.22852897318,
          122864.77676332563,
          97209.5157822764,
          167780.53176967925,
          178552.87447279633,
          157173.50734559755,
          169111.9378042888,
          133569.85817512564,
          169111.9378042888,
          63233.81074898273,
          169111.9378042888,
          113638.91946653198,
          157702.6037840523,
          70643.31071287661,
          176903.95935151487,
          99178.73681475593,
          167780.53176967925,
          166069.75016330485,
          46442.77295184056,
          192547.07537878997,
          169111.9378042888,
          80609.08208915422,
          162589.86998152305,
          169111.9378042888,
          204706.67640755736,
          169111.9378042888,
          136022.82084794232,
          136022.82084794232,
          169111.9378042888,
          195194.18921183964,
          195207.4789038931,
          166069.75016330485,
          169111.9378042888,
          197241.68854314557,
          80054.56341379156,
          176903.95935151487,
          159321.30226826514,
          169111.9378042888,
          130896.15635802355,
          140311.64170625122,
          113382.53099197969,
          203446.61582113616,
          150432.116496764,
          136572.29649071977,
          181353.01720865676,
          128386.3193252591,
          176903.95935151487,
          159975.82061870914,
          152335.74132283241,
          82347.7950755464,
          197241.68854314557,
          125066.0525550236,
          85845.1976502936,
          169111.9378042888,
          129111.66680294977,
          108590.20925680784,
          136022.82084794232,
          199856.08289209352,
          134763.4089514802,
          169111.9378042888,
          37466.67158676779,
          113638.91946653198,
          176903.95935151487,
          176903.95935151487,
          69274.57323722975,
          212627.9653683681,
          169111.9378042888,
          44433.74891806438,
          159975.82061870914,
          137048.53473888582,
          214908.33066606155,
          188843.54419594622,
          174812.76086597817,
          176903.95935151487,
          176903.95935151487,
          32803.99528591942,
          169111.9378042888,
          169111.9378042888,
          94273.50799595022,
          92513.33989121355,
          167780.53176967925,
          136022.82084794232,
          176903.95935151487,
          108590.20925680784,
          130471.9495766972,
          224057.94958038727,
          157173.50734559755,
          163464.53609600803,
          162589.86998152305,
          157628.67012093076,
          136022.82084794232,
          159975.82061870914,
          125066.0525550236,
          192547.07537878997,
          168656.28926132407,
          166069.75016330485,
          167780.53176967925,
          57466.670113860804,
          81660.00322845459,
          92445.37496230756,
          169111.9378042888,
          169111.9378042888,
          136022.82084794232,
          136535.7290660234,
          135132.44276203788,
          136022.82084794232,
          162589.86998152305,
          176903.95935151487,
          19074.20071667074,
          137048.53473888582,
          169111.9378042888,
          179535.83000549563,
          135132.44276203788,
          130317.10959128145,
          35177.89101746544,
          125066.0525550236,
          60549.029132489726,
          192547.07537878997,
          108544.52961761071,
          172721.5760984753,
          78498.26450750351,
          136022.82084794232,
          176903.95935151487,
          166069.75016330485,
          154065.81768824137,
          180404.25206292263,
          97209.5157822764,
          135132.44276203788,
          130382.95123848694,
          169782.03430279967,
          43904.1327746336,
          137466.84756722563,
          224198.04745158617,
          169241.04401468797,
          142954.33656963706,
          76733.54567009292,
          159975.82061870914,
          129111.66680294977,
          187655.53138533607,
          167780.53176967925,
          176987.26043298256,
          124906.9577784613,
          176903.95935151487,
          179340.50331100074,
          132096.12891205063,
          155584.570142971,
          125066.0525550236,
          43743.22610402084,
          101221.81613948522,
          173474.61161133178,
          100900.17454156242,
          84688.39393582364,
          159975.82061870914,
          176903.95935151487,
          174812.76086597817,
          174710.46687731732,
          92558.79738434222,
          169111.9378042888,
          104284.27994391051,
          166069.75016330485,
          82347.7950755464,
          104589.15763554421,
          179340.50331100074,
          80965.4149797244,
          176903.95935151487,
          191262.75951594624,
          131249.2982899539,
          167780.53176967925,
          168744.45287258565,
          173767.51734656954,
          169111.9378042888,
          92623.22852897318,
          160911.0606002962,
          159975.82061870914,
          101977.27726797116,
          123530.7561023676,
          65064.940023323245,
          180404.25206292263,
          176903.95935151487,
          171090.15947866518,
          203446.61582113616,
          159975.82061870914,
          153992.62793062185,
          176903.95935151487,
          144326.04191017407,
          197241.68854314557,
          176903.95935151487,
          84656.91654276448,
          162232.5567411367,
          136958.54038517646,
          160273.7540121024,
          159975.82061870914,
          62550.289302287245,
          168744.45287258565,
          71001.94352768708,
          70773.02968940555,
          145897.87900843832,
          197241.68854314557,
          165821.6820017988,
          173845.48332918365,
          176903.95935151487,
          179007.75699159212,
          203446.61582113616,
          125066.0525550236,
          159975.82061870914,
          176903.95935151487,
          179340.50331100074,
          197241.68854314557,
          140409.99648270613,
          79039.5405995853,
          201687.30519103765,
          197241.68854314557,
          99319.07321526355,
          197241.68854314557,
          192547.07537878997,
          199856.08289209352,
          81897.41228342587,
          169782.03430279967,
          180404.25206292263,
          76695.72708266786,
          195581.8522089398,
          71435.82441892265,
          123569.43930227161,
          150434.0998272893,
          171461.7731731877,
          180404.25206292263,
          135132.44276203788,
          92623.22852897318,
          85900.02620181291,
          113638.91946653198,
          82347.7950755464,
          166069.75016330485,
          169111.9378042888,
          91101.63855157112,
          173845.48332918365,
          108590.20925680784,
          200511.0881084482,
          113638.91946653198,
          173767.51734656954,
          173767.51734656954,
          135132.44276203788,
          176903.95935151487,
          50933.37609602446,
          169111.9378042888,
          43307.29116091586,
          173185.0483165879,
          167780.53176967925,
          169111.9378042888,
          61594.40954671134,
          137048.53473888582,
          176903.95935151487,
          145535.46292733957,
          157702.6037840523,
          136022.82084794232,
          171461.7731731877,
          147240.99697284645,
          192547.07537878997,
          15189.192107020746,
          84460.76968767929,
          191767.96726376328,
          181421.71310531578,
          136022.82084794232,
          203446.61582113616,
          179340.50331100074,
          136022.82084794232,
          108590.20925680784,
          176903.95935151487,
          157173.50734559755,
          129948.29523572983,
          169111.9378042888,
          51662.43654622047,
          183763.84836004136,
          141971.00606905457,
          108869.18994432865,
          145503.5754213989,
          199088.3182061375,
          141032.97325151408,
          197627.09867737498,
          190823.8928601376
         ]
        },
        {
         "line": {
          "color": "red"
         },
         "marker": {
          "color": "blue",
          "size": 10
         },
         "mode": "lines",
         "name": "Fit-line",
         "type": "scatter",
         "x": [
          250000,
          240500,
          89306,
          196200,
          65000,
          159699,
          222000,
          225000,
          64500,
          200000,
          140000,
          160000,
          60757,
          57920,
          200000,
          104650,
          140700,
          82000,
          145000,
          100000,
          150000,
          180000,
          65000,
          82000,
          48000,
          182500,
          40747,
          144000,
          135000,
          188100,
          83500,
          120000,
          102492,
          80000,
          260000,
          128500,
          260000,
          160000,
          120000,
          145000,
          125404,
          75000,
          383910,
          131650,
          142200,
          68400,
          92000,
          236000,
          430967,
          86128,
          125000,
          254000,
          200800,
          145900,
          120096,
          108800,
          144000,
          171250,
          113000,
          95000,
          80000,
          82365,
          135000,
          168000,
          59102,
          128750,
          126000,
          185900,
          185000,
          135446,
          135000,
          323300,
          135000,
          80000,
          165000,
          194000,
          61800,
          65000,
          72212,
          150000,
          105000,
          140250,
          110000,
          90000,
          237000,
          208049,
          151200,
          116100,
          49216,
          30000,
          138600,
          115000,
          18053,
          48644,
          193500,
          130000,
          161000,
          237400,
          297300,
          250000,
          228000,
          153300,
          116455,
          300000,
          102500,
          141000,
          84053,
          143860,
          139860,
          134500,
          111600,
          229000,
          105000,
          128875,
          55720,
          140000,
          70000,
          84000,
          215936,
          148000,
          155000,
          174000,
          85000,
          125976,
          292000,
          59382,
          62726,
          167441,
          150000,
          259000,
          192500,
          130000,
          149094,
          140700,
          150000,
          139600,
          110000,
          72400,
          170000,
          115573,
          150000,
          201000,
          81666,
          203500,
          144000,
          110000,
          310270,
          95000,
          75577,
          127000,
          150000,
          57007,
          76000,
          120000,
          43064,
          85000,
          100416,
          247500,
          60000,
          243000,
          113000,
          262500,
          220000,
          102100,
          121600,
          176000,
          52500,
          188800,
          63000,
          80000,
          187000,
          150000,
          71475,
          17025,
          142200,
          188700,
          106500,
          171050,
          155000,
          185000,
          55044,
          191765,
          192000,
          167850,
          90734,
          160000,
          171600,
          19609,
          135000,
          61541,
          54742,
          145000,
          190000,
          100000,
          150000,
          170000,
          73546,
          62500,
          127075,
          180000,
          137141,
          184700,
          119700,
          63000,
          110000,
          175000,
          90000,
          41027,
          152000,
          200000,
          139000,
          175000,
          38868,
          73742,
          75000,
          152375,
          225000,
          110037,
          87200,
          72000,
          163200,
          122600,
          50000,
          102500,
          18000,
          180560,
          200000,
          134000,
          28609,
          240000,
          126000,
          15966,
          165000,
          155000,
          178560,
          115000,
          238000,
          205920,
          65000,
          108000,
          134000,
          195000,
          225000,
          38868,
          200000,
          114000,
          183500,
          80000,
          149040,
          63980,
          144000,
          130000,
          207000,
          170000,
          245000,
          310000,
          148500,
          190000,
          73546,
          169280,
          160000,
          120000,
          48000,
          257000,
          72000,
          123000,
          235400,
          63040,
          205640,
          225000,
          40000,
          280700,
          283780,
          172200,
          96100,
          74400,
          105500,
          100000,
          281000,
          180000,
          230000,
          121500,
          109400,
          55000,
          200000,
          270000,
          121400,
          81500,
          167500,
          24000,
          245000,
          85000,
          104300,
          100000,
          108000,
          272550,
          178750,
          120000,
          90000,
          143000,
          169000,
          86193,
          167500,
          82900,
          105000,
          180180,
          196000,
          144628,
          253200,
          65013,
          90000,
          172000,
          183924,
          18381,
          200000,
          109280,
          53416,
          97000,
          82920,
          260500,
          284000,
          170000,
          105000,
          185000,
          49646,
          192000,
          174350,
          48000,
          116888,
          170000,
          127000,
          182000,
          66100,
          213660,
          177000,
          138750,
          85000,
          90000,
          260000,
          206500,
          205000,
          123648,
          145000,
          183600,
          110000,
          70000,
          88654,
          40000,
          83171,
          106500,
          241000,
          142000,
          70000,
          171000,
          74178,
          125000,
          132000,
          17025,
          145000,
          226700,
          105000,
          150000,
          149200,
          31520,
          135000,
          100000,
          141288,
          100000,
          200000,
          33511,
          138900,
          125760,
          214200,
          253750,
          280100,
          70000,
          116000,
          118539,
          230400,
          50432,
          150000,
          249300,
          289120,
          55000,
          92350,
          193750,
          115000,
          184000,
          136620,
          150000,
          93150,
          216100,
          222000,
          144200,
          165400,
          99050,
          45391,
          100000,
          115000,
          127221,
          34320,
          105000,
          140800,
          150000,
          275000,
          99703,
          139500,
          110820,
          120000,
          69525,
          76284,
          225000,
          110736,
          139500,
          148000,
          204500,
          88100,
          210000,
          126400,
          104000,
          43064,
          108308,
          155000,
          50000,
          131685,
          56723,
          376080,
          253430,
          123471,
          164000,
          220110,
          167200,
          156560,
          125000,
          151600,
          123900,
          30000,
          110000,
          200000,
          177000,
          243900,
          75577,
          340000,
          33000,
          52533,
          84053,
          318300,
          17511,
          100000,
          222750,
          152000,
          226000,
          175000,
          184100,
          186300,
          220000,
          147100,
          178000,
          50000,
          204500,
          140000,
          24000,
          230000,
          168400,
          175000,
          25000,
          144854,
          174500,
          20000,
          260000,
          73546,
          115000,
          120000,
          141000,
          113000,
          120000,
          86128,
          116976,
          72000,
          95000,
          231250,
          116500,
          123040,
          202800,
          85000,
          152500,
          75000,
          143000,
          129300,
          258000,
          178560,
          25532,
          136994,
          25216,
          275000,
          107000,
          150000,
          77791,
          116990,
          185900,
          255000,
          55000,
          64000,
          175000,
          142500,
          145900,
          29751,
          45050,
          145000,
          185000,
          168400,
          202353,
          200000,
          230000,
          62000,
          156000,
          190000,
          72000,
          200000,
          30000,
          200000,
          219000,
          73000,
          180514,
          149850,
          190000,
          144000,
          215000
         ],
         "y": [
          187643.8683218186,
          183825.48181009272,
          123055.25757284227,
          166019.74260278163,
          113285.81519873608,
          151348.69775388628,
          176389.67649778447,
          177595.48276464525,
          113084.8474875926,
          167547.09720747196,
          143430.971870256,
          151469.68031599466,
          111580.40320197263,
          110440.1124089446,
          167547.09720747196,
          129222.55469241296,
          143712.32666585688,
          120118.71737761394,
          145440.64898169067,
          127353.55497877872,
          147450.32609312533,
          159508.3887617333,
          113285.81519873608,
          120118.71737761394,
          106452.91301985823,
          160513.22731745063,
          103537.67540201111,
          145038.71355940372,
          141421.29475882134,
          162764.06568225747,
          120721.62051104433,
          135392.26342451735,
          128355.17805111775,
          119314.84653304006,
          191663.22254468792,
          138808.71451395628,
          191663.22254468792,
          151469.68031599466,
          135392.26342451735,
          145440.64898169067,
          137564.32244655595,
          117305.1694216054,
          241467.0407202617,
          140074.81109416013,
          144315.22979928728,
          114652.39563451165,
          124138.07160048326,
          182016.77240980152,
          260380.91588681788,
          121777.90680081438,
          137401.94053595202,
          189251.6100109663,
          167868.6455453015,
          145802.39086174892,
          135430.8492250569,
          130890.58669490372,
          145038.71355940372,
          155991.45381672264,
          132578.71546850883,
          125343.87786734405,
          119314.84653304006,
          120265.42380674866,
          141421.29475882134,
          154685.16369429012,
          110915.20007808776,
          138909.19836952802,
          137803.87595823896,
          161879.8077532262,
          161518.06587316797,
          141600.55795716133,
          141421.29475882134,
          217105.73477545072,
          141421.29475882134,
          119314.84653304006,
          153479.35742742932,
          165135.48467375035,
          111999.6218474179,
          113285.81519873608,
          116184.57346426943,
          147450.32609312533,
          129363.23209021337,
          143531.45572582775,
          131372.90920164803,
          123334.20075590939,
          182418.70783208846,
          170782.27542145946,
          147932.64859986966,
          133824.71527759833,
          106941.66649335914,
          99218.07541869345,
          142868.2622790543,
          133382.5863130827,
          94416.15292863146,
          106711.75943181102,
          164934.5169626069,
          139411.61764738668,
          151871.61573828157,
          182579.48200100323,
          206655.41379599046,
          187643.8683218186,
          178801.28903150605,
          148776.7129866722,
          133967.4023525102,
          207740.6394361652,
          128358.39353449605,
          143832.90729254295,
          120943.890799569,
          144982.44260028357,
          143374.70091113585,
          141220.32704767789,
          132016.00587730712,
          179203.224453793,
          129363.23209021337,
          138959.44029731388,
          109555.85447991334,
          143430.971870256,
          115295.49231017074,
          120922.5882221878,
          173952.3400970365,
          146646.45524855147,
          149460.00320456,
          157096.7762280117,
          121324.52364447473,
          137794.22950810406,
          204525.15605786972,
          111027.74199632808,
          112371.81404845559,
          154460.48179323174,
          147450.32609312533,
          191261.28712240097,
          164532.58154031995,
          139411.61764738668,
          147086.17260053338,
          143712.32666585688,
          147450.32609312533,
          143270.19770134124,
          131372.90920164803,
          116260.13732365938,
          155489.03453886398,
          133612.8953100531,
          147450.32609312533,
          167949.03262975888,
          119984.4709465701,
          168953.87118547622,
          145038.71355940372,
          131372.90920164803,
          211868.516223052,
          125343.87786734405,
          117537.08616026497,
          138205.81138052588,
          147450.32609312533,
          110073.14536839662,
          117707.10484389233,
          135392.26342451735,
          104468.95977544993,
          121324.52364447473,
          127520.76011445008,
          186639.02976610124,
          111276.13808730141,
          184830.32036581007,
          132578.71546850883,
          192668.06110040523,
          175585.8056532106,
          128197.61936558128,
          136035.36010017645,
          157900.6470725856,
          108261.62242014942,
          163045.4204778583,
          112481.94435416222,
          119314.84653304006,
          162321.93671774183,
          147450.32609312533,
          115888.34705804396,
          94002.9633145205,
          144315.22979928728,
          163005.22693562962,
          129966.13522364377,
          155911.06673226526,
          149460.00320456,
          161518.06587316797,
          109284.14613444738,
          164237.15900493908,
          164331.6138291765,
          154624.87338094707,
          123629.221355868,
          151469.68031599466,
          156132.13121452308,
          95041.56444570993,
          141421.29475882134,
          111895.52057304558,
          109162.76163691672,
          145440.64898169067,
          163527.74298460264,
          127353.55497877872,
          147450.32609312533,
          155489.03453886398,
          116720.75531760021,
          112280.97664301874,
          138235.9565371974,
          159508.3887617333,
          142281.83849793766,
          161397.4852464819,
          135271.68279783128,
          112481.94435416222,
          131372.90920164803,
          157498.71165029865,
          123334.20075590939,
          103650.21732025145,
          148254.1969376992,
          167547.09720747196,
          143029.0364479691,
          157498.71165029865,
          102782.43874353396,
          116799.53466036844,
          117305.1694216054,
          148404.9227210568,
          177595.48276464525,
          131387.78081227266,
          122208.78157350598,
          116099.36315474461,
          152755.87366731284,
          136437.2955224634,
          107256.7838644321,
          128358.39353449605,
          94394.85035125025,
          159733.472598214,
          167547.09720747196,
          141019.3593365344,
          98658.98324629232,
          183624.51409894926,
          137803.87595823896,
          93577.31370231864,
          153479.35742742932,
          149460.00320456,
          158929.6017536401,
          133382.5863130827,
          182820.64325437538,
          169926.55490741058,
          113285.81519873608,
          130569.03835707417,
          141019.3593365344,
          165537.4200960373,
          177595.48276464525,
          102782.43874353396,
          167547.09720747196,
          132980.65089079578,
          160915.16273973757,
          119314.84653304006,
          147064.46808772988,
          112875.84106800341,
          145038.71355940372,
          139411.61764738668,
          170360.64516348048,
          155489.03453886398,
          185634.1912103839,
          211759.99365903452,
          146847.42295969493,
          163527.74298460264,
          116720.75531760021,
          155199.64103481738,
          151469.68031599466,
          135392.26342451735,
          106452.91301985823,
          190457.4162778271,
          116099.36315474461,
          136598.06969137816,
          181775.61115642937,
          112498.0217710537,
          169814.01298917027,
          177595.48276464525,
          103237.42964156278,
          199983.28578602738,
          201221.24688667117,
          156373.29246789525,
          125786.00683185968,
          117064.00816823324,
          129564.19980135685,
          127353.55497877872,
          200103.86641271348,
          159508.3887617333,
          179605.15987607994,
          135995.16655794776,
          131131.74794827588,
          109266.46097586675,
          167547.09720747196,
          195682.57676755724,
          135954.97301571906,
          119917.74966647047,
          154484.19598314667,
          96806.46288497184,
          185634.1912103839,
          121324.52364447473,
          129081.87729461252,
          127353.55497877872,
          130569.03835707417,
          196707.5120943889,
          159005.96948387462,
          135392.26342451735,
          123334.20075590939,
          144636.7781371168,
          155087.09911657707,
          121804.03260326304,
          154484.19598314667,
          120480.45925767216,
          129363.23209021337,
          159580.73713774496,
          165939.35551832424,
          145291.12900459993,
          188930.06167313678,
          113291.04035922581,
          123334.20075590939,
          156292.90538343784,
          161085.58335878723,
          94547.98774714158,
          167547.09720747196,
          131083.51569760146,
          108629.79526696425,
          126147.74871191791,
          120488.49796611791,
          191864.19025583134,
          201309.6726795743,
          155489.03453886398,
          129363.23209021337,
          161518.06587316797,
          107114.49872494252,
          164331.6138291765,
          157237.45362581214,
          106452.91301985823,
          134141.44039036043,
          155489.03453886398,
          138205.81138052588,
          160312.25960630717,
          113727.9441632517,
          173037.53507591144,
          158302.5824948725,
          142928.55259239735,
          121324.52364447473,
          123334.20075590939,
          191663.22254468792,
          170159.677452337,
          169556.7743189066,
          136858.5238450201,
          145440.64898169067,
          160955.35628196626,
          131372.90920164803,
          115295.49231017074,
          122793.19567751118,
          103237.42964156278,
          120589.38375711194,
          129966.13522364377,
          184026.44952123618,
          144234.84271482987,
          115295.49231017074,
          155890.9699611509,
          116974.77850448554,
          137401.94053595202,
          140215.48849196057,
          94002.9633145205,
          145440.64898169067,
          178278.77298253303,
          129363.23209021337,
          147450.32609312533,
          147128.7777552958,
          99829.01726056958,
          141421.29475882134,
          127353.55497877872,
          143948.66469416156,
          127353.55497877872,
          167547.09720747196,
          100629.27068634286,
          142988.84290574037,
          137707.41145689008,
          173254.5802039464,
          189151.12615539457,
          199742.12453265523,
          115295.49231017074,
          133784.52173536964,
          134805.03577255615,
          179765.9340449947,
          107430.41996686005,
          147450.32609312533,
          187362.51352621772,
          203367.58204168337,
          109266.46097586675,
          124278.74899828367,
          165035.00081817864,
          133382.5863130827,
          161116.13045088103,
          142072.43014292617,
          147450.32609312533,
          124600.29733611323,
          174018.25750629156,
          176389.67649778447,
          145119.10064386114,
          153640.1315963441,
          126971.71632760612,
          105404.26350311162,
          127353.55497877872,
          133382.5863130827,
          138294.6391088513,
          100954.43644297299,
          129363.23209021337,
          143752.52020808554,
          147450.32609312533,
          197692.25387899188,
          127234.1801583595,
          143230.00415911255,
          131702.49624792332,
          135392.26342451735,
          115104.57298458445,
          117821.25450382182,
          177595.48276464525,
          131668.73367245123,
          143230.00415911255,
          146646.45524855147,
          169355.80660776317,
          122570.52345356421,
          171566.4514303413,
          137964.65012715373,
          128961.29666792645,
          104468.95977544993,
          130692.83446713854,
          149460.00320456,
          107256.7838644321,
          140088.87883394017,
          109958.99570846715,
          238319.886363755,
          189022.50682026276,
          136787.38127527531,
          153077.42200514238,
          175630.01854966217,
          154363.61535646056,
          150087.02246332762,
          137401.94053595202,
          148093.42276878442,
          136959.8115714364,
          99218.07541869345,
          131372.90920164803,
          167547.09720747196,
          158302.5824948725,
          185192.0622458683,
          117537.08616026497,
          223818.0563276425,
          100423.88168555424,
          108274.8862890849,
          120943.890799569,
          215096.05766401606,
          94198.30392975194,
          127353.55497877872,
          176691.12806449967,
          148254.1969376992,
          177997.4181869322,
          157498.71165029865,
          161156.32399310975,
          162040.58192214096,
          175585.8056532106,
          146284.71336849322,
          158704.51791715942,
          107256.7838644321,
          169355.80660776317,
          143430.971870256,
          96806.46288497184,
          179605.15987607994,
          154845.9378632049,
          157498.71165029865,
          97208.39830725879,
          145381.96641003678,
          157297.7439391552,
          95198.72119582412,
          191663.22254468792,
          116720.75531760021,
          133382.5863130827,
          135392.26342451735,
          143832.90729254295,
          132578.71546850883,
          135392.26342451735,
          121777.90680081438,
          134176.81070752168,
          116099.36315474461,
          125343.87786734405,
          180107.5791539386,
          133985.4894465131,
          136614.14710826962,
          168672.51638987538,
          121324.52364447473,
          148455.16464884265,
          117305.1694216054,
          144636.7781371168,
          139130.26285178584,
          190859.35170011403,
          158929.6017536401,
          97422.22795191543,
          142222.7539908615,
          97295.21635847277,
          197692.25387899188,
          130167.10293478724,
          147450.32609312533,
          118426.97118520824,
          134182.43780343368,
          161879.8077532262,
          189653.54543325322,
          109266.46097586675,
          112883.87977644915,
          157498.71165029865,
          144435.81042597332,
          145802.39086174892,
          99117.993498544,
          105267.20352411177,
          145440.64898169067,
          161518.06587316797,
          154845.9378632049,
          168492.8512561131,
          167547.09720747196,
          179605.15987607994,
          112080.00893187529,
          149861.93862684694,
          163527.74298460264,
          116099.36315474461,
          167547.09720747196,
          99218.07541869345,
          167547.09720747196,
          175183.87023092367,
          116501.29857703154,
          159714.9835687888,
          147390.03577978228,
          163527.74298460264,
          145038.71355940372,
          173576.12854177592
         ]
        }
       ],
       "layout": {
        "height": 750,
        "margin": {
         "l": 80,
         "t": 250
        },
        "template": {
         "data": {
          "bar": [
           {
            "error_x": {
             "color": "rgb(36,36,36)"
            },
            "error_y": {
             "color": "rgb(36,36,36)"
            },
            "marker": {
             "line": {
              "color": "white",
              "width": 0.5
             },
             "pattern": {
              "fillmode": "overlay",
              "size": 10,
              "solidity": 0.2
             }
            },
            "type": "bar"
           }
          ],
          "barpolar": [
           {
            "marker": {
             "line": {
              "color": "white",
              "width": 0.5
             },
             "pattern": {
              "fillmode": "overlay",
              "size": 10,
              "solidity": 0.2
             }
            },
            "type": "barpolar"
           }
          ],
          "carpet": [
           {
            "aaxis": {
             "endlinecolor": "rgb(36,36,36)",
             "gridcolor": "white",
             "linecolor": "white",
             "minorgridcolor": "white",
             "startlinecolor": "rgb(36,36,36)"
            },
            "baxis": {
             "endlinecolor": "rgb(36,36,36)",
             "gridcolor": "white",
             "linecolor": "white",
             "minorgridcolor": "white",
             "startlinecolor": "rgb(36,36,36)"
            },
            "type": "carpet"
           }
          ],
          "choropleth": [
           {
            "colorbar": {
             "outlinewidth": 1,
             "tickcolor": "rgb(36,36,36)",
             "ticks": "outside"
            },
            "type": "choropleth"
           }
          ],
          "contour": [
           {
            "colorbar": {
             "outlinewidth": 1,
             "tickcolor": "rgb(36,36,36)",
             "ticks": "outside"
            },
            "colorscale": [
             [
              0,
              "#440154"
             ],
             [
              0.1111111111111111,
              "#482878"
             ],
             [
              0.2222222222222222,
              "#3e4989"
             ],
             [
              0.3333333333333333,
              "#31688e"
             ],
             [
              0.4444444444444444,
              "#26828e"
             ],
             [
              0.5555555555555556,
              "#1f9e89"
             ],
             [
              0.6666666666666666,
              "#35b779"
             ],
             [
              0.7777777777777778,
              "#6ece58"
             ],
             [
              0.8888888888888888,
              "#b5de2b"
             ],
             [
              1,
              "#fde725"
             ]
            ],
            "type": "contour"
           }
          ],
          "contourcarpet": [
           {
            "colorbar": {
             "outlinewidth": 1,
             "tickcolor": "rgb(36,36,36)",
             "ticks": "outside"
            },
            "type": "contourcarpet"
           }
          ],
          "heatmap": [
           {
            "colorbar": {
             "outlinewidth": 1,
             "tickcolor": "rgb(36,36,36)",
             "ticks": "outside"
            },
            "colorscale": [
             [
              0,
              "#440154"
             ],
             [
              0.1111111111111111,
              "#482878"
             ],
             [
              0.2222222222222222,
              "#3e4989"
             ],
             [
              0.3333333333333333,
              "#31688e"
             ],
             [
              0.4444444444444444,
              "#26828e"
             ],
             [
              0.5555555555555556,
              "#1f9e89"
             ],
             [
              0.6666666666666666,
              "#35b779"
             ],
             [
              0.7777777777777778,
              "#6ece58"
             ],
             [
              0.8888888888888888,
              "#b5de2b"
             ],
             [
              1,
              "#fde725"
             ]
            ],
            "type": "heatmap"
           }
          ],
          "heatmapgl": [
           {
            "colorbar": {
             "outlinewidth": 1,
             "tickcolor": "rgb(36,36,36)",
             "ticks": "outside"
            },
            "colorscale": [
             [
              0,
              "#440154"
             ],
             [
              0.1111111111111111,
              "#482878"
             ],
             [
              0.2222222222222222,
              "#3e4989"
             ],
             [
              0.3333333333333333,
              "#31688e"
             ],
             [
              0.4444444444444444,
              "#26828e"
             ],
             [
              0.5555555555555556,
              "#1f9e89"
             ],
             [
              0.6666666666666666,
              "#35b779"
             ],
             [
              0.7777777777777778,
              "#6ece58"
             ],
             [
              0.8888888888888888,
              "#b5de2b"
             ],
             [
              1,
              "#fde725"
             ]
            ],
            "type": "heatmapgl"
           }
          ],
          "histogram": [
           {
            "marker": {
             "line": {
              "color": "white",
              "width": 0.6
             }
            },
            "type": "histogram"
           }
          ],
          "histogram2d": [
           {
            "colorbar": {
             "outlinewidth": 1,
             "tickcolor": "rgb(36,36,36)",
             "ticks": "outside"
            },
            "colorscale": [
             [
              0,
              "#440154"
             ],
             [
              0.1111111111111111,
              "#482878"
             ],
             [
              0.2222222222222222,
              "#3e4989"
             ],
             [
              0.3333333333333333,
              "#31688e"
             ],
             [
              0.4444444444444444,
              "#26828e"
             ],
             [
              0.5555555555555556,
              "#1f9e89"
             ],
             [
              0.6666666666666666,
              "#35b779"
             ],
             [
              0.7777777777777778,
              "#6ece58"
             ],
             [
              0.8888888888888888,
              "#b5de2b"
             ],
             [
              1,
              "#fde725"
             ]
            ],
            "type": "histogram2d"
           }
          ],
          "histogram2dcontour": [
           {
            "colorbar": {
             "outlinewidth": 1,
             "tickcolor": "rgb(36,36,36)",
             "ticks": "outside"
            },
            "colorscale": [
             [
              0,
              "#440154"
             ],
             [
              0.1111111111111111,
              "#482878"
             ],
             [
              0.2222222222222222,
              "#3e4989"
             ],
             [
              0.3333333333333333,
              "#31688e"
             ],
             [
              0.4444444444444444,
              "#26828e"
             ],
             [
              0.5555555555555556,
              "#1f9e89"
             ],
             [
              0.6666666666666666,
              "#35b779"
             ],
             [
              0.7777777777777778,
              "#6ece58"
             ],
             [
              0.8888888888888888,
              "#b5de2b"
             ],
             [
              1,
              "#fde725"
             ]
            ],
            "type": "histogram2dcontour"
           }
          ],
          "mesh3d": [
           {
            "colorbar": {
             "outlinewidth": 1,
             "tickcolor": "rgb(36,36,36)",
             "ticks": "outside"
            },
            "type": "mesh3d"
           }
          ],
          "parcoords": [
           {
            "line": {
             "colorbar": {
              "outlinewidth": 1,
              "tickcolor": "rgb(36,36,36)",
              "ticks": "outside"
             }
            },
            "type": "parcoords"
           }
          ],
          "pie": [
           {
            "automargin": true,
            "type": "pie"
           }
          ],
          "scatter": [
           {
            "fillpattern": {
             "fillmode": "overlay",
             "size": 10,
             "solidity": 0.2
            },
            "type": "scatter"
           }
          ],
          "scatter3d": [
           {
            "line": {
             "colorbar": {
              "outlinewidth": 1,
              "tickcolor": "rgb(36,36,36)",
              "ticks": "outside"
             }
            },
            "marker": {
             "colorbar": {
              "outlinewidth": 1,
              "tickcolor": "rgb(36,36,36)",
              "ticks": "outside"
             }
            },
            "type": "scatter3d"
           }
          ],
          "scattercarpet": [
           {
            "marker": {
             "colorbar": {
              "outlinewidth": 1,
              "tickcolor": "rgb(36,36,36)",
              "ticks": "outside"
             }
            },
            "type": "scattercarpet"
           }
          ],
          "scattergeo": [
           {
            "marker": {
             "colorbar": {
              "outlinewidth": 1,
              "tickcolor": "rgb(36,36,36)",
              "ticks": "outside"
             }
            },
            "type": "scattergeo"
           }
          ],
          "scattergl": [
           {
            "marker": {
             "colorbar": {
              "outlinewidth": 1,
              "tickcolor": "rgb(36,36,36)",
              "ticks": "outside"
             }
            },
            "type": "scattergl"
           }
          ],
          "scattermapbox": [
           {
            "marker": {
             "colorbar": {
              "outlinewidth": 1,
              "tickcolor": "rgb(36,36,36)",
              "ticks": "outside"
             }
            },
            "type": "scattermapbox"
           }
          ],
          "scatterpolar": [
           {
            "marker": {
             "colorbar": {
              "outlinewidth": 1,
              "tickcolor": "rgb(36,36,36)",
              "ticks": "outside"
             }
            },
            "type": "scatterpolar"
           }
          ],
          "scatterpolargl": [
           {
            "marker": {
             "colorbar": {
              "outlinewidth": 1,
              "tickcolor": "rgb(36,36,36)",
              "ticks": "outside"
             }
            },
            "type": "scatterpolargl"
           }
          ],
          "scatterternary": [
           {
            "marker": {
             "colorbar": {
              "outlinewidth": 1,
              "tickcolor": "rgb(36,36,36)",
              "ticks": "outside"
             }
            },
            "type": "scatterternary"
           }
          ],
          "surface": [
           {
            "colorbar": {
             "outlinewidth": 1,
             "tickcolor": "rgb(36,36,36)",
             "ticks": "outside"
            },
            "colorscale": [
             [
              0,
              "#440154"
             ],
             [
              0.1111111111111111,
              "#482878"
             ],
             [
              0.2222222222222222,
              "#3e4989"
             ],
             [
              0.3333333333333333,
              "#31688e"
             ],
             [
              0.4444444444444444,
              "#26828e"
             ],
             [
              0.5555555555555556,
              "#1f9e89"
             ],
             [
              0.6666666666666666,
              "#35b779"
             ],
             [
              0.7777777777777778,
              "#6ece58"
             ],
             [
              0.8888888888888888,
              "#b5de2b"
             ],
             [
              1,
              "#fde725"
             ]
            ],
            "type": "surface"
           }
          ],
          "table": [
           {
            "cells": {
             "fill": {
              "color": "rgb(237,237,237)"
             },
             "line": {
              "color": "white"
             }
            },
            "header": {
             "fill": {
              "color": "rgb(217,217,217)"
             },
             "line": {
              "color": "white"
             }
            },
            "type": "table"
           }
          ]
         },
         "layout": {
          "annotationdefaults": {
           "arrowhead": 0,
           "arrowwidth": 1
          },
          "autotypenumbers": "strict",
          "coloraxis": {
           "colorbar": {
            "outlinewidth": 1,
            "tickcolor": "rgb(36,36,36)",
            "ticks": "outside"
           }
          },
          "colorscale": {
           "diverging": [
            [
             0,
             "rgb(103,0,31)"
            ],
            [
             0.1,
             "rgb(178,24,43)"
            ],
            [
             0.2,
             "rgb(214,96,77)"
            ],
            [
             0.3,
             "rgb(244,165,130)"
            ],
            [
             0.4,
             "rgb(253,219,199)"
            ],
            [
             0.5,
             "rgb(247,247,247)"
            ],
            [
             0.6,
             "rgb(209,229,240)"
            ],
            [
             0.7,
             "rgb(146,197,222)"
            ],
            [
             0.8,
             "rgb(67,147,195)"
            ],
            [
             0.9,
             "rgb(33,102,172)"
            ],
            [
             1,
             "rgb(5,48,97)"
            ]
           ],
           "sequential": [
            [
             0,
             "#440154"
            ],
            [
             0.1111111111111111,
             "#482878"
            ],
            [
             0.2222222222222222,
             "#3e4989"
            ],
            [
             0.3333333333333333,
             "#31688e"
            ],
            [
             0.4444444444444444,
             "#26828e"
            ],
            [
             0.5555555555555556,
             "#1f9e89"
            ],
            [
             0.6666666666666666,
             "#35b779"
            ],
            [
             0.7777777777777778,
             "#6ece58"
            ],
            [
             0.8888888888888888,
             "#b5de2b"
            ],
            [
             1,
             "#fde725"
            ]
           ],
           "sequentialminus": [
            [
             0,
             "#440154"
            ],
            [
             0.1111111111111111,
             "#482878"
            ],
            [
             0.2222222222222222,
             "#3e4989"
            ],
            [
             0.3333333333333333,
             "#31688e"
            ],
            [
             0.4444444444444444,
             "#26828e"
            ],
            [
             0.5555555555555556,
             "#1f9e89"
            ],
            [
             0.6666666666666666,
             "#35b779"
            ],
            [
             0.7777777777777778,
             "#6ece58"
            ],
            [
             0.8888888888888888,
             "#b5de2b"
            ],
            [
             1,
             "#fde725"
            ]
           ]
          },
          "colorway": [
           "#1F77B4",
           "#FF7F0E",
           "#2CA02C",
           "#D62728",
           "#9467BD",
           "#8C564B",
           "#E377C2",
           "#7F7F7F",
           "#BCBD22",
           "#17BECF"
          ],
          "font": {
           "color": "rgb(36,36,36)"
          },
          "geo": {
           "bgcolor": "white",
           "lakecolor": "white",
           "landcolor": "white",
           "showlakes": true,
           "showland": true,
           "subunitcolor": "white"
          },
          "hoverlabel": {
           "align": "left"
          },
          "hovermode": "closest",
          "mapbox": {
           "style": "light"
          },
          "paper_bgcolor": "white",
          "plot_bgcolor": "white",
          "polar": {
           "angularaxis": {
            "gridcolor": "rgb(232,232,232)",
            "linecolor": "rgb(36,36,36)",
            "showgrid": false,
            "showline": true,
            "ticks": "outside"
           },
           "bgcolor": "white",
           "radialaxis": {
            "gridcolor": "rgb(232,232,232)",
            "linecolor": "rgb(36,36,36)",
            "showgrid": false,
            "showline": true,
            "ticks": "outside"
           }
          },
          "scene": {
           "xaxis": {
            "backgroundcolor": "white",
            "gridcolor": "rgb(232,232,232)",
            "gridwidth": 2,
            "linecolor": "rgb(36,36,36)",
            "showbackground": true,
            "showgrid": false,
            "showline": true,
            "ticks": "outside",
            "zeroline": false,
            "zerolinecolor": "rgb(36,36,36)"
           },
           "yaxis": {
            "backgroundcolor": "white",
            "gridcolor": "rgb(232,232,232)",
            "gridwidth": 2,
            "linecolor": "rgb(36,36,36)",
            "showbackground": true,
            "showgrid": false,
            "showline": true,
            "ticks": "outside",
            "zeroline": false,
            "zerolinecolor": "rgb(36,36,36)"
           },
           "zaxis": {
            "backgroundcolor": "white",
            "gridcolor": "rgb(232,232,232)",
            "gridwidth": 2,
            "linecolor": "rgb(36,36,36)",
            "showbackground": true,
            "showgrid": false,
            "showline": true,
            "ticks": "outside",
            "zeroline": false,
            "zerolinecolor": "rgb(36,36,36)"
           }
          },
          "shapedefaults": {
           "fillcolor": "black",
           "line": {
            "width": 0
           },
           "opacity": 0.3
          },
          "ternary": {
           "aaxis": {
            "gridcolor": "rgb(232,232,232)",
            "linecolor": "rgb(36,36,36)",
            "showgrid": false,
            "showline": true,
            "ticks": "outside"
           },
           "baxis": {
            "gridcolor": "rgb(232,232,232)",
            "linecolor": "rgb(36,36,36)",
            "showgrid": false,
            "showline": true,
            "ticks": "outside"
           },
           "bgcolor": "white",
           "caxis": {
            "gridcolor": "rgb(232,232,232)",
            "linecolor": "rgb(36,36,36)",
            "showgrid": false,
            "showline": true,
            "ticks": "outside"
           }
          },
          "title": {
           "x": 0.05
          },
          "xaxis": {
           "automargin": true,
           "gridcolor": "rgb(232,232,232)",
           "linecolor": "rgb(36,36,36)",
           "showgrid": false,
           "showline": true,
           "ticks": "outside",
           "title": {
            "standoff": 15
           },
           "zeroline": false,
           "zerolinecolor": "rgb(36,36,36)"
          },
          "yaxis": {
           "automargin": true,
           "gridcolor": "rgb(232,232,232)",
           "linecolor": "rgb(36,36,36)",
           "showgrid": false,
           "showline": true,
           "ticks": "outside",
           "title": {
            "standoff": 15
           },
           "zeroline": false,
           "zerolinecolor": "rgb(36,36,36)"
          }
         }
        },
        "title": {
         "text": "<b>True x Predicted <br> <sup>Scatterplot</sup></b>"
        },
        "width": 850,
        "xaxis": {
         "title": {
          "text": "True Salaries"
         }
        },
        "yaxis": {
         "title": {
          "text": "Predicted Salaries"
         }
        }
       }
      }
     },
     "metadata": {},
     "output_type": "display_data"
    }
   ],
   "source": [
    "import plotly.graph_objects as go\n",
    "\n",
    "def pred_vs_true_plot(y_true, y_pred):\n",
    "    '''\n",
    "    This function takes values for y_true and y_val, and plots a scatterplot along with a line of best fit\n",
    "    '''\n",
    "\n",
    "    slope, intercept = np.polyfit(y_true, y_pred, 1)\n",
    "    fit_line = slope * y_true + intercept\n",
    "\n",
    "    fig = go.Figure()\n",
    "    fig.add_trace(go.Scatter(x=y_true, y=y_pred, mode='markers', name='Data Points'))\n",
    "    fig.add_trace(go.Scatter(x=y_true, y=fit_line, mode='lines', line=dict(color='red'), name='Fit-line'))\n",
    "    fig.update_traces(marker=dict(size=10, color='blue'))\n",
    "    fig.update_layout(\n",
    "        title={'text': f'<b>True x Predicted <br> <sup>Scatterplot</sup></b>'},\n",
    "        xaxis=dict(title='True Salaries'), \n",
    "        yaxis=dict(title='Predicted Salaries'),\n",
    "        height=750,\n",
    "        width=850,\n",
    "        margin=dict(t=250, l=80),\n",
    "        template='simple_white',\n",
    "    )\n",
    "    fig.show()\n",
    "\n",
    "pred_vs_true_plot(y_val, y_pred)"
   ]
  },
  {
   "cell_type": "code",
   "execution_count": 29,
   "metadata": {},
   "outputs": [
    {
     "data": {
      "text/html": [
       "<div>\n",
       "<style scoped>\n",
       "    .dataframe tbody tr th:only-of-type {\n",
       "        vertical-align: middle;\n",
       "    }\n",
       "\n",
       "    .dataframe tbody tr th {\n",
       "        vertical-align: top;\n",
       "    }\n",
       "\n",
       "    .dataframe thead th {\n",
       "        text-align: right;\n",
       "    }\n",
       "</style>\n",
       "<table border=\"1\" class=\"dataframe\">\n",
       "  <thead>\n",
       "    <tr style=\"text-align: right;\">\n",
       "      <th></th>\n",
       "      <th>Job Title</th>\n",
       "      <th>Employment Type</th>\n",
       "      <th>Experience Level</th>\n",
       "      <th>Expertise Level</th>\n",
       "      <th>Salary</th>\n",
       "      <th>Salary Currency</th>\n",
       "      <th>Company Location</th>\n",
       "      <th>Salary in USD</th>\n",
       "      <th>Employee Residence</th>\n",
       "      <th>Company Size</th>\n",
       "      <th>Year</th>\n",
       "    </tr>\n",
       "  </thead>\n",
       "  <tbody>\n",
       "    <tr>\n",
       "      <th>1482</th>\n",
       "      <td>MLOps Engineer</td>\n",
       "      <td>Full-Time</td>\n",
       "      <td>Mid</td>\n",
       "      <td>Intermediate</td>\n",
       "      <td>134000</td>\n",
       "      <td>United States Dollar</td>\n",
       "      <td>United States</td>\n",
       "      <td>134000</td>\n",
       "      <td>United States</td>\n",
       "      <td>Medium</td>\n",
       "      <td>2023</td>\n",
       "    </tr>\n",
       "    <tr>\n",
       "      <th>2738</th>\n",
       "      <td>Data Analyst</td>\n",
       "      <td>Full-Time</td>\n",
       "      <td>Senior</td>\n",
       "      <td>Expert</td>\n",
       "      <td>117000</td>\n",
       "      <td>United States Dollar</td>\n",
       "      <td>United States</td>\n",
       "      <td>117000</td>\n",
       "      <td>United States</td>\n",
       "      <td>Medium</td>\n",
       "      <td>2022</td>\n",
       "    </tr>\n",
       "    <tr>\n",
       "      <th>2743</th>\n",
       "      <td>Machine Learning Engineer</td>\n",
       "      <td>Full-Time</td>\n",
       "      <td>Senior</td>\n",
       "      <td>Expert</td>\n",
       "      <td>129300</td>\n",
       "      <td>United States Dollar</td>\n",
       "      <td>United States</td>\n",
       "      <td>129300</td>\n",
       "      <td>United States</td>\n",
       "      <td>Medium</td>\n",
       "      <td>2022</td>\n",
       "    </tr>\n",
       "    <tr>\n",
       "      <th>2424</th>\n",
       "      <td>Data Engineer</td>\n",
       "      <td>Full-Time</td>\n",
       "      <td>Senior</td>\n",
       "      <td>Expert</td>\n",
       "      <td>172200</td>\n",
       "      <td>United States Dollar</td>\n",
       "      <td>United States</td>\n",
       "      <td>172200</td>\n",
       "      <td>United States</td>\n",
       "      <td>Medium</td>\n",
       "      <td>2022</td>\n",
       "    </tr>\n",
       "    <tr>\n",
       "      <th>805</th>\n",
       "      <td>Machine Learning Engineer</td>\n",
       "      <td>Full-Time</td>\n",
       "      <td>Senior</td>\n",
       "      <td>Expert</td>\n",
       "      <td>180000</td>\n",
       "      <td>United States Dollar</td>\n",
       "      <td>United States</td>\n",
       "      <td>180000</td>\n",
       "      <td>United States</td>\n",
       "      <td>Medium</td>\n",
       "      <td>2023</td>\n",
       "    </tr>\n",
       "    <tr>\n",
       "      <th>...</th>\n",
       "      <td>...</td>\n",
       "      <td>...</td>\n",
       "      <td>...</td>\n",
       "      <td>...</td>\n",
       "      <td>...</td>\n",
       "      <td>...</td>\n",
       "      <td>...</td>\n",
       "      <td>...</td>\n",
       "      <td>...</td>\n",
       "      <td>...</td>\n",
       "      <td>...</td>\n",
       "    </tr>\n",
       "    <tr>\n",
       "      <th>1866</th>\n",
       "      <td>Research Scientist</td>\n",
       "      <td>Full-Time</td>\n",
       "      <td>Mid</td>\n",
       "      <td>Intermediate</td>\n",
       "      <td>23000</td>\n",
       "      <td>United States Dollar</td>\n",
       "      <td>India</td>\n",
       "      <td>23000</td>\n",
       "      <td>India</td>\n",
       "      <td>Large</td>\n",
       "      <td>2022</td>\n",
       "    </tr>\n",
       "    <tr>\n",
       "      <th>265</th>\n",
       "      <td>Data Analyst</td>\n",
       "      <td>Full-Time</td>\n",
       "      <td>Senior</td>\n",
       "      <td>Expert</td>\n",
       "      <td>70000</td>\n",
       "      <td>United States Dollar</td>\n",
       "      <td>United States</td>\n",
       "      <td>70000</td>\n",
       "      <td>United States</td>\n",
       "      <td>Medium</td>\n",
       "      <td>2023</td>\n",
       "    </tr>\n",
       "    <tr>\n",
       "      <th>2430</th>\n",
       "      <td>Head of Data</td>\n",
       "      <td>Full-Time</td>\n",
       "      <td>Executive</td>\n",
       "      <td>Director</td>\n",
       "      <td>160000</td>\n",
       "      <td>United States Dollar</td>\n",
       "      <td>United States</td>\n",
       "      <td>160000</td>\n",
       "      <td>United States</td>\n",
       "      <td>Medium</td>\n",
       "      <td>2022</td>\n",
       "    </tr>\n",
       "    <tr>\n",
       "      <th>1324</th>\n",
       "      <td>Analytics Engineer</td>\n",
       "      <td>Full-Time</td>\n",
       "      <td>Senior</td>\n",
       "      <td>Expert</td>\n",
       "      <td>143200</td>\n",
       "      <td>United States Dollar</td>\n",
       "      <td>United States</td>\n",
       "      <td>143200</td>\n",
       "      <td>United States</td>\n",
       "      <td>Medium</td>\n",
       "      <td>2023</td>\n",
       "    </tr>\n",
       "    <tr>\n",
       "      <th>902</th>\n",
       "      <td>Data Engineer</td>\n",
       "      <td>Full-Time</td>\n",
       "      <td>Senior</td>\n",
       "      <td>Expert</td>\n",
       "      <td>123906</td>\n",
       "      <td>United States Dollar</td>\n",
       "      <td>United States</td>\n",
       "      <td>123906</td>\n",
       "      <td>United States</td>\n",
       "      <td>Medium</td>\n",
       "      <td>2023</td>\n",
       "    </tr>\n",
       "  </tbody>\n",
       "</table>\n",
       "<p>660 rows × 11 columns</p>\n",
       "</div>"
      ],
      "text/plain": [
       "                      Job Title Employment Type Experience Level   \n",
       "1482             MLOps Engineer       Full-Time              Mid  \\\n",
       "2738               Data Analyst       Full-Time           Senior   \n",
       "2743  Machine Learning Engineer       Full-Time           Senior   \n",
       "2424              Data Engineer       Full-Time           Senior   \n",
       "805   Machine Learning Engineer       Full-Time           Senior   \n",
       "...                         ...             ...              ...   \n",
       "1866         Research Scientist       Full-Time              Mid   \n",
       "265                Data Analyst       Full-Time           Senior   \n",
       "2430               Head of Data       Full-Time        Executive   \n",
       "1324         Analytics Engineer       Full-Time           Senior   \n",
       "902               Data Engineer       Full-Time           Senior   \n",
       "\n",
       "     Expertise Level  Salary       Salary Currency Company Location   \n",
       "1482    Intermediate  134000  United States Dollar    United States  \\\n",
       "2738          Expert  117000  United States Dollar    United States   \n",
       "2743          Expert  129300  United States Dollar    United States   \n",
       "2424          Expert  172200  United States Dollar    United States   \n",
       "805           Expert  180000  United States Dollar    United States   \n",
       "...              ...     ...                   ...              ...   \n",
       "1866    Intermediate   23000  United States Dollar            India   \n",
       "265           Expert   70000  United States Dollar    United States   \n",
       "2430        Director  160000  United States Dollar    United States   \n",
       "1324          Expert  143200  United States Dollar    United States   \n",
       "902           Expert  123906  United States Dollar    United States   \n",
       "\n",
       "      Salary in USD Employee Residence Company Size  Year  \n",
       "1482         134000      United States       Medium  2023  \n",
       "2738         117000      United States       Medium  2022  \n",
       "2743         129300      United States       Medium  2022  \n",
       "2424         172200      United States       Medium  2022  \n",
       "805          180000      United States       Medium  2023  \n",
       "...             ...                ...          ...   ...  \n",
       "1866          23000              India        Large  2022  \n",
       "265           70000      United States       Medium  2023  \n",
       "2430         160000      United States       Medium  2022  \n",
       "1324         143200      United States       Medium  2023  \n",
       "902          123906      United States       Medium  2023  \n",
       "\n",
       "[660 rows x 11 columns]"
      ]
     },
     "execution_count": 29,
     "metadata": {},
     "output_type": "execute_result"
    }
   ],
   "source": [
    "test"
   ]
  },
  {
   "cell_type": "code",
   "execution_count": 30,
   "metadata": {},
   "outputs": [
    {
     "data": {
      "text/plain": [
       "1482    134000\n",
       "2738    117000\n",
       "2743    129300\n",
       "2424    172200\n",
       "805     180000\n",
       "         ...  \n",
       "1866     23000\n",
       "265      70000\n",
       "2430    160000\n",
       "1324    143200\n",
       "902     123906\n",
       "Name: Salary in USD, Length: 660, dtype: int64"
      ]
     },
     "execution_count": 30,
     "metadata": {},
     "output_type": "execute_result"
    }
   ],
   "source": [
    "# Saving salaries\n",
    "true_salary = test['Salary in USD']\n",
    "true_salary"
   ]
  },
  {
   "cell_type": "code",
   "execution_count": 31,
   "metadata": {},
   "outputs": [
    {
     "data": {
      "text/html": [
       "<div>\n",
       "<style scoped>\n",
       "    .dataframe tbody tr th:only-of-type {\n",
       "        vertical-align: middle;\n",
       "    }\n",
       "\n",
       "    .dataframe tbody tr th {\n",
       "        vertical-align: top;\n",
       "    }\n",
       "\n",
       "    .dataframe thead th {\n",
       "        text-align: right;\n",
       "    }\n",
       "</style>\n",
       "<table border=\"1\" class=\"dataframe\">\n",
       "  <thead>\n",
       "    <tr style=\"text-align: right;\">\n",
       "      <th></th>\n",
       "      <th>Job Title</th>\n",
       "      <th>Employment Type</th>\n",
       "      <th>Experience Level</th>\n",
       "      <th>Expertise Level</th>\n",
       "      <th>Salary Currency</th>\n",
       "      <th>Company Location</th>\n",
       "      <th>Employee Residence</th>\n",
       "      <th>Company Size</th>\n",
       "      <th>Year</th>\n",
       "    </tr>\n",
       "  </thead>\n",
       "  <tbody>\n",
       "    <tr>\n",
       "      <th>1482</th>\n",
       "      <td>MLOps Engineer</td>\n",
       "      <td>Full-Time</td>\n",
       "      <td>1.0</td>\n",
       "      <td>1.0</td>\n",
       "      <td>United States Dollar</td>\n",
       "      <td>United States</td>\n",
       "      <td>United States</td>\n",
       "      <td>1.0</td>\n",
       "      <td>2023</td>\n",
       "    </tr>\n",
       "    <tr>\n",
       "      <th>2738</th>\n",
       "      <td>Data Analyst</td>\n",
       "      <td>Full-Time</td>\n",
       "      <td>2.0</td>\n",
       "      <td>2.0</td>\n",
       "      <td>United States Dollar</td>\n",
       "      <td>United States</td>\n",
       "      <td>United States</td>\n",
       "      <td>1.0</td>\n",
       "      <td>2022</td>\n",
       "    </tr>\n",
       "    <tr>\n",
       "      <th>2743</th>\n",
       "      <td>Machine Learning Engineer</td>\n",
       "      <td>Full-Time</td>\n",
       "      <td>2.0</td>\n",
       "      <td>2.0</td>\n",
       "      <td>United States Dollar</td>\n",
       "      <td>United States</td>\n",
       "      <td>United States</td>\n",
       "      <td>1.0</td>\n",
       "      <td>2022</td>\n",
       "    </tr>\n",
       "    <tr>\n",
       "      <th>2424</th>\n",
       "      <td>Data Engineer</td>\n",
       "      <td>Full-Time</td>\n",
       "      <td>2.0</td>\n",
       "      <td>2.0</td>\n",
       "      <td>United States Dollar</td>\n",
       "      <td>United States</td>\n",
       "      <td>United States</td>\n",
       "      <td>1.0</td>\n",
       "      <td>2022</td>\n",
       "    </tr>\n",
       "    <tr>\n",
       "      <th>805</th>\n",
       "      <td>Machine Learning Engineer</td>\n",
       "      <td>Full-Time</td>\n",
       "      <td>2.0</td>\n",
       "      <td>2.0</td>\n",
       "      <td>United States Dollar</td>\n",
       "      <td>United States</td>\n",
       "      <td>United States</td>\n",
       "      <td>1.0</td>\n",
       "      <td>2023</td>\n",
       "    </tr>\n",
       "  </tbody>\n",
       "</table>\n",
       "</div>"
      ],
      "text/plain": [
       "                      Job Title Employment Type  Experience Level   \n",
       "1482             MLOps Engineer       Full-Time               1.0  \\\n",
       "2738               Data Analyst       Full-Time               2.0   \n",
       "2743  Machine Learning Engineer       Full-Time               2.0   \n",
       "2424              Data Engineer       Full-Time               2.0   \n",
       "805   Machine Learning Engineer       Full-Time               2.0   \n",
       "\n",
       "      Expertise Level       Salary Currency Company Location   \n",
       "1482              1.0  United States Dollar    United States  \\\n",
       "2738              2.0  United States Dollar    United States   \n",
       "2743              2.0  United States Dollar    United States   \n",
       "2424              2.0  United States Dollar    United States   \n",
       "805               2.0  United States Dollar    United States   \n",
       "\n",
       "     Employee Residence  Company Size  Year  \n",
       "1482      United States           1.0  2023  \n",
       "2738      United States           1.0  2022  \n",
       "2743      United States           1.0  2022  \n",
       "2424      United States           1.0  2022  \n",
       "805       United States           1.0  2023  "
      ]
     },
     "execution_count": 31,
     "metadata": {},
     "output_type": "execute_result"
    }
   ],
   "source": [
    "# Removing real labels\n",
    "test = test.drop(['Salary in USD', 'Salary'], axis = 1)\n",
    "# Encoding\n",
    "test[['Experience Level', 'Expertise Level', 'Company Size']] = oe.transform(test[['Experience Level', 'Expertise Level', 'Company Size']])\n",
    "test.head(5)"
   ]
  },
  {
   "cell_type": "code",
   "execution_count": 32,
   "metadata": {},
   "outputs": [
    {
     "data": {
      "text/html": [
       "<div>\n",
       "<style scoped>\n",
       "    .dataframe tbody tr th:only-of-type {\n",
       "        vertical-align: middle;\n",
       "    }\n",
       "\n",
       "    .dataframe tbody tr th {\n",
       "        vertical-align: top;\n",
       "    }\n",
       "\n",
       "    .dataframe thead th {\n",
       "        text-align: right;\n",
       "    }\n",
       "</style>\n",
       "<table border=\"1\" class=\"dataframe\">\n",
       "  <thead>\n",
       "    <tr style=\"text-align: right;\">\n",
       "      <th></th>\n",
       "      <th>Experience Level</th>\n",
       "      <th>Expertise Level</th>\n",
       "      <th>Company Size</th>\n",
       "      <th>Year</th>\n",
       "      <th>Job Title_AI Architect</th>\n",
       "      <th>Job Title_AI Developer</th>\n",
       "      <th>Job Title_AI Programmer</th>\n",
       "      <th>Job Title_AI Scientist</th>\n",
       "      <th>Job Title_Analytics Engineer</th>\n",
       "      <th>Job Title_Analytics Engineering Manager</th>\n",
       "      <th>...</th>\n",
       "      <th>Employee Residence_Sweden</th>\n",
       "      <th>Employee Residence_Switzerland</th>\n",
       "      <th>Employee Residence_Thailand</th>\n",
       "      <th>Employee Residence_Turkey</th>\n",
       "      <th>Employee Residence_Ukraine</th>\n",
       "      <th>Employee Residence_United Arab Emirates</th>\n",
       "      <th>Employee Residence_United Kingdom</th>\n",
       "      <th>Employee Residence_United States</th>\n",
       "      <th>Employee Residence_Uzbekistan</th>\n",
       "      <th>Employee Residence_Viet Nam</th>\n",
       "    </tr>\n",
       "  </thead>\n",
       "  <tbody>\n",
       "    <tr>\n",
       "      <th>1482</th>\n",
       "      <td>1.0</td>\n",
       "      <td>1.0</td>\n",
       "      <td>1.0</td>\n",
       "      <td>2023</td>\n",
       "      <td>0.0</td>\n",
       "      <td>0.0</td>\n",
       "      <td>0.0</td>\n",
       "      <td>0.0</td>\n",
       "      <td>0.0</td>\n",
       "      <td>0.0</td>\n",
       "      <td>...</td>\n",
       "      <td>0.0</td>\n",
       "      <td>0.0</td>\n",
       "      <td>0.0</td>\n",
       "      <td>0.0</td>\n",
       "      <td>0.0</td>\n",
       "      <td>0.0</td>\n",
       "      <td>0.0</td>\n",
       "      <td>1.0</td>\n",
       "      <td>0.0</td>\n",
       "      <td>0.0</td>\n",
       "    </tr>\n",
       "    <tr>\n",
       "      <th>2738</th>\n",
       "      <td>2.0</td>\n",
       "      <td>2.0</td>\n",
       "      <td>1.0</td>\n",
       "      <td>2022</td>\n",
       "      <td>0.0</td>\n",
       "      <td>0.0</td>\n",
       "      <td>0.0</td>\n",
       "      <td>0.0</td>\n",
       "      <td>0.0</td>\n",
       "      <td>0.0</td>\n",
       "      <td>...</td>\n",
       "      <td>0.0</td>\n",
       "      <td>0.0</td>\n",
       "      <td>0.0</td>\n",
       "      <td>0.0</td>\n",
       "      <td>0.0</td>\n",
       "      <td>0.0</td>\n",
       "      <td>0.0</td>\n",
       "      <td>1.0</td>\n",
       "      <td>0.0</td>\n",
       "      <td>0.0</td>\n",
       "    </tr>\n",
       "    <tr>\n",
       "      <th>2743</th>\n",
       "      <td>2.0</td>\n",
       "      <td>2.0</td>\n",
       "      <td>1.0</td>\n",
       "      <td>2022</td>\n",
       "      <td>0.0</td>\n",
       "      <td>0.0</td>\n",
       "      <td>0.0</td>\n",
       "      <td>0.0</td>\n",
       "      <td>0.0</td>\n",
       "      <td>0.0</td>\n",
       "      <td>...</td>\n",
       "      <td>0.0</td>\n",
       "      <td>0.0</td>\n",
       "      <td>0.0</td>\n",
       "      <td>0.0</td>\n",
       "      <td>0.0</td>\n",
       "      <td>0.0</td>\n",
       "      <td>0.0</td>\n",
       "      <td>1.0</td>\n",
       "      <td>0.0</td>\n",
       "      <td>0.0</td>\n",
       "    </tr>\n",
       "    <tr>\n",
       "      <th>2424</th>\n",
       "      <td>2.0</td>\n",
       "      <td>2.0</td>\n",
       "      <td>1.0</td>\n",
       "      <td>2022</td>\n",
       "      <td>0.0</td>\n",
       "      <td>0.0</td>\n",
       "      <td>0.0</td>\n",
       "      <td>0.0</td>\n",
       "      <td>0.0</td>\n",
       "      <td>0.0</td>\n",
       "      <td>...</td>\n",
       "      <td>0.0</td>\n",
       "      <td>0.0</td>\n",
       "      <td>0.0</td>\n",
       "      <td>0.0</td>\n",
       "      <td>0.0</td>\n",
       "      <td>0.0</td>\n",
       "      <td>0.0</td>\n",
       "      <td>1.0</td>\n",
       "      <td>0.0</td>\n",
       "      <td>0.0</td>\n",
       "    </tr>\n",
       "    <tr>\n",
       "      <th>805</th>\n",
       "      <td>2.0</td>\n",
       "      <td>2.0</td>\n",
       "      <td>1.0</td>\n",
       "      <td>2023</td>\n",
       "      <td>0.0</td>\n",
       "      <td>0.0</td>\n",
       "      <td>0.0</td>\n",
       "      <td>0.0</td>\n",
       "      <td>0.0</td>\n",
       "      <td>0.0</td>\n",
       "      <td>...</td>\n",
       "      <td>0.0</td>\n",
       "      <td>0.0</td>\n",
       "      <td>0.0</td>\n",
       "      <td>0.0</td>\n",
       "      <td>0.0</td>\n",
       "      <td>0.0</td>\n",
       "      <td>0.0</td>\n",
       "      <td>1.0</td>\n",
       "      <td>0.0</td>\n",
       "      <td>0.0</td>\n",
       "    </tr>\n",
       "    <tr>\n",
       "      <th>...</th>\n",
       "      <td>...</td>\n",
       "      <td>...</td>\n",
       "      <td>...</td>\n",
       "      <td>...</td>\n",
       "      <td>...</td>\n",
       "      <td>...</td>\n",
       "      <td>...</td>\n",
       "      <td>...</td>\n",
       "      <td>...</td>\n",
       "      <td>...</td>\n",
       "      <td>...</td>\n",
       "      <td>...</td>\n",
       "      <td>...</td>\n",
       "      <td>...</td>\n",
       "      <td>...</td>\n",
       "      <td>...</td>\n",
       "      <td>...</td>\n",
       "      <td>...</td>\n",
       "      <td>...</td>\n",
       "      <td>...</td>\n",
       "      <td>...</td>\n",
       "    </tr>\n",
       "    <tr>\n",
       "      <th>1866</th>\n",
       "      <td>1.0</td>\n",
       "      <td>1.0</td>\n",
       "      <td>2.0</td>\n",
       "      <td>2022</td>\n",
       "      <td>0.0</td>\n",
       "      <td>0.0</td>\n",
       "      <td>0.0</td>\n",
       "      <td>0.0</td>\n",
       "      <td>0.0</td>\n",
       "      <td>0.0</td>\n",
       "      <td>...</td>\n",
       "      <td>0.0</td>\n",
       "      <td>0.0</td>\n",
       "      <td>0.0</td>\n",
       "      <td>0.0</td>\n",
       "      <td>0.0</td>\n",
       "      <td>0.0</td>\n",
       "      <td>0.0</td>\n",
       "      <td>0.0</td>\n",
       "      <td>0.0</td>\n",
       "      <td>0.0</td>\n",
       "    </tr>\n",
       "    <tr>\n",
       "      <th>265</th>\n",
       "      <td>2.0</td>\n",
       "      <td>2.0</td>\n",
       "      <td>1.0</td>\n",
       "      <td>2023</td>\n",
       "      <td>0.0</td>\n",
       "      <td>0.0</td>\n",
       "      <td>0.0</td>\n",
       "      <td>0.0</td>\n",
       "      <td>0.0</td>\n",
       "      <td>0.0</td>\n",
       "      <td>...</td>\n",
       "      <td>0.0</td>\n",
       "      <td>0.0</td>\n",
       "      <td>0.0</td>\n",
       "      <td>0.0</td>\n",
       "      <td>0.0</td>\n",
       "      <td>0.0</td>\n",
       "      <td>0.0</td>\n",
       "      <td>1.0</td>\n",
       "      <td>0.0</td>\n",
       "      <td>0.0</td>\n",
       "    </tr>\n",
       "    <tr>\n",
       "      <th>2430</th>\n",
       "      <td>3.0</td>\n",
       "      <td>3.0</td>\n",
       "      <td>1.0</td>\n",
       "      <td>2022</td>\n",
       "      <td>0.0</td>\n",
       "      <td>0.0</td>\n",
       "      <td>0.0</td>\n",
       "      <td>0.0</td>\n",
       "      <td>0.0</td>\n",
       "      <td>0.0</td>\n",
       "      <td>...</td>\n",
       "      <td>0.0</td>\n",
       "      <td>0.0</td>\n",
       "      <td>0.0</td>\n",
       "      <td>0.0</td>\n",
       "      <td>0.0</td>\n",
       "      <td>0.0</td>\n",
       "      <td>0.0</td>\n",
       "      <td>1.0</td>\n",
       "      <td>0.0</td>\n",
       "      <td>0.0</td>\n",
       "    </tr>\n",
       "    <tr>\n",
       "      <th>1324</th>\n",
       "      <td>2.0</td>\n",
       "      <td>2.0</td>\n",
       "      <td>1.0</td>\n",
       "      <td>2023</td>\n",
       "      <td>0.0</td>\n",
       "      <td>0.0</td>\n",
       "      <td>0.0</td>\n",
       "      <td>0.0</td>\n",
       "      <td>1.0</td>\n",
       "      <td>0.0</td>\n",
       "      <td>...</td>\n",
       "      <td>0.0</td>\n",
       "      <td>0.0</td>\n",
       "      <td>0.0</td>\n",
       "      <td>0.0</td>\n",
       "      <td>0.0</td>\n",
       "      <td>0.0</td>\n",
       "      <td>0.0</td>\n",
       "      <td>1.0</td>\n",
       "      <td>0.0</td>\n",
       "      <td>0.0</td>\n",
       "    </tr>\n",
       "    <tr>\n",
       "      <th>902</th>\n",
       "      <td>2.0</td>\n",
       "      <td>2.0</td>\n",
       "      <td>1.0</td>\n",
       "      <td>2023</td>\n",
       "      <td>0.0</td>\n",
       "      <td>0.0</td>\n",
       "      <td>0.0</td>\n",
       "      <td>0.0</td>\n",
       "      <td>0.0</td>\n",
       "      <td>0.0</td>\n",
       "      <td>...</td>\n",
       "      <td>0.0</td>\n",
       "      <td>0.0</td>\n",
       "      <td>0.0</td>\n",
       "      <td>0.0</td>\n",
       "      <td>0.0</td>\n",
       "      <td>0.0</td>\n",
       "      <td>0.0</td>\n",
       "      <td>1.0</td>\n",
       "      <td>0.0</td>\n",
       "      <td>0.0</td>\n",
       "    </tr>\n",
       "  </tbody>\n",
       "</table>\n",
       "<p>660 rows × 279 columns</p>\n",
       "</div>"
      ],
      "text/plain": [
       "      Experience Level  Expertise Level  Company Size  Year   \n",
       "1482               1.0              1.0           1.0  2023  \\\n",
       "2738               2.0              2.0           1.0  2022   \n",
       "2743               2.0              2.0           1.0  2022   \n",
       "2424               2.0              2.0           1.0  2022   \n",
       "805                2.0              2.0           1.0  2023   \n",
       "...                ...              ...           ...   ...   \n",
       "1866               1.0              1.0           2.0  2022   \n",
       "265                2.0              2.0           1.0  2023   \n",
       "2430               3.0              3.0           1.0  2022   \n",
       "1324               2.0              2.0           1.0  2023   \n",
       "902                2.0              2.0           1.0  2023   \n",
       "\n",
       "      Job Title_AI Architect  Job Title_AI Developer  Job Title_AI Programmer   \n",
       "1482                     0.0                     0.0                      0.0  \\\n",
       "2738                     0.0                     0.0                      0.0   \n",
       "2743                     0.0                     0.0                      0.0   \n",
       "2424                     0.0                     0.0                      0.0   \n",
       "805                      0.0                     0.0                      0.0   \n",
       "...                      ...                     ...                      ...   \n",
       "1866                     0.0                     0.0                      0.0   \n",
       "265                      0.0                     0.0                      0.0   \n",
       "2430                     0.0                     0.0                      0.0   \n",
       "1324                     0.0                     0.0                      0.0   \n",
       "902                      0.0                     0.0                      0.0   \n",
       "\n",
       "      Job Title_AI Scientist  Job Title_Analytics Engineer   \n",
       "1482                     0.0                           0.0  \\\n",
       "2738                     0.0                           0.0   \n",
       "2743                     0.0                           0.0   \n",
       "2424                     0.0                           0.0   \n",
       "805                      0.0                           0.0   \n",
       "...                      ...                           ...   \n",
       "1866                     0.0                           0.0   \n",
       "265                      0.0                           0.0   \n",
       "2430                     0.0                           0.0   \n",
       "1324                     0.0                           1.0   \n",
       "902                      0.0                           0.0   \n",
       "\n",
       "      Job Title_Analytics Engineering Manager  ...  Employee Residence_Sweden   \n",
       "1482                                      0.0  ...                        0.0  \\\n",
       "2738                                      0.0  ...                        0.0   \n",
       "2743                                      0.0  ...                        0.0   \n",
       "2424                                      0.0  ...                        0.0   \n",
       "805                                       0.0  ...                        0.0   \n",
       "...                                       ...  ...                        ...   \n",
       "1866                                      0.0  ...                        0.0   \n",
       "265                                       0.0  ...                        0.0   \n",
       "2430                                      0.0  ...                        0.0   \n",
       "1324                                      0.0  ...                        0.0   \n",
       "902                                       0.0  ...                        0.0   \n",
       "\n",
       "      Employee Residence_Switzerland  Employee Residence_Thailand   \n",
       "1482                             0.0                          0.0  \\\n",
       "2738                             0.0                          0.0   \n",
       "2743                             0.0                          0.0   \n",
       "2424                             0.0                          0.0   \n",
       "805                              0.0                          0.0   \n",
       "...                              ...                          ...   \n",
       "1866                             0.0                          0.0   \n",
       "265                              0.0                          0.0   \n",
       "2430                             0.0                          0.0   \n",
       "1324                             0.0                          0.0   \n",
       "902                              0.0                          0.0   \n",
       "\n",
       "      Employee Residence_Turkey  Employee Residence_Ukraine   \n",
       "1482                        0.0                         0.0  \\\n",
       "2738                        0.0                         0.0   \n",
       "2743                        0.0                         0.0   \n",
       "2424                        0.0                         0.0   \n",
       "805                         0.0                         0.0   \n",
       "...                         ...                         ...   \n",
       "1866                        0.0                         0.0   \n",
       "265                         0.0                         0.0   \n",
       "2430                        0.0                         0.0   \n",
       "1324                        0.0                         0.0   \n",
       "902                         0.0                         0.0   \n",
       "\n",
       "      Employee Residence_United Arab Emirates   \n",
       "1482                                      0.0  \\\n",
       "2738                                      0.0   \n",
       "2743                                      0.0   \n",
       "2424                                      0.0   \n",
       "805                                       0.0   \n",
       "...                                       ...   \n",
       "1866                                      0.0   \n",
       "265                                       0.0   \n",
       "2430                                      0.0   \n",
       "1324                                      0.0   \n",
       "902                                       0.0   \n",
       "\n",
       "      Employee Residence_United Kingdom  Employee Residence_United States   \n",
       "1482                                0.0                               1.0  \\\n",
       "2738                                0.0                               1.0   \n",
       "2743                                0.0                               1.0   \n",
       "2424                                0.0                               1.0   \n",
       "805                                 0.0                               1.0   \n",
       "...                                 ...                               ...   \n",
       "1866                                0.0                               0.0   \n",
       "265                                 0.0                               1.0   \n",
       "2430                                0.0                               1.0   \n",
       "1324                                0.0                               1.0   \n",
       "902                                 0.0                               1.0   \n",
       "\n",
       "      Employee Residence_Uzbekistan  Employee Residence_Viet Nam  \n",
       "1482                            0.0                          0.0  \n",
       "2738                            0.0                          0.0  \n",
       "2743                            0.0                          0.0  \n",
       "2424                            0.0                          0.0  \n",
       "805                             0.0                          0.0  \n",
       "...                             ...                          ...  \n",
       "1866                            0.0                          0.0  \n",
       "265                             0.0                          0.0  \n",
       "2430                            0.0                          0.0  \n",
       "1324                            0.0                          0.0  \n",
       "902                             0.0                          0.0  \n",
       "\n",
       "[660 rows x 279 columns]"
      ]
     },
     "execution_count": 32,
     "metadata": {},
     "output_type": "execute_result"
    }
   ],
   "source": [
    "cols = ['Job Title', 'Employment Type', 'Salary Currency', 'Company Location', 'Employee Residence']\n",
    "\n",
    "# Encoding\n",
    "encoded_features_test = pd.DataFrame(ohe.transform(test[cols]), \n",
    "                                     columns=ohe.get_feature_names_out(cols))\n",
    "encoded_features_test.index = test.index\n",
    "test = test.drop(cols, axis=1)\n",
    "test = pd.concat([test, encoded_features_test], axis=1)\n",
    "test"
   ]
  },
  {
   "cell_type": "code",
   "execution_count": 33,
   "metadata": {},
   "outputs": [
    {
     "data": {
      "text/plain": [
       "array([140953.37900795, 125066.05255502, 181353.01720866, 159975.82061871,\n",
       "       197241.68854315, 100320.70011539, 191767.96726376,  54652.69446812,\n",
       "        82347.79507555, 197241.68854315, 134763.40895148, 188843.54419595,\n",
       "        28134.30497449, 169111.93780429,  82347.79507555, 180404.25206292,\n",
       "       192547.07537879,  39375.52541797, 104083.01363248, 164604.52734919,\n",
       "       178552.8744728 , 150401.32502002, 169782.0343028 , 176903.95935151,\n",
       "       179340.503311  ,  91101.63855157,  66718.67178119, 125066.05255502,\n",
       "       170780.61443008, 169782.0343028 , 159975.82061871, 136022.82084794,\n",
       "       123530.75610237,  40924.04046107, 173894.52278071,  44939.7220317 ,\n",
       "       140445.39024293, 186343.282265  , 162232.55674114, 197241.68854315,\n",
       "       132096.12891205, 176903.95935151, 162589.86998152, 148435.50440822,\n",
       "        45183.5736297 , 101977.7206668 ,  83536.39364689, 100162.31264849,\n",
       "       192547.07537879, 187226.16659025, 203446.61582114, 169111.93780429,\n",
       "       143078.72402747, 169111.93780429, 104083.01363248, 179340.503311  ,\n",
       "       169111.93780429,  82347.79507555, 138514.38527551, 191767.96726376,\n",
       "       176903.95935151,  91101.63855157, 166433.35571488, 160273.7540121 ,\n",
       "       138593.03902188,  66557.84028494, 169111.93780429, 174812.76086598,\n",
       "        32173.83115339, 159975.82061871,  60475.98997098, 171461.77317319,\n",
       "       169111.93780429, 165050.82434457,  88272.32833435, 104589.15763554,\n",
       "       176903.95935151, 176903.95935151, 220370.06689383, 144326.04191017,\n",
       "        82347.79507555, 166069.7501633 ,  76733.54567009,  79188.62964303,\n",
       "       166069.7501633 , 159975.82061871,  78688.9642097 ,  60099.24430367,\n",
       "        63233.81074898,  76646.69587313,  46843.01988532, 136022.82084794,\n",
       "       180680.08599086, 145684.17232721,  53504.23742482,  52094.00629039,\n",
       "        69775.19092372, 136572.29649072, 136022.82084794, 153992.57636553,\n",
       "       137474.59957828,  74852.11987423, 186924.43215542, 191767.96726376,\n",
       "       102366.13936139, 176903.95935151, 125066.05255502, 170234.5986745 ,\n",
       "       169111.93780429, 127830.06724648,  55337.5051469 , 113638.91946653,\n",
       "       159975.82061871,  53268.01043042, 173767.51734657,  76733.54567009,\n",
       "        61312.13057337, 167780.53176968, 108590.20925681, 176903.95935151,\n",
       "       153992.62793062, 131034.5949065 , 199856.08289209,  91101.63855157,\n",
       "       180404.25206292, 201687.30519104, 167780.53176968, 162232.55674114,\n",
       "       176903.95935151, 142970.26250309, 159975.82061871, 167780.53176968,\n",
       "        34911.42892747, 197241.68854315, 171461.77317319, 108590.20925681,\n",
       "       192547.07537879, 135941.04750142, 113638.91946653, 160911.0606003 ,\n",
       "       169111.93780429, 169111.93780429, 150401.32502002, 166069.7501633 ,\n",
       "       176903.95935151, 195581.85220894, 188214.08339783, 117180.2641386 ,\n",
       "       197241.68854315, 140409.99648271, 176903.95935151, 166069.7501633 ,\n",
       "       131034.5949065 , 197241.68854315, 167780.53176968, 195194.18921184,\n",
       "       188843.54419595, 176903.95935151, 137455.4953978 , 157173.5073456 ,\n",
       "       137048.53473889, 192547.07537879, 143648.4518247 ,  59460.18045686,\n",
       "       135132.44276204, 169111.93780429, 181353.01720866,  93448.10700165,\n",
       "       191767.96726376, 104083.01363248, 159975.82061871, 166069.7501633 ,\n",
       "       136022.82084794, 100488.03132301, 168656.28926132, 137048.53473889,\n",
       "       159975.82061871, 162589.86998152,  85845.19765029, 112127.26412664,\n",
       "        61302.74685052, 197241.68854315, 191767.96726376, 169111.93780429,\n",
       "       140953.37900795, 197241.68854315, 169111.93780429,  41123.70529729,\n",
       "       192547.07537879,  98609.77001446,  78761.02934605, 108590.20925681,\n",
       "       176903.95935151,  36136.52119984, 138481.99937794, 168744.45287259,\n",
       "       173767.51734657,  72767.04087889, 197241.68854315, 195194.18921184,\n",
       "       159975.82061871, 153992.62793062, 148523.77211769, 104589.15763554,\n",
       "       197241.68854315,  17470.379961  , 203382.20016265, 179340.503311  ,\n",
       "       123530.75610237, 150401.32502002,  76408.50500416, 117180.2641386 ,\n",
       "        86315.78795047, 169111.93780429,  76733.54567009,  85433.80732124,\n",
       "       176903.95935151, 136022.82084794, 174710.46687732, 162265.64511648,\n",
       "       102079.21456883, 173845.48332918, 136022.82084794,  51847.88200523,\n",
       "       176903.95935151, 112361.19564777, 181353.01720866,  74790.45259653,\n",
       "       169111.93780429,  59095.30096331, 176903.95935151, 145684.17232721,\n",
       "       137048.53473889, 173897.78324735,  83916.24568725, 173767.51734657,\n",
       "       102781.72313051, 136022.82084794, 180939.81433442, 123530.75610237,\n",
       "        52447.5432382 , 169111.93780429, 134763.40895148, 162071.69633976,\n",
       "       180404.25206292, 132121.9280413 ,  59050.86657121, 169111.93780429,\n",
       "       167780.53176968, 197241.68854315, 152335.74132283, 135132.44276204,\n",
       "       113638.91946653,  76408.50500416,  76039.30501338, 125878.08038708,\n",
       "        71082.53923571, 176903.95935151, 169782.0343028 , 176903.95935151,\n",
       "       136022.82084794, 178552.8744728 , 113638.91946653, 176903.95935151,\n",
       "       108590.20925681, 144326.04191017, 100913.90783415, 136022.82084794,\n",
       "       169111.93780429, 100828.37231314, 169111.93780429, 169111.93780429,\n",
       "       195194.18921184, 136022.82084794, 176903.95935151, 159975.82061871,\n",
       "       197241.68854315, 167780.53176968, 188843.54419595, 136022.82084794,\n",
       "       167780.53176968,  49564.8081477 , 169782.0343028 , 173845.48332918,\n",
       "        97389.04858192, 162071.69633976, 136022.82084794, 180404.25206292,\n",
       "        37913.72645771, 166069.7501633 , 197241.68854315, 169111.93780429,\n",
       "       197241.68854315,  82550.02127873, 134763.40895148, 169111.93780429,\n",
       "       125066.05255502, 197241.68854315, 167780.53176968, 106232.22867314,\n",
       "       144411.58027489, 131034.5949065 , 173845.48332918,  36368.65388673,\n",
       "       169782.0343028 , 169111.93780429, 136022.82084794,  76889.94258263,\n",
       "       205397.46336708, 169782.0343028 , 150401.32502002, 133667.9765926 ,\n",
       "       167780.53176968, 104083.01363248, 129111.66680295, 127635.80686276,\n",
       "        76868.7884807 , 197241.68854315, 131412.79363188, 159975.82061871,\n",
       "        41470.44529066,  60159.06071889, 195194.18921184, 125066.05255502,\n",
       "       180404.25206292, 164489.01415172,  66099.74200473, 200511.08810845,\n",
       "       120803.10092744, 135132.44276204, 128386.31932526, 136022.82084794,\n",
       "       163768.23313928,  63936.88037642, 157173.5073456 ,  80806.06396079,\n",
       "       167780.53176968,  94389.28809809, 127609.777717  , 167780.53176968,\n",
       "       169111.93780429, 136022.82084794, 167780.53176968,  61745.01946749,\n",
       "       125066.05255502, 176903.95935151, 128473.11003789, 108869.18994433,\n",
       "       135277.53167568, 129311.73124652,  33075.82475292, 180404.25206292,\n",
       "       137048.53473889, 176903.95935151,  82347.79507555, 169111.93780429,\n",
       "       208845.52673789, 176903.95935151, 110367.85967966, 166069.7501633 ,\n",
       "        71082.53923571,  74856.91565125, 135941.04750142, 176903.95935151,\n",
       "       167780.53176968,  90469.99646354,  67145.95933922, 136789.23972031,\n",
       "       131836.44566008, 188843.54419595, 197241.68854315, 176903.95935151,\n",
       "       169111.93780429, 200511.08810845, 129311.73124652, 159975.82061871,\n",
       "       106889.98343128, 229151.88568006, 176903.95935151, 150401.32502002,\n",
       "       169782.0343028 , 104083.01363248, 167780.53176968, 104695.89324149,\n",
       "        35162.67405107, 203446.61582114, 176903.95935151, 176903.95935151,\n",
       "       197627.09867737, 176903.95935151, 154742.59390961,  95835.32762885,\n",
       "       169111.93780429, 150401.32502002, 176903.95935151,  83361.81539645,\n",
       "       153992.62793062, 137048.53473889, 176903.95935151, 100139.52472309,\n",
       "        85845.19765029, 136022.82084794, 125066.05255502,  53504.23742482,\n",
       "       162574.83820183, 193091.13898785, 135132.44276204, 197241.68854315,\n",
       "        72368.60261042,  61743.69874798, 197241.68854315, 197241.68854315,\n",
       "       106834.04524825, 168744.45287259, 176903.95935151, 169111.93780429,\n",
       "       131836.44566008, 157173.5073456 , 169111.93780429, 200102.10009299,\n",
       "       133580.41230291, 224198.04745159,  54652.69446812, 173845.48332918,\n",
       "       107963.61571115, 108590.20925681, 176903.95935151, 144339.18547934,\n",
       "        59290.49408961, 176903.95935151, 176903.95935151, 113638.91946653,\n",
       "       169111.93780429, 132096.12891205,  97209.51578228, 188843.54419595,\n",
       "       132096.12891205, 195581.85220894, 163768.23313928, 178552.8744728 ,\n",
       "       166069.7501633 ,  76408.50500416,  57945.71440847, 167780.53176968,\n",
       "       169111.93780429, 145684.17232721, 176903.95935151,  82347.79507555,\n",
       "        82347.79507555, 136022.82084794, 173767.51734657, 104384.09572608,\n",
       "       152335.74132283,  50709.79760384, 166069.7501633 , 167780.53176968,\n",
       "       105379.85162675, 117710.47383097, 125066.05255502, 159975.82061871,\n",
       "       131836.44566008, 191767.96726376, 121149.01183627, 104589.15763554,\n",
       "       159975.82061871, 169111.93780429, 169111.93780429, 159975.82061871,\n",
       "        82347.79507555,  92623.22852897,  56280.23013952, 108869.18994433,\n",
       "       176903.95935151, 135132.44276204, 136022.82084794, 162232.55674114,\n",
       "       134832.41582982,  92623.22852897, 197241.68854315, 180404.25206292,\n",
       "       169111.93780429,  39304.13296851, 181353.01720866, 176752.86316953,\n",
       "       186924.43215542, 159975.82061871, 176903.95935151, 173847.11159014,\n",
       "       168656.28926132, 180680.08599086, 173767.51734657, 176903.95935151,\n",
       "       180680.08599086, 203446.61582114, 176903.95935151,  98575.90213015,\n",
       "       113859.0222012 , 202117.74786738, 157097.43237947, 135132.44276204,\n",
       "       168202.99423645,  95384.25378015, 180404.25206292, 135132.44276204,\n",
       "        92623.22852897,  83450.5036436 , 157173.5073456 ,  65064.94002332,\n",
       "       125066.05255502, 136022.82084794, 104590.89015733, 136022.82084794,\n",
       "       169111.93780429,  56008.99238433,  71082.53923571, 197241.68854315,\n",
       "        97389.04858192, 159975.82061871, 159975.82061871, 176903.95935151,\n",
       "       181353.01720866, 167780.53176968, 180404.25206292, 137048.53473889,\n",
       "       153658.88252231, 173632.61781277,  49524.24332021, 224198.04745159,\n",
       "       206266.4441862 , 102955.63564757, 131038.46046065, 123530.75610237,\n",
       "       197241.68854315, 199856.08289209, 106232.22867314, 163768.23313928,\n",
       "       159975.82061871, 180404.25206292, 197241.68854315, 169111.93780429,\n",
       "       123530.75610237, 118849.15526548, 169782.0343028 , 108590.20925681,\n",
       "       104545.94553269, 140614.99008439, 169111.93780429,  23030.71147774,\n",
       "       203446.61582114, 169111.93780429, 153992.62793062, 167780.53176968,\n",
       "       197241.68854315, 136022.82084794, 190823.89286014, 164489.01415172,\n",
       "       173185.04831659, 167780.53176968, 137048.53473889, 144513.61198193,\n",
       "       137048.53473889, 123530.75610237, 135132.44276204,  85355.96994447,\n",
       "       199856.08289209, 129111.66680295,  63588.62953927, 169472.4181685 ,\n",
       "       107963.61571115, 195194.18921184, 169111.93780429, 169111.93780429,\n",
       "       102654.98361128, 159805.6367965 , 180939.81433442, 199856.08289209,\n",
       "       186924.43215542, 136938.59696732, 136022.82084794, 176903.95935151,\n",
       "       136022.82084794,  94809.25660891, 159975.82061871,  81935.59734573,\n",
       "       145684.17232721, 136022.82084794, 129111.66680295,  76733.54567009,\n",
       "       169111.93780429, 167780.53176968,  46442.77295184, 104589.15763554,\n",
       "       169111.93780429, 129111.66680295, 118133.1462927 , 191262.75951595,\n",
       "       137048.53473889,  69527.65368946, 200511.08810845, 137048.53473889,\n",
       "       125066.05255502, 187655.53138534, 113638.91946653,  71082.53923571,\n",
       "       104083.01363248, 153658.88252231, 125066.05255502,  26979.78033623,\n",
       "       179260.33613531, 176903.95935151, 136572.29649072, 180404.25206292,\n",
       "       125066.05255502, 142970.26250309, 130196.65787181, 169111.93780429,\n",
       "       169111.93780429, 169111.93780429, 195581.85220894, 136022.82084794,\n",
       "       191154.80916804,  85845.19765029, 132096.12891205, 168744.45287259,\n",
       "       135132.44276204, 169111.93780429, 136022.82084794, 129504.41639177,\n",
       "       176903.95935151,  66599.54604093, 167780.53176968, 195194.18921184,\n",
       "       168656.28926132, 104589.15763554, 108397.62547212, 168202.99423645,\n",
       "        44217.49469103, 173539.05456832,  63082.47453819, 125066.05255502,\n",
       "       166069.7501633 , 159975.82061871, 176903.95935151, 169111.93780429,\n",
       "       120834.96555794, 176903.95935151,  53284.59882096, 104589.15763554,\n",
       "       176903.95935151, 159321.30226827, 164575.2247616 , 129111.66680295,\n",
       "       167780.53176968, 115709.63377906, 168744.45287259, 101165.599632  ,\n",
       "       136022.82084794, 200102.10009299, 166069.7501633 , 169111.93780429])"
      ]
     },
     "execution_count": 33,
     "metadata": {},
     "output_type": "execute_result"
    }
   ],
   "source": [
    "# Predicting with meta model\n",
    "y_pred_meta = meta_model.predict(test)\n",
    "y_pred_meta # Visualizing predictions"
   ]
  },
  {
   "cell_type": "code",
   "execution_count": 34,
   "metadata": {},
   "outputs": [
    {
     "data": {
      "text/html": [
       "<div>\n",
       "<style scoped>\n",
       "    .dataframe tbody tr th:only-of-type {\n",
       "        vertical-align: middle;\n",
       "    }\n",
       "\n",
       "    .dataframe tbody tr th {\n",
       "        vertical-align: top;\n",
       "    }\n",
       "\n",
       "    .dataframe thead th {\n",
       "        text-align: right;\n",
       "    }\n",
       "</style>\n",
       "<table border=\"1\" class=\"dataframe\">\n",
       "  <thead>\n",
       "    <tr style=\"text-align: right;\">\n",
       "      <th></th>\n",
       "      <th>id</th>\n",
       "      <th>Real Salary</th>\n",
       "      <th>Predicted Salary</th>\n",
       "    </tr>\n",
       "  </thead>\n",
       "  <tbody>\n",
       "    <tr>\n",
       "      <th>1482</th>\n",
       "      <td>1482</td>\n",
       "      <td>134000</td>\n",
       "      <td>140953.379008</td>\n",
       "    </tr>\n",
       "    <tr>\n",
       "      <th>2738</th>\n",
       "      <td>2738</td>\n",
       "      <td>117000</td>\n",
       "      <td>125066.052555</td>\n",
       "    </tr>\n",
       "    <tr>\n",
       "      <th>2743</th>\n",
       "      <td>2743</td>\n",
       "      <td>129300</td>\n",
       "      <td>181353.017209</td>\n",
       "    </tr>\n",
       "    <tr>\n",
       "      <th>2424</th>\n",
       "      <td>2424</td>\n",
       "      <td>172200</td>\n",
       "      <td>159975.820619</td>\n",
       "    </tr>\n",
       "    <tr>\n",
       "      <th>805</th>\n",
       "      <td>805</td>\n",
       "      <td>180000</td>\n",
       "      <td>197241.688543</td>\n",
       "    </tr>\n",
       "    <tr>\n",
       "      <th>...</th>\n",
       "      <td>...</td>\n",
       "      <td>...</td>\n",
       "      <td>...</td>\n",
       "    </tr>\n",
       "    <tr>\n",
       "      <th>1866</th>\n",
       "      <td>1866</td>\n",
       "      <td>23000</td>\n",
       "      <td>101165.599632</td>\n",
       "    </tr>\n",
       "    <tr>\n",
       "      <th>265</th>\n",
       "      <td>265</td>\n",
       "      <td>70000</td>\n",
       "      <td>136022.820848</td>\n",
       "    </tr>\n",
       "    <tr>\n",
       "      <th>2430</th>\n",
       "      <td>2430</td>\n",
       "      <td>160000</td>\n",
       "      <td>200102.100093</td>\n",
       "    </tr>\n",
       "    <tr>\n",
       "      <th>1324</th>\n",
       "      <td>1324</td>\n",
       "      <td>143200</td>\n",
       "      <td>166069.750163</td>\n",
       "    </tr>\n",
       "    <tr>\n",
       "      <th>902</th>\n",
       "      <td>902</td>\n",
       "      <td>123906</td>\n",
       "      <td>169111.937804</td>\n",
       "    </tr>\n",
       "  </tbody>\n",
       "</table>\n",
       "<p>660 rows × 3 columns</p>\n",
       "</div>"
      ],
      "text/plain": [
       "        id  Real Salary  Predicted Salary\n",
       "1482  1482       134000     140953.379008\n",
       "2738  2738       117000     125066.052555\n",
       "2743  2743       129300     181353.017209\n",
       "2424  2424       172200     159975.820619\n",
       "805    805       180000     197241.688543\n",
       "...    ...          ...               ...\n",
       "1866  1866        23000     101165.599632\n",
       "265    265        70000     136022.820848\n",
       "2430  2430       160000     200102.100093\n",
       "1324  1324       143200     166069.750163\n",
       "902    902       123906     169111.937804\n",
       "\n",
       "[660 rows x 3 columns]"
      ]
     },
     "execution_count": 34,
     "metadata": {},
     "output_type": "execute_result"
    }
   ],
   "source": [
    "predictions = pd.DataFrame({\n",
    "    'id': test.index,\n",
    "    'Real Salary': true_salary,\n",
    "    'Predicted Salary': y_pred_meta\n",
    "})\n",
    "predictions"
   ]
  },
  {
   "cell_type": "code",
   "execution_count": 35,
   "metadata": {},
   "outputs": [
    {
     "name": "stdout",
     "output_type": "stream",
     "text": [
      "\n",
      "Test Results with Meta Model: \n",
      "\n",
      "RMSE = 51309.33\n",
      "Adjusted R-Squared = -0.13\n"
     ]
    },
    {
     "data": {
      "application/vnd.plotly.v1+json": {
       "config": {
        "plotlyServerURL": "https://plot.ly"
       },
       "data": [
        {
         "marker": {
          "color": "blue",
          "size": 10
         },
         "mode": "markers",
         "name": "Data Points",
         "type": "scatter",
         "x": [
          134000,
          117000,
          129300,
          172200,
          180000,
          161311,
          300000,
          47280,
          48000,
          285000,
          115702,
          265000,
          27317,
          205700,
          100000,
          204000,
          345000,
          55475,
          115100,
          275000,
          180000,
          130800,
          192564,
          237000,
          165750,
          55368,
          40000,
          166700,
          202800,
          63000,
          179500,
          152380,
          155000,
          30469,
          171600,
          17684,
          94000,
          342300,
          140000,
          190000,
          150000,
          84000,
          150000,
          168000,
          46759,
          90000,
          85000,
          70000,
          285000,
          125000,
          315850,
          158700,
          100000,
          168400,
          92700,
          157250,
          162500,
          61800,
          64980,
          299500,
          359170,
          51676,
          225000,
          185000,
          120000,
          97171,
          179000,
          142000,
          17805,
          90000,
          33609,
          120000,
          252000,
          186000,
          22800,
          98432,
          182250,
          197600,
          220000,
          220000,
          94035,
          105000,
          61566,
          75050,
          179820,
          200000,
          128058,
          65666,
          42026,
          63831,
          28016,
          108000,
          97400,
          115000,
          80976,
          55685,
          37788,
          202800,
          200000,
          135344,
          139000,
          60000,
          150000,
          250000,
          85000,
          270000,
          120000,
          214000,
          133300,
          258000,
          110446,
          55000,
          136994,
          49253,
          50000,
          98506,
          59303,
          144000,
          144100,
          150000,
          100000,
          109000,
          185900,
          73824,
          113900,
          329500,
          167000,
          100000,
          110500,
          25500,
          120000,
          122500,
          47899,
          126000,
          281000,
          115500,
          160000,
          170000,
          116000,
          180514,
          232760,
          215000,
          125000,
          190000,
          157750,
          216000,
          248400,
          36000,
          233000,
          137400,
          203000,
          210000,
          160000,
          297000,
          154000,
          240960,
          210914,
          219000,
          135000,
          130000,
          183310,
          374000,
          104000,
          74087,
          198900,
          114500,
          193900,
          20000,
          180000,
          80000,
          213000,
          183500,
          155000,
          100000,
          131300,
          151410,
          132000,
          250000,
          61566,
          63810,
          33246,
          184700,
          220000,
          199000,
          124000,
          163200,
          141000,
          21593,
          180000,
          130000,
          68293,
          130000,
          206000,
          66970,
          104055,
          125000,
          111550,
          64781,
          267720,
          293000,
          220000,
          120000,
          50700,
          46755,
          210000,
          28399,
          138750,
          138000,
          110000,
          112655,
          61566,
          50000,
          126080,
          146000,
          110820,
          61989,
          139000,
          138000,
          174000,
          165000,
          58000,
          140000,
          128000,
          45896,
          166500,
          150000,
          164000,
          56536,
          140100,
          66022,
          164000,
          140000,
          131100,
          100000,
          40000,
          129000,
          80000,
          101500,
          200000,
          134200,
          70139,
          220000,
          193170,
          240000,
          188500,
          198094,
          88654,
          284310,
          172000,
          268000,
          204500,
          250000,
          103200,
          86193,
          36000,
          220000,
          46755,
          245000,
          113900,
          104000,
          52500,
          302000,
          120000,
          227240,
          165000,
          230000,
          74000,
          126500,
          118000,
          48000,
          105000,
          144100,
          133000,
          132000,
          370000,
          117000,
          311000,
          80000,
          116704,
          75000,
          141525,
          34672,
          250000,
          205300,
          61566,
          142000,
          145000,
          213120,
          84053,
          275300,
          191400,
          90700,
          257000,
          59888,
          185700,
          293000,
          119000,
          184950,
          136000,
          90000,
          130000,
          73000,
          104300,
          38915,
          213120,
          157250,
          146190,
          104697,
          314100,
          160000,
          93000,
          75000,
          148800,
          160000,
          65000,
          100000,
          55000,
          317070,
          146100,
          130500,
          31520,
          31795,
          156400,
          177000,
          210000,
          110600,
          53120,
          206000,
          109000,
          146000,
          100000,
          161500,
          230000,
          40000,
          193750,
          55368,
          153600,
          45760,
          80000,
          149850,
          240000,
          110000,
          260000,
          16000,
          106260,
          169000,
          81838,
          100000,
          153799,
          163196,
          59888,
          120000,
          230000,
          218500,
          64200,
          305000,
          136000,
          202000,
          60000,
          151000,
          79976,
          105066,
          180000,
          230000,
          95000,
          43064,
          50000,
          200000,
          81000,
          115830,
          198200,
          220000,
          68637,
          175100,
          145885,
          25000,
          80000,
          235000,
          214000,
          234485,
          147800,
          85000,
          120160,
          56000,
          76833,
          199000,
          209300,
          141000,
          240000,
          210000,
          60000,
          74883,
          175308,
          150000,
          167560,
          89294,
          200000,
          187500,
          122700,
          60000,
          57872,
          100500,
          132000,
          59382,
          165000,
          189500,
          128000,
          250000,
          91237,
          63040,
          120000,
          232200,
          77119,
          102000,
          162500,
          275300,
          92250,
          140250,
          133800,
          205000,
          130000,
          192000,
          63040,
          165000,
          62000,
          135000,
          278700,
          128000,
          49253,
          174800,
          70000,
          143000,
          258750,
          160000,
          110000,
          250000,
          130000,
          145000,
          120000,
          189000,
          173000,
          92350,
          48585,
          38000,
          153090,
          100000,
          186000,
          60000,
          50000,
          154440,
          83000,
          125000,
          160000,
          100000,
          174000,
          148000,
          133766,
          90000,
          150075,
          135000,
          123000,
          185000,
          155000,
          147648,
          156600,
          126800,
          193200,
          134760,
          80000,
          58444,
          65141,
          74540,
          135000,
          70000,
          122000,
          197000,
          160000,
          67672,
          181000,
          110000,
          94300,
          19073,
          192000,
          130000,
          210000,
          70000,
          240000,
          184000,
          80000,
          199200,
          63967,
          138784,
          132870,
          183750,
          119000,
          103691,
          81000,
          144000,
          90000,
          125000,
          239000,
          72500,
          160000,
          183310,
          61520,
          20000,
          125000,
          38154,
          102100,
          106000,
          70000,
          113220,
          138750,
          42197,
          61520,
          225000,
          43096,
          152000,
          300000,
          184184,
          148800,
          130000,
          150000,
          51962,
          90000,
          106000,
          69741,
          353200,
          108000,
          72338,
          140000,
          189400,
          162540,
          133500,
          84000,
          155000,
          160395,
          117000,
          392000,
          221484,
          106400,
          61300,
          210000,
          60000,
          165000,
          300000,
          154000,
          18241,
          150000,
          124230,
          125000,
          168000,
          148594,
          119800,
          280000,
          67000,
          210000,
          125000,
          175000,
          192400,
          141600,
          140000,
          143865,
          200000,
          167310,
          118000,
          70179,
          245000,
          93000,
          175000,
          136000,
          166364,
          69500,
          134000,
          202900,
          164000,
          200000,
          148261,
          141290,
          255000,
          153800,
          55000,
          141300,
          76814,
          105200,
          92000,
          153000,
          55410,
          137500,
          208000,
          84053,
          49216,
          108768,
          120000,
          76309,
          287700,
          79350,
          64781,
          172200,
          72409,
          99750,
          164000,
          150000,
          44356,
          90000,
          130000,
          127000,
          24165,
          172200,
          122000,
          168000,
          105200,
          52500,
          30000,
          177000,
          178500,
          201450,
          145000,
          297500,
          94000,
          130000,
          36940,
          100000,
          220000,
          81500,
          206000,
          83700,
          270000,
          317070,
          72000,
          104000,
          370000,
          154545,
          59059,
          86374,
          212800,
          66192,
          145000,
          61467,
          93700,
          116450,
          128875,
          209450,
          185100,
          190000,
          172100,
          49216,
          123040,
          191000,
          220000,
          105700,
          145000,
          185900,
          65000,
          190000,
          23000,
          70000,
          160000,
          143200,
          123906
         ],
         "y": [
          140953.3790079457,
          125066.0525550236,
          181353.01720865676,
          159975.82061870914,
          197241.68854314557,
          100320.70011538922,
          191767.96726376328,
          54652.69446811694,
          82347.7950755464,
          197241.68854314557,
          134763.4089514802,
          188843.54419594622,
          28134.30497448954,
          169111.9378042888,
          82347.7950755464,
          180404.25206292263,
          192547.07537878997,
          39375.52541796629,
          104083.01363247851,
          164604.5273491853,
          178552.87447279633,
          150401.32502001742,
          169782.03430279967,
          176903.95935151487,
          179340.50331100074,
          91101.63855157112,
          66718.67178118583,
          125066.0525550236,
          170780.61443007918,
          169782.03430279967,
          159975.82061870914,
          136022.82084794232,
          123530.7561023676,
          40924.040461068136,
          173894.52278070775,
          44939.722031701014,
          140445.39024293434,
          186343.28226499632,
          162232.5567411367,
          197241.68854314557,
          132096.12891205063,
          176903.95935151487,
          162589.86998152305,
          148435.50440821526,
          45183.573629700855,
          101977.72066680471,
          83536.39364689396,
          100162.31264849215,
          192547.07537878997,
          187226.1665902497,
          203446.61582113616,
          169111.9378042888,
          143078.72402747447,
          169111.9378042888,
          104083.01363247851,
          179340.50331100074,
          169111.9378042888,
          82347.7950755464,
          138514.38527550563,
          191767.96726376328,
          176903.95935151487,
          91101.63855157112,
          166433.35571488013,
          160273.7540121024,
          138593.0390218837,
          66557.84028493788,
          169111.9378042888,
          174812.76086597817,
          32173.831153393767,
          159975.82061870914,
          60475.98997098353,
          171461.7731731877,
          169111.9378042888,
          165050.82434456656,
          88272.32833435122,
          104589.15763554421,
          176903.95935151487,
          176903.95935151487,
          220370.06689382848,
          144326.04191017407,
          82347.7950755464,
          166069.75016330485,
          76733.54567009292,
          79188.62964303166,
          166069.75016330485,
          159975.82061870914,
          78688.96420970437,
          60099.24430367378,
          63233.81074898273,
          76646.69587312776,
          46843.019885319954,
          136022.82084794232,
          180680.08599086257,
          145684.17232721072,
          53504.23742481706,
          52094.00629039225,
          69775.19092371801,
          136572.29649071977,
          136022.82084794232,
          153992.5763655293,
          137474.59957827762,
          74852.11987422933,
          186924.432155415,
          191767.96726376328,
          102366.13936139166,
          176903.95935151487,
          125066.0525550236,
          170234.5986744982,
          169111.9378042888,
          127830.06724647866,
          55337.50514690334,
          113638.91946653198,
          159975.82061870914,
          53268.01043041547,
          173767.51734656954,
          76733.54567009292,
          61312.13057337336,
          167780.53176967925,
          108590.20925680784,
          176903.95935151487,
          153992.62793062185,
          131034.59490649716,
          199856.08289209352,
          91101.63855157112,
          180404.25206292263,
          201687.30519103765,
          167780.53176967925,
          162232.5567411367,
          176903.95935151487,
          142970.26250308732,
          159975.82061870914,
          167780.53176967925,
          34911.428927466455,
          197241.68854314557,
          171461.7731731877,
          108590.20925680784,
          192547.07537878997,
          135941.04750141836,
          113638.91946653198,
          160911.0606002962,
          169111.9378042888,
          169111.9378042888,
          150401.32502001742,
          166069.75016330485,
          176903.95935151487,
          195581.8522089398,
          188214.08339783392,
          117180.26413859878,
          197241.68854314557,
          140409.99648270613,
          176903.95935151487,
          166069.75016330485,
          131034.59490649716,
          197241.68854314557,
          167780.53176967925,
          195194.18921183964,
          188843.54419594622,
          176903.95935151487,
          137455.49539779703,
          157173.50734559755,
          137048.53473888582,
          192547.07537878997,
          143648.45182470133,
          59460.18045686376,
          135132.44276203788,
          169111.9378042888,
          181353.01720865676,
          93448.10700165064,
          191767.96726376328,
          104083.01363247851,
          159975.82061870914,
          166069.75016330485,
          136022.82084794232,
          100488.03132300975,
          168656.28926132407,
          137048.53473888582,
          159975.82061870914,
          162589.86998152305,
          85845.1976502936,
          112127.26412663682,
          61302.7468505179,
          197241.68854314557,
          191767.96726376328,
          169111.9378042888,
          140953.3790079457,
          197241.68854314557,
          169111.9378042888,
          41123.70529729447,
          192547.07537878997,
          98609.77001445787,
          78761.02934604778,
          108590.20925680784,
          176903.95935151487,
          36136.52119983783,
          138481.99937793982,
          168744.45287258565,
          173767.51734656954,
          72767.04087889346,
          197241.68854314557,
          195194.18921183964,
          159975.82061870914,
          153992.62793062185,
          148523.7721176877,
          104589.15763554421,
          197241.68854314557,
          17470.379961001192,
          203382.2001626455,
          179340.50331100074,
          123530.7561023676,
          150401.32502001742,
          76408.50500416258,
          117180.26413859878,
          86315.78795047294,
          169111.9378042888,
          76733.54567009292,
          85433.80732124328,
          176903.95935151487,
          136022.82084794232,
          174710.46687731732,
          162265.64511647646,
          102079.2145688289,
          173845.48332918365,
          136022.82084794232,
          51847.88200522943,
          176903.95935151487,
          112361.19564777256,
          181353.01720865676,
          74790.45259652803,
          169111.9378042888,
          59095.30096331175,
          176903.95935151487,
          145684.17232721072,
          137048.53473888582,
          173897.7832473475,
          83916.24568725307,
          173767.51734656954,
          102781.7231305078,
          136022.82084794232,
          180939.81433441583,
          123530.7561023676,
          52447.5432382033,
          169111.9378042888,
          134763.4089514802,
          162071.6963397618,
          180404.25206292263,
          132121.92804130114,
          59050.86657121373,
          169111.9378042888,
          167780.53176967925,
          197241.68854314557,
          152335.74132283241,
          135132.44276203788,
          113638.91946653198,
          76408.50500416258,
          76039.30501338308,
          125878.08038708282,
          71082.53923571405,
          176903.95935151487,
          169782.03430279967,
          176903.95935151487,
          136022.82084794232,
          178552.87447279633,
          113638.91946653198,
          176903.95935151487,
          108590.20925680784,
          144326.04191017407,
          100913.90783415032,
          136022.82084794232,
          169111.9378042888,
          100828.37231314098,
          169111.9378042888,
          169111.9378042888,
          195194.18921183964,
          136022.82084794232,
          176903.95935151487,
          159975.82061870914,
          197241.68854314557,
          167780.53176967925,
          188843.54419594622,
          136022.82084794232,
          167780.53176967925,
          49564.80814770203,
          169782.03430279967,
          173845.48332918365,
          97389.04858192311,
          162071.6963397618,
          136022.82084794232,
          180404.25206292263,
          37913.72645771084,
          166069.75016330485,
          197241.68854314557,
          169111.9378042888,
          197241.68854314557,
          82550.0212787262,
          134763.4089514802,
          169111.9378042888,
          125066.0525550236,
          197241.68854314557,
          167780.53176967925,
          106232.22867313625,
          144411.58027488738,
          131034.59490649716,
          173845.48332918365,
          36368.653886725544,
          169782.03430279967,
          169111.9378042888,
          136022.82084794232,
          76889.94258262879,
          205397.463367077,
          169782.03430279967,
          150401.32502001742,
          133667.97659259755,
          167780.53176967925,
          104083.01363247851,
          129111.66680294977,
          127635.80686275978,
          76868.78848070042,
          197241.68854314557,
          131412.79363188337,
          159975.82061870914,
          41470.445290659234,
          60159.060718887,
          195194.18921183964,
          125066.0525550236,
          180404.25206292263,
          164489.01415171774,
          66099.74200473218,
          200511.0881084482,
          120803.10092743974,
          135132.44276203788,
          128386.3193252591,
          136022.82084794232,
          163768.23313928462,
          63936.880376419766,
          157173.50734559755,
          80806.06396079119,
          167780.53176967925,
          94389.28809808662,
          127609.77771699562,
          167780.53176967925,
          169111.9378042888,
          136022.82084794232,
          167780.53176967925,
          61745.01946749294,
          125066.0525550236,
          176903.95935151487,
          128473.11003788607,
          108869.18994432865,
          135277.5316756819,
          129311.73124652356,
          33075.824752921326,
          180404.25206292263,
          137048.53473888582,
          176903.95935151487,
          82347.7950755464,
          169111.9378042888,
          208845.52673788922,
          176903.95935151487,
          110367.85967965999,
          166069.75016330485,
          71082.53923571405,
          74856.91565125257,
          135941.04750141836,
          176903.95935151487,
          167780.53176967925,
          90469.99646354068,
          67145.95933921677,
          136789.23972031366,
          131836.44566007616,
          188843.54419594622,
          197241.68854314557,
          176903.95935151487,
          169111.9378042888,
          200511.0881084482,
          129311.73124652356,
          159975.82061870914,
          106889.98343128109,
          229151.88568006424,
          176903.95935151487,
          150401.32502001742,
          169782.03430279967,
          104083.01363247851,
          167780.53176967925,
          104695.89324148867,
          35162.674051071626,
          203446.61582113616,
          176903.95935151487,
          176903.95935151487,
          197627.09867737498,
          176903.95935151487,
          154742.59390961353,
          95835.32762884539,
          169111.9378042888,
          150401.32502001742,
          176903.95935151487,
          83361.8153964514,
          153992.62793062185,
          137048.53473888582,
          176903.95935151487,
          100139.52472309394,
          85845.1976502936,
          136022.82084794232,
          125066.0525550236,
          53504.23742481706,
          162574.83820183075,
          193091.13898785145,
          135132.44276203788,
          197241.68854314557,
          72368.6026104157,
          61743.6987479767,
          197241.68854314557,
          197241.68854314557,
          106834.04524825129,
          168744.45287258565,
          176903.95935151487,
          169111.9378042888,
          131836.44566007616,
          157173.50734559755,
          169111.9378042888,
          200102.10009298782,
          133580.41230290598,
          224198.04745158617,
          54652.69446811694,
          173845.48332918365,
          107963.61571115363,
          108590.20925680784,
          176903.95935151487,
          144339.18547934142,
          59290.49408960616,
          176903.95935151487,
          176903.95935151487,
          113638.91946653198,
          169111.9378042888,
          132096.12891205063,
          97209.5157822764,
          188843.54419594622,
          132096.12891205063,
          195581.8522089398,
          163768.23313928462,
          178552.87447279633,
          166069.75016330485,
          76408.50500416258,
          57945.714408466476,
          167780.53176967925,
          169111.9378042888,
          145684.17232721072,
          176903.95935151487,
          82347.7950755464,
          82347.7950755464,
          136022.82084794232,
          173767.51734656954,
          104384.0957260768,
          152335.74132283241,
          50709.79760384355,
          166069.75016330485,
          167780.53176967925,
          105379.85162674726,
          117710.47383097076,
          125066.0525550236,
          159975.82061870914,
          131836.44566007616,
          191767.96726376328,
          121149.01183627435,
          104589.15763554421,
          159975.82061870914,
          169111.9378042888,
          169111.9378042888,
          159975.82061870914,
          82347.7950755464,
          92623.22852897318,
          56280.23013951564,
          108869.18994432865,
          176903.95935151487,
          135132.44276203788,
          136022.82084794232,
          162232.5567411367,
          134832.41582981532,
          92623.22852897318,
          197241.68854314557,
          180404.25206292263,
          169111.9378042888,
          39304.132968513324,
          181353.01720865676,
          176752.8631695331,
          186924.432155415,
          159975.82061870914,
          176903.95935151487,
          173847.1115901379,
          168656.28926132407,
          180680.08599086257,
          173767.51734656954,
          176903.95935151487,
          180680.08599086257,
          203446.61582113616,
          176903.95935151487,
          98575.90213014702,
          113859.02220119571,
          202117.7478673779,
          157097.43237946782,
          135132.44276203788,
          168202.99423645096,
          95384.25378015373,
          180404.25206292263,
          135132.44276203788,
          92623.22852897318,
          83450.50364360251,
          157173.50734559755,
          65064.940023323245,
          125066.0525550236,
          136022.82084794232,
          104590.89015732736,
          136022.82084794232,
          169111.9378042888,
          56008.99238433483,
          71082.53923571405,
          197241.68854314557,
          97389.04858192311,
          159975.82061870914,
          159975.82061870914,
          176903.95935151487,
          181353.01720865676,
          167780.53176967925,
          180404.25206292263,
          137048.53473888582,
          153658.88252231394,
          173632.61781277368,
          49524.243320209935,
          224198.04745158617,
          206266.4441861973,
          102955.63564756983,
          131038.46046065463,
          123530.7561023676,
          197241.68854314557,
          199856.08289209352,
          106232.22867313625,
          163768.23313928462,
          159975.82061870914,
          180404.25206292263,
          197241.68854314557,
          169111.9378042888,
          123530.7561023676,
          118849.15526547964,
          169782.03430279967,
          108590.20925680784,
          104545.94553269155,
          140614.99008438774,
          169111.9378042888,
          23030.711477740202,
          203446.61582113616,
          169111.9378042888,
          153992.62793062185,
          167780.53176967925,
          197241.68854314557,
          136022.82084794232,
          190823.8928601376,
          164489.01415171774,
          173185.0483165879,
          167780.53176967925,
          137048.53473888582,
          144513.61198193376,
          137048.53473888582,
          123530.7561023676,
          135132.44276203788,
          85355.9699444734,
          199856.08289209352,
          129111.66680294977,
          63588.62953927017,
          169472.41816850434,
          107963.61571115363,
          195194.18921183964,
          169111.9378042888,
          169111.9378042888,
          102654.98361127722,
          159805.63679650478,
          180939.81433441583,
          199856.08289209352,
          186924.432155415,
          136938.5969673185,
          136022.82084794232,
          176903.95935151487,
          136022.82084794232,
          94809.25660890959,
          159975.82061870914,
          81935.59734573448,
          145684.17232721072,
          136022.82084794232,
          129111.66680294977,
          76733.54567009292,
          169111.9378042888,
          167780.53176967925,
          46442.77295184056,
          104589.15763554421,
          169111.9378042888,
          129111.66680294977,
          118133.1462926983,
          191262.75951594624,
          137048.53473888582,
          69527.65368945501,
          200511.0881084482,
          137048.53473888582,
          125066.0525550236,
          187655.53138533607,
          113638.91946653198,
          71082.53923571405,
          104083.01363247851,
          153658.88252231394,
          125066.0525550236,
          26979.78033623201,
          179260.33613531175,
          176903.95935151487,
          136572.29649071977,
          180404.25206292263,
          125066.0525550236,
          142970.26250308732,
          130196.65787181206,
          169111.9378042888,
          169111.9378042888,
          169111.9378042888,
          195581.8522089398,
          136022.82084794232,
          191154.80916803665,
          85845.1976502936,
          132096.12891205063,
          168744.45287258565,
          135132.44276203788,
          169111.9378042888,
          136022.82084794232,
          129504.41639177431,
          176903.95935151487,
          66599.54604092939,
          167780.53176967925,
          195194.18921183964,
          168656.28926132407,
          104589.15763554421,
          108397.62547212123,
          168202.99423645096,
          44217.49469102836,
          173539.05456832398,
          63082.47453819495,
          125066.0525550236,
          166069.75016330485,
          159975.82061870914,
          176903.95935151487,
          169111.9378042888,
          120834.96555793768,
          176903.95935151487,
          53284.5988209598,
          104589.15763554421,
          176903.95935151487,
          159321.30226826514,
          164575.22476159682,
          129111.66680294977,
          167780.53176967925,
          115709.63377906388,
          168744.45287258565,
          101165.59963200145,
          136022.82084794232,
          200102.10009298782,
          166069.75016330485,
          169111.9378042888
         ]
        },
        {
         "line": {
          "color": "red"
         },
         "marker": {
          "color": "blue",
          "size": 10
         },
         "mode": "lines",
         "name": "Fit-line",
         "type": "scatter",
         "x": [
          134000,
          117000,
          129300,
          172200,
          180000,
          161311,
          300000,
          47280,
          48000,
          285000,
          115702,
          265000,
          27317,
          205700,
          100000,
          204000,
          345000,
          55475,
          115100,
          275000,
          180000,
          130800,
          192564,
          237000,
          165750,
          55368,
          40000,
          166700,
          202800,
          63000,
          179500,
          152380,
          155000,
          30469,
          171600,
          17684,
          94000,
          342300,
          140000,
          190000,
          150000,
          84000,
          150000,
          168000,
          46759,
          90000,
          85000,
          70000,
          285000,
          125000,
          315850,
          158700,
          100000,
          168400,
          92700,
          157250,
          162500,
          61800,
          64980,
          299500,
          359170,
          51676,
          225000,
          185000,
          120000,
          97171,
          179000,
          142000,
          17805,
          90000,
          33609,
          120000,
          252000,
          186000,
          22800,
          98432,
          182250,
          197600,
          220000,
          220000,
          94035,
          105000,
          61566,
          75050,
          179820,
          200000,
          128058,
          65666,
          42026,
          63831,
          28016,
          108000,
          97400,
          115000,
          80976,
          55685,
          37788,
          202800,
          200000,
          135344,
          139000,
          60000,
          150000,
          250000,
          85000,
          270000,
          120000,
          214000,
          133300,
          258000,
          110446,
          55000,
          136994,
          49253,
          50000,
          98506,
          59303,
          144000,
          144100,
          150000,
          100000,
          109000,
          185900,
          73824,
          113900,
          329500,
          167000,
          100000,
          110500,
          25500,
          120000,
          122500,
          47899,
          126000,
          281000,
          115500,
          160000,
          170000,
          116000,
          180514,
          232760,
          215000,
          125000,
          190000,
          157750,
          216000,
          248400,
          36000,
          233000,
          137400,
          203000,
          210000,
          160000,
          297000,
          154000,
          240960,
          210914,
          219000,
          135000,
          130000,
          183310,
          374000,
          104000,
          74087,
          198900,
          114500,
          193900,
          20000,
          180000,
          80000,
          213000,
          183500,
          155000,
          100000,
          131300,
          151410,
          132000,
          250000,
          61566,
          63810,
          33246,
          184700,
          220000,
          199000,
          124000,
          163200,
          141000,
          21593,
          180000,
          130000,
          68293,
          130000,
          206000,
          66970,
          104055,
          125000,
          111550,
          64781,
          267720,
          293000,
          220000,
          120000,
          50700,
          46755,
          210000,
          28399,
          138750,
          138000,
          110000,
          112655,
          61566,
          50000,
          126080,
          146000,
          110820,
          61989,
          139000,
          138000,
          174000,
          165000,
          58000,
          140000,
          128000,
          45896,
          166500,
          150000,
          164000,
          56536,
          140100,
          66022,
          164000,
          140000,
          131100,
          100000,
          40000,
          129000,
          80000,
          101500,
          200000,
          134200,
          70139,
          220000,
          193170,
          240000,
          188500,
          198094,
          88654,
          284310,
          172000,
          268000,
          204500,
          250000,
          103200,
          86193,
          36000,
          220000,
          46755,
          245000,
          113900,
          104000,
          52500,
          302000,
          120000,
          227240,
          165000,
          230000,
          74000,
          126500,
          118000,
          48000,
          105000,
          144100,
          133000,
          132000,
          370000,
          117000,
          311000,
          80000,
          116704,
          75000,
          141525,
          34672,
          250000,
          205300,
          61566,
          142000,
          145000,
          213120,
          84053,
          275300,
          191400,
          90700,
          257000,
          59888,
          185700,
          293000,
          119000,
          184950,
          136000,
          90000,
          130000,
          73000,
          104300,
          38915,
          213120,
          157250,
          146190,
          104697,
          314100,
          160000,
          93000,
          75000,
          148800,
          160000,
          65000,
          100000,
          55000,
          317070,
          146100,
          130500,
          31520,
          31795,
          156400,
          177000,
          210000,
          110600,
          53120,
          206000,
          109000,
          146000,
          100000,
          161500,
          230000,
          40000,
          193750,
          55368,
          153600,
          45760,
          80000,
          149850,
          240000,
          110000,
          260000,
          16000,
          106260,
          169000,
          81838,
          100000,
          153799,
          163196,
          59888,
          120000,
          230000,
          218500,
          64200,
          305000,
          136000,
          202000,
          60000,
          151000,
          79976,
          105066,
          180000,
          230000,
          95000,
          43064,
          50000,
          200000,
          81000,
          115830,
          198200,
          220000,
          68637,
          175100,
          145885,
          25000,
          80000,
          235000,
          214000,
          234485,
          147800,
          85000,
          120160,
          56000,
          76833,
          199000,
          209300,
          141000,
          240000,
          210000,
          60000,
          74883,
          175308,
          150000,
          167560,
          89294,
          200000,
          187500,
          122700,
          60000,
          57872,
          100500,
          132000,
          59382,
          165000,
          189500,
          128000,
          250000,
          91237,
          63040,
          120000,
          232200,
          77119,
          102000,
          162500,
          275300,
          92250,
          140250,
          133800,
          205000,
          130000,
          192000,
          63040,
          165000,
          62000,
          135000,
          278700,
          128000,
          49253,
          174800,
          70000,
          143000,
          258750,
          160000,
          110000,
          250000,
          130000,
          145000,
          120000,
          189000,
          173000,
          92350,
          48585,
          38000,
          153090,
          100000,
          186000,
          60000,
          50000,
          154440,
          83000,
          125000,
          160000,
          100000,
          174000,
          148000,
          133766,
          90000,
          150075,
          135000,
          123000,
          185000,
          155000,
          147648,
          156600,
          126800,
          193200,
          134760,
          80000,
          58444,
          65141,
          74540,
          135000,
          70000,
          122000,
          197000,
          160000,
          67672,
          181000,
          110000,
          94300,
          19073,
          192000,
          130000,
          210000,
          70000,
          240000,
          184000,
          80000,
          199200,
          63967,
          138784,
          132870,
          183750,
          119000,
          103691,
          81000,
          144000,
          90000,
          125000,
          239000,
          72500,
          160000,
          183310,
          61520,
          20000,
          125000,
          38154,
          102100,
          106000,
          70000,
          113220,
          138750,
          42197,
          61520,
          225000,
          43096,
          152000,
          300000,
          184184,
          148800,
          130000,
          150000,
          51962,
          90000,
          106000,
          69741,
          353200,
          108000,
          72338,
          140000,
          189400,
          162540,
          133500,
          84000,
          155000,
          160395,
          117000,
          392000,
          221484,
          106400,
          61300,
          210000,
          60000,
          165000,
          300000,
          154000,
          18241,
          150000,
          124230,
          125000,
          168000,
          148594,
          119800,
          280000,
          67000,
          210000,
          125000,
          175000,
          192400,
          141600,
          140000,
          143865,
          200000,
          167310,
          118000,
          70179,
          245000,
          93000,
          175000,
          136000,
          166364,
          69500,
          134000,
          202900,
          164000,
          200000,
          148261,
          141290,
          255000,
          153800,
          55000,
          141300,
          76814,
          105200,
          92000,
          153000,
          55410,
          137500,
          208000,
          84053,
          49216,
          108768,
          120000,
          76309,
          287700,
          79350,
          64781,
          172200,
          72409,
          99750,
          164000,
          150000,
          44356,
          90000,
          130000,
          127000,
          24165,
          172200,
          122000,
          168000,
          105200,
          52500,
          30000,
          177000,
          178500,
          201450,
          145000,
          297500,
          94000,
          130000,
          36940,
          100000,
          220000,
          81500,
          206000,
          83700,
          270000,
          317070,
          72000,
          104000,
          370000,
          154545,
          59059,
          86374,
          212800,
          66192,
          145000,
          61467,
          93700,
          116450,
          128875,
          209450,
          185100,
          190000,
          172100,
          49216,
          123040,
          191000,
          220000,
          105700,
          145000,
          185900,
          65000,
          190000,
          23000,
          70000,
          160000,
          143200,
          123906
         ],
         "y": [
          138728.5018382834,
          131423.48114359129,
          136708.87846975087,
          155143.31304635626,
          158495.0284239209,
          150464.23243785615,
          210059.88038645347,
          101464.30215335987,
          101773.69126513507,
          203614.2738911369,
          130865.72132819657,
          195020.13189738145,
          92886.05932229289,
          169538.50088589662,
          124118.46044889918,
          168807.99881642743,
          229396.69987240317,
          104985.75183530115,
          130607.03765418453,
          199317.2028942592,
          158495.0284239209,
          137353.43911928253,
          163893.86842439807,
          182988.33310612387,
          152371.70225337014,
          104939.77317563456,
          98336.0344676329,
          152779.92399807353,
          168292.35029680206,
          108219.29776045163,
          158280.17487407703,
          146626.51833054464,
          147752.3509317266,
          94240.49610050874,
          154885.4887865436,
          88746.69083100058,
          121540.21785077255,
          228236.4907032462,
          141306.74443641002,
          162792.0994207986,
          145603.81543328776,
          117243.14685389484,
          145603.81543328776,
          153338.54322766763,
          101240.42475442254,
          119821.38945202147,
          117672.85395358261,
          111227.24745826604,
          203614.2738911369,
          134861.13794109348,
          216870.73791650461,
          149342.26720057137,
          124118.46044889918,
          153510.42606754275,
          120981.59862117845,
          148719.1919060241,
          150975.15417938487,
          107703.64924082631,
          109070.11781783342,
          209845.02683660958,
          235485.6494749789,
          103353.29456358732,
          177831.84790987062,
          160643.56392235975,
          132712.6024426546,
          122902.81906388247,
          158065.32132423314,
          142166.15863578557,
          88798.6853900628,
          119821.38945202147,
          95589.77639352834,
          132712.6024426546,
          189433.93960144045,
          161073.27102204753,
          90945.07235300323,
          123444.67971658875,
          159461.86939821838,
          166057.87337842566,
          175683.31241143175,
          175683.31241143175,
          121555.25759926162,
          126266.99594733803,
          107603.09777949937,
          113397.26831168929,
          158417.6811459771,
          167089.17041767633,
          136175.18225193868,
          109364.89688821923,
          99206.62105160032,
          108576.38436029217,
          93186.42458497464,
          127556.11724640135,
          123001.22198971098,
          130564.06694421575,
          115943.71258443902,
          105075.9903262356,
          97385.52236312354,
          168292.35029680206,
          167089.17041767633,
          139306.02818026376,
          140877.03733672225,
          106930.17646138833,
          145603.81543328776,
          188574.5254020649,
          117672.85395358261,
          197168.66739582032,
          132712.6024426546,
          173105.0698133051,
          138427.70686850196,
          192012.18219956706,
          128607.18081223764,
          104781.64096294946,
          140015.0448947486,
          102312.11426104384,
          102633.1054645106,
          123476.47804196565,
          106630.67061290595,
          143025.57283516112,
          143068.54354512988,
          145603.81543328776,
          124118.46044889918,
          127985.82434608912,
          161030.30031207873,
          112870.44740747208,
          130091.3891345592,
          222736.23982724274,
          152908.83612797986,
          124118.46044889918,
          128630.38499562079,
          92105.2815221602,
          132712.6024426546,
          133786.87019187404,
          101730.2908480666,
          135290.84504078125,
          201895.44549238583,
          130778.92049405962,
          149900.88643016547,
          154197.95742704318,
          130993.77404390351,
          158715.8978731604,
          181166.3750034477,
          173534.77691299288,
          134861.13794109348,
          162792.0994207986,
          148934.04545586798,
          173964.48401268065,
          187886.99404256447,
          96617.2060688818,
          181269.50470737278,
          140189.50597722182,
          168378.29171673965,
          171386.24141455404,
          149900.88643016547,
          208770.75908739015,
          147322.64383203886,
          184689.97322088742,
          171778.99370366865,
          175253.60531174397,
          139158.20893797118,
          137009.67343953231,
          159917.35892388743,
          241858.20576334855,
          125837.28884765026,
          112983.46037468995,
          166616.4926080198,
          130349.21339437187,
          164467.95710958092,
          89741.89247387747,
          158495.0284239209,
          115524.31845514374,
          172675.36271361733,
          159999.0032728281,
          147752.3509317266,
          124118.46044889918,
          137568.29266912641,
          146209.7024438475,
          137869.08763890786,
          188574.5254020649,
          107603.09777949937,
          108567.36051119873,
          95433.79271634169,
          160514.65179245343,
          175683.31241143175,
          166659.46331798856,
          134431.4308414057,
          151275.94914916635,
          141736.4515360978,
          90426.41588368008,
          158495.0284239209,
          137009.67343953231,
          110493.737439099,
          137009.67343953231,
          169667.41301580294,
          109925.23494621209,
          125860.92273813309,
          134861.13794109348,
          129081.57745029294,
          108984.60610499556,
          196188.9352085322,
          207051.93068863906,
          175683.31241143175,
          132712.6024426546,
          102933.90043429204,
          101238.70592602379,
          171386.24141455404,
          93351.00240415505,
          140769.6105618003,
          140447.33023703448,
          128415.5314457769,
          129556.40379544793,
          107603.09777949937,
          102633.1054645106,
          135325.22160875626,
          143884.98703453667,
          128767.89126752087,
          107784.8638826673,
          140877.03733672225,
          140447.33023703448,
          155916.78582579427,
          152049.4219286043,
          106070.76226201278,
          141306.74443641002,
          136150.2592401568,
          100869.587527392,
          152693.98257813597,
          145603.81543328776,
          151619.71482891653,
          105441.67106806987,
          141349.71514637882,
          109517.87261570808,
          151619.71482891653,
          141306.74443641002,
          137482.35124918888,
          124118.46044889918,
          98336.0344676329,
          136579.96633984454,
          115524.31845514374,
          124763.02109843084,
          167089.17041767633,
          138814.44325822097,
          111286.97674512264,
          175683.31241143175,
          164154.27092680882,
          184277.45440518716,
          162147.53877126693,
          166270.14868567145,
          119243.00369584173,
          203317.77599235234,
          155057.37162641872,
          196309.25319644477,
          169022.8523662713,
          188574.5254020649,
          125493.52316790004,
          118185.49452351012,
          96617.2060688818,
          175683.31241143175,
          101238.70592602379,
          186425.98990362603,
          130091.3891345592,
          125837.28884765026,
          103707.37321373004,
          210919.29458582902,
          132712.6024426546,
          178794.3918131712,
          152049.4219286043,
          179980.38340830948,
          112946.07585701712,
          135505.69859062514,
          131853.18824327906,
          101773.69126513507,
          126266.99594733803,
          143068.54354512988,
          138298.79473859564,
          137869.08763890786,
          240139.37736459746,
          131423.48114359129,
          214786.65848301892,
          115524.31845514374,
          131296.28784208372,
          113375.78295670489,
          141962.0477634339,
          96046.55504049645,
          188574.5254020649,
          169366.6180460215,
          107603.09777949937,
          142166.15863578557,
          143455.2799348489,
          172726.92756557988,
          117265.92133017829,
          199446.1150241655,
          163393.6893603615,
          120122.1844218029,
          191582.4750998793,
          106882.04926622329,
          160944.3588921412,
          207051.93068863906,
          132282.89534296683,
          160622.07856737537,
          139587.91603765896,
          119821.38945202147,
          137009.67343953231,
          112516.36875732936,
          125966.2009775566,
          97869.80226447165,
          172726.92756557988,
          148719.1919060241,
          143966.63138347733,
          126136.79469613264,
          216118.75049205107,
          149900.88643016547,
          121110.51075108477,
          113375.78295670489,
          145088.16691366243,
          149900.88643016547,
          109078.71195982718,
          124118.46044889918,
          104781.64096294946,
          217394.9805781237,
          143927.95774450543,
          137224.5269893762,
          94692.1182622806,
          94810.28771469473,
          148353.94087128947,
          157205.9071248576,
          171386.24141455404,
          128673.35570558955,
          103973.79161553645,
          169667.41301580294,
          127985.82434608912,
          143884.98703453667,
          124118.46044889918,
          150545.4470796971,
          179980.38340830948,
          98336.0344676329,
          164403.50104462774,
          104939.77317563456,
          147150.76099216373,
          100811.14736183446,
          115524.31845514374,
          145539.35936833458,
          184277.45440518716,
          128415.5314457769,
          192871.5963989426,
          88023.06407512637,
          126808.42689294463,
          153768.2503273554,
          116314.12010436988,
          124118.46044889918,
          147236.27270500158,
          151274.2303207676,
          106882.04926622329,
          132712.6024426546,
          179980.38340830948,
          175038.7517619001,
          108734.94628007695,
          212208.41588489234,
          139587.91603765896,
          167948.58461705188,
          106930.17646138833,
          146033.52253297553,
          115514.00548475125,
          126295.35661591744,
          158495.0284239209,
          179980.38340830948,
          121969.92495046032,
          99652.65702107621,
          102633.1054645106,
          167089.17041767633,
          115954.02555483152,
          130920.7238369566,
          166315.6976382383,
          175683.31241143175,
          110641.55668139161,
          156389.4636354508,
          143835.5707180726,
          91890.42797231632,
          115524.31845514374,
          182128.91890674832,
          173105.0698133051,
          181907.61975040913,
          144658.45981397465,
          117672.85395358261,
          132781.35557860465,
          105211.34806263723,
          114163.43607043257,
          166659.46331798856,
          171085.4464447726,
          141736.4515360978,
          184277.45440518716,
          171386.24141455404,
          106930.17646138833,
          113325.50722604143,
          156478.84271218587,
          145603.81543328776,
          153149.47210380502,
          119518.0162396419,
          167089.17041767633,
          161717.83167157916,
          133872.81161181157,
          106930.17646138833,
          106015.75975325274,
          124333.31399874306,
          137869.08763890786,
          106664.61747378128,
          152049.4219286043,
          162577.2458709547,
          136150.2592401568,
          188574.5254020649,
          120352.93713433524,
          108236.48604443914,
          132712.6024426546,
          180925.73902762256,
          114286.33230094328,
          124977.87464827472,
          150975.15417938487,
          199446.1150241655,
          120788.23042631894,
          141414.17121133197,
          138642.56041834585,
          169237.7059161152,
          137009.67343953231,
          163651.51362017414,
          108236.48604443914,
          152049.4219286043,
          107789.59066076386,
          139158.20893797118,
          200907.11916310393,
          136150.2592401568,
          102312.11426104384,
          156260.55150554448,
          111227.24745826604,
          142595.86573547334,
          192334.4625243329,
          149900.88643016547,
          128415.5314457769,
          188574.5254020649,
          137009.67343953231,
          143455.2799348489,
          132712.6024426546,
          162362.39232111082,
          155487.0787261065,
          120831.20113628772,
          102025.06991845241,
          97476.62026825735,
          146931.61037132295,
          124118.46044889918,
          161073.27102204753,
          106930.17646138833,
          102633.1054645106,
          147511.71495590144,
          116813.43975420707,
          134861.13794109348,
          149900.88643016547,
          124118.46044889918,
          155916.78582579427,
          144744.4012339122,
          138627.95037695646,
          119821.38945202147,
          145636.04346576432,
          139158.20893797118,
          134001.72374171793,
          160643.56392235975,
          147752.3509317266,
          144593.1443348221,
          148439.88229122706,
          135634.61072053146,
          164167.16213979947,
          139055.0792340461,
          115524.31845514374,
          106261.55221427415,
          109139.30066088315,
          113178.11769084852,
          139158.20893797118,
          111227.24745826604,
          133572.01664203015,
          165800.049118613,
          149900.88643016547,
          110226.8893301929,
          158924.73552360866,
          128415.5314457769,
          121669.12998067887,
          89343.5539924669,
          163651.51362017414,
          137009.67343953231,
          171386.24141455404,
          111227.24745826604,
          184277.45440518716,
          160213.85682267198,
          115524.31845514374,
          166745.4047379261,
          108634.82452584972,
          140784.22060318972,
          138242.93281563622,
          160106.43004775004,
          132282.89534296683,
          125704.50935384675,
          115954.02555483152,
          143025.57283516112,
          119821.38945202147,
          134861.13794109348,
          183847.7473054994,
          112301.51520748547,
          149900.88643016547,
          159917.35892388743,
          107583.33125291373,
          89741.89247387747,
          134861.13794109348,
          97542.79516160926,
          125020.8453582435,
          126696.7030470258,
          111227.24745826604,
          129799.18830677151,
          140769.6105618003,
          99280.10096564693,
          107583.33125291373,
          177831.84790987062,
          99666.40764826623,
          146463.2296326633,
          210059.88038645347,
          160292.92292901454,
          145088.16691366243,
          137009.67343953231,
          145603.81543328776,
          103476.19079409802,
          119821.38945202147,
          126696.7030470258,
          111115.9533194469,
          232920.2980898429,
          127556.11724640135,
          112231.90265733605,
          141306.74443641002,
          162534.27516098594,
          150992.3424633724,
          138513.64828843952,
          117243.14685389484,
          147752.3509317266,
          150070.62073454214,
          131423.48114359129,
          249592.93355772842,
          176320.9977473684,
          126868.58588690092,
          107488.79569098243,
          171386.24141455404,
          106930.17646138833,
          152049.4219286043,
          210059.88038645347,
          147322.64383203886,
          88986.03768552668,
          145603.81543328776,
          134530.2634743339,
          134861.13794109348,
          153338.54322766763,
          144999.64725112673,
          132626.66102271705,
          201465.73839269805,
          109938.12615920271,
          171386.24141455404,
          134861.13794109348,
          156346.49292548205,
          163823.39646004926,
          141994.27579591048,
          141306.74443641002,
          142967.56237670328,
          167089.17041767633,
          153042.04532888308,
          131853.18824327906,
          111304.16502911015,
          186425.98990362603,
          121110.51075108477,
          156346.49292548205,
          139587.91603765896,
          152635.54241257845,
          111012.39390842215,
          138728.5018382834,
          168335.32100677086,
          151619.71482891653,
          167089.17041767633,
          144856.5547869307,
          141861.06659500726,
          190723.06090050377,
          147236.70241210127,
          104781.64096294946,
          141865.36366600415,
          114155.27163553852,
          126352.93736727559,
          120680.803651397,
          146892.93673235108,
          104957.82087382145,
          140232.4766871906,
          170526.8272151785,
          117265.92133017829,
          102296.2150983554,
          127886.13229896156,
          132712.6024426546,
          113938.26955019619,
          204774.4830602939,
          115245.0088403467,
          108984.60610499556,
          155143.31304635626,
          112262.41186141387,
          124011.03367397723,
          151619.71482891653,
          145603.81543328776,
          100207.83859387282,
          119821.38945202147,
          137009.67343953231,
          135720.55214046902,
          91531.62254407704,
          155143.31304635626,
          133572.01664203015,
          153338.54322766763,
          126352.93736727559,
          103707.37321373004,
          94038.96347075517,
          157205.9071248576,
          157850.46777438925,
          167712.24571222358,
          143455.2799348489,
          208985.61263723404,
          121540.21785077255,
          137009.67343953231,
          97021.13074258831,
          124118.46044889918,
          175683.31241143175,
          116168.8791046754,
          169667.41301580294,
          117114.23472398851,
          197168.66739582032,
          217394.9805781237,
          112086.66165764158,
          125837.28884765026,
          240139.37736459746,
          147556.83420136868,
          106525.82208058213,
          118263.2715085536,
          172589.4212936798,
          109590.922822655,
          143455.2799348489,
          107560.55677663028,
          121411.30572086622,
          131187.14223876302,
          136526.25295238357,
          171149.90250972577,
          160686.53463232855,
          162792.0994207986,
          155100.3423363875,
          102296.2150983554,
          134018.91202570545,
          163221.80652048637,
          175683.31241143175,
          126567.79091711948,
          143455.2799348489,
          161030.30031207873,
          109078.71195982718,
          162792.0994207986,
          91031.01377294077,
          111227.24745826604,
          149900.88643016547,
          142681.8071554109,
          134391.03837403504
         ]
        }
       ],
       "layout": {
        "height": 750,
        "margin": {
         "l": 80,
         "t": 250
        },
        "template": {
         "data": {
          "bar": [
           {
            "error_x": {
             "color": "rgb(36,36,36)"
            },
            "error_y": {
             "color": "rgb(36,36,36)"
            },
            "marker": {
             "line": {
              "color": "white",
              "width": 0.5
             },
             "pattern": {
              "fillmode": "overlay",
              "size": 10,
              "solidity": 0.2
             }
            },
            "type": "bar"
           }
          ],
          "barpolar": [
           {
            "marker": {
             "line": {
              "color": "white",
              "width": 0.5
             },
             "pattern": {
              "fillmode": "overlay",
              "size": 10,
              "solidity": 0.2
             }
            },
            "type": "barpolar"
           }
          ],
          "carpet": [
           {
            "aaxis": {
             "endlinecolor": "rgb(36,36,36)",
             "gridcolor": "white",
             "linecolor": "white",
             "minorgridcolor": "white",
             "startlinecolor": "rgb(36,36,36)"
            },
            "baxis": {
             "endlinecolor": "rgb(36,36,36)",
             "gridcolor": "white",
             "linecolor": "white",
             "minorgridcolor": "white",
             "startlinecolor": "rgb(36,36,36)"
            },
            "type": "carpet"
           }
          ],
          "choropleth": [
           {
            "colorbar": {
             "outlinewidth": 1,
             "tickcolor": "rgb(36,36,36)",
             "ticks": "outside"
            },
            "type": "choropleth"
           }
          ],
          "contour": [
           {
            "colorbar": {
             "outlinewidth": 1,
             "tickcolor": "rgb(36,36,36)",
             "ticks": "outside"
            },
            "colorscale": [
             [
              0,
              "#440154"
             ],
             [
              0.1111111111111111,
              "#482878"
             ],
             [
              0.2222222222222222,
              "#3e4989"
             ],
             [
              0.3333333333333333,
              "#31688e"
             ],
             [
              0.4444444444444444,
              "#26828e"
             ],
             [
              0.5555555555555556,
              "#1f9e89"
             ],
             [
              0.6666666666666666,
              "#35b779"
             ],
             [
              0.7777777777777778,
              "#6ece58"
             ],
             [
              0.8888888888888888,
              "#b5de2b"
             ],
             [
              1,
              "#fde725"
             ]
            ],
            "type": "contour"
           }
          ],
          "contourcarpet": [
           {
            "colorbar": {
             "outlinewidth": 1,
             "tickcolor": "rgb(36,36,36)",
             "ticks": "outside"
            },
            "type": "contourcarpet"
           }
          ],
          "heatmap": [
           {
            "colorbar": {
             "outlinewidth": 1,
             "tickcolor": "rgb(36,36,36)",
             "ticks": "outside"
            },
            "colorscale": [
             [
              0,
              "#440154"
             ],
             [
              0.1111111111111111,
              "#482878"
             ],
             [
              0.2222222222222222,
              "#3e4989"
             ],
             [
              0.3333333333333333,
              "#31688e"
             ],
             [
              0.4444444444444444,
              "#26828e"
             ],
             [
              0.5555555555555556,
              "#1f9e89"
             ],
             [
              0.6666666666666666,
              "#35b779"
             ],
             [
              0.7777777777777778,
              "#6ece58"
             ],
             [
              0.8888888888888888,
              "#b5de2b"
             ],
             [
              1,
              "#fde725"
             ]
            ],
            "type": "heatmap"
           }
          ],
          "heatmapgl": [
           {
            "colorbar": {
             "outlinewidth": 1,
             "tickcolor": "rgb(36,36,36)",
             "ticks": "outside"
            },
            "colorscale": [
             [
              0,
              "#440154"
             ],
             [
              0.1111111111111111,
              "#482878"
             ],
             [
              0.2222222222222222,
              "#3e4989"
             ],
             [
              0.3333333333333333,
              "#31688e"
             ],
             [
              0.4444444444444444,
              "#26828e"
             ],
             [
              0.5555555555555556,
              "#1f9e89"
             ],
             [
              0.6666666666666666,
              "#35b779"
             ],
             [
              0.7777777777777778,
              "#6ece58"
             ],
             [
              0.8888888888888888,
              "#b5de2b"
             ],
             [
              1,
              "#fde725"
             ]
            ],
            "type": "heatmapgl"
           }
          ],
          "histogram": [
           {
            "marker": {
             "line": {
              "color": "white",
              "width": 0.6
             }
            },
            "type": "histogram"
           }
          ],
          "histogram2d": [
           {
            "colorbar": {
             "outlinewidth": 1,
             "tickcolor": "rgb(36,36,36)",
             "ticks": "outside"
            },
            "colorscale": [
             [
              0,
              "#440154"
             ],
             [
              0.1111111111111111,
              "#482878"
             ],
             [
              0.2222222222222222,
              "#3e4989"
             ],
             [
              0.3333333333333333,
              "#31688e"
             ],
             [
              0.4444444444444444,
              "#26828e"
             ],
             [
              0.5555555555555556,
              "#1f9e89"
             ],
             [
              0.6666666666666666,
              "#35b779"
             ],
             [
              0.7777777777777778,
              "#6ece58"
             ],
             [
              0.8888888888888888,
              "#b5de2b"
             ],
             [
              1,
              "#fde725"
             ]
            ],
            "type": "histogram2d"
           }
          ],
          "histogram2dcontour": [
           {
            "colorbar": {
             "outlinewidth": 1,
             "tickcolor": "rgb(36,36,36)",
             "ticks": "outside"
            },
            "colorscale": [
             [
              0,
              "#440154"
             ],
             [
              0.1111111111111111,
              "#482878"
             ],
             [
              0.2222222222222222,
              "#3e4989"
             ],
             [
              0.3333333333333333,
              "#31688e"
             ],
             [
              0.4444444444444444,
              "#26828e"
             ],
             [
              0.5555555555555556,
              "#1f9e89"
             ],
             [
              0.6666666666666666,
              "#35b779"
             ],
             [
              0.7777777777777778,
              "#6ece58"
             ],
             [
              0.8888888888888888,
              "#b5de2b"
             ],
             [
              1,
              "#fde725"
             ]
            ],
            "type": "histogram2dcontour"
           }
          ],
          "mesh3d": [
           {
            "colorbar": {
             "outlinewidth": 1,
             "tickcolor": "rgb(36,36,36)",
             "ticks": "outside"
            },
            "type": "mesh3d"
           }
          ],
          "parcoords": [
           {
            "line": {
             "colorbar": {
              "outlinewidth": 1,
              "tickcolor": "rgb(36,36,36)",
              "ticks": "outside"
             }
            },
            "type": "parcoords"
           }
          ],
          "pie": [
           {
            "automargin": true,
            "type": "pie"
           }
          ],
          "scatter": [
           {
            "fillpattern": {
             "fillmode": "overlay",
             "size": 10,
             "solidity": 0.2
            },
            "type": "scatter"
           }
          ],
          "scatter3d": [
           {
            "line": {
             "colorbar": {
              "outlinewidth": 1,
              "tickcolor": "rgb(36,36,36)",
              "ticks": "outside"
             }
            },
            "marker": {
             "colorbar": {
              "outlinewidth": 1,
              "tickcolor": "rgb(36,36,36)",
              "ticks": "outside"
             }
            },
            "type": "scatter3d"
           }
          ],
          "scattercarpet": [
           {
            "marker": {
             "colorbar": {
              "outlinewidth": 1,
              "tickcolor": "rgb(36,36,36)",
              "ticks": "outside"
             }
            },
            "type": "scattercarpet"
           }
          ],
          "scattergeo": [
           {
            "marker": {
             "colorbar": {
              "outlinewidth": 1,
              "tickcolor": "rgb(36,36,36)",
              "ticks": "outside"
             }
            },
            "type": "scattergeo"
           }
          ],
          "scattergl": [
           {
            "marker": {
             "colorbar": {
              "outlinewidth": 1,
              "tickcolor": "rgb(36,36,36)",
              "ticks": "outside"
             }
            },
            "type": "scattergl"
           }
          ],
          "scattermapbox": [
           {
            "marker": {
             "colorbar": {
              "outlinewidth": 1,
              "tickcolor": "rgb(36,36,36)",
              "ticks": "outside"
             }
            },
            "type": "scattermapbox"
           }
          ],
          "scatterpolar": [
           {
            "marker": {
             "colorbar": {
              "outlinewidth": 1,
              "tickcolor": "rgb(36,36,36)",
              "ticks": "outside"
             }
            },
            "type": "scatterpolar"
           }
          ],
          "scatterpolargl": [
           {
            "marker": {
             "colorbar": {
              "outlinewidth": 1,
              "tickcolor": "rgb(36,36,36)",
              "ticks": "outside"
             }
            },
            "type": "scatterpolargl"
           }
          ],
          "scatterternary": [
           {
            "marker": {
             "colorbar": {
              "outlinewidth": 1,
              "tickcolor": "rgb(36,36,36)",
              "ticks": "outside"
             }
            },
            "type": "scatterternary"
           }
          ],
          "surface": [
           {
            "colorbar": {
             "outlinewidth": 1,
             "tickcolor": "rgb(36,36,36)",
             "ticks": "outside"
            },
            "colorscale": [
             [
              0,
              "#440154"
             ],
             [
              0.1111111111111111,
              "#482878"
             ],
             [
              0.2222222222222222,
              "#3e4989"
             ],
             [
              0.3333333333333333,
              "#31688e"
             ],
             [
              0.4444444444444444,
              "#26828e"
             ],
             [
              0.5555555555555556,
              "#1f9e89"
             ],
             [
              0.6666666666666666,
              "#35b779"
             ],
             [
              0.7777777777777778,
              "#6ece58"
             ],
             [
              0.8888888888888888,
              "#b5de2b"
             ],
             [
              1,
              "#fde725"
             ]
            ],
            "type": "surface"
           }
          ],
          "table": [
           {
            "cells": {
             "fill": {
              "color": "rgb(237,237,237)"
             },
             "line": {
              "color": "white"
             }
            },
            "header": {
             "fill": {
              "color": "rgb(217,217,217)"
             },
             "line": {
              "color": "white"
             }
            },
            "type": "table"
           }
          ]
         },
         "layout": {
          "annotationdefaults": {
           "arrowhead": 0,
           "arrowwidth": 1
          },
          "autotypenumbers": "strict",
          "coloraxis": {
           "colorbar": {
            "outlinewidth": 1,
            "tickcolor": "rgb(36,36,36)",
            "ticks": "outside"
           }
          },
          "colorscale": {
           "diverging": [
            [
             0,
             "rgb(103,0,31)"
            ],
            [
             0.1,
             "rgb(178,24,43)"
            ],
            [
             0.2,
             "rgb(214,96,77)"
            ],
            [
             0.3,
             "rgb(244,165,130)"
            ],
            [
             0.4,
             "rgb(253,219,199)"
            ],
            [
             0.5,
             "rgb(247,247,247)"
            ],
            [
             0.6,
             "rgb(209,229,240)"
            ],
            [
             0.7,
             "rgb(146,197,222)"
            ],
            [
             0.8,
             "rgb(67,147,195)"
            ],
            [
             0.9,
             "rgb(33,102,172)"
            ],
            [
             1,
             "rgb(5,48,97)"
            ]
           ],
           "sequential": [
            [
             0,
             "#440154"
            ],
            [
             0.1111111111111111,
             "#482878"
            ],
            [
             0.2222222222222222,
             "#3e4989"
            ],
            [
             0.3333333333333333,
             "#31688e"
            ],
            [
             0.4444444444444444,
             "#26828e"
            ],
            [
             0.5555555555555556,
             "#1f9e89"
            ],
            [
             0.6666666666666666,
             "#35b779"
            ],
            [
             0.7777777777777778,
             "#6ece58"
            ],
            [
             0.8888888888888888,
             "#b5de2b"
            ],
            [
             1,
             "#fde725"
            ]
           ],
           "sequentialminus": [
            [
             0,
             "#440154"
            ],
            [
             0.1111111111111111,
             "#482878"
            ],
            [
             0.2222222222222222,
             "#3e4989"
            ],
            [
             0.3333333333333333,
             "#31688e"
            ],
            [
             0.4444444444444444,
             "#26828e"
            ],
            [
             0.5555555555555556,
             "#1f9e89"
            ],
            [
             0.6666666666666666,
             "#35b779"
            ],
            [
             0.7777777777777778,
             "#6ece58"
            ],
            [
             0.8888888888888888,
             "#b5de2b"
            ],
            [
             1,
             "#fde725"
            ]
           ]
          },
          "colorway": [
           "#1F77B4",
           "#FF7F0E",
           "#2CA02C",
           "#D62728",
           "#9467BD",
           "#8C564B",
           "#E377C2",
           "#7F7F7F",
           "#BCBD22",
           "#17BECF"
          ],
          "font": {
           "color": "rgb(36,36,36)"
          },
          "geo": {
           "bgcolor": "white",
           "lakecolor": "white",
           "landcolor": "white",
           "showlakes": true,
           "showland": true,
           "subunitcolor": "white"
          },
          "hoverlabel": {
           "align": "left"
          },
          "hovermode": "closest",
          "mapbox": {
           "style": "light"
          },
          "paper_bgcolor": "white",
          "plot_bgcolor": "white",
          "polar": {
           "angularaxis": {
            "gridcolor": "rgb(232,232,232)",
            "linecolor": "rgb(36,36,36)",
            "showgrid": false,
            "showline": true,
            "ticks": "outside"
           },
           "bgcolor": "white",
           "radialaxis": {
            "gridcolor": "rgb(232,232,232)",
            "linecolor": "rgb(36,36,36)",
            "showgrid": false,
            "showline": true,
            "ticks": "outside"
           }
          },
          "scene": {
           "xaxis": {
            "backgroundcolor": "white",
            "gridcolor": "rgb(232,232,232)",
            "gridwidth": 2,
            "linecolor": "rgb(36,36,36)",
            "showbackground": true,
            "showgrid": false,
            "showline": true,
            "ticks": "outside",
            "zeroline": false,
            "zerolinecolor": "rgb(36,36,36)"
           },
           "yaxis": {
            "backgroundcolor": "white",
            "gridcolor": "rgb(232,232,232)",
            "gridwidth": 2,
            "linecolor": "rgb(36,36,36)",
            "showbackground": true,
            "showgrid": false,
            "showline": true,
            "ticks": "outside",
            "zeroline": false,
            "zerolinecolor": "rgb(36,36,36)"
           },
           "zaxis": {
            "backgroundcolor": "white",
            "gridcolor": "rgb(232,232,232)",
            "gridwidth": 2,
            "linecolor": "rgb(36,36,36)",
            "showbackground": true,
            "showgrid": false,
            "showline": true,
            "ticks": "outside",
            "zeroline": false,
            "zerolinecolor": "rgb(36,36,36)"
           }
          },
          "shapedefaults": {
           "fillcolor": "black",
           "line": {
            "width": 0
           },
           "opacity": 0.3
          },
          "ternary": {
           "aaxis": {
            "gridcolor": "rgb(232,232,232)",
            "linecolor": "rgb(36,36,36)",
            "showgrid": false,
            "showline": true,
            "ticks": "outside"
           },
           "baxis": {
            "gridcolor": "rgb(232,232,232)",
            "linecolor": "rgb(36,36,36)",
            "showgrid": false,
            "showline": true,
            "ticks": "outside"
           },
           "bgcolor": "white",
           "caxis": {
            "gridcolor": "rgb(232,232,232)",
            "linecolor": "rgb(36,36,36)",
            "showgrid": false,
            "showline": true,
            "ticks": "outside"
           }
          },
          "title": {
           "x": 0.05
          },
          "xaxis": {
           "automargin": true,
           "gridcolor": "rgb(232,232,232)",
           "linecolor": "rgb(36,36,36)",
           "showgrid": false,
           "showline": true,
           "ticks": "outside",
           "title": {
            "standoff": 15
           },
           "zeroline": false,
           "zerolinecolor": "rgb(36,36,36)"
          },
          "yaxis": {
           "automargin": true,
           "gridcolor": "rgb(232,232,232)",
           "linecolor": "rgb(36,36,36)",
           "showgrid": false,
           "showline": true,
           "ticks": "outside",
           "title": {
            "standoff": 15
           },
           "zeroline": false,
           "zerolinecolor": "rgb(36,36,36)"
          }
         }
        },
        "title": {
         "text": "<b>True x Predicted <br> <sup>Scatterplot</sup></b>"
        },
        "width": 850,
        "xaxis": {
         "title": {
          "text": "True Salaries"
         }
        },
        "yaxis": {
         "title": {
          "text": "Predicted Salaries"
         }
        }
       }
      }
     },
     "metadata": {},
     "output_type": "display_data"
    }
   ],
   "source": [
    "print('\\nTest Results with Meta Model: \\n')\n",
    "rmse = mean_squared_error(predictions['Real Salary'], predictions['Predicted Salary'], squared=False)\n",
    "print(f'RMSE = {rmse:.2f}')\n",
    "\n",
    "r2 = r2_score(predictions['Real Salary'], predictions['Predicted Salary'])\n",
    "n = X_val.shape[0]  \n",
    "p = X_val.shape[1]  \n",
    "adjusted_r2 = 1 - (1 - r2) * ((n - 1) / (n - p - 1))\n",
    "print(f'Adjusted R-Squared = {adjusted_r2:.2f}')\n",
    "\n",
    "pred_vs_true_plot(true_salary, y_pred_meta)"
   ]
  }
 ],
 "metadata": {
  "kernelspec": {
   "display_name": "Python 3",
   "language": "python",
   "name": "python3"
  },
  "language_info": {
   "codemirror_mode": {
    "name": "ipython",
    "version": 3
   },
   "file_extension": ".py",
   "mimetype": "text/x-python",
   "name": "python",
   "nbconvert_exporter": "python",
   "pygments_lexer": "ipython3",
   "version": "3.10.9"
  },
  "orig_nbformat": 4
 },
 "nbformat": 4,
 "nbformat_minor": 2
}
