{
 "cells": [
  {
   "cell_type": "code",
   "execution_count": 6,
   "metadata": {},
   "outputs": [],
   "source": [
    "import numpy as np\n",
    "from sklearn.preprocessing import PolynomialFeatures\n",
    "from sklearn.metrics import mean_squared_error,r2_score\n",
    "from sklearn.model_selection import train_test_split\n",
    "from sklearn import preprocessing\n",
    "from sklearn import linear_model"
   ]
  },
  {
   "cell_type": "code",
   "execution_count": 2,
   "metadata": {},
   "outputs": [
    {
     "name": "stdout",
     "output_type": "stream",
     "text": [
      "[[0 1]\n",
      " [2 3]\n",
      " [4 5]]\n",
      "[[ 1.  0.  1.  0.  0.  1.]\n",
      " [ 1.  2.  3.  4.  6.  9.]\n",
      " [ 1.  4.  5. 16. 20. 25.]]\n"
     ]
    }
   ],
   "source": [
    "x = np.arange(6).reshape(3,2)\n",
    "print(x)\n",
    "poly = PolynomialFeatures(2)\n",
    "x_poly = poly.fit_transform(x)\n",
    "print(x_poly)"
   ]
  },
  {
   "cell_type": "code",
   "execution_count": 3,
   "metadata": {},
   "outputs": [],
   "source": [
    "def f(x):\n",
    "    return x * np.sin(x)"
   ]
  },
  {
   "cell_type": "code",
   "execution_count": 4,
   "metadata": {},
   "outputs": [],
   "source": [
    "def f(x):\n",
    "    return x * x * x -3 * x + 1"
   ]
  },
  {
   "cell_type": "code",
   "execution_count": 5,
   "metadata": {},
   "outputs": [
    {
     "name": "stdout",
     "output_type": "stream",
     "text": [
      "(100, 1)\n",
      "[[0.        ]\n",
      " [6.96969697]\n",
      " [5.85858586]\n",
      " [3.83838384]\n",
      " [5.55555556]]\n",
      "[[ 1.          0.          0.        ]\n",
      " [ 1.          6.96969697 48.57667585]\n",
      " [ 1.          5.85858586 34.32302826]\n",
      " [ 1.          3.83838384 14.73319049]\n",
      " [ 1.          5.55555556 30.86419753]]\n",
      "[[   0.         -193.27620554  471.3634493 ]]\n",
      "290496744.31981385\n",
      "-4729.393976622237\n"
     ]
    }
   ],
   "source": [
    "x = np.linspace(0,10,100)\n",
    "np.random.shuffle(x)\n",
    "x = x.reshape(-1,1)\n",
    "y = f(x)\n",
    "print(x.shape)\n",
    "print(x[:5])\n",
    "poly = PolynomialFeatures(2).fit(x)\n",
    "x_poly = poly.transform(x)\n",
    "print(x_poly[:5])\n",
    "x_train,x_test,y_train,y_test = train_test_split(x_poly,y,test_size=0.3,random_state=1)\n",
    "\n",
    "# 標準化\n",
    "scaler = preprocessing.StandardScaler().fit(x_train)\n",
    "x_train = scaler.transform(x_train)\n",
    "\n",
    "model = linear_model.LinearRegression()\n",
    "model.fit(x_train,y_train)\n",
    "pred = model.predict(x_test)\n",
    "\n",
    "print(model.coef_)\n",
    "print(mean_squared_error(y_test,pred))\n",
    "print(r2_score(y_test,pred))\n"
   ]
  }
 ],
 "metadata": {
  "kernelspec": {
   "display_name": "base",
   "language": "python",
   "name": "python3"
  },
  "language_info": {
   "codemirror_mode": {
    "name": "ipython",
    "version": 3
   },
   "file_extension": ".py",
   "mimetype": "text/x-python",
   "name": "python",
   "nbconvert_exporter": "python",
   "pygments_lexer": "ipython3",
   "version": "3.10.9"
  },
  "orig_nbformat": 4
 },
 "nbformat": 4,
 "nbformat_minor": 2
}
